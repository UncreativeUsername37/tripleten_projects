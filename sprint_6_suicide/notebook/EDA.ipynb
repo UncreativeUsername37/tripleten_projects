{
 "cells": [
  {
   "attachments": {},
   "cell_type": "markdown",
   "metadata": {},
   "source": [
    "# What accommodations best prevent suicide?\n",
    "The dataset contains age-standardised suicide rates from 2015 and 2016 by country and year, as well as counts for resources and people, such as mental health units in hospitals, outpatient facilities, and psychiatrists working in the sector. So age is done and this project's job is to adjust for everything else, so to speak. This is focussed on 2016 for being the more recent year and having far fewer missing figures.\n",
    "\n",
    "There will of course be plenty of other factors not in the dataset, such as income levels and (in terms of comparing countries' *reported* numbers, at least) how much suicide is stigmatised, so 1) a country's rate being high or low for its region is as relevant as a comparison to the world average, 2) this is almost entirely about things like numbers of facilities rather than regional effects anyway, and 3) remember this is just about the factors presented, not a complete picture.\n",
    "\n",
    "Warning: I will treat this subject with levity because I'm sad."
   ]
  },
  {
   "cell_type": "code",
   "execution_count": 60,
   "metadata": {},
   "outputs": [],
   "source": [
    "import pandas as pd\n",
    "import plotly.express as px"
   ]
  },
  {
   "cell_type": "code",
   "execution_count": 61,
   "metadata": {},
   "outputs": [],
   "source": [
    "df = pd.read_csv(\"suicide_dataset-11.csv\")\n",
    "df = df.replace({'Yes': True, 'No': False})\n",
    "df2015 = df[df[\"year\"] == 2015]\n",
    "df2016 = df[df[\"year\"] == 2016]"
   ]
  },
  {
   "attachments": {},
   "cell_type": "markdown",
   "metadata": {},
   "source": [
    "I cleaned the data in a spreadsheet program before I put it in here, but it's good to check things in code too."
   ]
  },
  {
   "cell_type": "code",
   "execution_count": 62,
   "metadata": {},
   "outputs": [
    {
     "data": {
      "text/plain": [
       "0"
      ]
     },
     "execution_count": 62,
     "metadata": {},
     "output_type": "execute_result"
    }
   ],
   "source": [
    "df.duplicated().sum()"
   ]
  },
  {
   "cell_type": "code",
   "execution_count": 63,
   "metadata": {},
   "outputs": [
    {
     "name": "stdout",
     "output_type": "stream",
     "text": [
      "<class 'pandas.core.frame.DataFrame'>\n",
      "Int64Index: 549 entries, 0 to 548\n",
      "Data columns (total 22 columns):\n",
      " #   Column                             Non-Null Count  Dtype  \n",
      "---  ------                             --------------  -----  \n",
      " 0   country                            549 non-null    object \n",
      " 1   iso                                549 non-null    object \n",
      " 2   sex                                549 non-null    object \n",
      " 3   year                               549 non-null    int64  \n",
      " 4   suicide_rate                       549 non-null    float64\n",
      " 5   mental_hospitals_per_100k          60 non-null     float64\n",
      " 6   general_h_units_per_100k           51 non-null     float64\n",
      " 7   outpatient_facilities_per_100k     51 non-null     float64\n",
      " 8   day_treatment_facilities_per_100k  30 non-null     float64\n",
      " 9   comres_facilities_per_100k         36 non-null     float64\n",
      " 10  psychiatrists_per_100k             54 non-null     float64\n",
      " 11  nurses_per_100k                    48 non-null     float64\n",
      " 12  social_workers_per_100k            36 non-null     float64\n",
      " 13  psychologists_per_100k             39 non-null     float64\n",
      " 14  hospital_budget_pct                39 non-null     float64\n",
      " 15  standalone_law                     69 non-null     object \n",
      " 16  standalone_law_year                42 non-null     float64\n",
      " 17  standalone_policy                  69 non-null     object \n",
      " 18  standalone_policy_year             57 non-null     float64\n",
      " 19  comres_beds_per_100k               27 non-null     float64\n",
      " 20  mental_h_beds_per_100k             60 non-null     float64\n",
      " 21  general_h_beds_per_100k            48 non-null     float64\n",
      "dtypes: float64(16), int64(1), object(5)\n",
      "memory usage: 98.6+ KB\n"
     ]
    }
   ],
   "source": [
    "df2015.info()"
   ]
  },
  {
   "cell_type": "code",
   "execution_count": 64,
   "metadata": {},
   "outputs": [
    {
     "name": "stdout",
     "output_type": "stream",
     "text": [
      "<class 'pandas.core.frame.DataFrame'>\n",
      "Int64Index: 549 entries, 549 to 1097\n",
      "Data columns (total 22 columns):\n",
      " #   Column                             Non-Null Count  Dtype  \n",
      "---  ------                             --------------  -----  \n",
      " 0   country                            549 non-null    object \n",
      " 1   iso                                549 non-null    object \n",
      " 2   sex                                549 non-null    object \n",
      " 3   year                               549 non-null    int64  \n",
      " 4   suicide_rate                       549 non-null    float64\n",
      " 5   mental_hospitals_per_100k          270 non-null    float64\n",
      " 6   general_h_units_per_100k           303 non-null    float64\n",
      " 7   outpatient_facilities_per_100k     291 non-null    float64\n",
      " 8   day_treatment_facilities_per_100k  147 non-null    float64\n",
      " 9   comres_facilities_per_100k         132 non-null    float64\n",
      " 10  psychiatrists_per_100k             306 non-null    float64\n",
      " 11  nurses_per_100k                    264 non-null    float64\n",
      " 12  social_workers_per_100k            198 non-null    float64\n",
      " 13  psychologists_per_100k             246 non-null    float64\n",
      " 14  hospital_budget_pct                162 non-null    float64\n",
      " 15  standalone_law                     339 non-null    object \n",
      " 16  standalone_law_year                207 non-null    float64\n",
      " 17  standalone_policy                  336 non-null    object \n",
      " 18  standalone_policy_year             270 non-null    float64\n",
      " 19  comres_beds_per_100k               117 non-null    float64\n",
      " 20  mental_h_beds_per_100k             264 non-null    float64\n",
      " 21  general_h_beds_per_100k            288 non-null    float64\n",
      "dtypes: float64(16), int64(1), object(5)\n",
      "memory usage: 98.6+ KB\n"
     ]
    }
   ],
   "source": [
    "df2016.info()"
   ]
  },
  {
   "attachments": {},
   "cell_type": "markdown",
   "metadata": {},
   "source": [
    "Nice. And you can see what I mean with 2016 having more to work with. There were a few other years that were even more uselessly empty and I got rid of them beforehand, but 2015 at least deserved to be counted properly."
   ]
  },
  {
   "cell_type": "code",
   "execution_count": 65,
   "metadata": {},
   "outputs": [],
   "source": [
    "# From here on, having no extra letter shall mean combined statistics and -g shall be separated by gender. That's the easiest way for me to remember things.\n",
    "df2015g = df2015[df2015[\"sex\"] != \"Both\"]\n",
    "df2015 = df2015[df2015[\"sex\"] == \"Both\"]\n",
    "df2016g = df2016[df2016[\"sex\"] != \"Both\"]\n",
    "df2016 = df2016[df2016[\"sex\"] == \"Both\"]"
   ]
  },
  {
   "attachments": {},
   "cell_type": "markdown",
   "metadata": {},
   "source": [
    "Here are the rates by country for 2016 (and the 2015 numbers aren't much different):"
   ]
  },
  {
   "cell_type": "code",
   "execution_count": 66,
   "metadata": {},
   "outputs": [
    {
     "data": {
      "application/vnd.plotly.v1+json": {
       "config": {
        "plotlyServerURL": "https://plot.ly"
       },
       "data": [
        {
         "coloraxis": "coloraxis",
         "geo": "geo",
         "hovertemplate": "iso=%{location}<br>Suicide rate=%{z}<extra></extra>",
         "locations": [
          "AFG",
          "AGO",
          "ALB",
          "ARE",
          "ARG",
          "ARM",
          "ATG",
          "AUS",
          "AUT",
          "AZE",
          "BDI",
          "BEL",
          "BEN",
          "BFA",
          "BGD",
          "BGR",
          "BHR",
          "BHS",
          "BIH",
          "BLR",
          "BLZ",
          "BOL",
          "BRA",
          "BRB",
          "BRN",
          "BTN",
          "BWA",
          "CAF",
          "CAN",
          "CHE",
          "CHL",
          "CHN",
          "CIV",
          "CMR",
          "COD",
          "COG",
          "COL",
          "COM",
          "CPV",
          "CRI",
          "CUB",
          "CYP",
          "CZE",
          "DEU",
          "DJI",
          "DNK",
          "DOM",
          "DZA",
          "ECU",
          "EGY",
          "ERI",
          "ESP",
          "EST",
          "ETH",
          "FIN",
          "FJI",
          "FRA",
          "FSM",
          "GAB",
          "GBR",
          "GEO",
          "GHA",
          "GIN",
          "GMB",
          "GNB",
          "GNQ",
          "GRC",
          "GRD",
          "GTM",
          "GUY",
          "HND",
          "HRV",
          "HTI",
          "HUN",
          "IDN",
          "IND",
          "IRL",
          "IRN",
          "IRQ",
          "ISL",
          "ISR",
          "ITA",
          "JAM",
          "JOR",
          "JPN",
          "KAZ",
          "KEN",
          "KGZ",
          "KHM",
          "KIR",
          "KOR",
          "KWT",
          "LAO",
          "LBN",
          "LBR",
          "LBY",
          "LCA",
          "LKA",
          "LSO",
          "LTU",
          "LUX",
          "LVA",
          "MAR",
          "MDA",
          "MDG",
          "MDV",
          "MEX",
          "MKD",
          "MLI",
          "MLT",
          "MMR",
          "MNE",
          "MNG",
          "MOZ",
          "MRT",
          "MUS",
          "MWI",
          "MYS",
          "NAM",
          "NER",
          "NGA",
          "NIC",
          "NLD",
          "NOR",
          "NPL",
          "NZL",
          "OMN",
          "PAK",
          "PAN",
          "PER",
          "PHL",
          "PNG",
          "POL",
          "PRK",
          "PRT",
          "PRY",
          "QAT",
          "ROU",
          "RUS",
          "RWA",
          "SAU",
          "SDN",
          "SEN",
          "SGP",
          "SLB",
          "SLE",
          "SLV",
          "SOM",
          "SRB",
          "SSD",
          "STP",
          "SUR",
          "SVK",
          "SVN",
          "SWE",
          "SWZ",
          "SYC",
          "SYR",
          "TCD",
          "TGO",
          "THA",
          "TJK",
          "TKM",
          "TLS",
          "TON",
          "TTO",
          "TUN",
          "TUR",
          "TZA",
          "UGA",
          "UKR",
          "URY",
          "USA",
          "UZB",
          "VCT",
          "VEN",
          "VNM",
          "VUT",
          "WSM",
          "YEM",
          "ZAF",
          "ZMB",
          "ZWE"
         ],
         "name": "",
         "type": "choropleth",
         "z": [
          6.4,
          8.9,
          5.6,
          2.7,
          9.1,
          5.7,
          0.5,
          11.7,
          11.4,
          2.6,
          15,
          15.7,
          15.7,
          14.8,
          6.1,
          7.9,
          5.7,
          1.6,
          6.4,
          21.4,
          5.9,
          12.9,
          6.1,
          0.4,
          4.5,
          11.6,
          11.5,
          11.6,
          10.4,
          11.3,
          9.7,
          8,
          23,
          19.5,
          9.7,
          9.3,
          7,
          11.1,
          15.1,
          7.5,
          10.1,
          4.5,
          10.5,
          9.1,
          8.5,
          9.2,
          10.5,
          3.3,
          7.2,
          4.4,
          13.8,
          6.1,
          14.4,
          11.4,
          13.8,
          5.5,
          12.1,
          11.3,
          9.6,
          7.6,
          6.7,
          8.7,
          10.5,
          10,
          7.4,
          22,
          3.8,
          1.7,
          2.9,
          30.2,
          3.4,
          11.5,
          12.2,
          13.6,
          3.7,
          16.5,
          10.9,
          4,
          4.1,
          13.3,
          5.2,
          5.5,
          2,
          3.7,
          14.3,
          22.8,
          5.6,
          9.1,
          5.9,
          15.2,
          20.2,
          2.2,
          9.3,
          3.2,
          13.4,
          5.5,
          7.3,
          14.2,
          28.9,
          25.7,
          10.4,
          17.2,
          3.1,
          13.4,
          6.9,
          2.7,
          5.2,
          6.2,
          8.9,
          6.5,
          8.1,
          7.9,
          13.3,
          8.4,
          7.5,
          7.3,
          7.8,
          6.2,
          11.5,
          9,
          17.3,
          11.9,
          9.6,
          10.1,
          9.6,
          11.6,
          3.5,
          3.1,
          4.4,
          5.1,
          3.7,
          7,
          13.4,
          10.6,
          8.6,
          9.3,
          5.8,
          8,
          26.5,
          11,
          3.4,
          9.5,
          11.8,
          7.9,
          5.9,
          16.1,
          13.5,
          8.3,
          10.9,
          6.1,
          3.1,
          23.2,
          10.1,
          13.3,
          11.7,
          16.7,
          8.3,
          2.4,
          15.5,
          16.6,
          12.9,
          3.3,
          7.2,
          6.4,
          4,
          12.9,
          3.2,
          7.2,
          9.6,
          20,
          18.5,
          16.5,
          13.7,
          7.4,
          2.4,
          3.8,
          7,
          5.4,
          5.4,
          9.8,
          12.8,
          11.3,
          19.1
         ]
        }
       ],
       "layout": {
        "coloraxis": {
         "colorbar": {
          "title": {
           "text": "Suicide rate"
          }
         },
         "colorscale": [
          [
           0,
           "rgb(0,0,255)"
          ],
          [
           1,
           "rgb(255,0,0)"
          ]
         ]
        },
        "geo": {
         "center": {},
         "domain": {
          "x": [
           0,
           1
          ],
          "y": [
           0,
           1
          ]
         },
         "projection": {
          "type": "winkel tripel"
         }
        },
        "legend": {
         "tracegroupgap": 0
        },
        "margin": {
         "t": 60
        },
        "template": {
         "data": {
          "bar": [
           {
            "error_x": {
             "color": "#2a3f5f"
            },
            "error_y": {
             "color": "#2a3f5f"
            },
            "marker": {
             "line": {
              "color": "#E5ECF6",
              "width": 0.5
             },
             "pattern": {
              "fillmode": "overlay",
              "size": 10,
              "solidity": 0.2
             }
            },
            "type": "bar"
           }
          ],
          "barpolar": [
           {
            "marker": {
             "line": {
              "color": "#E5ECF6",
              "width": 0.5
             },
             "pattern": {
              "fillmode": "overlay",
              "size": 10,
              "solidity": 0.2
             }
            },
            "type": "barpolar"
           }
          ],
          "carpet": [
           {
            "aaxis": {
             "endlinecolor": "#2a3f5f",
             "gridcolor": "white",
             "linecolor": "white",
             "minorgridcolor": "white",
             "startlinecolor": "#2a3f5f"
            },
            "baxis": {
             "endlinecolor": "#2a3f5f",
             "gridcolor": "white",
             "linecolor": "white",
             "minorgridcolor": "white",
             "startlinecolor": "#2a3f5f"
            },
            "type": "carpet"
           }
          ],
          "choropleth": [
           {
            "colorbar": {
             "outlinewidth": 0,
             "ticks": ""
            },
            "type": "choropleth"
           }
          ],
          "contour": [
           {
            "colorbar": {
             "outlinewidth": 0,
             "ticks": ""
            },
            "colorscale": [
             [
              0,
              "#0d0887"
             ],
             [
              0.1111111111111111,
              "#46039f"
             ],
             [
              0.2222222222222222,
              "#7201a8"
             ],
             [
              0.3333333333333333,
              "#9c179e"
             ],
             [
              0.4444444444444444,
              "#bd3786"
             ],
             [
              0.5555555555555556,
              "#d8576b"
             ],
             [
              0.6666666666666666,
              "#ed7953"
             ],
             [
              0.7777777777777778,
              "#fb9f3a"
             ],
             [
              0.8888888888888888,
              "#fdca26"
             ],
             [
              1,
              "#f0f921"
             ]
            ],
            "type": "contour"
           }
          ],
          "contourcarpet": [
           {
            "colorbar": {
             "outlinewidth": 0,
             "ticks": ""
            },
            "type": "contourcarpet"
           }
          ],
          "heatmap": [
           {
            "colorbar": {
             "outlinewidth": 0,
             "ticks": ""
            },
            "colorscale": [
             [
              0,
              "#0d0887"
             ],
             [
              0.1111111111111111,
              "#46039f"
             ],
             [
              0.2222222222222222,
              "#7201a8"
             ],
             [
              0.3333333333333333,
              "#9c179e"
             ],
             [
              0.4444444444444444,
              "#bd3786"
             ],
             [
              0.5555555555555556,
              "#d8576b"
             ],
             [
              0.6666666666666666,
              "#ed7953"
             ],
             [
              0.7777777777777778,
              "#fb9f3a"
             ],
             [
              0.8888888888888888,
              "#fdca26"
             ],
             [
              1,
              "#f0f921"
             ]
            ],
            "type": "heatmap"
           }
          ],
          "heatmapgl": [
           {
            "colorbar": {
             "outlinewidth": 0,
             "ticks": ""
            },
            "colorscale": [
             [
              0,
              "#0d0887"
             ],
             [
              0.1111111111111111,
              "#46039f"
             ],
             [
              0.2222222222222222,
              "#7201a8"
             ],
             [
              0.3333333333333333,
              "#9c179e"
             ],
             [
              0.4444444444444444,
              "#bd3786"
             ],
             [
              0.5555555555555556,
              "#d8576b"
             ],
             [
              0.6666666666666666,
              "#ed7953"
             ],
             [
              0.7777777777777778,
              "#fb9f3a"
             ],
             [
              0.8888888888888888,
              "#fdca26"
             ],
             [
              1,
              "#f0f921"
             ]
            ],
            "type": "heatmapgl"
           }
          ],
          "histogram": [
           {
            "marker": {
             "pattern": {
              "fillmode": "overlay",
              "size": 10,
              "solidity": 0.2
             }
            },
            "type": "histogram"
           }
          ],
          "histogram2d": [
           {
            "colorbar": {
             "outlinewidth": 0,
             "ticks": ""
            },
            "colorscale": [
             [
              0,
              "#0d0887"
             ],
             [
              0.1111111111111111,
              "#46039f"
             ],
             [
              0.2222222222222222,
              "#7201a8"
             ],
             [
              0.3333333333333333,
              "#9c179e"
             ],
             [
              0.4444444444444444,
              "#bd3786"
             ],
             [
              0.5555555555555556,
              "#d8576b"
             ],
             [
              0.6666666666666666,
              "#ed7953"
             ],
             [
              0.7777777777777778,
              "#fb9f3a"
             ],
             [
              0.8888888888888888,
              "#fdca26"
             ],
             [
              1,
              "#f0f921"
             ]
            ],
            "type": "histogram2d"
           }
          ],
          "histogram2dcontour": [
           {
            "colorbar": {
             "outlinewidth": 0,
             "ticks": ""
            },
            "colorscale": [
             [
              0,
              "#0d0887"
             ],
             [
              0.1111111111111111,
              "#46039f"
             ],
             [
              0.2222222222222222,
              "#7201a8"
             ],
             [
              0.3333333333333333,
              "#9c179e"
             ],
             [
              0.4444444444444444,
              "#bd3786"
             ],
             [
              0.5555555555555556,
              "#d8576b"
             ],
             [
              0.6666666666666666,
              "#ed7953"
             ],
             [
              0.7777777777777778,
              "#fb9f3a"
             ],
             [
              0.8888888888888888,
              "#fdca26"
             ],
             [
              1,
              "#f0f921"
             ]
            ],
            "type": "histogram2dcontour"
           }
          ],
          "mesh3d": [
           {
            "colorbar": {
             "outlinewidth": 0,
             "ticks": ""
            },
            "type": "mesh3d"
           }
          ],
          "parcoords": [
           {
            "line": {
             "colorbar": {
              "outlinewidth": 0,
              "ticks": ""
             }
            },
            "type": "parcoords"
           }
          ],
          "pie": [
           {
            "automargin": true,
            "type": "pie"
           }
          ],
          "scatter": [
           {
            "fillpattern": {
             "fillmode": "overlay",
             "size": 10,
             "solidity": 0.2
            },
            "type": "scatter"
           }
          ],
          "scatter3d": [
           {
            "line": {
             "colorbar": {
              "outlinewidth": 0,
              "ticks": ""
             }
            },
            "marker": {
             "colorbar": {
              "outlinewidth": 0,
              "ticks": ""
             }
            },
            "type": "scatter3d"
           }
          ],
          "scattercarpet": [
           {
            "marker": {
             "colorbar": {
              "outlinewidth": 0,
              "ticks": ""
             }
            },
            "type": "scattercarpet"
           }
          ],
          "scattergeo": [
           {
            "marker": {
             "colorbar": {
              "outlinewidth": 0,
              "ticks": ""
             }
            },
            "type": "scattergeo"
           }
          ],
          "scattergl": [
           {
            "marker": {
             "colorbar": {
              "outlinewidth": 0,
              "ticks": ""
             }
            },
            "type": "scattergl"
           }
          ],
          "scattermapbox": [
           {
            "marker": {
             "colorbar": {
              "outlinewidth": 0,
              "ticks": ""
             }
            },
            "type": "scattermapbox"
           }
          ],
          "scatterpolar": [
           {
            "marker": {
             "colorbar": {
              "outlinewidth": 0,
              "ticks": ""
             }
            },
            "type": "scatterpolar"
           }
          ],
          "scatterpolargl": [
           {
            "marker": {
             "colorbar": {
              "outlinewidth": 0,
              "ticks": ""
             }
            },
            "type": "scatterpolargl"
           }
          ],
          "scatterternary": [
           {
            "marker": {
             "colorbar": {
              "outlinewidth": 0,
              "ticks": ""
             }
            },
            "type": "scatterternary"
           }
          ],
          "surface": [
           {
            "colorbar": {
             "outlinewidth": 0,
             "ticks": ""
            },
            "colorscale": [
             [
              0,
              "#0d0887"
             ],
             [
              0.1111111111111111,
              "#46039f"
             ],
             [
              0.2222222222222222,
              "#7201a8"
             ],
             [
              0.3333333333333333,
              "#9c179e"
             ],
             [
              0.4444444444444444,
              "#bd3786"
             ],
             [
              0.5555555555555556,
              "#d8576b"
             ],
             [
              0.6666666666666666,
              "#ed7953"
             ],
             [
              0.7777777777777778,
              "#fb9f3a"
             ],
             [
              0.8888888888888888,
              "#fdca26"
             ],
             [
              1,
              "#f0f921"
             ]
            ],
            "type": "surface"
           }
          ],
          "table": [
           {
            "cells": {
             "fill": {
              "color": "#EBF0F8"
             },
             "line": {
              "color": "white"
             }
            },
            "header": {
             "fill": {
              "color": "#C8D4E3"
             },
             "line": {
              "color": "white"
             }
            },
            "type": "table"
           }
          ]
         },
         "layout": {
          "annotationdefaults": {
           "arrowcolor": "#2a3f5f",
           "arrowhead": 0,
           "arrowwidth": 1
          },
          "autotypenumbers": "strict",
          "coloraxis": {
           "colorbar": {
            "outlinewidth": 0,
            "ticks": ""
           }
          },
          "colorscale": {
           "diverging": [
            [
             0,
             "#8e0152"
            ],
            [
             0.1,
             "#c51b7d"
            ],
            [
             0.2,
             "#de77ae"
            ],
            [
             0.3,
             "#f1b6da"
            ],
            [
             0.4,
             "#fde0ef"
            ],
            [
             0.5,
             "#f7f7f7"
            ],
            [
             0.6,
             "#e6f5d0"
            ],
            [
             0.7,
             "#b8e186"
            ],
            [
             0.8,
             "#7fbc41"
            ],
            [
             0.9,
             "#4d9221"
            ],
            [
             1,
             "#276419"
            ]
           ],
           "sequential": [
            [
             0,
             "#0d0887"
            ],
            [
             0.1111111111111111,
             "#46039f"
            ],
            [
             0.2222222222222222,
             "#7201a8"
            ],
            [
             0.3333333333333333,
             "#9c179e"
            ],
            [
             0.4444444444444444,
             "#bd3786"
            ],
            [
             0.5555555555555556,
             "#d8576b"
            ],
            [
             0.6666666666666666,
             "#ed7953"
            ],
            [
             0.7777777777777778,
             "#fb9f3a"
            ],
            [
             0.8888888888888888,
             "#fdca26"
            ],
            [
             1,
             "#f0f921"
            ]
           ],
           "sequentialminus": [
            [
             0,
             "#0d0887"
            ],
            [
             0.1111111111111111,
             "#46039f"
            ],
            [
             0.2222222222222222,
             "#7201a8"
            ],
            [
             0.3333333333333333,
             "#9c179e"
            ],
            [
             0.4444444444444444,
             "#bd3786"
            ],
            [
             0.5555555555555556,
             "#d8576b"
            ],
            [
             0.6666666666666666,
             "#ed7953"
            ],
            [
             0.7777777777777778,
             "#fb9f3a"
            ],
            [
             0.8888888888888888,
             "#fdca26"
            ],
            [
             1,
             "#f0f921"
            ]
           ]
          },
          "colorway": [
           "#636efa",
           "#EF553B",
           "#00cc96",
           "#ab63fa",
           "#FFA15A",
           "#19d3f3",
           "#FF6692",
           "#B6E880",
           "#FF97FF",
           "#FECB52"
          ],
          "font": {
           "color": "#2a3f5f"
          },
          "geo": {
           "bgcolor": "white",
           "lakecolor": "white",
           "landcolor": "#E5ECF6",
           "showlakes": true,
           "showland": true,
           "subunitcolor": "white"
          },
          "hoverlabel": {
           "align": "left"
          },
          "hovermode": "closest",
          "mapbox": {
           "style": "light"
          },
          "paper_bgcolor": "white",
          "plot_bgcolor": "#E5ECF6",
          "polar": {
           "angularaxis": {
            "gridcolor": "white",
            "linecolor": "white",
            "ticks": ""
           },
           "bgcolor": "#E5ECF6",
           "radialaxis": {
            "gridcolor": "white",
            "linecolor": "white",
            "ticks": ""
           }
          },
          "scene": {
           "xaxis": {
            "backgroundcolor": "#E5ECF6",
            "gridcolor": "white",
            "gridwidth": 2,
            "linecolor": "white",
            "showbackground": true,
            "ticks": "",
            "zerolinecolor": "white"
           },
           "yaxis": {
            "backgroundcolor": "#E5ECF6",
            "gridcolor": "white",
            "gridwidth": 2,
            "linecolor": "white",
            "showbackground": true,
            "ticks": "",
            "zerolinecolor": "white"
           },
           "zaxis": {
            "backgroundcolor": "#E5ECF6",
            "gridcolor": "white",
            "gridwidth": 2,
            "linecolor": "white",
            "showbackground": true,
            "ticks": "",
            "zerolinecolor": "white"
           }
          },
          "shapedefaults": {
           "line": {
            "color": "#2a3f5f"
           }
          },
          "ternary": {
           "aaxis": {
            "gridcolor": "white",
            "linecolor": "white",
            "ticks": ""
           },
           "baxis": {
            "gridcolor": "white",
            "linecolor": "white",
            "ticks": ""
           },
           "bgcolor": "#E5ECF6",
           "caxis": {
            "gridcolor": "white",
            "linecolor": "white",
            "ticks": ""
           }
          },
          "title": {
           "x": 0.05
          },
          "xaxis": {
           "automargin": true,
           "gridcolor": "white",
           "linecolor": "white",
           "ticks": "",
           "title": {
            "standoff": 15
           },
           "zerolinecolor": "white",
           "zerolinewidth": 2
          },
          "yaxis": {
           "automargin": true,
           "gridcolor": "white",
           "linecolor": "white",
           "ticks": "",
           "title": {
            "standoff": 15
           },
           "zerolinecolor": "white",
           "zerolinewidth": 2
          }
         }
        }
       }
      }
     },
     "metadata": {},
     "output_type": "display_data"
    }
   ],
   "source": [
    "fig = px.choropleth(df2016, projection=\"winkel tripel\", locations=\"iso\", color=\"suicide_rate\", color_continuous_scale=px.colors.sequential.Bluered,\n",
    "                    labels={\"suicide_rate\": \"Suicide rate\"})\n",
    "fig.show()"
   ]
  },
  {
   "attachments": {},
   "cell_type": "markdown",
   "metadata": {},
   "source": [
    "The rate is over one year per 100 000 people. This is also true of all of the other charts.\n",
    "\n",
    "If it looks like there are more countries with lower rates, it's because there are. Here's a breakdown for 2016:"
   ]
  },
  {
   "cell_type": "code",
   "execution_count": 67,
   "metadata": {},
   "outputs": [
    {
     "data": {
      "application/vnd.plotly.v1+json": {
       "config": {
        "plotlyServerURL": "https://plot.ly"
       },
       "data": [
        {
         "alignmentgroup": "True",
         "bingroup": "x",
         "hovertemplate": "suicide_rate=%{x}<br>count=%{y}<extra></extra>",
         "legendgroup": "",
         "marker": {
          "color": "#636efa",
          "pattern": {
           "shape": ""
          }
         },
         "name": "",
         "offsetgroup": "",
         "orientation": "v",
         "showlegend": false,
         "type": "histogram",
         "x": [
          6.4,
          8.9,
          5.6,
          2.7,
          9.1,
          5.7,
          0.5,
          11.7,
          11.4,
          2.6,
          15,
          15.7,
          15.7,
          14.8,
          6.1,
          7.9,
          5.7,
          1.6,
          6.4,
          21.4,
          5.9,
          12.9,
          6.1,
          0.4,
          4.5,
          11.6,
          11.5,
          11.6,
          10.4,
          11.3,
          9.7,
          8,
          23,
          19.5,
          9.7,
          9.3,
          7,
          11.1,
          15.1,
          7.5,
          10.1,
          4.5,
          10.5,
          9.1,
          8.5,
          9.2,
          10.5,
          3.3,
          7.2,
          4.4,
          13.8,
          6.1,
          14.4,
          11.4,
          13.8,
          5.5,
          12.1,
          11.3,
          9.6,
          7.6,
          6.7,
          8.7,
          10.5,
          10,
          7.4,
          22,
          3.8,
          1.7,
          2.9,
          30.2,
          3.4,
          11.5,
          12.2,
          13.6,
          3.7,
          16.5,
          10.9,
          4,
          4.1,
          13.3,
          5.2,
          5.5,
          2,
          3.7,
          14.3,
          22.8,
          5.6,
          9.1,
          5.9,
          15.2,
          20.2,
          2.2,
          9.3,
          3.2,
          13.4,
          5.5,
          7.3,
          14.2,
          28.9,
          25.7,
          10.4,
          17.2,
          3.1,
          13.4,
          6.9,
          2.7,
          5.2,
          6.2,
          8.9,
          6.5,
          8.1,
          7.9,
          13.3,
          8.4,
          7.5,
          7.3,
          7.8,
          6.2,
          11.5,
          9,
          17.3,
          11.9,
          9.6,
          10.1,
          9.6,
          11.6,
          3.5,
          3.1,
          4.4,
          5.1,
          3.7,
          7,
          13.4,
          10.6,
          8.6,
          9.3,
          5.8,
          8,
          26.5,
          11,
          3.4,
          9.5,
          11.8,
          7.9,
          5.9,
          16.1,
          13.5,
          8.3,
          10.9,
          6.1,
          3.1,
          23.2,
          10.1,
          13.3,
          11.7,
          16.7,
          8.3,
          2.4,
          15.5,
          16.6,
          12.9,
          3.3,
          7.2,
          6.4,
          4,
          12.9,
          3.2,
          7.2,
          9.6,
          20,
          18.5,
          16.5,
          13.7,
          7.4,
          2.4,
          3.8,
          7,
          5.4,
          5.4,
          9.8,
          12.8,
          11.3,
          19.1
         ],
         "xaxis": "x",
         "yaxis": "y"
        }
       ],
       "layout": {
        "barmode": "relative",
        "legend": {
         "tracegroupgap": 0
        },
        "margin": {
         "t": 60
        },
        "template": {
         "data": {
          "bar": [
           {
            "error_x": {
             "color": "#2a3f5f"
            },
            "error_y": {
             "color": "#2a3f5f"
            },
            "marker": {
             "line": {
              "color": "#E5ECF6",
              "width": 0.5
             },
             "pattern": {
              "fillmode": "overlay",
              "size": 10,
              "solidity": 0.2
             }
            },
            "type": "bar"
           }
          ],
          "barpolar": [
           {
            "marker": {
             "line": {
              "color": "#E5ECF6",
              "width": 0.5
             },
             "pattern": {
              "fillmode": "overlay",
              "size": 10,
              "solidity": 0.2
             }
            },
            "type": "barpolar"
           }
          ],
          "carpet": [
           {
            "aaxis": {
             "endlinecolor": "#2a3f5f",
             "gridcolor": "white",
             "linecolor": "white",
             "minorgridcolor": "white",
             "startlinecolor": "#2a3f5f"
            },
            "baxis": {
             "endlinecolor": "#2a3f5f",
             "gridcolor": "white",
             "linecolor": "white",
             "minorgridcolor": "white",
             "startlinecolor": "#2a3f5f"
            },
            "type": "carpet"
           }
          ],
          "choropleth": [
           {
            "colorbar": {
             "outlinewidth": 0,
             "ticks": ""
            },
            "type": "choropleth"
           }
          ],
          "contour": [
           {
            "colorbar": {
             "outlinewidth": 0,
             "ticks": ""
            },
            "colorscale": [
             [
              0,
              "#0d0887"
             ],
             [
              0.1111111111111111,
              "#46039f"
             ],
             [
              0.2222222222222222,
              "#7201a8"
             ],
             [
              0.3333333333333333,
              "#9c179e"
             ],
             [
              0.4444444444444444,
              "#bd3786"
             ],
             [
              0.5555555555555556,
              "#d8576b"
             ],
             [
              0.6666666666666666,
              "#ed7953"
             ],
             [
              0.7777777777777778,
              "#fb9f3a"
             ],
             [
              0.8888888888888888,
              "#fdca26"
             ],
             [
              1,
              "#f0f921"
             ]
            ],
            "type": "contour"
           }
          ],
          "contourcarpet": [
           {
            "colorbar": {
             "outlinewidth": 0,
             "ticks": ""
            },
            "type": "contourcarpet"
           }
          ],
          "heatmap": [
           {
            "colorbar": {
             "outlinewidth": 0,
             "ticks": ""
            },
            "colorscale": [
             [
              0,
              "#0d0887"
             ],
             [
              0.1111111111111111,
              "#46039f"
             ],
             [
              0.2222222222222222,
              "#7201a8"
             ],
             [
              0.3333333333333333,
              "#9c179e"
             ],
             [
              0.4444444444444444,
              "#bd3786"
             ],
             [
              0.5555555555555556,
              "#d8576b"
             ],
             [
              0.6666666666666666,
              "#ed7953"
             ],
             [
              0.7777777777777778,
              "#fb9f3a"
             ],
             [
              0.8888888888888888,
              "#fdca26"
             ],
             [
              1,
              "#f0f921"
             ]
            ],
            "type": "heatmap"
           }
          ],
          "heatmapgl": [
           {
            "colorbar": {
             "outlinewidth": 0,
             "ticks": ""
            },
            "colorscale": [
             [
              0,
              "#0d0887"
             ],
             [
              0.1111111111111111,
              "#46039f"
             ],
             [
              0.2222222222222222,
              "#7201a8"
             ],
             [
              0.3333333333333333,
              "#9c179e"
             ],
             [
              0.4444444444444444,
              "#bd3786"
             ],
             [
              0.5555555555555556,
              "#d8576b"
             ],
             [
              0.6666666666666666,
              "#ed7953"
             ],
             [
              0.7777777777777778,
              "#fb9f3a"
             ],
             [
              0.8888888888888888,
              "#fdca26"
             ],
             [
              1,
              "#f0f921"
             ]
            ],
            "type": "heatmapgl"
           }
          ],
          "histogram": [
           {
            "marker": {
             "pattern": {
              "fillmode": "overlay",
              "size": 10,
              "solidity": 0.2
             }
            },
            "type": "histogram"
           }
          ],
          "histogram2d": [
           {
            "colorbar": {
             "outlinewidth": 0,
             "ticks": ""
            },
            "colorscale": [
             [
              0,
              "#0d0887"
             ],
             [
              0.1111111111111111,
              "#46039f"
             ],
             [
              0.2222222222222222,
              "#7201a8"
             ],
             [
              0.3333333333333333,
              "#9c179e"
             ],
             [
              0.4444444444444444,
              "#bd3786"
             ],
             [
              0.5555555555555556,
              "#d8576b"
             ],
             [
              0.6666666666666666,
              "#ed7953"
             ],
             [
              0.7777777777777778,
              "#fb9f3a"
             ],
             [
              0.8888888888888888,
              "#fdca26"
             ],
             [
              1,
              "#f0f921"
             ]
            ],
            "type": "histogram2d"
           }
          ],
          "histogram2dcontour": [
           {
            "colorbar": {
             "outlinewidth": 0,
             "ticks": ""
            },
            "colorscale": [
             [
              0,
              "#0d0887"
             ],
             [
              0.1111111111111111,
              "#46039f"
             ],
             [
              0.2222222222222222,
              "#7201a8"
             ],
             [
              0.3333333333333333,
              "#9c179e"
             ],
             [
              0.4444444444444444,
              "#bd3786"
             ],
             [
              0.5555555555555556,
              "#d8576b"
             ],
             [
              0.6666666666666666,
              "#ed7953"
             ],
             [
              0.7777777777777778,
              "#fb9f3a"
             ],
             [
              0.8888888888888888,
              "#fdca26"
             ],
             [
              1,
              "#f0f921"
             ]
            ],
            "type": "histogram2dcontour"
           }
          ],
          "mesh3d": [
           {
            "colorbar": {
             "outlinewidth": 0,
             "ticks": ""
            },
            "type": "mesh3d"
           }
          ],
          "parcoords": [
           {
            "line": {
             "colorbar": {
              "outlinewidth": 0,
              "ticks": ""
             }
            },
            "type": "parcoords"
           }
          ],
          "pie": [
           {
            "automargin": true,
            "type": "pie"
           }
          ],
          "scatter": [
           {
            "fillpattern": {
             "fillmode": "overlay",
             "size": 10,
             "solidity": 0.2
            },
            "type": "scatter"
           }
          ],
          "scatter3d": [
           {
            "line": {
             "colorbar": {
              "outlinewidth": 0,
              "ticks": ""
             }
            },
            "marker": {
             "colorbar": {
              "outlinewidth": 0,
              "ticks": ""
             }
            },
            "type": "scatter3d"
           }
          ],
          "scattercarpet": [
           {
            "marker": {
             "colorbar": {
              "outlinewidth": 0,
              "ticks": ""
             }
            },
            "type": "scattercarpet"
           }
          ],
          "scattergeo": [
           {
            "marker": {
             "colorbar": {
              "outlinewidth": 0,
              "ticks": ""
             }
            },
            "type": "scattergeo"
           }
          ],
          "scattergl": [
           {
            "marker": {
             "colorbar": {
              "outlinewidth": 0,
              "ticks": ""
             }
            },
            "type": "scattergl"
           }
          ],
          "scattermapbox": [
           {
            "marker": {
             "colorbar": {
              "outlinewidth": 0,
              "ticks": ""
             }
            },
            "type": "scattermapbox"
           }
          ],
          "scatterpolar": [
           {
            "marker": {
             "colorbar": {
              "outlinewidth": 0,
              "ticks": ""
             }
            },
            "type": "scatterpolar"
           }
          ],
          "scatterpolargl": [
           {
            "marker": {
             "colorbar": {
              "outlinewidth": 0,
              "ticks": ""
             }
            },
            "type": "scatterpolargl"
           }
          ],
          "scatterternary": [
           {
            "marker": {
             "colorbar": {
              "outlinewidth": 0,
              "ticks": ""
             }
            },
            "type": "scatterternary"
           }
          ],
          "surface": [
           {
            "colorbar": {
             "outlinewidth": 0,
             "ticks": ""
            },
            "colorscale": [
             [
              0,
              "#0d0887"
             ],
             [
              0.1111111111111111,
              "#46039f"
             ],
             [
              0.2222222222222222,
              "#7201a8"
             ],
             [
              0.3333333333333333,
              "#9c179e"
             ],
             [
              0.4444444444444444,
              "#bd3786"
             ],
             [
              0.5555555555555556,
              "#d8576b"
             ],
             [
              0.6666666666666666,
              "#ed7953"
             ],
             [
              0.7777777777777778,
              "#fb9f3a"
             ],
             [
              0.8888888888888888,
              "#fdca26"
             ],
             [
              1,
              "#f0f921"
             ]
            ],
            "type": "surface"
           }
          ],
          "table": [
           {
            "cells": {
             "fill": {
              "color": "#EBF0F8"
             },
             "line": {
              "color": "white"
             }
            },
            "header": {
             "fill": {
              "color": "#C8D4E3"
             },
             "line": {
              "color": "white"
             }
            },
            "type": "table"
           }
          ]
         },
         "layout": {
          "annotationdefaults": {
           "arrowcolor": "#2a3f5f",
           "arrowhead": 0,
           "arrowwidth": 1
          },
          "autotypenumbers": "strict",
          "coloraxis": {
           "colorbar": {
            "outlinewidth": 0,
            "ticks": ""
           }
          },
          "colorscale": {
           "diverging": [
            [
             0,
             "#8e0152"
            ],
            [
             0.1,
             "#c51b7d"
            ],
            [
             0.2,
             "#de77ae"
            ],
            [
             0.3,
             "#f1b6da"
            ],
            [
             0.4,
             "#fde0ef"
            ],
            [
             0.5,
             "#f7f7f7"
            ],
            [
             0.6,
             "#e6f5d0"
            ],
            [
             0.7,
             "#b8e186"
            ],
            [
             0.8,
             "#7fbc41"
            ],
            [
             0.9,
             "#4d9221"
            ],
            [
             1,
             "#276419"
            ]
           ],
           "sequential": [
            [
             0,
             "#0d0887"
            ],
            [
             0.1111111111111111,
             "#46039f"
            ],
            [
             0.2222222222222222,
             "#7201a8"
            ],
            [
             0.3333333333333333,
             "#9c179e"
            ],
            [
             0.4444444444444444,
             "#bd3786"
            ],
            [
             0.5555555555555556,
             "#d8576b"
            ],
            [
             0.6666666666666666,
             "#ed7953"
            ],
            [
             0.7777777777777778,
             "#fb9f3a"
            ],
            [
             0.8888888888888888,
             "#fdca26"
            ],
            [
             1,
             "#f0f921"
            ]
           ],
           "sequentialminus": [
            [
             0,
             "#0d0887"
            ],
            [
             0.1111111111111111,
             "#46039f"
            ],
            [
             0.2222222222222222,
             "#7201a8"
            ],
            [
             0.3333333333333333,
             "#9c179e"
            ],
            [
             0.4444444444444444,
             "#bd3786"
            ],
            [
             0.5555555555555556,
             "#d8576b"
            ],
            [
             0.6666666666666666,
             "#ed7953"
            ],
            [
             0.7777777777777778,
             "#fb9f3a"
            ],
            [
             0.8888888888888888,
             "#fdca26"
            ],
            [
             1,
             "#f0f921"
            ]
           ]
          },
          "colorway": [
           "#636efa",
           "#EF553B",
           "#00cc96",
           "#ab63fa",
           "#FFA15A",
           "#19d3f3",
           "#FF6692",
           "#B6E880",
           "#FF97FF",
           "#FECB52"
          ],
          "font": {
           "color": "#2a3f5f"
          },
          "geo": {
           "bgcolor": "white",
           "lakecolor": "white",
           "landcolor": "#E5ECF6",
           "showlakes": true,
           "showland": true,
           "subunitcolor": "white"
          },
          "hoverlabel": {
           "align": "left"
          },
          "hovermode": "closest",
          "mapbox": {
           "style": "light"
          },
          "paper_bgcolor": "white",
          "plot_bgcolor": "#E5ECF6",
          "polar": {
           "angularaxis": {
            "gridcolor": "white",
            "linecolor": "white",
            "ticks": ""
           },
           "bgcolor": "#E5ECF6",
           "radialaxis": {
            "gridcolor": "white",
            "linecolor": "white",
            "ticks": ""
           }
          },
          "scene": {
           "xaxis": {
            "backgroundcolor": "#E5ECF6",
            "gridcolor": "white",
            "gridwidth": 2,
            "linecolor": "white",
            "showbackground": true,
            "ticks": "",
            "zerolinecolor": "white"
           },
           "yaxis": {
            "backgroundcolor": "#E5ECF6",
            "gridcolor": "white",
            "gridwidth": 2,
            "linecolor": "white",
            "showbackground": true,
            "ticks": "",
            "zerolinecolor": "white"
           },
           "zaxis": {
            "backgroundcolor": "#E5ECF6",
            "gridcolor": "white",
            "gridwidth": 2,
            "linecolor": "white",
            "showbackground": true,
            "ticks": "",
            "zerolinecolor": "white"
           }
          },
          "shapedefaults": {
           "line": {
            "color": "#2a3f5f"
           }
          },
          "ternary": {
           "aaxis": {
            "gridcolor": "white",
            "linecolor": "white",
            "ticks": ""
           },
           "baxis": {
            "gridcolor": "white",
            "linecolor": "white",
            "ticks": ""
           },
           "bgcolor": "#E5ECF6",
           "caxis": {
            "gridcolor": "white",
            "linecolor": "white",
            "ticks": ""
           }
          },
          "title": {
           "x": 0.05
          },
          "xaxis": {
           "automargin": true,
           "gridcolor": "white",
           "linecolor": "white",
           "ticks": "",
           "title": {
            "standoff": 15
           },
           "zerolinecolor": "white",
           "zerolinewidth": 2
          },
          "yaxis": {
           "automargin": true,
           "gridcolor": "white",
           "linecolor": "white",
           "ticks": "",
           "title": {
            "standoff": 15
           },
           "zerolinecolor": "white",
           "zerolinewidth": 2
          }
         }
        },
        "xaxis": {
         "anchor": "y",
         "domain": [
          0,
          1
         ],
         "title": {
          "text": "Suicide rate"
         }
        },
        "yaxis": {
         "anchor": "x",
         "domain": [
          0,
          1
         ],
         "title": {
          "text": "Countries"
         }
        }
       }
      }
     },
     "metadata": {},
     "output_type": "display_data"
    }
   ],
   "source": [
    "fig = px.histogram(df2016, x=\"suicide_rate\")\n",
    "fig.update_xaxes(title_text=\"Suicide rate\")\n",
    "fig.update_yaxes(title_text=\"Countries\")\n",
    "fig.show()"
   ]
  },
  {
   "attachments": {},
   "cell_type": "markdown",
   "metadata": {},
   "source": [
    "## Time for a bunch of linear regressions!"
   ]
  },
  {
   "cell_type": "code",
   "execution_count": 68,
   "metadata": {},
   "outputs": [
    {
     "data": {
      "application/vnd.plotly.v1+json": {
       "config": {
        "plotlyServerURL": "https://plot.ly"
       },
       "data": [
        {
         "hovertemplate": "mental_hospitals_per_100k=%{x}<br>suicide_rate=%{y}<extra></extra>",
         "legendgroup": "",
         "marker": {
          "color": "#636efa",
          "symbol": "circle"
         },
         "mode": "markers",
         "name": "",
         "orientation": "v",
         "showlegend": false,
         "type": "scatter",
         "x": [
          0.003,
          0.011,
          0.068,
          0.011,
          0.937,
          null,
          1.001,
          null,
          null,
          0.114,
          null,
          null,
          null,
          null,
          0.001,
          0.167,
          null,
          null,
          null,
          0.2,
          null,
          0.075,
          0.069,
          null,
          null,
          null,
          null,
          null,
          null,
          null,
          0.023,
          null,
          0.009,
          null,
          null,
          null,
          1.988,
          null,
          null,
          0.042,
          0.166,
          null,
          null,
          null,
          null,
          null,
          null,
          0.048,
          0.025,
          0.019,
          0.021,
          null,
          0.152,
          null,
          null,
          0.112,
          null,
          null,
          0.052,
          null,
          0.228,
          0.011,
          null,
          null,
          0.056,
          null,
          0.027,
          0.936,
          0.006,
          0.13,
          null,
          0.165,
          0.019,
          null,
          0.019,
          0.01,
          0.617,
          null,
          null,
          0.303,
          0.161,
          null,
          null,
          0.055,
          8.314,
          null,
          0.002,
          0.085,
          null,
          null,
          0.358,
          null,
          null,
          null,
          0.022,
          0.032,
          0.564,
          null,
          null,
          0.136,
          null,
          null,
          0.032,
          null,
          0.021,
          null,
          0.029,
          null,
          null,
          null,
          0.004,
          0.318,
          0.034,
          0.007,
          null,
          null,
          null,
          0.013,
          null,
          null,
          null,
          null,
          null,
          0.577,
          0.021,
          null,
          null,
          0.006,
          0.025,
          0.01,
          0.001,
          null,
          0.125,
          null,
          0.029,
          0.03,
          0.038,
          0.171,
          null,
          0.017,
          0.079,
          null,
          0.007,
          0.018,
          null,
          null,
          0.032,
          null,
          null,
          null,
          null,
          null,
          null,
          0.241,
          null,
          null,
          1.067,
          0.016,
          null,
          0.013,
          0.028,
          0.035,
          null,
          null,
          0,
          null,
          null,
          0.011,
          null,
          0.002,
          0.139,
          0.321,
          0.189,
          0.081,
          null,
          null,
          0.043,
          null,
          0.516,
          0.033,
          0.116,
          0.062,
          0.025
         ],
         "xaxis": "x",
         "y": [
          6.4,
          8.9,
          5.6,
          2.7,
          9.1,
          5.7,
          0.5,
          11.7,
          11.4,
          2.6,
          15,
          15.7,
          15.7,
          14.8,
          6.1,
          7.9,
          5.7,
          1.6,
          6.4,
          21.4,
          5.9,
          12.9,
          6.1,
          0.4,
          4.5,
          11.6,
          11.5,
          11.6,
          10.4,
          11.3,
          9.7,
          8,
          23,
          19.5,
          9.7,
          9.3,
          7,
          11.1,
          15.1,
          7.5,
          10.1,
          4.5,
          10.5,
          9.1,
          8.5,
          9.2,
          10.5,
          3.3,
          7.2,
          4.4,
          13.8,
          6.1,
          14.4,
          11.4,
          13.8,
          5.5,
          12.1,
          11.3,
          9.6,
          7.6,
          6.7,
          8.7,
          10.5,
          10,
          7.4,
          22,
          3.8,
          1.7,
          2.9,
          30.2,
          3.4,
          11.5,
          12.2,
          13.6,
          3.7,
          16.5,
          10.9,
          4,
          4.1,
          13.3,
          5.2,
          5.5,
          2,
          3.7,
          14.3,
          22.8,
          5.6,
          9.1,
          5.9,
          15.2,
          20.2,
          2.2,
          9.3,
          3.2,
          13.4,
          5.5,
          7.3,
          14.2,
          28.9,
          25.7,
          10.4,
          17.2,
          3.1,
          13.4,
          6.9,
          2.7,
          5.2,
          6.2,
          8.9,
          6.5,
          8.1,
          7.9,
          13.3,
          8.4,
          7.5,
          7.3,
          7.8,
          6.2,
          11.5,
          9,
          17.3,
          11.9,
          9.6,
          10.1,
          9.6,
          11.6,
          3.5,
          3.1,
          4.4,
          5.1,
          3.7,
          7,
          13.4,
          10.6,
          8.6,
          9.3,
          5.8,
          8,
          26.5,
          11,
          3.4,
          9.5,
          11.8,
          7.9,
          5.9,
          16.1,
          13.5,
          8.3,
          10.9,
          6.1,
          3.1,
          23.2,
          10.1,
          13.3,
          11.7,
          16.7,
          8.3,
          2.4,
          15.5,
          16.6,
          12.9,
          3.3,
          7.2,
          6.4,
          4,
          12.9,
          3.2,
          7.2,
          9.6,
          20,
          18.5,
          16.5,
          13.7,
          7.4,
          2.4,
          3.8,
          7,
          5.4,
          5.4,
          9.8,
          12.8,
          11.3,
          19.1
         ],
         "yaxis": "y"
        },
        {
         "hovertemplate": "<b>OLS trendline</b><br>suicide_rate = 0.424926 * mental_hospitals_per_100k + 9.25652<br>R<sup>2</sup>=0.004761<br><br>mental_hospitals_per_100k=%{x}<br>suicide_rate=%{y} <b>(trend)</b><extra></extra>",
         "legendgroup": "",
         "marker": {
          "color": "#636efa",
          "symbol": "circle"
         },
         "mode": "lines",
         "name": "",
         "showlegend": false,
         "type": "scatter",
         "x": [
          0,
          0.001,
          0.001,
          0.002,
          0.002,
          0.003,
          0.004,
          0.006,
          0.006,
          0.007,
          0.007,
          0.009,
          0.01,
          0.01,
          0.011,
          0.011,
          0.011,
          0.011,
          0.013,
          0.013,
          0.016,
          0.017,
          0.018,
          0.019,
          0.019,
          0.019,
          0.021,
          0.021,
          0.021,
          0.022,
          0.023,
          0.025,
          0.025,
          0.025,
          0.027,
          0.028,
          0.029,
          0.029,
          0.03,
          0.032,
          0.032,
          0.032,
          0.033,
          0.034,
          0.035,
          0.038,
          0.042,
          0.043,
          0.048,
          0.052,
          0.055,
          0.056,
          0.062,
          0.068,
          0.069,
          0.075,
          0.079,
          0.081,
          0.085,
          0.112,
          0.114,
          0.116,
          0.125,
          0.13,
          0.136,
          0.139,
          0.152,
          0.161,
          0.165,
          0.166,
          0.167,
          0.171,
          0.189,
          0.2,
          0.228,
          0.241,
          0.303,
          0.318,
          0.321,
          0.358,
          0.516,
          0.564,
          0.577,
          0.617,
          0.936,
          0.937,
          1.001,
          1.067,
          1.988,
          8.314
         ],
         "xaxis": "x",
         "y": [
          9.256522710851224,
          9.256947636637761,
          9.256947636637761,
          9.2573725624243,
          9.2573725624243,
          9.257797488210837,
          9.258222413997375,
          9.25907226557045,
          9.25907226557045,
          9.25949719135699,
          9.25949719135699,
          9.260347042930066,
          9.260771968716604,
          9.260771968716604,
          9.261196894503142,
          9.261196894503142,
          9.261196894503142,
          9.261196894503142,
          9.262046746076217,
          9.262046746076217,
          9.263321523435831,
          9.263746449222369,
          9.264171375008907,
          9.264596300795446,
          9.264596300795446,
          9.264596300795446,
          9.265446152368522,
          9.265446152368522,
          9.265446152368522,
          9.26587107815506,
          9.266296003941598,
          9.267145855514674,
          9.267145855514674,
          9.267145855514674,
          9.26799570708775,
          9.268420632874287,
          9.268845558660825,
          9.268845558660825,
          9.269270484447363,
          9.27012033602044,
          9.27012033602044,
          9.27012033602044,
          9.270545261806978,
          9.270970187593516,
          9.271395113380054,
          9.272669890739667,
          9.274369593885819,
          9.274794519672357,
          9.276919148605048,
          9.2786188517512,
          9.279893629110813,
          9.280318554897352,
          9.28286810961658,
          9.285417664335808,
          9.285842590122346,
          9.288392144841573,
          9.290091847987725,
          9.290941699560802,
          9.292641402706954,
          9.30411439894348,
          9.304964250516555,
          9.30581410208963,
          9.309638434168473,
          9.311763063101164,
          9.314312617820391,
          9.315587395180005,
          9.321111430404999,
          9.324935762483841,
          9.326635465629993,
          9.32706039141653,
          9.32748531720307,
          9.329185020349222,
          9.336833684506905,
          9.341507868158823,
          9.353405790181888,
          9.358929825406882,
          9.385275224172238,
          9.391649110970308,
          9.392923888329921,
          9.408646142431827,
          9.475784416704832,
          9.496180854458656,
          9.50170488968365,
          9.518701921145169,
          9.654253247050791,
          9.654678172837329,
          9.68187342317576,
          9.70991852508727,
          10.101275174488766,
          12.789355700128151
         ],
         "yaxis": "y"
        }
       ],
       "layout": {
        "legend": {
         "tracegroupgap": 0
        },
        "margin": {
         "t": 60
        },
        "template": {
         "data": {
          "bar": [
           {
            "error_x": {
             "color": "#2a3f5f"
            },
            "error_y": {
             "color": "#2a3f5f"
            },
            "marker": {
             "line": {
              "color": "#E5ECF6",
              "width": 0.5
             },
             "pattern": {
              "fillmode": "overlay",
              "size": 10,
              "solidity": 0.2
             }
            },
            "type": "bar"
           }
          ],
          "barpolar": [
           {
            "marker": {
             "line": {
              "color": "#E5ECF6",
              "width": 0.5
             },
             "pattern": {
              "fillmode": "overlay",
              "size": 10,
              "solidity": 0.2
             }
            },
            "type": "barpolar"
           }
          ],
          "carpet": [
           {
            "aaxis": {
             "endlinecolor": "#2a3f5f",
             "gridcolor": "white",
             "linecolor": "white",
             "minorgridcolor": "white",
             "startlinecolor": "#2a3f5f"
            },
            "baxis": {
             "endlinecolor": "#2a3f5f",
             "gridcolor": "white",
             "linecolor": "white",
             "minorgridcolor": "white",
             "startlinecolor": "#2a3f5f"
            },
            "type": "carpet"
           }
          ],
          "choropleth": [
           {
            "colorbar": {
             "outlinewidth": 0,
             "ticks": ""
            },
            "type": "choropleth"
           }
          ],
          "contour": [
           {
            "colorbar": {
             "outlinewidth": 0,
             "ticks": ""
            },
            "colorscale": [
             [
              0,
              "#0d0887"
             ],
             [
              0.1111111111111111,
              "#46039f"
             ],
             [
              0.2222222222222222,
              "#7201a8"
             ],
             [
              0.3333333333333333,
              "#9c179e"
             ],
             [
              0.4444444444444444,
              "#bd3786"
             ],
             [
              0.5555555555555556,
              "#d8576b"
             ],
             [
              0.6666666666666666,
              "#ed7953"
             ],
             [
              0.7777777777777778,
              "#fb9f3a"
             ],
             [
              0.8888888888888888,
              "#fdca26"
             ],
             [
              1,
              "#f0f921"
             ]
            ],
            "type": "contour"
           }
          ],
          "contourcarpet": [
           {
            "colorbar": {
             "outlinewidth": 0,
             "ticks": ""
            },
            "type": "contourcarpet"
           }
          ],
          "heatmap": [
           {
            "colorbar": {
             "outlinewidth": 0,
             "ticks": ""
            },
            "colorscale": [
             [
              0,
              "#0d0887"
             ],
             [
              0.1111111111111111,
              "#46039f"
             ],
             [
              0.2222222222222222,
              "#7201a8"
             ],
             [
              0.3333333333333333,
              "#9c179e"
             ],
             [
              0.4444444444444444,
              "#bd3786"
             ],
             [
              0.5555555555555556,
              "#d8576b"
             ],
             [
              0.6666666666666666,
              "#ed7953"
             ],
             [
              0.7777777777777778,
              "#fb9f3a"
             ],
             [
              0.8888888888888888,
              "#fdca26"
             ],
             [
              1,
              "#f0f921"
             ]
            ],
            "type": "heatmap"
           }
          ],
          "heatmapgl": [
           {
            "colorbar": {
             "outlinewidth": 0,
             "ticks": ""
            },
            "colorscale": [
             [
              0,
              "#0d0887"
             ],
             [
              0.1111111111111111,
              "#46039f"
             ],
             [
              0.2222222222222222,
              "#7201a8"
             ],
             [
              0.3333333333333333,
              "#9c179e"
             ],
             [
              0.4444444444444444,
              "#bd3786"
             ],
             [
              0.5555555555555556,
              "#d8576b"
             ],
             [
              0.6666666666666666,
              "#ed7953"
             ],
             [
              0.7777777777777778,
              "#fb9f3a"
             ],
             [
              0.8888888888888888,
              "#fdca26"
             ],
             [
              1,
              "#f0f921"
             ]
            ],
            "type": "heatmapgl"
           }
          ],
          "histogram": [
           {
            "marker": {
             "pattern": {
              "fillmode": "overlay",
              "size": 10,
              "solidity": 0.2
             }
            },
            "type": "histogram"
           }
          ],
          "histogram2d": [
           {
            "colorbar": {
             "outlinewidth": 0,
             "ticks": ""
            },
            "colorscale": [
             [
              0,
              "#0d0887"
             ],
             [
              0.1111111111111111,
              "#46039f"
             ],
             [
              0.2222222222222222,
              "#7201a8"
             ],
             [
              0.3333333333333333,
              "#9c179e"
             ],
             [
              0.4444444444444444,
              "#bd3786"
             ],
             [
              0.5555555555555556,
              "#d8576b"
             ],
             [
              0.6666666666666666,
              "#ed7953"
             ],
             [
              0.7777777777777778,
              "#fb9f3a"
             ],
             [
              0.8888888888888888,
              "#fdca26"
             ],
             [
              1,
              "#f0f921"
             ]
            ],
            "type": "histogram2d"
           }
          ],
          "histogram2dcontour": [
           {
            "colorbar": {
             "outlinewidth": 0,
             "ticks": ""
            },
            "colorscale": [
             [
              0,
              "#0d0887"
             ],
             [
              0.1111111111111111,
              "#46039f"
             ],
             [
              0.2222222222222222,
              "#7201a8"
             ],
             [
              0.3333333333333333,
              "#9c179e"
             ],
             [
              0.4444444444444444,
              "#bd3786"
             ],
             [
              0.5555555555555556,
              "#d8576b"
             ],
             [
              0.6666666666666666,
              "#ed7953"
             ],
             [
              0.7777777777777778,
              "#fb9f3a"
             ],
             [
              0.8888888888888888,
              "#fdca26"
             ],
             [
              1,
              "#f0f921"
             ]
            ],
            "type": "histogram2dcontour"
           }
          ],
          "mesh3d": [
           {
            "colorbar": {
             "outlinewidth": 0,
             "ticks": ""
            },
            "type": "mesh3d"
           }
          ],
          "parcoords": [
           {
            "line": {
             "colorbar": {
              "outlinewidth": 0,
              "ticks": ""
             }
            },
            "type": "parcoords"
           }
          ],
          "pie": [
           {
            "automargin": true,
            "type": "pie"
           }
          ],
          "scatter": [
           {
            "fillpattern": {
             "fillmode": "overlay",
             "size": 10,
             "solidity": 0.2
            },
            "type": "scatter"
           }
          ],
          "scatter3d": [
           {
            "line": {
             "colorbar": {
              "outlinewidth": 0,
              "ticks": ""
             }
            },
            "marker": {
             "colorbar": {
              "outlinewidth": 0,
              "ticks": ""
             }
            },
            "type": "scatter3d"
           }
          ],
          "scattercarpet": [
           {
            "marker": {
             "colorbar": {
              "outlinewidth": 0,
              "ticks": ""
             }
            },
            "type": "scattercarpet"
           }
          ],
          "scattergeo": [
           {
            "marker": {
             "colorbar": {
              "outlinewidth": 0,
              "ticks": ""
             }
            },
            "type": "scattergeo"
           }
          ],
          "scattergl": [
           {
            "marker": {
             "colorbar": {
              "outlinewidth": 0,
              "ticks": ""
             }
            },
            "type": "scattergl"
           }
          ],
          "scattermapbox": [
           {
            "marker": {
             "colorbar": {
              "outlinewidth": 0,
              "ticks": ""
             }
            },
            "type": "scattermapbox"
           }
          ],
          "scatterpolar": [
           {
            "marker": {
             "colorbar": {
              "outlinewidth": 0,
              "ticks": ""
             }
            },
            "type": "scatterpolar"
           }
          ],
          "scatterpolargl": [
           {
            "marker": {
             "colorbar": {
              "outlinewidth": 0,
              "ticks": ""
             }
            },
            "type": "scatterpolargl"
           }
          ],
          "scatterternary": [
           {
            "marker": {
             "colorbar": {
              "outlinewidth": 0,
              "ticks": ""
             }
            },
            "type": "scatterternary"
           }
          ],
          "surface": [
           {
            "colorbar": {
             "outlinewidth": 0,
             "ticks": ""
            },
            "colorscale": [
             [
              0,
              "#0d0887"
             ],
             [
              0.1111111111111111,
              "#46039f"
             ],
             [
              0.2222222222222222,
              "#7201a8"
             ],
             [
              0.3333333333333333,
              "#9c179e"
             ],
             [
              0.4444444444444444,
              "#bd3786"
             ],
             [
              0.5555555555555556,
              "#d8576b"
             ],
             [
              0.6666666666666666,
              "#ed7953"
             ],
             [
              0.7777777777777778,
              "#fb9f3a"
             ],
             [
              0.8888888888888888,
              "#fdca26"
             ],
             [
              1,
              "#f0f921"
             ]
            ],
            "type": "surface"
           }
          ],
          "table": [
           {
            "cells": {
             "fill": {
              "color": "#EBF0F8"
             },
             "line": {
              "color": "white"
             }
            },
            "header": {
             "fill": {
              "color": "#C8D4E3"
             },
             "line": {
              "color": "white"
             }
            },
            "type": "table"
           }
          ]
         },
         "layout": {
          "annotationdefaults": {
           "arrowcolor": "#2a3f5f",
           "arrowhead": 0,
           "arrowwidth": 1
          },
          "autotypenumbers": "strict",
          "coloraxis": {
           "colorbar": {
            "outlinewidth": 0,
            "ticks": ""
           }
          },
          "colorscale": {
           "diverging": [
            [
             0,
             "#8e0152"
            ],
            [
             0.1,
             "#c51b7d"
            ],
            [
             0.2,
             "#de77ae"
            ],
            [
             0.3,
             "#f1b6da"
            ],
            [
             0.4,
             "#fde0ef"
            ],
            [
             0.5,
             "#f7f7f7"
            ],
            [
             0.6,
             "#e6f5d0"
            ],
            [
             0.7,
             "#b8e186"
            ],
            [
             0.8,
             "#7fbc41"
            ],
            [
             0.9,
             "#4d9221"
            ],
            [
             1,
             "#276419"
            ]
           ],
           "sequential": [
            [
             0,
             "#0d0887"
            ],
            [
             0.1111111111111111,
             "#46039f"
            ],
            [
             0.2222222222222222,
             "#7201a8"
            ],
            [
             0.3333333333333333,
             "#9c179e"
            ],
            [
             0.4444444444444444,
             "#bd3786"
            ],
            [
             0.5555555555555556,
             "#d8576b"
            ],
            [
             0.6666666666666666,
             "#ed7953"
            ],
            [
             0.7777777777777778,
             "#fb9f3a"
            ],
            [
             0.8888888888888888,
             "#fdca26"
            ],
            [
             1,
             "#f0f921"
            ]
           ],
           "sequentialminus": [
            [
             0,
             "#0d0887"
            ],
            [
             0.1111111111111111,
             "#46039f"
            ],
            [
             0.2222222222222222,
             "#7201a8"
            ],
            [
             0.3333333333333333,
             "#9c179e"
            ],
            [
             0.4444444444444444,
             "#bd3786"
            ],
            [
             0.5555555555555556,
             "#d8576b"
            ],
            [
             0.6666666666666666,
             "#ed7953"
            ],
            [
             0.7777777777777778,
             "#fb9f3a"
            ],
            [
             0.8888888888888888,
             "#fdca26"
            ],
            [
             1,
             "#f0f921"
            ]
           ]
          },
          "colorway": [
           "#636efa",
           "#EF553B",
           "#00cc96",
           "#ab63fa",
           "#FFA15A",
           "#19d3f3",
           "#FF6692",
           "#B6E880",
           "#FF97FF",
           "#FECB52"
          ],
          "font": {
           "color": "#2a3f5f"
          },
          "geo": {
           "bgcolor": "white",
           "lakecolor": "white",
           "landcolor": "#E5ECF6",
           "showlakes": true,
           "showland": true,
           "subunitcolor": "white"
          },
          "hoverlabel": {
           "align": "left"
          },
          "hovermode": "closest",
          "mapbox": {
           "style": "light"
          },
          "paper_bgcolor": "white",
          "plot_bgcolor": "#E5ECF6",
          "polar": {
           "angularaxis": {
            "gridcolor": "white",
            "linecolor": "white",
            "ticks": ""
           },
           "bgcolor": "#E5ECF6",
           "radialaxis": {
            "gridcolor": "white",
            "linecolor": "white",
            "ticks": ""
           }
          },
          "scene": {
           "xaxis": {
            "backgroundcolor": "#E5ECF6",
            "gridcolor": "white",
            "gridwidth": 2,
            "linecolor": "white",
            "showbackground": true,
            "ticks": "",
            "zerolinecolor": "white"
           },
           "yaxis": {
            "backgroundcolor": "#E5ECF6",
            "gridcolor": "white",
            "gridwidth": 2,
            "linecolor": "white",
            "showbackground": true,
            "ticks": "",
            "zerolinecolor": "white"
           },
           "zaxis": {
            "backgroundcolor": "#E5ECF6",
            "gridcolor": "white",
            "gridwidth": 2,
            "linecolor": "white",
            "showbackground": true,
            "ticks": "",
            "zerolinecolor": "white"
           }
          },
          "shapedefaults": {
           "line": {
            "color": "#2a3f5f"
           }
          },
          "ternary": {
           "aaxis": {
            "gridcolor": "white",
            "linecolor": "white",
            "ticks": ""
           },
           "baxis": {
            "gridcolor": "white",
            "linecolor": "white",
            "ticks": ""
           },
           "bgcolor": "#E5ECF6",
           "caxis": {
            "gridcolor": "white",
            "linecolor": "white",
            "ticks": ""
           }
          },
          "title": {
           "x": 0.05
          },
          "xaxis": {
           "automargin": true,
           "gridcolor": "white",
           "linecolor": "white",
           "ticks": "",
           "title": {
            "standoff": 15
           },
           "zerolinecolor": "white",
           "zerolinewidth": 2
          },
          "yaxis": {
           "automargin": true,
           "gridcolor": "white",
           "linecolor": "white",
           "ticks": "",
           "title": {
            "standoff": 15
           },
           "zerolinecolor": "white",
           "zerolinewidth": 2
          }
         }
        },
        "xaxis": {
         "anchor": "y",
         "domain": [
          0,
          1
         ],
         "title": {
          "text": "Mental hospitals per 100 000 people"
         }
        },
        "yaxis": {
         "anchor": "x",
         "domain": [
          0,
          1
         ],
         "title": {
          "text": "Suicide rate"
         }
        }
       }
      }
     },
     "metadata": {},
     "output_type": "display_data"
    }
   ],
   "source": [
    "fig = px.scatter(df2016, x=\"mental_hospitals_per_100k\", y=\"suicide_rate\", trendline=\"ols\")\n",
    "fig.update_xaxes(title_text=\"Mental hospitals per 100 000 people\"); fig.update_yaxes(title_text=\"Suicide rate\")\n",
    "fig.show()"
   ]
  },
  {
   "attachments": {},
   "cell_type": "markdown",
   "metadata": {},
   "source": [
    "### Time for a bunch of linear regressions with arbitrary outlier cutoffs!\n",
    "\n",
    "I'll save you all the other pre-filtering scatterplots. Also, most of the charts will have separate sex statistics since there are differences I find interesting. If a chart doesn't, the implication is they're similar enough that it's better off combined."
   ]
  },
  {
   "cell_type": "code",
   "execution_count": 69,
   "metadata": {},
   "outputs": [
    {
     "data": {
      "application/vnd.plotly.v1+json": {
       "config": {
        "plotlyServerURL": "https://plot.ly"
       },
       "data": [
        {
         "hovertemplate": "sex=Male<br>mental_hospitals_per_100k=%{x}<br>suicide_rate=%{y}<extra></extra>",
         "legendgroup": "Male",
         "marker": {
          "color": "#636efa",
          "symbol": "circle"
         },
         "mode": "markers",
         "name": "Male",
         "orientation": "v",
         "showlegend": true,
         "type": "scatter",
         "x": [
          0.003,
          0.011,
          0.068,
          0.011,
          0.114,
          0.001,
          0.167,
          0.2,
          0.075,
          0.069,
          0.023,
          0.009,
          0.042,
          0.166,
          0.048,
          0.025,
          0.019,
          0.021,
          0.152,
          0.112,
          0.052,
          0.228,
          0.011,
          0.056,
          0.027,
          0.006,
          0.13,
          0.165,
          0.019,
          0.019,
          0.01,
          0.303,
          0.161,
          0.055,
          0.002,
          0.085,
          0.358,
          0.022,
          0.032,
          0.136,
          0.032,
          0.021,
          0.029,
          0.004,
          0.318,
          0.034,
          0.007,
          0.013,
          0.021,
          0.006,
          0.025,
          0.01,
          0.001,
          0.125,
          0.029,
          0.03,
          0.038,
          0.171,
          0.017,
          0.079,
          0.007,
          0.018,
          0.032,
          0.241,
          0.016,
          0.013,
          0.028,
          0.035,
          0,
          0.011,
          0.002,
          0.139,
          0.321,
          0.189,
          0.081,
          0.043,
          0.033,
          0.116,
          0.062,
          0.025
         ],
         "xaxis": "x",
         "y": [
          10.6,
          14,
          7,
          3.5,
          4.3,
          5.5,
          13.1,
          39.3,
          16.9,
          9.7,
          16,
          32,
          12.8,
          16.4,
          4.9,
          10.7,
          7.2,
          22.4,
          25.6,
          8.8,
          15,
          12.3,
          15.8,
          8.9,
          6.1,
          4.4,
          46.6,
          18.8,
          18.3,
          5.2,
          18.5,
          21.7,
          8.2,
          4.7,
          9.7,
          14.8,
          29.6,
          13.8,
          8.7,
          47.5,
          2.5,
          10.5,
          8.2,
          6.3,
          12.6,
          23.3,
          14,
          8.7,
          11.4,
          3,
          7.6,
          7.6,
          5.2,
          23.9,
          14.3,
          12.3,
          7.3,
          13.9,
          16.9,
          4.6,
          20.3,
          11.1,
          24.8,
          22.4,
          3.8,
          22.7,
          21.4,
          5,
          5.2,
          11.3,
          21.2,
          34.5,
          26.8,
          21.1,
          10.3,
          10.8,
          13.4,
          21.7,
          17.5,
          29.1
         ],
         "yaxis": "y"
        },
        {
         "hovertemplate": "<b>OLS trendline</b><br>suicide_rate = 46.5357 * mental_hospitals_per_100k + 11.4446<br>R<sup>2</sup>=0.167801<br><br>sex=Male<br>mental_hospitals_per_100k=%{x}<br>suicide_rate=%{y} <b>(trend)</b><extra></extra>",
         "legendgroup": "Male",
         "marker": {
          "color": "#636efa",
          "symbol": "circle"
         },
         "mode": "lines",
         "name": "Male",
         "showlegend": false,
         "type": "scatter",
         "x": [
          0,
          0.001,
          0.001,
          0.002,
          0.002,
          0.003,
          0.004,
          0.006,
          0.006,
          0.007,
          0.007,
          0.009,
          0.01,
          0.01,
          0.011,
          0.011,
          0.011,
          0.011,
          0.013,
          0.013,
          0.016,
          0.017,
          0.018,
          0.019,
          0.019,
          0.019,
          0.021,
          0.021,
          0.021,
          0.022,
          0.023,
          0.025,
          0.025,
          0.025,
          0.027,
          0.028,
          0.029,
          0.029,
          0.03,
          0.032,
          0.032,
          0.032,
          0.033,
          0.034,
          0.035,
          0.038,
          0.042,
          0.043,
          0.048,
          0.052,
          0.055,
          0.056,
          0.062,
          0.068,
          0.069,
          0.075,
          0.079,
          0.081,
          0.085,
          0.112,
          0.114,
          0.116,
          0.125,
          0.13,
          0.136,
          0.139,
          0.152,
          0.161,
          0.165,
          0.166,
          0.167,
          0.171,
          0.189,
          0.2,
          0.228,
          0.241,
          0.303,
          0.318,
          0.321,
          0.358
         ],
         "xaxis": "x",
         "y": [
          11.444641243455298,
          11.491176948960812,
          11.491176948960812,
          11.537712654466327,
          11.537712654466327,
          11.584248359971841,
          11.630784065477357,
          11.723855476488387,
          11.723855476488387,
          11.7703911819939,
          11.7703911819939,
          11.86346259300493,
          11.909998298510445,
          11.909998298510445,
          11.95653400401596,
          11.95653400401596,
          11.95653400401596,
          11.95653400401596,
          12.04960541502699,
          12.04960541502699,
          12.189212531543534,
          12.23574823704905,
          12.282283942554564,
          12.328819648060078,
          12.328819648060078,
          12.328819648060078,
          12.421891059071108,
          12.421891059071108,
          12.421891059071108,
          12.468426764576623,
          12.514962470082137,
          12.608033881093167,
          12.608033881093167,
          12.608033881093167,
          12.701105292104197,
          12.747640997609711,
          12.794176703115227,
          12.794176703115227,
          12.84071240862074,
          12.93378381963177,
          12.93378381963177,
          12.93378381963177,
          12.980319525137286,
          13.0268552306428,
          13.073390936148316,
          13.21299805266486,
          13.39914087468692,
          13.445676580192433,
          13.678355107720007,
          13.864497929742067,
          14.004105046258612,
          14.050640751764126,
          14.329854984797215,
          14.609069217830303,
          14.655604923335819,
          14.934819156368906,
          15.120961978390966,
          15.214033389401996,
          15.400176211424055,
          16.656640260072955,
          16.749711671083983,
          16.842783082095014,
          17.261604431644646,
          17.49428295917222,
          17.77349719220531,
          17.913104308721856,
          18.518068480293547,
          18.936889829843178,
          19.123032651865238,
          19.169568357370753,
          19.21610406287627,
          19.40224688489833,
          20.239889583997595,
          20.751782344558258,
          22.05478209871267,
          22.659746270284362,
          25.54496001162628,
          26.242995594209,
          26.382602710725546,
          28.10442381442959
         ],
         "yaxis": "y"
        },
        {
         "hovertemplate": "sex=Female<br>mental_hospitals_per_100k=%{x}<br>suicide_rate=%{y}<extra></extra>",
         "legendgroup": "Female",
         "marker": {
          "color": "#EF553B",
          "symbol": "circle"
         },
         "mode": "markers",
         "name": "Female",
         "orientation": "v",
         "showlegend": true,
         "type": "scatter",
         "x": [
          0.003,
          0.011,
          0.068,
          0.011,
          0.114,
          0.001,
          0.167,
          0.2,
          0.075,
          0.069,
          0.023,
          0.009,
          0.042,
          0.166,
          0.048,
          0.025,
          0.019,
          0.021,
          0.152,
          0.112,
          0.052,
          0.228,
          0.011,
          0.056,
          0.027,
          0.006,
          0.13,
          0.165,
          0.019,
          0.019,
          0.01,
          0.303,
          0.161,
          0.055,
          0.002,
          0.085,
          0.358,
          0.022,
          0.032,
          0.136,
          0.032,
          0.021,
          0.029,
          0.004,
          0.318,
          0.034,
          0.007,
          0.013,
          0.021,
          0.006,
          0.025,
          0.01,
          0.001,
          0.125,
          0.029,
          0.03,
          0.038,
          0.171,
          0.017,
          0.079,
          0.007,
          0.018,
          0.032,
          0.241,
          0.016,
          0.013,
          0.028,
          0.035,
          0,
          0.011,
          0.002,
          0.139,
          0.321,
          0.189,
          0.081,
          0.043,
          0.033,
          0.116,
          0.062,
          0.025
         ],
         "xaxis": "x",
         "y": [
          2.1,
          4.6,
          4.3,
          0.8,
          1,
          6.7,
          3.2,
          6.2,
          8.9,
          2.8,
          3.8,
          13,
          2.3,
          4.1,
          1.8,
          3.8,
          1.7,
          6.1,
          4.4,
          2.5,
          4.3,
          1.9,
          2.9,
          6.1,
          1.5,
          1.7,
          14.2,
          5.1,
          6.4,
          2.2,
          14.5,
          4.7,
          2.4,
          2.7,
          2.1,
          3.7,
          11.6,
          13,
          2.3,
          6.7,
          3.6,
          3.6,
          2.3,
          9.8,
          3.6,
          3.8,
          4.1,
          3.6,
          8,
          3.1,
          1.2,
          2.7,
          2.3,
          3.4,
          3.8,
          6.2,
          1.1,
          2.4,
          6,
          1.7,
          5.2,
          4.9,
          4.3,
          4.5,
          1.1,
          10.9,
          4.8,
          1.7,
          2.9,
          3.2,
          18.7,
          4.7,
          7.1,
          6.4,
          4.6,
          3.4,
          6.2,
          5.1,
          6.2,
          11.1
         ],
         "yaxis": "y"
        },
        {
         "hovertemplate": "<b>OLS trendline</b><br>suicide_rate = 1.92276 * mental_hospitals_per_100k + 4.70707<br>R<sup>2</sup>=0.002140<br><br>sex=Female<br>mental_hospitals_per_100k=%{x}<br>suicide_rate=%{y} <b>(trend)</b><extra></extra>",
         "legendgroup": "Female",
         "marker": {
          "color": "#EF553B",
          "symbol": "circle"
         },
         "mode": "lines",
         "name": "Female",
         "showlegend": false,
         "type": "scatter",
         "x": [
          0,
          0.001,
          0.001,
          0.002,
          0.002,
          0.003,
          0.004,
          0.006,
          0.006,
          0.007,
          0.007,
          0.009,
          0.01,
          0.01,
          0.011,
          0.011,
          0.011,
          0.011,
          0.013,
          0.013,
          0.016,
          0.017,
          0.018,
          0.019,
          0.019,
          0.019,
          0.021,
          0.021,
          0.021,
          0.022,
          0.023,
          0.025,
          0.025,
          0.025,
          0.027,
          0.028,
          0.029,
          0.029,
          0.03,
          0.032,
          0.032,
          0.032,
          0.033,
          0.034,
          0.035,
          0.038,
          0.042,
          0.043,
          0.048,
          0.052,
          0.055,
          0.056,
          0.062,
          0.068,
          0.069,
          0.075,
          0.079,
          0.081,
          0.085,
          0.112,
          0.114,
          0.116,
          0.125,
          0.13,
          0.136,
          0.139,
          0.152,
          0.161,
          0.165,
          0.166,
          0.167,
          0.171,
          0.189,
          0.2,
          0.228,
          0.241,
          0.303,
          0.318,
          0.321,
          0.358
         ],
         "xaxis": "x",
         "y": [
          4.707065465119294,
          4.708988226927716,
          4.708988226927716,
          4.710910988736138,
          4.710910988736138,
          4.71283375054456,
          4.714756512352981,
          4.718602035969824,
          4.718602035969824,
          4.720524797778246,
          4.720524797778246,
          4.72437032139509,
          4.726293083203512,
          4.726293083203512,
          4.728215845011933,
          4.728215845011933,
          4.728215845011933,
          4.728215845011933,
          4.732061368628776,
          4.732061368628776,
          4.737829654054042,
          4.739752415862464,
          4.741675177670885,
          4.743597939479307,
          4.743597939479307,
          4.743597939479307,
          4.74744346309615,
          4.74744346309615,
          4.74744346309615,
          4.749366224904572,
          4.751288986712994,
          4.755134510329837,
          4.755134510329837,
          4.755134510329837,
          4.75898003394668,
          4.7609027957551024,
          4.762825557563524,
          4.762825557563524,
          4.764748319371946,
          4.768593842988789,
          4.768593842988789,
          4.768593842988789,
          4.770516604797211,
          4.772439366605632,
          4.7743621284140545,
          4.780130413839319,
          4.7878214610730065,
          4.789744222881428,
          4.7993580319235365,
          4.807049079157223,
          4.8128173645824885,
          4.81474012639091,
          4.826276697241441,
          4.8378132680919705,
          4.839736029900393,
          4.851272600750923,
          4.858963647984609,
          4.8628091716014525,
          4.87050021883514,
          4.922414787662526,
          4.9262603112793695,
          4.930105834896213,
          4.947410691172008,
          4.957024500214117,
          4.968561071064647,
          4.974329356489912,
          4.999325259999394,
          5.01663011627519,
          5.024321163508877,
          5.026243925317298,
          5.0281666871257205,
          5.035857734359407,
          5.070467446910998,
          5.0916178268036365,
          5.145455157439445,
          5.170451060948927,
          5.289662293071073,
          5.318503720197398,
          5.324272005622664,
          5.395414192534267
         ],
         "yaxis": "y"
        }
       ],
       "layout": {
        "legend": {
         "title": {
          "text": "Sex"
         },
         "tracegroupgap": 0
        },
        "margin": {
         "t": 60
        },
        "template": {
         "data": {
          "bar": [
           {
            "error_x": {
             "color": "#2a3f5f"
            },
            "error_y": {
             "color": "#2a3f5f"
            },
            "marker": {
             "line": {
              "color": "#E5ECF6",
              "width": 0.5
             },
             "pattern": {
              "fillmode": "overlay",
              "size": 10,
              "solidity": 0.2
             }
            },
            "type": "bar"
           }
          ],
          "barpolar": [
           {
            "marker": {
             "line": {
              "color": "#E5ECF6",
              "width": 0.5
             },
             "pattern": {
              "fillmode": "overlay",
              "size": 10,
              "solidity": 0.2
             }
            },
            "type": "barpolar"
           }
          ],
          "carpet": [
           {
            "aaxis": {
             "endlinecolor": "#2a3f5f",
             "gridcolor": "white",
             "linecolor": "white",
             "minorgridcolor": "white",
             "startlinecolor": "#2a3f5f"
            },
            "baxis": {
             "endlinecolor": "#2a3f5f",
             "gridcolor": "white",
             "linecolor": "white",
             "minorgridcolor": "white",
             "startlinecolor": "#2a3f5f"
            },
            "type": "carpet"
           }
          ],
          "choropleth": [
           {
            "colorbar": {
             "outlinewidth": 0,
             "ticks": ""
            },
            "type": "choropleth"
           }
          ],
          "contour": [
           {
            "colorbar": {
             "outlinewidth": 0,
             "ticks": ""
            },
            "colorscale": [
             [
              0,
              "#0d0887"
             ],
             [
              0.1111111111111111,
              "#46039f"
             ],
             [
              0.2222222222222222,
              "#7201a8"
             ],
             [
              0.3333333333333333,
              "#9c179e"
             ],
             [
              0.4444444444444444,
              "#bd3786"
             ],
             [
              0.5555555555555556,
              "#d8576b"
             ],
             [
              0.6666666666666666,
              "#ed7953"
             ],
             [
              0.7777777777777778,
              "#fb9f3a"
             ],
             [
              0.8888888888888888,
              "#fdca26"
             ],
             [
              1,
              "#f0f921"
             ]
            ],
            "type": "contour"
           }
          ],
          "contourcarpet": [
           {
            "colorbar": {
             "outlinewidth": 0,
             "ticks": ""
            },
            "type": "contourcarpet"
           }
          ],
          "heatmap": [
           {
            "colorbar": {
             "outlinewidth": 0,
             "ticks": ""
            },
            "colorscale": [
             [
              0,
              "#0d0887"
             ],
             [
              0.1111111111111111,
              "#46039f"
             ],
             [
              0.2222222222222222,
              "#7201a8"
             ],
             [
              0.3333333333333333,
              "#9c179e"
             ],
             [
              0.4444444444444444,
              "#bd3786"
             ],
             [
              0.5555555555555556,
              "#d8576b"
             ],
             [
              0.6666666666666666,
              "#ed7953"
             ],
             [
              0.7777777777777778,
              "#fb9f3a"
             ],
             [
              0.8888888888888888,
              "#fdca26"
             ],
             [
              1,
              "#f0f921"
             ]
            ],
            "type": "heatmap"
           }
          ],
          "heatmapgl": [
           {
            "colorbar": {
             "outlinewidth": 0,
             "ticks": ""
            },
            "colorscale": [
             [
              0,
              "#0d0887"
             ],
             [
              0.1111111111111111,
              "#46039f"
             ],
             [
              0.2222222222222222,
              "#7201a8"
             ],
             [
              0.3333333333333333,
              "#9c179e"
             ],
             [
              0.4444444444444444,
              "#bd3786"
             ],
             [
              0.5555555555555556,
              "#d8576b"
             ],
             [
              0.6666666666666666,
              "#ed7953"
             ],
             [
              0.7777777777777778,
              "#fb9f3a"
             ],
             [
              0.8888888888888888,
              "#fdca26"
             ],
             [
              1,
              "#f0f921"
             ]
            ],
            "type": "heatmapgl"
           }
          ],
          "histogram": [
           {
            "marker": {
             "pattern": {
              "fillmode": "overlay",
              "size": 10,
              "solidity": 0.2
             }
            },
            "type": "histogram"
           }
          ],
          "histogram2d": [
           {
            "colorbar": {
             "outlinewidth": 0,
             "ticks": ""
            },
            "colorscale": [
             [
              0,
              "#0d0887"
             ],
             [
              0.1111111111111111,
              "#46039f"
             ],
             [
              0.2222222222222222,
              "#7201a8"
             ],
             [
              0.3333333333333333,
              "#9c179e"
             ],
             [
              0.4444444444444444,
              "#bd3786"
             ],
             [
              0.5555555555555556,
              "#d8576b"
             ],
             [
              0.6666666666666666,
              "#ed7953"
             ],
             [
              0.7777777777777778,
              "#fb9f3a"
             ],
             [
              0.8888888888888888,
              "#fdca26"
             ],
             [
              1,
              "#f0f921"
             ]
            ],
            "type": "histogram2d"
           }
          ],
          "histogram2dcontour": [
           {
            "colorbar": {
             "outlinewidth": 0,
             "ticks": ""
            },
            "colorscale": [
             [
              0,
              "#0d0887"
             ],
             [
              0.1111111111111111,
              "#46039f"
             ],
             [
              0.2222222222222222,
              "#7201a8"
             ],
             [
              0.3333333333333333,
              "#9c179e"
             ],
             [
              0.4444444444444444,
              "#bd3786"
             ],
             [
              0.5555555555555556,
              "#d8576b"
             ],
             [
              0.6666666666666666,
              "#ed7953"
             ],
             [
              0.7777777777777778,
              "#fb9f3a"
             ],
             [
              0.8888888888888888,
              "#fdca26"
             ],
             [
              1,
              "#f0f921"
             ]
            ],
            "type": "histogram2dcontour"
           }
          ],
          "mesh3d": [
           {
            "colorbar": {
             "outlinewidth": 0,
             "ticks": ""
            },
            "type": "mesh3d"
           }
          ],
          "parcoords": [
           {
            "line": {
             "colorbar": {
              "outlinewidth": 0,
              "ticks": ""
             }
            },
            "type": "parcoords"
           }
          ],
          "pie": [
           {
            "automargin": true,
            "type": "pie"
           }
          ],
          "scatter": [
           {
            "fillpattern": {
             "fillmode": "overlay",
             "size": 10,
             "solidity": 0.2
            },
            "type": "scatter"
           }
          ],
          "scatter3d": [
           {
            "line": {
             "colorbar": {
              "outlinewidth": 0,
              "ticks": ""
             }
            },
            "marker": {
             "colorbar": {
              "outlinewidth": 0,
              "ticks": ""
             }
            },
            "type": "scatter3d"
           }
          ],
          "scattercarpet": [
           {
            "marker": {
             "colorbar": {
              "outlinewidth": 0,
              "ticks": ""
             }
            },
            "type": "scattercarpet"
           }
          ],
          "scattergeo": [
           {
            "marker": {
             "colorbar": {
              "outlinewidth": 0,
              "ticks": ""
             }
            },
            "type": "scattergeo"
           }
          ],
          "scattergl": [
           {
            "marker": {
             "colorbar": {
              "outlinewidth": 0,
              "ticks": ""
             }
            },
            "type": "scattergl"
           }
          ],
          "scattermapbox": [
           {
            "marker": {
             "colorbar": {
              "outlinewidth": 0,
              "ticks": ""
             }
            },
            "type": "scattermapbox"
           }
          ],
          "scatterpolar": [
           {
            "marker": {
             "colorbar": {
              "outlinewidth": 0,
              "ticks": ""
             }
            },
            "type": "scatterpolar"
           }
          ],
          "scatterpolargl": [
           {
            "marker": {
             "colorbar": {
              "outlinewidth": 0,
              "ticks": ""
             }
            },
            "type": "scatterpolargl"
           }
          ],
          "scatterternary": [
           {
            "marker": {
             "colorbar": {
              "outlinewidth": 0,
              "ticks": ""
             }
            },
            "type": "scatterternary"
           }
          ],
          "surface": [
           {
            "colorbar": {
             "outlinewidth": 0,
             "ticks": ""
            },
            "colorscale": [
             [
              0,
              "#0d0887"
             ],
             [
              0.1111111111111111,
              "#46039f"
             ],
             [
              0.2222222222222222,
              "#7201a8"
             ],
             [
              0.3333333333333333,
              "#9c179e"
             ],
             [
              0.4444444444444444,
              "#bd3786"
             ],
             [
              0.5555555555555556,
              "#d8576b"
             ],
             [
              0.6666666666666666,
              "#ed7953"
             ],
             [
              0.7777777777777778,
              "#fb9f3a"
             ],
             [
              0.8888888888888888,
              "#fdca26"
             ],
             [
              1,
              "#f0f921"
             ]
            ],
            "type": "surface"
           }
          ],
          "table": [
           {
            "cells": {
             "fill": {
              "color": "#EBF0F8"
             },
             "line": {
              "color": "white"
             }
            },
            "header": {
             "fill": {
              "color": "#C8D4E3"
             },
             "line": {
              "color": "white"
             }
            },
            "type": "table"
           }
          ]
         },
         "layout": {
          "annotationdefaults": {
           "arrowcolor": "#2a3f5f",
           "arrowhead": 0,
           "arrowwidth": 1
          },
          "autotypenumbers": "strict",
          "coloraxis": {
           "colorbar": {
            "outlinewidth": 0,
            "ticks": ""
           }
          },
          "colorscale": {
           "diverging": [
            [
             0,
             "#8e0152"
            ],
            [
             0.1,
             "#c51b7d"
            ],
            [
             0.2,
             "#de77ae"
            ],
            [
             0.3,
             "#f1b6da"
            ],
            [
             0.4,
             "#fde0ef"
            ],
            [
             0.5,
             "#f7f7f7"
            ],
            [
             0.6,
             "#e6f5d0"
            ],
            [
             0.7,
             "#b8e186"
            ],
            [
             0.8,
             "#7fbc41"
            ],
            [
             0.9,
             "#4d9221"
            ],
            [
             1,
             "#276419"
            ]
           ],
           "sequential": [
            [
             0,
             "#0d0887"
            ],
            [
             0.1111111111111111,
             "#46039f"
            ],
            [
             0.2222222222222222,
             "#7201a8"
            ],
            [
             0.3333333333333333,
             "#9c179e"
            ],
            [
             0.4444444444444444,
             "#bd3786"
            ],
            [
             0.5555555555555556,
             "#d8576b"
            ],
            [
             0.6666666666666666,
             "#ed7953"
            ],
            [
             0.7777777777777778,
             "#fb9f3a"
            ],
            [
             0.8888888888888888,
             "#fdca26"
            ],
            [
             1,
             "#f0f921"
            ]
           ],
           "sequentialminus": [
            [
             0,
             "#0d0887"
            ],
            [
             0.1111111111111111,
             "#46039f"
            ],
            [
             0.2222222222222222,
             "#7201a8"
            ],
            [
             0.3333333333333333,
             "#9c179e"
            ],
            [
             0.4444444444444444,
             "#bd3786"
            ],
            [
             0.5555555555555556,
             "#d8576b"
            ],
            [
             0.6666666666666666,
             "#ed7953"
            ],
            [
             0.7777777777777778,
             "#fb9f3a"
            ],
            [
             0.8888888888888888,
             "#fdca26"
            ],
            [
             1,
             "#f0f921"
            ]
           ]
          },
          "colorway": [
           "#636efa",
           "#EF553B",
           "#00cc96",
           "#ab63fa",
           "#FFA15A",
           "#19d3f3",
           "#FF6692",
           "#B6E880",
           "#FF97FF",
           "#FECB52"
          ],
          "font": {
           "color": "#2a3f5f"
          },
          "geo": {
           "bgcolor": "white",
           "lakecolor": "white",
           "landcolor": "#E5ECF6",
           "showlakes": true,
           "showland": true,
           "subunitcolor": "white"
          },
          "hoverlabel": {
           "align": "left"
          },
          "hovermode": "closest",
          "mapbox": {
           "style": "light"
          },
          "paper_bgcolor": "white",
          "plot_bgcolor": "#E5ECF6",
          "polar": {
           "angularaxis": {
            "gridcolor": "white",
            "linecolor": "white",
            "ticks": ""
           },
           "bgcolor": "#E5ECF6",
           "radialaxis": {
            "gridcolor": "white",
            "linecolor": "white",
            "ticks": ""
           }
          },
          "scene": {
           "xaxis": {
            "backgroundcolor": "#E5ECF6",
            "gridcolor": "white",
            "gridwidth": 2,
            "linecolor": "white",
            "showbackground": true,
            "ticks": "",
            "zerolinecolor": "white"
           },
           "yaxis": {
            "backgroundcolor": "#E5ECF6",
            "gridcolor": "white",
            "gridwidth": 2,
            "linecolor": "white",
            "showbackground": true,
            "ticks": "",
            "zerolinecolor": "white"
           },
           "zaxis": {
            "backgroundcolor": "#E5ECF6",
            "gridcolor": "white",
            "gridwidth": 2,
            "linecolor": "white",
            "showbackground": true,
            "ticks": "",
            "zerolinecolor": "white"
           }
          },
          "shapedefaults": {
           "line": {
            "color": "#2a3f5f"
           }
          },
          "ternary": {
           "aaxis": {
            "gridcolor": "white",
            "linecolor": "white",
            "ticks": ""
           },
           "baxis": {
            "gridcolor": "white",
            "linecolor": "white",
            "ticks": ""
           },
           "bgcolor": "#E5ECF6",
           "caxis": {
            "gridcolor": "white",
            "linecolor": "white",
            "ticks": ""
           }
          },
          "title": {
           "x": 0.05
          },
          "xaxis": {
           "automargin": true,
           "gridcolor": "white",
           "linecolor": "white",
           "ticks": "",
           "title": {
            "standoff": 15
           },
           "zerolinecolor": "white",
           "zerolinewidth": 2
          },
          "yaxis": {
           "automargin": true,
           "gridcolor": "white",
           "linecolor": "white",
           "ticks": "",
           "title": {
            "standoff": 15
           },
           "zerolinecolor": "white",
           "zerolinewidth": 2
          }
         }
        },
        "xaxis": {
         "anchor": "y",
         "domain": [
          0,
          1
         ],
         "title": {
          "text": "Mental hospitals per 100 000 people"
         }
        },
        "yaxis": {
         "anchor": "x",
         "domain": [
          0,
          1
         ],
         "title": {
          "text": "Suicide rate"
         }
        }
       }
      }
     },
     "metadata": {},
     "output_type": "display_data"
    }
   ],
   "source": [
    "fig = px.scatter(df2016g[df2016g[\"mental_hospitals_per_100k\"] < 0.5], x=\"mental_hospitals_per_100k\", y=\"suicide_rate\", trendline=\"ols\", color=\"sex\")\n",
    "fig.update_xaxes(title_text=\"Mental hospitals per 100 000 people\"); fig.update_yaxes(title_text=\"Suicide rate\")\n",
    "fig.update_layout(legend_title_text=\"Sex\")\n",
    "fig.show()"
   ]
  },
  {
   "attachments": {},
   "cell_type": "markdown",
   "metadata": {},
   "source": [
    "This seems like the most basic statistic there is, and that positive trend is worrying. Even if you look at that tempting river and cut it down to <0.1, the data make an annoying concave shape. But that's okay. This is a good time to mention that there are basically three \"genres of accommodation\" in the dataset:\n",
    "\n",
    "* Facilities (per 100 000 people: mental hospitals, *beds in* mental hospitals, mental health units in general hospitals, *beds for mental health in* general hospitals, mental health outpatient facilities, mental health day treatment facilities, community residential facilities, and *beds in* community residential facilities)\n",
    "* People (working in the mental health sector, per 100 000 people: psychiatrists, nurses, social workers, and psychologists)\n",
    "* Government (fraction of government expenditure on mental health which was on mental hospitals, whether the country has a standalone law for mental health, when this law was enacted, whether the country has a standalone policy or plan for mental health, and when this policy was published)\n",
    "\n",
    "Surely the number of beds is a better measure than the number of facilities, right?"
   ]
  },
  {
   "cell_type": "code",
   "execution_count": 70,
   "metadata": {},
   "outputs": [
    {
     "data": {
      "application/vnd.plotly.v1+json": {
       "config": {
        "plotlyServerURL": "https://plot.ly"
       },
       "data": [
        {
         "hovertemplate": "sex=Male<br>mental_h_beds_per_100k=%{x}<br>suicide_rate=%{y}<extra></extra>",
         "legendgroup": "Male",
         "marker": {
          "color": "#636efa",
          "symbol": "circle"
         },
         "mode": "markers",
         "name": "Male",
         "orientation": "v",
         "showlegend": true,
         "type": "scatter",
         "x": [
          0.296,
          0.585,
          16.762,
          0.896,
          40.566,
          31.193,
          0,
          0.434,
          33.201,
          9.792,
          0,
          3.125,
          16.743,
          43.223,
          10.456,
          0.811,
          7.038,
          4.126,
          8.74,
          11.209,
          6.217,
          36.72,
          2.9,
          2.033,
          10.653,
          2.129,
          20.039,
          1.951,
          1.426,
          21.659,
          18.168,
          35.228,
          6.649,
          1.482,
          27.705,
          1.6,
          40.178,
          4.175,
          0.854,
          3.06,
          2.672,
          46.484,
          18.476,
          0.439,
          11.054,
          0.576,
          2.472,
          3.779,
          3.197,
          4.129,
          30.466,
          5.701,
          5.106,
          2.483,
          3.44,
          17.115,
          0.935,
          34.867,
          5.687,
          31.095,
          42.67,
          5.338,
          1.618,
          6.464,
          10.294,
          5.158,
          1.245,
          41.818,
          18.66,
          24.613,
          8.103,
          5.161,
          3.801,
          16.556,
          1.304,
          11.497
         ],
         "xaxis": "x",
         "y": [
          10.6,
          14,
          7,
          3.5,
          15,
          4.3,
          22.4,
          5.5,
          13.1,
          9.7,
          6.2,
          16,
          12.8,
          16.4,
          4.9,
          10.7,
          7.2,
          22.4,
          25.6,
          8.8,
          15,
          12.3,
          15.8,
          8.9,
          6.1,
          4.4,
          46.6,
          18.3,
          18.5,
          17.6,
          21.7,
          8.2,
          4.7,
          9.7,
          14.8,
          13.8,
          47.5,
          2.5,
          10.5,
          8.2,
          6.3,
          12.6,
          23.3,
          14,
          8.7,
          11.4,
          3,
          7.6,
          7.6,
          5.2,
          23.9,
          14.3,
          12.3,
          7.3,
          16.9,
          4.6,
          20.3,
          11.1,
          24.8,
          15.8,
          15,
          3.8,
          22.7,
          21.4,
          5,
          11.3,
          21.2,
          26.8,
          21.1,
          10.3,
          10.8,
          8.7,
          13.4,
          21.7,
          17.5,
          29.1
         ],
         "yaxis": "y"
        },
        {
         "hovertemplate": "<b>OLS trendline</b><br>suicide_rate = 0.171268 * mental_h_beds_per_100k + 11.7722<br>R<sup>2</sup>=0.071624<br><br>sex=Male<br>mental_h_beds_per_100k=%{x}<br>suicide_rate=%{y} <b>(trend)</b><extra></extra>",
         "legendgroup": "Male",
         "marker": {
          "color": "#636efa",
          "symbol": "circle"
         },
         "mode": "lines",
         "name": "Male",
         "showlegend": false,
         "type": "scatter",
         "x": [
          0,
          0,
          0.296,
          0.434,
          0.439,
          0.576,
          0.585,
          0.811,
          0.854,
          0.896,
          0.935,
          1.245,
          1.304,
          1.426,
          1.482,
          1.6,
          1.618,
          1.951,
          2.033,
          2.129,
          2.472,
          2.483,
          2.672,
          2.9,
          3.06,
          3.125,
          3.197,
          3.44,
          3.779,
          3.801,
          4.126,
          4.129,
          4.175,
          5.106,
          5.158,
          5.161,
          5.338,
          5.687,
          5.701,
          6.217,
          6.464,
          6.649,
          7.038,
          8.103,
          8.74,
          9.792,
          10.294,
          10.456,
          10.653,
          11.054,
          11.209,
          11.497,
          16.556,
          16.743,
          16.762,
          17.115,
          18.168,
          18.476,
          18.66,
          20.039,
          21.659,
          24.613,
          27.705,
          30.466,
          31.095,
          31.193,
          33.201,
          34.867,
          35.228,
          36.72,
          40.178,
          40.566,
          41.818,
          42.67,
          43.223,
          46.484
         ],
         "xaxis": "x",
         "y": [
          11.772249651972686,
          11.772249651972686,
          11.822945052414955,
          11.846580070188717,
          11.847436411412403,
          11.870900160941426,
          11.872441575144062,
          11.911148198454715,
          11.918512732978423,
          11.925705999257394,
          11.932385460802152,
          11.985478616670745,
          11.995583443110252,
          12.016478168968215,
          12.026069190673509,
          12.046278843552521,
          12.049361671957794,
          12.106393997455347,
          12.120437993523813,
          12.136879745018604,
          12.195624752963532,
          12.197508703655643,
          12.22987840191101,
          12.268927561711138,
          12.296330480869122,
          12.307462916777052,
          12.319794230398145,
          12.361412413869331,
          12.41947234883531,
          12.423240250219532,
          12.478902429759186,
          12.479416234493398,
          12.487294573751319,
          12.646745309601835,
          12.65565125832818,
          12.656165063062392,
          12.686479542380912,
          12.746252159794263,
          12.748649915220586,
          12.837024329505084,
          12.87932758595522,
          12.91101221123164,
          12.977635558434486,
          13.160036239079814,
          13.269134110977536,
          13.449308304441278,
          13.535284963299452,
          13.563030418946909,
          13.596770263160177,
          13.665448829299873,
          13.691995407234169,
          13.74132066171854,
          14.60776671184503,
          14.639793873610923,
          14.643047970260934,
          14.703505660653235,
          14.883851122361715,
          14.936601741740834,
          14.968115098772515,
          15.204294008265386,
          15.481748564739968,
          15.987674959694239,
          16.51723637242227,
          16.990107996142225,
          17.097835722082046,
          17.11462001006631,
          17.458526645499006,
          17.743859541231508,
          17.80568737758171,
          18.061219598729906,
          18.653465189031824,
          18.719917267989935,
          18.934345110401154,
          19.08026565491742,
          19.174976994257197,
          19.73348274034585
         ],
         "yaxis": "y"
        },
        {
         "hovertemplate": "sex=Female<br>mental_h_beds_per_100k=%{x}<br>suicide_rate=%{y}<extra></extra>",
         "legendgroup": "Female",
         "marker": {
          "color": "#EF553B",
          "symbol": "circle"
         },
         "mode": "markers",
         "name": "Female",
         "orientation": "v",
         "showlegend": true,
         "type": "scatter",
         "x": [
          0.296,
          0.585,
          16.762,
          0.896,
          40.566,
          31.193,
          0,
          0.434,
          33.201,
          9.792,
          0,
          3.125,
          16.743,
          43.223,
          10.456,
          0.811,
          7.038,
          4.126,
          8.74,
          11.209,
          6.217,
          36.72,
          2.9,
          2.033,
          10.653,
          2.129,
          20.039,
          1.951,
          1.426,
          21.659,
          18.168,
          35.228,
          6.649,
          1.482,
          27.705,
          1.6,
          40.178,
          4.175,
          0.854,
          3.06,
          2.672,
          46.484,
          18.476,
          0.439,
          11.054,
          0.576,
          2.472,
          3.779,
          3.197,
          4.129,
          30.466,
          5.701,
          5.106,
          2.483,
          3.44,
          17.115,
          0.935,
          34.867,
          5.687,
          31.095,
          42.67,
          5.338,
          1.618,
          6.464,
          10.294,
          5.158,
          1.245,
          41.818,
          18.66,
          24.613,
          8.103,
          5.161,
          3.801,
          16.556,
          1.304,
          11.497
         ],
         "xaxis": "x",
         "y": [
          2.1,
          4.6,
          4.3,
          0.8,
          3.5,
          1,
          9.1,
          6.7,
          3.2,
          2.8,
          2.8,
          3.8,
          2.3,
          4.1,
          1.8,
          3.8,
          1.7,
          6.1,
          4.4,
          2.5,
          4.3,
          1.9,
          2.9,
          6.1,
          1.5,
          1.7,
          14.2,
          6.4,
          14.5,
          4.2,
          4.7,
          2.4,
          2.7,
          2.1,
          3.7,
          13,
          6.7,
          3.6,
          3.6,
          2.3,
          9.8,
          3.6,
          3.8,
          4.1,
          3.6,
          8,
          3.1,
          1.2,
          2.7,
          2.3,
          3.4,
          3.8,
          6.2,
          1.1,
          6,
          1.7,
          5.2,
          4.9,
          4.3,
          7.4,
          2.1,
          1.1,
          10.9,
          4.8,
          1.7,
          3.2,
          18.7,
          7.1,
          6.4,
          4.6,
          3.4,
          2.2,
          6.2,
          5.1,
          6.2,
          11.1
         ],
         "yaxis": "y"
        },
        {
         "hovertemplate": "<b>OLS trendline</b><br>suicide_rate = -0.030038 * mental_h_beds_per_100k + 5.03276<br>R<sup>2</sup>=0.014207<br><br>sex=Female<br>mental_h_beds_per_100k=%{x}<br>suicide_rate=%{y} <b>(trend)</b><extra></extra>",
         "legendgroup": "Female",
         "marker": {
          "color": "#EF553B",
          "symbol": "circle"
         },
         "mode": "lines",
         "name": "Female",
         "showlegend": false,
         "type": "scatter",
         "x": [
          0,
          0,
          0.296,
          0.434,
          0.439,
          0.576,
          0.585,
          0.811,
          0.854,
          0.896,
          0.935,
          1.245,
          1.304,
          1.426,
          1.482,
          1.6,
          1.618,
          1.951,
          2.033,
          2.129,
          2.472,
          2.483,
          2.672,
          2.9,
          3.06,
          3.125,
          3.197,
          3.44,
          3.779,
          3.801,
          4.126,
          4.129,
          4.175,
          5.106,
          5.158,
          5.161,
          5.338,
          5.687,
          5.701,
          6.217,
          6.464,
          6.649,
          7.038,
          8.103,
          8.74,
          9.792,
          10.294,
          10.456,
          10.653,
          11.054,
          11.209,
          11.497,
          16.556,
          16.743,
          16.762,
          17.115,
          18.168,
          18.476,
          18.66,
          20.039,
          21.659,
          24.613,
          27.705,
          30.466,
          31.095,
          31.193,
          33.201,
          34.867,
          35.228,
          36.72,
          40.178,
          40.566,
          41.818,
          42.67,
          43.223,
          46.484
         ],
         "xaxis": "x",
         "y": [
          5.032760330444239,
          5.032760330444239,
          5.023869072033825,
          5.01972382318032,
          5.019573633004469,
          5.015458422186135,
          5.015188079869602,
          5.00839948392111,
          5.007107848408786,
          5.005846250931633,
          5.00467476755999,
          4.995362976657192,
          4.993590732582143,
          4.9899260922913635,
          4.9882439623218255,
          4.984699474171728,
          4.984158789538662,
          4.974156123826946,
          4.9716930049429795,
          4.96880935356663,
          4.958506307503209,
          4.958175889116336,
          4.952498700469146,
          4.945650028450313,
          4.9408439428230615,
          4.9388914705369915,
          4.936728732004728,
          4.92942948945834,
          4.919246595535602,
          4.918585758761855,
          4.908823397331502,
          4.908733283225991,
          4.907351533608156,
          4.879386122864589,
          4.877824145035732,
          4.877734030930221,
          4.8724172987050745,
          4.861934024430633,
          4.861513491938249,
          4.846013865790364,
          4.8385944711032955,
          4.833037434596786,
          4.821352638915532,
          4.789362131459142,
          4.770227903055649,
          4.738627890056473,
          4.723548796400973,
          4.718682634703381,
          4.712765141774828,
          4.7007198896715305,
          4.696063994220131,
          4.687413040091078,
          4.535450620164434,
          4.529833507587584,
          4.529262784919348,
          4.518659358504225,
          4.4870293074698795,
          4.477777592637421,
          4.472250594166082,
          4.430828143666211,
          4.382166526690295,
          4.2934341707971715,
          4.200556566050545,
          4.117621550945294,
          4.0987276268231625,
          4.095783899376471,
          4.03546752475447,
          3.9854241581607184,
          3.9745804274642333,
          3.929763678990117,
          3.825892153371153,
          3.814237395725069,
          3.7766297756918297,
          3.7510373697267174,
          3.734426336277531,
          3.6364723035871203
         ],
         "yaxis": "y"
        }
       ],
       "layout": {
        "legend": {
         "title": {
          "text": "Sex"
         },
         "tracegroupgap": 0
        },
        "margin": {
         "t": 60
        },
        "template": {
         "data": {
          "bar": [
           {
            "error_x": {
             "color": "#2a3f5f"
            },
            "error_y": {
             "color": "#2a3f5f"
            },
            "marker": {
             "line": {
              "color": "#E5ECF6",
              "width": 0.5
             },
             "pattern": {
              "fillmode": "overlay",
              "size": 10,
              "solidity": 0.2
             }
            },
            "type": "bar"
           }
          ],
          "barpolar": [
           {
            "marker": {
             "line": {
              "color": "#E5ECF6",
              "width": 0.5
             },
             "pattern": {
              "fillmode": "overlay",
              "size": 10,
              "solidity": 0.2
             }
            },
            "type": "barpolar"
           }
          ],
          "carpet": [
           {
            "aaxis": {
             "endlinecolor": "#2a3f5f",
             "gridcolor": "white",
             "linecolor": "white",
             "minorgridcolor": "white",
             "startlinecolor": "#2a3f5f"
            },
            "baxis": {
             "endlinecolor": "#2a3f5f",
             "gridcolor": "white",
             "linecolor": "white",
             "minorgridcolor": "white",
             "startlinecolor": "#2a3f5f"
            },
            "type": "carpet"
           }
          ],
          "choropleth": [
           {
            "colorbar": {
             "outlinewidth": 0,
             "ticks": ""
            },
            "type": "choropleth"
           }
          ],
          "contour": [
           {
            "colorbar": {
             "outlinewidth": 0,
             "ticks": ""
            },
            "colorscale": [
             [
              0,
              "#0d0887"
             ],
             [
              0.1111111111111111,
              "#46039f"
             ],
             [
              0.2222222222222222,
              "#7201a8"
             ],
             [
              0.3333333333333333,
              "#9c179e"
             ],
             [
              0.4444444444444444,
              "#bd3786"
             ],
             [
              0.5555555555555556,
              "#d8576b"
             ],
             [
              0.6666666666666666,
              "#ed7953"
             ],
             [
              0.7777777777777778,
              "#fb9f3a"
             ],
             [
              0.8888888888888888,
              "#fdca26"
             ],
             [
              1,
              "#f0f921"
             ]
            ],
            "type": "contour"
           }
          ],
          "contourcarpet": [
           {
            "colorbar": {
             "outlinewidth": 0,
             "ticks": ""
            },
            "type": "contourcarpet"
           }
          ],
          "heatmap": [
           {
            "colorbar": {
             "outlinewidth": 0,
             "ticks": ""
            },
            "colorscale": [
             [
              0,
              "#0d0887"
             ],
             [
              0.1111111111111111,
              "#46039f"
             ],
             [
              0.2222222222222222,
              "#7201a8"
             ],
             [
              0.3333333333333333,
              "#9c179e"
             ],
             [
              0.4444444444444444,
              "#bd3786"
             ],
             [
              0.5555555555555556,
              "#d8576b"
             ],
             [
              0.6666666666666666,
              "#ed7953"
             ],
             [
              0.7777777777777778,
              "#fb9f3a"
             ],
             [
              0.8888888888888888,
              "#fdca26"
             ],
             [
              1,
              "#f0f921"
             ]
            ],
            "type": "heatmap"
           }
          ],
          "heatmapgl": [
           {
            "colorbar": {
             "outlinewidth": 0,
             "ticks": ""
            },
            "colorscale": [
             [
              0,
              "#0d0887"
             ],
             [
              0.1111111111111111,
              "#46039f"
             ],
             [
              0.2222222222222222,
              "#7201a8"
             ],
             [
              0.3333333333333333,
              "#9c179e"
             ],
             [
              0.4444444444444444,
              "#bd3786"
             ],
             [
              0.5555555555555556,
              "#d8576b"
             ],
             [
              0.6666666666666666,
              "#ed7953"
             ],
             [
              0.7777777777777778,
              "#fb9f3a"
             ],
             [
              0.8888888888888888,
              "#fdca26"
             ],
             [
              1,
              "#f0f921"
             ]
            ],
            "type": "heatmapgl"
           }
          ],
          "histogram": [
           {
            "marker": {
             "pattern": {
              "fillmode": "overlay",
              "size": 10,
              "solidity": 0.2
             }
            },
            "type": "histogram"
           }
          ],
          "histogram2d": [
           {
            "colorbar": {
             "outlinewidth": 0,
             "ticks": ""
            },
            "colorscale": [
             [
              0,
              "#0d0887"
             ],
             [
              0.1111111111111111,
              "#46039f"
             ],
             [
              0.2222222222222222,
              "#7201a8"
             ],
             [
              0.3333333333333333,
              "#9c179e"
             ],
             [
              0.4444444444444444,
              "#bd3786"
             ],
             [
              0.5555555555555556,
              "#d8576b"
             ],
             [
              0.6666666666666666,
              "#ed7953"
             ],
             [
              0.7777777777777778,
              "#fb9f3a"
             ],
             [
              0.8888888888888888,
              "#fdca26"
             ],
             [
              1,
              "#f0f921"
             ]
            ],
            "type": "histogram2d"
           }
          ],
          "histogram2dcontour": [
           {
            "colorbar": {
             "outlinewidth": 0,
             "ticks": ""
            },
            "colorscale": [
             [
              0,
              "#0d0887"
             ],
             [
              0.1111111111111111,
              "#46039f"
             ],
             [
              0.2222222222222222,
              "#7201a8"
             ],
             [
              0.3333333333333333,
              "#9c179e"
             ],
             [
              0.4444444444444444,
              "#bd3786"
             ],
             [
              0.5555555555555556,
              "#d8576b"
             ],
             [
              0.6666666666666666,
              "#ed7953"
             ],
             [
              0.7777777777777778,
              "#fb9f3a"
             ],
             [
              0.8888888888888888,
              "#fdca26"
             ],
             [
              1,
              "#f0f921"
             ]
            ],
            "type": "histogram2dcontour"
           }
          ],
          "mesh3d": [
           {
            "colorbar": {
             "outlinewidth": 0,
             "ticks": ""
            },
            "type": "mesh3d"
           }
          ],
          "parcoords": [
           {
            "line": {
             "colorbar": {
              "outlinewidth": 0,
              "ticks": ""
             }
            },
            "type": "parcoords"
           }
          ],
          "pie": [
           {
            "automargin": true,
            "type": "pie"
           }
          ],
          "scatter": [
           {
            "fillpattern": {
             "fillmode": "overlay",
             "size": 10,
             "solidity": 0.2
            },
            "type": "scatter"
           }
          ],
          "scatter3d": [
           {
            "line": {
             "colorbar": {
              "outlinewidth": 0,
              "ticks": ""
             }
            },
            "marker": {
             "colorbar": {
              "outlinewidth": 0,
              "ticks": ""
             }
            },
            "type": "scatter3d"
           }
          ],
          "scattercarpet": [
           {
            "marker": {
             "colorbar": {
              "outlinewidth": 0,
              "ticks": ""
             }
            },
            "type": "scattercarpet"
           }
          ],
          "scattergeo": [
           {
            "marker": {
             "colorbar": {
              "outlinewidth": 0,
              "ticks": ""
             }
            },
            "type": "scattergeo"
           }
          ],
          "scattergl": [
           {
            "marker": {
             "colorbar": {
              "outlinewidth": 0,
              "ticks": ""
             }
            },
            "type": "scattergl"
           }
          ],
          "scattermapbox": [
           {
            "marker": {
             "colorbar": {
              "outlinewidth": 0,
              "ticks": ""
             }
            },
            "type": "scattermapbox"
           }
          ],
          "scatterpolar": [
           {
            "marker": {
             "colorbar": {
              "outlinewidth": 0,
              "ticks": ""
             }
            },
            "type": "scatterpolar"
           }
          ],
          "scatterpolargl": [
           {
            "marker": {
             "colorbar": {
              "outlinewidth": 0,
              "ticks": ""
             }
            },
            "type": "scatterpolargl"
           }
          ],
          "scatterternary": [
           {
            "marker": {
             "colorbar": {
              "outlinewidth": 0,
              "ticks": ""
             }
            },
            "type": "scatterternary"
           }
          ],
          "surface": [
           {
            "colorbar": {
             "outlinewidth": 0,
             "ticks": ""
            },
            "colorscale": [
             [
              0,
              "#0d0887"
             ],
             [
              0.1111111111111111,
              "#46039f"
             ],
             [
              0.2222222222222222,
              "#7201a8"
             ],
             [
              0.3333333333333333,
              "#9c179e"
             ],
             [
              0.4444444444444444,
              "#bd3786"
             ],
             [
              0.5555555555555556,
              "#d8576b"
             ],
             [
              0.6666666666666666,
              "#ed7953"
             ],
             [
              0.7777777777777778,
              "#fb9f3a"
             ],
             [
              0.8888888888888888,
              "#fdca26"
             ],
             [
              1,
              "#f0f921"
             ]
            ],
            "type": "surface"
           }
          ],
          "table": [
           {
            "cells": {
             "fill": {
              "color": "#EBF0F8"
             },
             "line": {
              "color": "white"
             }
            },
            "header": {
             "fill": {
              "color": "#C8D4E3"
             },
             "line": {
              "color": "white"
             }
            },
            "type": "table"
           }
          ]
         },
         "layout": {
          "annotationdefaults": {
           "arrowcolor": "#2a3f5f",
           "arrowhead": 0,
           "arrowwidth": 1
          },
          "autotypenumbers": "strict",
          "coloraxis": {
           "colorbar": {
            "outlinewidth": 0,
            "ticks": ""
           }
          },
          "colorscale": {
           "diverging": [
            [
             0,
             "#8e0152"
            ],
            [
             0.1,
             "#c51b7d"
            ],
            [
             0.2,
             "#de77ae"
            ],
            [
             0.3,
             "#f1b6da"
            ],
            [
             0.4,
             "#fde0ef"
            ],
            [
             0.5,
             "#f7f7f7"
            ],
            [
             0.6,
             "#e6f5d0"
            ],
            [
             0.7,
             "#b8e186"
            ],
            [
             0.8,
             "#7fbc41"
            ],
            [
             0.9,
             "#4d9221"
            ],
            [
             1,
             "#276419"
            ]
           ],
           "sequential": [
            [
             0,
             "#0d0887"
            ],
            [
             0.1111111111111111,
             "#46039f"
            ],
            [
             0.2222222222222222,
             "#7201a8"
            ],
            [
             0.3333333333333333,
             "#9c179e"
            ],
            [
             0.4444444444444444,
             "#bd3786"
            ],
            [
             0.5555555555555556,
             "#d8576b"
            ],
            [
             0.6666666666666666,
             "#ed7953"
            ],
            [
             0.7777777777777778,
             "#fb9f3a"
            ],
            [
             0.8888888888888888,
             "#fdca26"
            ],
            [
             1,
             "#f0f921"
            ]
           ],
           "sequentialminus": [
            [
             0,
             "#0d0887"
            ],
            [
             0.1111111111111111,
             "#46039f"
            ],
            [
             0.2222222222222222,
             "#7201a8"
            ],
            [
             0.3333333333333333,
             "#9c179e"
            ],
            [
             0.4444444444444444,
             "#bd3786"
            ],
            [
             0.5555555555555556,
             "#d8576b"
            ],
            [
             0.6666666666666666,
             "#ed7953"
            ],
            [
             0.7777777777777778,
             "#fb9f3a"
            ],
            [
             0.8888888888888888,
             "#fdca26"
            ],
            [
             1,
             "#f0f921"
            ]
           ]
          },
          "colorway": [
           "#636efa",
           "#EF553B",
           "#00cc96",
           "#ab63fa",
           "#FFA15A",
           "#19d3f3",
           "#FF6692",
           "#B6E880",
           "#FF97FF",
           "#FECB52"
          ],
          "font": {
           "color": "#2a3f5f"
          },
          "geo": {
           "bgcolor": "white",
           "lakecolor": "white",
           "landcolor": "#E5ECF6",
           "showlakes": true,
           "showland": true,
           "subunitcolor": "white"
          },
          "hoverlabel": {
           "align": "left"
          },
          "hovermode": "closest",
          "mapbox": {
           "style": "light"
          },
          "paper_bgcolor": "white",
          "plot_bgcolor": "#E5ECF6",
          "polar": {
           "angularaxis": {
            "gridcolor": "white",
            "linecolor": "white",
            "ticks": ""
           },
           "bgcolor": "#E5ECF6",
           "radialaxis": {
            "gridcolor": "white",
            "linecolor": "white",
            "ticks": ""
           }
          },
          "scene": {
           "xaxis": {
            "backgroundcolor": "#E5ECF6",
            "gridcolor": "white",
            "gridwidth": 2,
            "linecolor": "white",
            "showbackground": true,
            "ticks": "",
            "zerolinecolor": "white"
           },
           "yaxis": {
            "backgroundcolor": "#E5ECF6",
            "gridcolor": "white",
            "gridwidth": 2,
            "linecolor": "white",
            "showbackground": true,
            "ticks": "",
            "zerolinecolor": "white"
           },
           "zaxis": {
            "backgroundcolor": "#E5ECF6",
            "gridcolor": "white",
            "gridwidth": 2,
            "linecolor": "white",
            "showbackground": true,
            "ticks": "",
            "zerolinecolor": "white"
           }
          },
          "shapedefaults": {
           "line": {
            "color": "#2a3f5f"
           }
          },
          "ternary": {
           "aaxis": {
            "gridcolor": "white",
            "linecolor": "white",
            "ticks": ""
           },
           "baxis": {
            "gridcolor": "white",
            "linecolor": "white",
            "ticks": ""
           },
           "bgcolor": "#E5ECF6",
           "caxis": {
            "gridcolor": "white",
            "linecolor": "white",
            "ticks": ""
           }
          },
          "title": {
           "x": 0.05
          },
          "xaxis": {
           "automargin": true,
           "gridcolor": "white",
           "linecolor": "white",
           "ticks": "",
           "title": {
            "standoff": 15
           },
           "zerolinecolor": "white",
           "zerolinewidth": 2
          },
          "yaxis": {
           "automargin": true,
           "gridcolor": "white",
           "linecolor": "white",
           "ticks": "",
           "title": {
            "standoff": 15
           },
           "zerolinecolor": "white",
           "zerolinewidth": 2
          }
         }
        },
        "xaxis": {
         "anchor": "y",
         "domain": [
          0,
          1
         ],
         "title": {
          "text": "Beds in mental hospitals per 100 000 people"
         }
        },
        "yaxis": {
         "anchor": "x",
         "domain": [
          0,
          1
         ],
         "title": {
          "text": "Suicide rate"
         }
        }
       }
      }
     },
     "metadata": {},
     "output_type": "display_data"
    }
   ],
   "source": [
    "fig = px.scatter(df2016g[df2016g[\"mental_h_beds_per_100k\"] < 50], x=\"mental_h_beds_per_100k\", y=\"suicide_rate\", trendline=\"ols\", color=\"sex\")\n",
    "fig.update_xaxes(title_text=\"Beds in mental hospitals per 100 000 people\"); fig.update_yaxes(title_text=\"Suicide rate\")\n",
    "fig.update_layout(legend_title_text=\"Sex\")\n",
    "fig.show()"
   ]
  },
  {
   "attachments": {},
   "cell_type": "markdown",
   "metadata": {},
   "source": [
    "It's another positive trend for males and a lack of a trend for females. A milder case, but still. And there's another even more tempting place than last time to cut off the already cut off data that makes the figure look even more useless. I know this is the opposite of data, but here's an anecdote I don't remember the details of: I saw someone saying they lied to a doctor or psychologist of some kind to avoid being put in a mental hospital because it wouldn't have been good for them. Seems like they aren't the only one. Or countries with a bigger problem will tend to have more accommodations and this entire analysis is useless, but let's not make that our base assumption."
   ]
  },
  {
   "cell_type": "code",
   "execution_count": 71,
   "metadata": {},
   "outputs": [
    {
     "data": {
      "application/vnd.plotly.v1+json": {
       "config": {
        "plotlyServerURL": "https://plot.ly"
       },
       "data": [
        {
         "hovertemplate": "general_h_beds_per_100k=%{x}<br>suicide_rate=%{y}<extra></extra>",
         "legendgroup": "",
         "marker": {
          "color": "#636efa",
          "symbol": "circle"
         },
         "mode": "markers",
         "name": "",
         "orientation": "v",
         "showlegend": false,
         "type": "scatter",
         "x": [
          0.296,
          0.187,
          4.276,
          2.993,
          2.718,
          1.714,
          0.416,
          0.668,
          0.315,
          13.807,
          3.215,
          4.453,
          0.565,
          8.382,
          1.27,
          5.241,
          1.001,
          0,
          0.79,
          0.541,
          1.507,
          0.038,
          0.413,
          2.354,
          2.531,
          3.285,
          0.513,
          5.696,
          18.723,
          0.111,
          0.781,
          16.501,
          0.037,
          0.56,
          21.659,
          4.179,
          0.415,
          1.059,
          1.603,
          0.032,
          11.156,
          0.333,
          2.054,
          0.466,
          0.027,
          0.315,
          0.555,
          4.298,
          3.258,
          1.978,
          12.657,
          0.521,
          1.183,
          18.788,
          3.274,
          5.996,
          0.405,
          1.324,
          15.583,
          11.825,
          0.241,
          0.458,
          0.344,
          0.317,
          0.581,
          1.228,
          0.253,
          0.101,
          16.364,
          9.543,
          0.267,
          0.014,
          0.404,
          0.377,
          6.551,
          24.444,
          4.673,
          0.087,
          1.919,
          8.16,
          11.143,
          0.371,
          0.192,
          1.512,
          5.161,
          0,
          4.33,
          1.863,
          1.014
         ],
         "xaxis": "x",
         "y": [
          6.4,
          8.9,
          5.6,
          2.7,
          9.1,
          5.7,
          2.6,
          14.8,
          6.1,
          7.9,
          21.4,
          5.9,
          6.1,
          4.5,
          11.6,
          9.7,
          9.3,
          7,
          7.5,
          10.5,
          3.3,
          4.4,
          13.8,
          5.5,
          6.7,
          8.7,
          10.5,
          3.8,
          1.7,
          2.9,
          30.2,
          11.5,
          12.2,
          16.5,
          10.9,
          5.2,
          3.7,
          5.6,
          9.1,
          5.9,
          20.2,
          13.4,
          3.1,
          6.9,
          5.2,
          8.9,
          8.1,
          7.9,
          13.3,
          8.4,
          11.5,
          9,
          9.6,
          11.6,
          3.1,
          4.4,
          5.1,
          3.7,
          13.4,
          8.6,
          9.3,
          5.8,
          11,
          3.4,
          11.8,
          7.9,
          13.5,
          6.1,
          3.1,
          13.3,
          2.4,
          15.5,
          16.6,
          12.9,
          3.3,
          4,
          7.2,
          20,
          18.5,
          16.5,
          13.7,
          7.4,
          7,
          5.4,
          5.4,
          9.8,
          12.8,
          11.3,
          19.1
         ],
         "yaxis": "y"
        },
        {
         "hovertemplate": "<b>OLS trendline</b><br>suicide_rate = -0.0203714 * general_h_beds_per_100k + 9.11886<br>R<sup>2</sup>=0.000478<br><br>general_h_beds_per_100k=%{x}<br>suicide_rate=%{y} <b>(trend)</b><extra></extra>",
         "legendgroup": "",
         "marker": {
          "color": "#636efa",
          "symbol": "circle"
         },
         "mode": "lines",
         "name": "",
         "showlegend": false,
         "type": "scatter",
         "x": [
          0,
          0,
          0.014,
          0.027,
          0.032,
          0.037,
          0.038,
          0.087,
          0.101,
          0.111,
          0.187,
          0.192,
          0.241,
          0.253,
          0.267,
          0.296,
          0.315,
          0.315,
          0.317,
          0.333,
          0.344,
          0.371,
          0.377,
          0.404,
          0.405,
          0.413,
          0.415,
          0.416,
          0.458,
          0.466,
          0.513,
          0.521,
          0.541,
          0.555,
          0.56,
          0.565,
          0.581,
          0.668,
          0.781,
          0.79,
          1.001,
          1.014,
          1.059,
          1.183,
          1.228,
          1.27,
          1.324,
          1.507,
          1.512,
          1.603,
          1.714,
          1.863,
          1.919,
          1.978,
          2.054,
          2.354,
          2.531,
          2.718,
          2.993,
          3.215,
          3.258,
          3.274,
          3.285,
          4.179,
          4.276,
          4.298,
          4.33,
          4.453,
          4.673,
          5.161,
          5.241,
          5.696,
          5.996,
          6.551,
          8.16,
          8.382,
          9.543,
          11.143,
          11.156,
          11.825,
          12.657,
          13.807,
          15.583,
          16.364,
          16.501,
          18.723,
          18.788,
          21.659,
          24.444
         ],
         "xaxis": "x",
         "y": [
          9.118861118461071,
          9.118861118461071,
          9.118575919068121,
          9.11831109106038,
          9.118209234134326,
          9.118107377208274,
          9.118087005823062,
          9.117088807947734,
          9.116803608554784,
          9.116599894702677,
          9.11505166942666,
          9.114949812500605,
          9.113951614625279,
          9.11370715800275,
          9.113421958609798,
          9.112831188438687,
          9.112444132119682,
          9.112444132119682,
          9.11240338934926,
          9.11207744718589,
          9.11185336194857,
          9.11130333454788,
          9.111181106236616,
          9.110631078835924,
          9.110610707450714,
          9.110447736369029,
          9.110406993598607,
          9.110386622213396,
          9.109531024034544,
          9.109368052952858,
          9.108410597847952,
          9.108247626766266,
          9.107840199062052,
          9.1075549996691,
          9.107453142743047,
          9.107351285816993,
          9.107025343653621,
          9.105253033140285,
          9.10295106661147,
          9.102767724144572,
          9.098469361865103,
          9.098204533857363,
          9.09728782152288,
          9.094761769756746,
          9.09384505742226,
          9.092989459243409,
          9.091889404442028,
          9.08816144094846,
          9.088059584022405,
          9.086205787968227,
          9.083944564209833,
          9.08090922781343,
          9.079768430241627,
          9.078566518514192,
          9.077018293238176,
          9.070906877674949,
          9.067301142492644,
          9.063491693458232,
          9.057889562525274,
          9.053367115008486,
          9.052491145444423,
          9.052165203281051,
          9.051941118043732,
          9.033729099665315,
          9.031753075299871,
          9.031304904825236,
          9.030653020498491,
          9.028147340117568,
          9.0236656353712,
          9.013724399388352,
          9.01209468857149,
          9.002825708300596,
          8.99671429273737,
          8.985408173945398,
          8.95263061514129,
          8.9481081676245,
          8.924456989394812,
          8.8918627730576,
          8.89159794504986,
          8.877969488343863,
          8.861020495848512,
          8.837593402856141,
          8.801413822721836,
          8.785503770872234,
          8.782712891098361,
          8.737447673160057,
          8.736123533121358,
          8.677637286181273,
          8.620902978369314
         ],
         "yaxis": "y"
        }
       ],
       "layout": {
        "legend": {
         "tracegroupgap": 0
        },
        "margin": {
         "t": 60
        },
        "template": {
         "data": {
          "bar": [
           {
            "error_x": {
             "color": "#2a3f5f"
            },
            "error_y": {
             "color": "#2a3f5f"
            },
            "marker": {
             "line": {
              "color": "#E5ECF6",
              "width": 0.5
             },
             "pattern": {
              "fillmode": "overlay",
              "size": 10,
              "solidity": 0.2
             }
            },
            "type": "bar"
           }
          ],
          "barpolar": [
           {
            "marker": {
             "line": {
              "color": "#E5ECF6",
              "width": 0.5
             },
             "pattern": {
              "fillmode": "overlay",
              "size": 10,
              "solidity": 0.2
             }
            },
            "type": "barpolar"
           }
          ],
          "carpet": [
           {
            "aaxis": {
             "endlinecolor": "#2a3f5f",
             "gridcolor": "white",
             "linecolor": "white",
             "minorgridcolor": "white",
             "startlinecolor": "#2a3f5f"
            },
            "baxis": {
             "endlinecolor": "#2a3f5f",
             "gridcolor": "white",
             "linecolor": "white",
             "minorgridcolor": "white",
             "startlinecolor": "#2a3f5f"
            },
            "type": "carpet"
           }
          ],
          "choropleth": [
           {
            "colorbar": {
             "outlinewidth": 0,
             "ticks": ""
            },
            "type": "choropleth"
           }
          ],
          "contour": [
           {
            "colorbar": {
             "outlinewidth": 0,
             "ticks": ""
            },
            "colorscale": [
             [
              0,
              "#0d0887"
             ],
             [
              0.1111111111111111,
              "#46039f"
             ],
             [
              0.2222222222222222,
              "#7201a8"
             ],
             [
              0.3333333333333333,
              "#9c179e"
             ],
             [
              0.4444444444444444,
              "#bd3786"
             ],
             [
              0.5555555555555556,
              "#d8576b"
             ],
             [
              0.6666666666666666,
              "#ed7953"
             ],
             [
              0.7777777777777778,
              "#fb9f3a"
             ],
             [
              0.8888888888888888,
              "#fdca26"
             ],
             [
              1,
              "#f0f921"
             ]
            ],
            "type": "contour"
           }
          ],
          "contourcarpet": [
           {
            "colorbar": {
             "outlinewidth": 0,
             "ticks": ""
            },
            "type": "contourcarpet"
           }
          ],
          "heatmap": [
           {
            "colorbar": {
             "outlinewidth": 0,
             "ticks": ""
            },
            "colorscale": [
             [
              0,
              "#0d0887"
             ],
             [
              0.1111111111111111,
              "#46039f"
             ],
             [
              0.2222222222222222,
              "#7201a8"
             ],
             [
              0.3333333333333333,
              "#9c179e"
             ],
             [
              0.4444444444444444,
              "#bd3786"
             ],
             [
              0.5555555555555556,
              "#d8576b"
             ],
             [
              0.6666666666666666,
              "#ed7953"
             ],
             [
              0.7777777777777778,
              "#fb9f3a"
             ],
             [
              0.8888888888888888,
              "#fdca26"
             ],
             [
              1,
              "#f0f921"
             ]
            ],
            "type": "heatmap"
           }
          ],
          "heatmapgl": [
           {
            "colorbar": {
             "outlinewidth": 0,
             "ticks": ""
            },
            "colorscale": [
             [
              0,
              "#0d0887"
             ],
             [
              0.1111111111111111,
              "#46039f"
             ],
             [
              0.2222222222222222,
              "#7201a8"
             ],
             [
              0.3333333333333333,
              "#9c179e"
             ],
             [
              0.4444444444444444,
              "#bd3786"
             ],
             [
              0.5555555555555556,
              "#d8576b"
             ],
             [
              0.6666666666666666,
              "#ed7953"
             ],
             [
              0.7777777777777778,
              "#fb9f3a"
             ],
             [
              0.8888888888888888,
              "#fdca26"
             ],
             [
              1,
              "#f0f921"
             ]
            ],
            "type": "heatmapgl"
           }
          ],
          "histogram": [
           {
            "marker": {
             "pattern": {
              "fillmode": "overlay",
              "size": 10,
              "solidity": 0.2
             }
            },
            "type": "histogram"
           }
          ],
          "histogram2d": [
           {
            "colorbar": {
             "outlinewidth": 0,
             "ticks": ""
            },
            "colorscale": [
             [
              0,
              "#0d0887"
             ],
             [
              0.1111111111111111,
              "#46039f"
             ],
             [
              0.2222222222222222,
              "#7201a8"
             ],
             [
              0.3333333333333333,
              "#9c179e"
             ],
             [
              0.4444444444444444,
              "#bd3786"
             ],
             [
              0.5555555555555556,
              "#d8576b"
             ],
             [
              0.6666666666666666,
              "#ed7953"
             ],
             [
              0.7777777777777778,
              "#fb9f3a"
             ],
             [
              0.8888888888888888,
              "#fdca26"
             ],
             [
              1,
              "#f0f921"
             ]
            ],
            "type": "histogram2d"
           }
          ],
          "histogram2dcontour": [
           {
            "colorbar": {
             "outlinewidth": 0,
             "ticks": ""
            },
            "colorscale": [
             [
              0,
              "#0d0887"
             ],
             [
              0.1111111111111111,
              "#46039f"
             ],
             [
              0.2222222222222222,
              "#7201a8"
             ],
             [
              0.3333333333333333,
              "#9c179e"
             ],
             [
              0.4444444444444444,
              "#bd3786"
             ],
             [
              0.5555555555555556,
              "#d8576b"
             ],
             [
              0.6666666666666666,
              "#ed7953"
             ],
             [
              0.7777777777777778,
              "#fb9f3a"
             ],
             [
              0.8888888888888888,
              "#fdca26"
             ],
             [
              1,
              "#f0f921"
             ]
            ],
            "type": "histogram2dcontour"
           }
          ],
          "mesh3d": [
           {
            "colorbar": {
             "outlinewidth": 0,
             "ticks": ""
            },
            "type": "mesh3d"
           }
          ],
          "parcoords": [
           {
            "line": {
             "colorbar": {
              "outlinewidth": 0,
              "ticks": ""
             }
            },
            "type": "parcoords"
           }
          ],
          "pie": [
           {
            "automargin": true,
            "type": "pie"
           }
          ],
          "scatter": [
           {
            "fillpattern": {
             "fillmode": "overlay",
             "size": 10,
             "solidity": 0.2
            },
            "type": "scatter"
           }
          ],
          "scatter3d": [
           {
            "line": {
             "colorbar": {
              "outlinewidth": 0,
              "ticks": ""
             }
            },
            "marker": {
             "colorbar": {
              "outlinewidth": 0,
              "ticks": ""
             }
            },
            "type": "scatter3d"
           }
          ],
          "scattercarpet": [
           {
            "marker": {
             "colorbar": {
              "outlinewidth": 0,
              "ticks": ""
             }
            },
            "type": "scattercarpet"
           }
          ],
          "scattergeo": [
           {
            "marker": {
             "colorbar": {
              "outlinewidth": 0,
              "ticks": ""
             }
            },
            "type": "scattergeo"
           }
          ],
          "scattergl": [
           {
            "marker": {
             "colorbar": {
              "outlinewidth": 0,
              "ticks": ""
             }
            },
            "type": "scattergl"
           }
          ],
          "scattermapbox": [
           {
            "marker": {
             "colorbar": {
              "outlinewidth": 0,
              "ticks": ""
             }
            },
            "type": "scattermapbox"
           }
          ],
          "scatterpolar": [
           {
            "marker": {
             "colorbar": {
              "outlinewidth": 0,
              "ticks": ""
             }
            },
            "type": "scatterpolar"
           }
          ],
          "scatterpolargl": [
           {
            "marker": {
             "colorbar": {
              "outlinewidth": 0,
              "ticks": ""
             }
            },
            "type": "scatterpolargl"
           }
          ],
          "scatterternary": [
           {
            "marker": {
             "colorbar": {
              "outlinewidth": 0,
              "ticks": ""
             }
            },
            "type": "scatterternary"
           }
          ],
          "surface": [
           {
            "colorbar": {
             "outlinewidth": 0,
             "ticks": ""
            },
            "colorscale": [
             [
              0,
              "#0d0887"
             ],
             [
              0.1111111111111111,
              "#46039f"
             ],
             [
              0.2222222222222222,
              "#7201a8"
             ],
             [
              0.3333333333333333,
              "#9c179e"
             ],
             [
              0.4444444444444444,
              "#bd3786"
             ],
             [
              0.5555555555555556,
              "#d8576b"
             ],
             [
              0.6666666666666666,
              "#ed7953"
             ],
             [
              0.7777777777777778,
              "#fb9f3a"
             ],
             [
              0.8888888888888888,
              "#fdca26"
             ],
             [
              1,
              "#f0f921"
             ]
            ],
            "type": "surface"
           }
          ],
          "table": [
           {
            "cells": {
             "fill": {
              "color": "#EBF0F8"
             },
             "line": {
              "color": "white"
             }
            },
            "header": {
             "fill": {
              "color": "#C8D4E3"
             },
             "line": {
              "color": "white"
             }
            },
            "type": "table"
           }
          ]
         },
         "layout": {
          "annotationdefaults": {
           "arrowcolor": "#2a3f5f",
           "arrowhead": 0,
           "arrowwidth": 1
          },
          "autotypenumbers": "strict",
          "coloraxis": {
           "colorbar": {
            "outlinewidth": 0,
            "ticks": ""
           }
          },
          "colorscale": {
           "diverging": [
            [
             0,
             "#8e0152"
            ],
            [
             0.1,
             "#c51b7d"
            ],
            [
             0.2,
             "#de77ae"
            ],
            [
             0.3,
             "#f1b6da"
            ],
            [
             0.4,
             "#fde0ef"
            ],
            [
             0.5,
             "#f7f7f7"
            ],
            [
             0.6,
             "#e6f5d0"
            ],
            [
             0.7,
             "#b8e186"
            ],
            [
             0.8,
             "#7fbc41"
            ],
            [
             0.9,
             "#4d9221"
            ],
            [
             1,
             "#276419"
            ]
           ],
           "sequential": [
            [
             0,
             "#0d0887"
            ],
            [
             0.1111111111111111,
             "#46039f"
            ],
            [
             0.2222222222222222,
             "#7201a8"
            ],
            [
             0.3333333333333333,
             "#9c179e"
            ],
            [
             0.4444444444444444,
             "#bd3786"
            ],
            [
             0.5555555555555556,
             "#d8576b"
            ],
            [
             0.6666666666666666,
             "#ed7953"
            ],
            [
             0.7777777777777778,
             "#fb9f3a"
            ],
            [
             0.8888888888888888,
             "#fdca26"
            ],
            [
             1,
             "#f0f921"
            ]
           ],
           "sequentialminus": [
            [
             0,
             "#0d0887"
            ],
            [
             0.1111111111111111,
             "#46039f"
            ],
            [
             0.2222222222222222,
             "#7201a8"
            ],
            [
             0.3333333333333333,
             "#9c179e"
            ],
            [
             0.4444444444444444,
             "#bd3786"
            ],
            [
             0.5555555555555556,
             "#d8576b"
            ],
            [
             0.6666666666666666,
             "#ed7953"
            ],
            [
             0.7777777777777778,
             "#fb9f3a"
            ],
            [
             0.8888888888888888,
             "#fdca26"
            ],
            [
             1,
             "#f0f921"
            ]
           ]
          },
          "colorway": [
           "#636efa",
           "#EF553B",
           "#00cc96",
           "#ab63fa",
           "#FFA15A",
           "#19d3f3",
           "#FF6692",
           "#B6E880",
           "#FF97FF",
           "#FECB52"
          ],
          "font": {
           "color": "#2a3f5f"
          },
          "geo": {
           "bgcolor": "white",
           "lakecolor": "white",
           "landcolor": "#E5ECF6",
           "showlakes": true,
           "showland": true,
           "subunitcolor": "white"
          },
          "hoverlabel": {
           "align": "left"
          },
          "hovermode": "closest",
          "mapbox": {
           "style": "light"
          },
          "paper_bgcolor": "white",
          "plot_bgcolor": "#E5ECF6",
          "polar": {
           "angularaxis": {
            "gridcolor": "white",
            "linecolor": "white",
            "ticks": ""
           },
           "bgcolor": "#E5ECF6",
           "radialaxis": {
            "gridcolor": "white",
            "linecolor": "white",
            "ticks": ""
           }
          },
          "scene": {
           "xaxis": {
            "backgroundcolor": "#E5ECF6",
            "gridcolor": "white",
            "gridwidth": 2,
            "linecolor": "white",
            "showbackground": true,
            "ticks": "",
            "zerolinecolor": "white"
           },
           "yaxis": {
            "backgroundcolor": "#E5ECF6",
            "gridcolor": "white",
            "gridwidth": 2,
            "linecolor": "white",
            "showbackground": true,
            "ticks": "",
            "zerolinecolor": "white"
           },
           "zaxis": {
            "backgroundcolor": "#E5ECF6",
            "gridcolor": "white",
            "gridwidth": 2,
            "linecolor": "white",
            "showbackground": true,
            "ticks": "",
            "zerolinecolor": "white"
           }
          },
          "shapedefaults": {
           "line": {
            "color": "#2a3f5f"
           }
          },
          "ternary": {
           "aaxis": {
            "gridcolor": "white",
            "linecolor": "white",
            "ticks": ""
           },
           "baxis": {
            "gridcolor": "white",
            "linecolor": "white",
            "ticks": ""
           },
           "bgcolor": "#E5ECF6",
           "caxis": {
            "gridcolor": "white",
            "linecolor": "white",
            "ticks": ""
           }
          },
          "title": {
           "x": 0.05
          },
          "xaxis": {
           "automargin": true,
           "gridcolor": "white",
           "linecolor": "white",
           "ticks": "",
           "title": {
            "standoff": 15
           },
           "zerolinecolor": "white",
           "zerolinewidth": 2
          },
          "yaxis": {
           "automargin": true,
           "gridcolor": "white",
           "linecolor": "white",
           "ticks": "",
           "title": {
            "standoff": 15
           },
           "zerolinecolor": "white",
           "zerolinewidth": 2
          }
         }
        },
        "xaxis": {
         "anchor": "y",
         "domain": [
          0,
          1
         ],
         "title": {
          "text": "Beds for mental health in general hospitals per 100 000 people"
         }
        },
        "yaxis": {
         "anchor": "x",
         "domain": [
          0,
          1
         ],
         "title": {
          "text": "Suicide rate"
         }
        }
       }
      }
     },
     "metadata": {},
     "output_type": "display_data"
    }
   ],
   "source": [
    "fig = px.scatter(df2016[df2016[\"general_h_beds_per_100k\"] < 25], x=\"general_h_beds_per_100k\", y=\"suicide_rate\", trendline=\"ols\")\n",
    "fig.update_xaxes(title_text=\"Beds for mental health in general hospitals per 100 000 people\"); fig.update_yaxes(title_text=\"Suicide rate\")\n",
    "fig.show()"
   ]
  },
  {
   "attachments": {},
   "cell_type": "markdown",
   "metadata": {},
   "source": [
    "With beds in general hospitals, the trend you see very much depends on where you cut the data off, if you find one at all. Now let's complete the triad of bed statistics:"
   ]
  },
  {
   "cell_type": "code",
   "execution_count": 72,
   "metadata": {},
   "outputs": [
    {
     "data": {
      "application/vnd.plotly.v1+json": {
       "config": {
        "plotlyServerURL": "https://plot.ly"
       },
       "data": [
        {
         "hovertemplate": "sex=Male<br>comres_beds_per_100k=%{x}<br>suicide_rate=%{y}<extra></extra>",
         "legendgroup": "Male",
         "marker": {
          "color": "#636efa",
          "symbol": "circle"
         },
         "mode": "markers",
         "name": "Male",
         "orientation": "v",
         "showlegend": true,
         "type": "scatter",
         "x": [
          0.337,
          4.584,
          2.911,
          2.236,
          13.933,
          11.69,
          1.967,
          2.874,
          10.055,
          0,
          1.872,
          0.145,
          14.78,
          0.234,
          5.178,
          4.85,
          0.444,
          0.103,
          0.255,
          0.495,
          2.989,
          0.172,
          2.045,
          6.344,
          0.874,
          0.573,
          0.634,
          0.908,
          6.431,
          0.27,
          1.934,
          0.957,
          4.645,
          0.279,
          0.513
         ],
         "xaxis": "x",
         "y": [
          14,
          7,
          4.3,
          5.5,
          13.1,
          9.9,
          9.7,
          6.2,
          16,
          32,
          12.8,
          15.8,
          6.1,
          4.4,
          18.5,
          29.6,
          13.8,
          10.5,
          8.2,
          19.4,
          3,
          7.6,
          5.2,
          14.3,
          12.3,
          7.3,
          4.6,
          20.3,
          11.1,
          22.7,
          9,
          11.3,
          8.7,
          17.5,
          29.1
         ],
         "yaxis": "y"
        },
        {
         "hovertemplate": "<b>OLS trendline</b><br>suicide_rate = -0.221615 * comres_beds_per_100k + 13.2814<br>R<sup>2</sup>=0.014157<br><br>sex=Male<br>comres_beds_per_100k=%{x}<br>suicide_rate=%{y} <b>(trend)</b><extra></extra>",
         "legendgroup": "Male",
         "marker": {
          "color": "#636efa",
          "symbol": "circle"
         },
         "mode": "lines",
         "name": "Male",
         "showlegend": false,
         "type": "scatter",
         "x": [
          0,
          0.103,
          0.145,
          0.172,
          0.234,
          0.255,
          0.27,
          0.279,
          0.337,
          0.444,
          0.495,
          0.513,
          0.573,
          0.634,
          0.874,
          0.908,
          0.957,
          1.872,
          1.934,
          1.967,
          2.045,
          2.236,
          2.874,
          2.911,
          2.989,
          4.584,
          4.645,
          4.85,
          5.178,
          6.344,
          6.431,
          10.055,
          11.69,
          13.933,
          14.78
         ],
         "xaxis": "x",
         "y": [
          13.28136048055554,
          13.258534181540668,
          13.249226370291886,
          13.24324277734624,
          13.229502675026607,
          13.224848769402216,
          13.22152455109908,
          13.219530020117197,
          13.206676376011735,
          13.182963618782695,
          13.17166127655203,
          13.167672214588267,
          13.15437534137572,
          13.14085685360963,
          13.087669360759444,
          13.080134465939,
          13.06927535281542,
          12.866498036324085,
          12.852757934004455,
          12.845444653737554,
          12.828158718561243,
          12.785830338834636,
          12.644440253674558,
          12.636240515193487,
          12.618954580017178,
          12.26547936711698,
          12.251960879350891,
          12.20652989587469,
          12.13384032231277,
          11.87543775288228,
          11.856157286724088,
          11.053026144686273,
          10.690686349644379,
          10.193604906048678,
          10.00589737919823
         ],
         "yaxis": "y"
        },
        {
         "hovertemplate": "sex=Female<br>comres_beds_per_100k=%{x}<br>suicide_rate=%{y}<extra></extra>",
         "legendgroup": "Female",
         "marker": {
          "color": "#EF553B",
          "symbol": "circle"
         },
         "mode": "markers",
         "name": "Female",
         "orientation": "v",
         "showlegend": true,
         "type": "scatter",
         "x": [
          0.337,
          4.584,
          2.911,
          2.236,
          13.933,
          11.69,
          1.967,
          2.874,
          10.055,
          0,
          1.872,
          0.145,
          14.78,
          0.234,
          5.178,
          4.85,
          0.444,
          0.103,
          0.255,
          0.495,
          2.989,
          0.172,
          2.045,
          6.344,
          0.874,
          0.573,
          0.634,
          0.908,
          6.431,
          0.27,
          1.934,
          0.957,
          4.645,
          0.279,
          0.513
         ],
         "xaxis": "x",
         "y": [
          4.6,
          4.3,
          1,
          6.7,
          3.2,
          2,
          2.8,
          2.8,
          3.8,
          13,
          2.3,
          2.9,
          1.5,
          1.7,
          14.5,
          11.6,
          13,
          3.6,
          2.3,
          4.9,
          3.1,
          2.7,
          2.3,
          3.8,
          6.2,
          1.1,
          1.7,
          5.2,
          4.9,
          10.9,
          3.7,
          3.2,
          2.2,
          6.2,
          11.1
         ],
         "yaxis": "y"
        },
        {
         "hovertemplate": "<b>OLS trendline</b><br>suicide_rate = -0.167328 * comres_beds_per_100k + 5.39877<br>R<sup>2</sup>=0.031444<br><br>sex=Female<br>comres_beds_per_100k=%{x}<br>suicide_rate=%{y} <b>(trend)</b><extra></extra>",
         "legendgroup": "Female",
         "marker": {
          "color": "#EF553B",
          "symbol": "circle"
         },
         "mode": "lines",
         "name": "Female",
         "showlegend": false,
         "type": "scatter",
         "x": [
          0,
          0.103,
          0.145,
          0.172,
          0.234,
          0.255,
          0.27,
          0.279,
          0.337,
          0.444,
          0.495,
          0.513,
          0.573,
          0.634,
          0.874,
          0.908,
          0.957,
          1.872,
          1.934,
          1.967,
          2.045,
          2.236,
          2.874,
          2.911,
          2.989,
          4.584,
          4.645,
          4.85,
          5.178,
          6.344,
          6.431,
          10.055,
          11.69,
          13.933,
          14.78
         ],
         "xaxis": "x",
         "y": [
          5.398769381936307,
          5.381534598164336,
          5.3745068222573185,
          5.369988966317092,
          5.359614630454352,
          5.356100742500844,
          5.353590822534052,
          5.352084870553977,
          5.342379846682381,
          5.324475750919265,
          5.315942023032172,
          5.312930119072022,
          5.302890439204854,
          5.2926834313399,
          5.252524711871229,
          5.246835559946501,
          5.23863648805498,
          5.085531370080671,
          5.075157034217931,
          5.069635210290989,
          5.05658362646367,
          5.0246239788865195,
          4.917868716298968,
          4.911677580380881,
          4.898625996553563,
          4.631737840084686,
          4.621530832219731,
          4.587228592673575,
          4.532345009399724,
          4.337240563981096,
          4.322683028173702,
          3.7162863641967654,
          3.4427050878164422,
          3.0673883887821516,
          2.9256615746572994
         ],
         "yaxis": "y"
        }
       ],
       "layout": {
        "legend": {
         "title": {
          "text": "Sex"
         },
         "tracegroupgap": 0
        },
        "margin": {
         "t": 60
        },
        "template": {
         "data": {
          "bar": [
           {
            "error_x": {
             "color": "#2a3f5f"
            },
            "error_y": {
             "color": "#2a3f5f"
            },
            "marker": {
             "line": {
              "color": "#E5ECF6",
              "width": 0.5
             },
             "pattern": {
              "fillmode": "overlay",
              "size": 10,
              "solidity": 0.2
             }
            },
            "type": "bar"
           }
          ],
          "barpolar": [
           {
            "marker": {
             "line": {
              "color": "#E5ECF6",
              "width": 0.5
             },
             "pattern": {
              "fillmode": "overlay",
              "size": 10,
              "solidity": 0.2
             }
            },
            "type": "barpolar"
           }
          ],
          "carpet": [
           {
            "aaxis": {
             "endlinecolor": "#2a3f5f",
             "gridcolor": "white",
             "linecolor": "white",
             "minorgridcolor": "white",
             "startlinecolor": "#2a3f5f"
            },
            "baxis": {
             "endlinecolor": "#2a3f5f",
             "gridcolor": "white",
             "linecolor": "white",
             "minorgridcolor": "white",
             "startlinecolor": "#2a3f5f"
            },
            "type": "carpet"
           }
          ],
          "choropleth": [
           {
            "colorbar": {
             "outlinewidth": 0,
             "ticks": ""
            },
            "type": "choropleth"
           }
          ],
          "contour": [
           {
            "colorbar": {
             "outlinewidth": 0,
             "ticks": ""
            },
            "colorscale": [
             [
              0,
              "#0d0887"
             ],
             [
              0.1111111111111111,
              "#46039f"
             ],
             [
              0.2222222222222222,
              "#7201a8"
             ],
             [
              0.3333333333333333,
              "#9c179e"
             ],
             [
              0.4444444444444444,
              "#bd3786"
             ],
             [
              0.5555555555555556,
              "#d8576b"
             ],
             [
              0.6666666666666666,
              "#ed7953"
             ],
             [
              0.7777777777777778,
              "#fb9f3a"
             ],
             [
              0.8888888888888888,
              "#fdca26"
             ],
             [
              1,
              "#f0f921"
             ]
            ],
            "type": "contour"
           }
          ],
          "contourcarpet": [
           {
            "colorbar": {
             "outlinewidth": 0,
             "ticks": ""
            },
            "type": "contourcarpet"
           }
          ],
          "heatmap": [
           {
            "colorbar": {
             "outlinewidth": 0,
             "ticks": ""
            },
            "colorscale": [
             [
              0,
              "#0d0887"
             ],
             [
              0.1111111111111111,
              "#46039f"
             ],
             [
              0.2222222222222222,
              "#7201a8"
             ],
             [
              0.3333333333333333,
              "#9c179e"
             ],
             [
              0.4444444444444444,
              "#bd3786"
             ],
             [
              0.5555555555555556,
              "#d8576b"
             ],
             [
              0.6666666666666666,
              "#ed7953"
             ],
             [
              0.7777777777777778,
              "#fb9f3a"
             ],
             [
              0.8888888888888888,
              "#fdca26"
             ],
             [
              1,
              "#f0f921"
             ]
            ],
            "type": "heatmap"
           }
          ],
          "heatmapgl": [
           {
            "colorbar": {
             "outlinewidth": 0,
             "ticks": ""
            },
            "colorscale": [
             [
              0,
              "#0d0887"
             ],
             [
              0.1111111111111111,
              "#46039f"
             ],
             [
              0.2222222222222222,
              "#7201a8"
             ],
             [
              0.3333333333333333,
              "#9c179e"
             ],
             [
              0.4444444444444444,
              "#bd3786"
             ],
             [
              0.5555555555555556,
              "#d8576b"
             ],
             [
              0.6666666666666666,
              "#ed7953"
             ],
             [
              0.7777777777777778,
              "#fb9f3a"
             ],
             [
              0.8888888888888888,
              "#fdca26"
             ],
             [
              1,
              "#f0f921"
             ]
            ],
            "type": "heatmapgl"
           }
          ],
          "histogram": [
           {
            "marker": {
             "pattern": {
              "fillmode": "overlay",
              "size": 10,
              "solidity": 0.2
             }
            },
            "type": "histogram"
           }
          ],
          "histogram2d": [
           {
            "colorbar": {
             "outlinewidth": 0,
             "ticks": ""
            },
            "colorscale": [
             [
              0,
              "#0d0887"
             ],
             [
              0.1111111111111111,
              "#46039f"
             ],
             [
              0.2222222222222222,
              "#7201a8"
             ],
             [
              0.3333333333333333,
              "#9c179e"
             ],
             [
              0.4444444444444444,
              "#bd3786"
             ],
             [
              0.5555555555555556,
              "#d8576b"
             ],
             [
              0.6666666666666666,
              "#ed7953"
             ],
             [
              0.7777777777777778,
              "#fb9f3a"
             ],
             [
              0.8888888888888888,
              "#fdca26"
             ],
             [
              1,
              "#f0f921"
             ]
            ],
            "type": "histogram2d"
           }
          ],
          "histogram2dcontour": [
           {
            "colorbar": {
             "outlinewidth": 0,
             "ticks": ""
            },
            "colorscale": [
             [
              0,
              "#0d0887"
             ],
             [
              0.1111111111111111,
              "#46039f"
             ],
             [
              0.2222222222222222,
              "#7201a8"
             ],
             [
              0.3333333333333333,
              "#9c179e"
             ],
             [
              0.4444444444444444,
              "#bd3786"
             ],
             [
              0.5555555555555556,
              "#d8576b"
             ],
             [
              0.6666666666666666,
              "#ed7953"
             ],
             [
              0.7777777777777778,
              "#fb9f3a"
             ],
             [
              0.8888888888888888,
              "#fdca26"
             ],
             [
              1,
              "#f0f921"
             ]
            ],
            "type": "histogram2dcontour"
           }
          ],
          "mesh3d": [
           {
            "colorbar": {
             "outlinewidth": 0,
             "ticks": ""
            },
            "type": "mesh3d"
           }
          ],
          "parcoords": [
           {
            "line": {
             "colorbar": {
              "outlinewidth": 0,
              "ticks": ""
             }
            },
            "type": "parcoords"
           }
          ],
          "pie": [
           {
            "automargin": true,
            "type": "pie"
           }
          ],
          "scatter": [
           {
            "fillpattern": {
             "fillmode": "overlay",
             "size": 10,
             "solidity": 0.2
            },
            "type": "scatter"
           }
          ],
          "scatter3d": [
           {
            "line": {
             "colorbar": {
              "outlinewidth": 0,
              "ticks": ""
             }
            },
            "marker": {
             "colorbar": {
              "outlinewidth": 0,
              "ticks": ""
             }
            },
            "type": "scatter3d"
           }
          ],
          "scattercarpet": [
           {
            "marker": {
             "colorbar": {
              "outlinewidth": 0,
              "ticks": ""
             }
            },
            "type": "scattercarpet"
           }
          ],
          "scattergeo": [
           {
            "marker": {
             "colorbar": {
              "outlinewidth": 0,
              "ticks": ""
             }
            },
            "type": "scattergeo"
           }
          ],
          "scattergl": [
           {
            "marker": {
             "colorbar": {
              "outlinewidth": 0,
              "ticks": ""
             }
            },
            "type": "scattergl"
           }
          ],
          "scattermapbox": [
           {
            "marker": {
             "colorbar": {
              "outlinewidth": 0,
              "ticks": ""
             }
            },
            "type": "scattermapbox"
           }
          ],
          "scatterpolar": [
           {
            "marker": {
             "colorbar": {
              "outlinewidth": 0,
              "ticks": ""
             }
            },
            "type": "scatterpolar"
           }
          ],
          "scatterpolargl": [
           {
            "marker": {
             "colorbar": {
              "outlinewidth": 0,
              "ticks": ""
             }
            },
            "type": "scatterpolargl"
           }
          ],
          "scatterternary": [
           {
            "marker": {
             "colorbar": {
              "outlinewidth": 0,
              "ticks": ""
             }
            },
            "type": "scatterternary"
           }
          ],
          "surface": [
           {
            "colorbar": {
             "outlinewidth": 0,
             "ticks": ""
            },
            "colorscale": [
             [
              0,
              "#0d0887"
             ],
             [
              0.1111111111111111,
              "#46039f"
             ],
             [
              0.2222222222222222,
              "#7201a8"
             ],
             [
              0.3333333333333333,
              "#9c179e"
             ],
             [
              0.4444444444444444,
              "#bd3786"
             ],
             [
              0.5555555555555556,
              "#d8576b"
             ],
             [
              0.6666666666666666,
              "#ed7953"
             ],
             [
              0.7777777777777778,
              "#fb9f3a"
             ],
             [
              0.8888888888888888,
              "#fdca26"
             ],
             [
              1,
              "#f0f921"
             ]
            ],
            "type": "surface"
           }
          ],
          "table": [
           {
            "cells": {
             "fill": {
              "color": "#EBF0F8"
             },
             "line": {
              "color": "white"
             }
            },
            "header": {
             "fill": {
              "color": "#C8D4E3"
             },
             "line": {
              "color": "white"
             }
            },
            "type": "table"
           }
          ]
         },
         "layout": {
          "annotationdefaults": {
           "arrowcolor": "#2a3f5f",
           "arrowhead": 0,
           "arrowwidth": 1
          },
          "autotypenumbers": "strict",
          "coloraxis": {
           "colorbar": {
            "outlinewidth": 0,
            "ticks": ""
           }
          },
          "colorscale": {
           "diverging": [
            [
             0,
             "#8e0152"
            ],
            [
             0.1,
             "#c51b7d"
            ],
            [
             0.2,
             "#de77ae"
            ],
            [
             0.3,
             "#f1b6da"
            ],
            [
             0.4,
             "#fde0ef"
            ],
            [
             0.5,
             "#f7f7f7"
            ],
            [
             0.6,
             "#e6f5d0"
            ],
            [
             0.7,
             "#b8e186"
            ],
            [
             0.8,
             "#7fbc41"
            ],
            [
             0.9,
             "#4d9221"
            ],
            [
             1,
             "#276419"
            ]
           ],
           "sequential": [
            [
             0,
             "#0d0887"
            ],
            [
             0.1111111111111111,
             "#46039f"
            ],
            [
             0.2222222222222222,
             "#7201a8"
            ],
            [
             0.3333333333333333,
             "#9c179e"
            ],
            [
             0.4444444444444444,
             "#bd3786"
            ],
            [
             0.5555555555555556,
             "#d8576b"
            ],
            [
             0.6666666666666666,
             "#ed7953"
            ],
            [
             0.7777777777777778,
             "#fb9f3a"
            ],
            [
             0.8888888888888888,
             "#fdca26"
            ],
            [
             1,
             "#f0f921"
            ]
           ],
           "sequentialminus": [
            [
             0,
             "#0d0887"
            ],
            [
             0.1111111111111111,
             "#46039f"
            ],
            [
             0.2222222222222222,
             "#7201a8"
            ],
            [
             0.3333333333333333,
             "#9c179e"
            ],
            [
             0.4444444444444444,
             "#bd3786"
            ],
            [
             0.5555555555555556,
             "#d8576b"
            ],
            [
             0.6666666666666666,
             "#ed7953"
            ],
            [
             0.7777777777777778,
             "#fb9f3a"
            ],
            [
             0.8888888888888888,
             "#fdca26"
            ],
            [
             1,
             "#f0f921"
            ]
           ]
          },
          "colorway": [
           "#636efa",
           "#EF553B",
           "#00cc96",
           "#ab63fa",
           "#FFA15A",
           "#19d3f3",
           "#FF6692",
           "#B6E880",
           "#FF97FF",
           "#FECB52"
          ],
          "font": {
           "color": "#2a3f5f"
          },
          "geo": {
           "bgcolor": "white",
           "lakecolor": "white",
           "landcolor": "#E5ECF6",
           "showlakes": true,
           "showland": true,
           "subunitcolor": "white"
          },
          "hoverlabel": {
           "align": "left"
          },
          "hovermode": "closest",
          "mapbox": {
           "style": "light"
          },
          "paper_bgcolor": "white",
          "plot_bgcolor": "#E5ECF6",
          "polar": {
           "angularaxis": {
            "gridcolor": "white",
            "linecolor": "white",
            "ticks": ""
           },
           "bgcolor": "#E5ECF6",
           "radialaxis": {
            "gridcolor": "white",
            "linecolor": "white",
            "ticks": ""
           }
          },
          "scene": {
           "xaxis": {
            "backgroundcolor": "#E5ECF6",
            "gridcolor": "white",
            "gridwidth": 2,
            "linecolor": "white",
            "showbackground": true,
            "ticks": "",
            "zerolinecolor": "white"
           },
           "yaxis": {
            "backgroundcolor": "#E5ECF6",
            "gridcolor": "white",
            "gridwidth": 2,
            "linecolor": "white",
            "showbackground": true,
            "ticks": "",
            "zerolinecolor": "white"
           },
           "zaxis": {
            "backgroundcolor": "#E5ECF6",
            "gridcolor": "white",
            "gridwidth": 2,
            "linecolor": "white",
            "showbackground": true,
            "ticks": "",
            "zerolinecolor": "white"
           }
          },
          "shapedefaults": {
           "line": {
            "color": "#2a3f5f"
           }
          },
          "ternary": {
           "aaxis": {
            "gridcolor": "white",
            "linecolor": "white",
            "ticks": ""
           },
           "baxis": {
            "gridcolor": "white",
            "linecolor": "white",
            "ticks": ""
           },
           "bgcolor": "#E5ECF6",
           "caxis": {
            "gridcolor": "white",
            "linecolor": "white",
            "ticks": ""
           }
          },
          "title": {
           "x": 0.05
          },
          "xaxis": {
           "automargin": true,
           "gridcolor": "white",
           "linecolor": "white",
           "ticks": "",
           "title": {
            "standoff": 15
           },
           "zerolinecolor": "white",
           "zerolinewidth": 2
          },
          "yaxis": {
           "automargin": true,
           "gridcolor": "white",
           "linecolor": "white",
           "ticks": "",
           "title": {
            "standoff": 15
           },
           "zerolinecolor": "white",
           "zerolinewidth": 2
          }
         }
        },
        "xaxis": {
         "anchor": "y",
         "domain": [
          0,
          1
         ],
         "title": {
          "text": "Beds in community residental facilities per 100 000 people"
         }
        },
        "yaxis": {
         "anchor": "x",
         "domain": [
          0,
          1
         ],
         "title": {
          "text": "Suicide rate"
         }
        }
       }
      }
     },
     "metadata": {},
     "output_type": "display_data"
    }
   ],
   "source": [
    "fig = px.scatter(df2016g[df2016g[\"comres_beds_per_100k\"] < 15], x=\"comres_beds_per_100k\", y=\"suicide_rate\", trendline=\"ols\", color=\"sex\")\n",
    "fig.update_xaxes(title_text=\"Beds in community residental facilities per 100 000 people\"); fig.update_yaxes(title_text=\"Suicide rate\")\n",
    "fig.update_layout(legend_title_text=\"Sex\")\n",
    "fig.show()"
   ]
  },
  {
   "attachments": {},
   "cell_type": "markdown",
   "metadata": {},
   "source": [
    "A negative trend! I had to look up \"community residential facility\" and different areas can't seem to agree on what the exact definition is so I don't even know what this means, and it's another one where if you cut it off again you get a confusing shape, but hooray!\n",
    "\n",
    "To complete the Facilities category I've made up, we'll look at outpatient and day treatment facilities. It could be argued that these are similar enough to make a good combined statistic, but some years in countries have data on one and not the other."
   ]
  },
  {
   "cell_type": "code",
   "execution_count": 73,
   "metadata": {},
   "outputs": [
    {
     "data": {
      "application/vnd.plotly.v1+json": {
       "config": {
        "plotlyServerURL": "https://plot.ly"
       },
       "data": [
        {
         "hovertemplate": "outpatient_facilities_per_100k=%{x}<br>suicide_rate=%{y}<extra></extra>",
         "legendgroup": "",
         "marker": {
          "color": "#636efa",
          "symbol": "circle"
         },
         "mode": "markers",
         "name": "",
         "orientation": "v",
         "showlegend": false,
         "type": "scatter",
         "x": [
          0.006,
          0.41,
          0.524,
          1.72,
          1.371,
          0.156,
          0.055,
          0.307,
          0.116,
          2.227,
          0.009,
          1.491,
          2.634,
          3.556,
          0.839,
          0.017,
          0.02,
          0.292,
          1.706,
          2.932,
          1.748,
          0.048,
          0.242,
          0.031,
          0.227,
          3.363,
          0.052,
          0.683,
          2.378,
          0.056,
          1.346,
          1.434,
          0.26,
          3.093,
          0.131,
          0.176,
          3.83,
          3.028,
          0.513,
          0.068,
          1.159,
          1.134,
          1.789,
          0.622,
          3.922,
          0.371,
          0.126,
          0.073,
          0.067,
          0.768,
          0.316,
          0.082,
          1.685,
          1.308,
          0.112,
          2.3,
          2.696,
          0.166,
          0.211,
          3.207,
          0.701,
          1.416,
          0.344,
          0.911,
          0.404,
          0.507,
          0.04,
          0.217,
          0.729,
          0.008,
          0.511,
          2.134,
          2.263,
          0.007,
          0.04,
          1.302,
          0.164,
          0.94,
          0.19,
          0.942,
          0.049,
          0.373,
          0.084,
          0.009,
          2.645,
          0.063,
          0.11,
          0.205,
          0.057
         ],
         "xaxis": "x",
         "y": [
          6.4,
          5.6,
          2.7,
          9.1,
          5.7,
          2.6,
          6.1,
          7.9,
          21.4,
          5.9,
          12.9,
          6.1,
          4.5,
          11.6,
          9.7,
          23,
          9.3,
          7,
          7.5,
          10.1,
          10.5,
          3.3,
          7.2,
          4.4,
          13.8,
          5.5,
          9.6,
          6.7,
          8.7,
          7.4,
          3.8,
          2.9,
          30.2,
          11.5,
          12.2,
          16.5,
          10.9,
          13.3,
          3.7,
          5.6,
          9.1,
          5.9,
          20.2,
          13.4,
          25.7,
          3.1,
          5.2,
          8.1,
          13.3,
          8.4,
          6.2,
          11.5,
          9,
          10.1,
          9.6,
          3.1,
          4.4,
          5.1,
          3.7,
          13.4,
          8.6,
          9.3,
          5.8,
          8,
          11,
          3.4,
          11.8,
          7.9,
          13.5,
          6.1,
          3.1,
          8.3,
          2.4,
          15.5,
          16.6,
          12.9,
          3.3,
          4,
          7.2,
          20,
          18.5,
          13.7,
          7.4,
          7,
          5.4,
          9.8,
          12.8,
          11.3,
          19.1
         ],
         "yaxis": "y"
        },
        {
         "hovertemplate": "<b>OLS trendline</b><br>suicide_rate = 0.0455024 * outpatient_facilities_per_100k + 9.33981<br>R<sup>2</sup>=0.000080<br><br>outpatient_facilities_per_100k=%{x}<br>suicide_rate=%{y} <b>(trend)</b><extra></extra>",
         "legendgroup": "",
         "marker": {
          "color": "#636efa",
          "symbol": "circle"
         },
         "mode": "lines",
         "name": "",
         "showlegend": false,
         "type": "scatter",
         "x": [
          0.006,
          0.007,
          0.008,
          0.009,
          0.009,
          0.017,
          0.02,
          0.031,
          0.04,
          0.04,
          0.048,
          0.049,
          0.052,
          0.055,
          0.056,
          0.057,
          0.063,
          0.067,
          0.068,
          0.073,
          0.082,
          0.084,
          0.11,
          0.112,
          0.116,
          0.126,
          0.131,
          0.156,
          0.164,
          0.166,
          0.176,
          0.19,
          0.205,
          0.211,
          0.217,
          0.227,
          0.242,
          0.26,
          0.292,
          0.307,
          0.316,
          0.344,
          0.371,
          0.373,
          0.404,
          0.41,
          0.507,
          0.511,
          0.513,
          0.524,
          0.622,
          0.683,
          0.701,
          0.729,
          0.768,
          0.839,
          0.911,
          0.94,
          0.942,
          1.134,
          1.159,
          1.302,
          1.308,
          1.346,
          1.371,
          1.416,
          1.434,
          1.491,
          1.685,
          1.706,
          1.72,
          1.748,
          1.789,
          2.134,
          2.227,
          2.263,
          2.3,
          2.378,
          2.634,
          2.645,
          2.696,
          2.932,
          3.028,
          3.093,
          3.207,
          3.363,
          3.556,
          3.83,
          3.922
         ],
         "xaxis": "x",
         "y": [
          9.340078418352297,
          9.340123920799478,
          9.340169423246657,
          9.340214925693838,
          9.340214925693838,
          9.340578945271277,
          9.340715452612816,
          9.341215979531796,
          9.341625501556416,
          9.341625501556416,
          9.341989521133856,
          9.342035023581037,
          9.342171530922576,
          9.342308038264116,
          9.342353540711295,
          9.342399043158476,
          9.342672057841556,
          9.342854067630276,
          9.342899570077456,
          9.343127082313355,
          9.343536604337976,
          9.343627609232335,
          9.344810672859015,
          9.344901677753375,
          9.345083687542095,
          9.345538712013894,
          9.345766224249795,
          9.346903785429294,
          9.347267805006734,
          9.347358809901094,
          9.347813834372893,
          9.348450868633414,
          9.349133405341112,
          9.349406420024193,
          9.349679434707273,
          9.350134459179072,
          9.350816995886772,
          9.351636039936011,
          9.35309211824577,
          9.35377465495347,
          9.354184176978091,
          9.355458245499129,
          9.35668681157299,
          9.35677781646735,
          9.358188392329929,
          9.358461407013008,
          9.362875144389466,
          9.363057154178186,
          9.363148159072546,
          9.363648685991526,
          9.368107925815163,
          9.370883575093142,
          9.371702619142383,
          9.37297668766342,
          9.374751283103441,
          9.377981956853219,
          9.381258133050178,
          9.382577704018397,
          9.382668708912757,
          9.391405178771313,
          9.392542739950812,
          9.39904958989755,
          9.399322604580629,
          9.401051697573468,
          9.402189258752967,
          9.404236868876067,
          9.405055912925306,
          9.407649552414565,
          9.416477027167481,
          9.41743257855826,
          9.41806961281878,
          9.41934368133982,
          9.421209281674198,
          9.43690762595129,
          9.441139353539029,
          9.442777441637508,
          9.444461032183167,
          9.448010223063205,
          9.45965884954128,
          9.46015937646026,
          9.462480001266439,
          9.473218578800912,
          9.477586813730191,
          9.48054447279689,
          9.485731751775408,
          9.492830133535483,
          9.50161210584122,
          9.514079776368533,
          9.518266001509092
         ],
         "yaxis": "y"
        }
       ],
       "layout": {
        "legend": {
         "tracegroupgap": 0
        },
        "margin": {
         "t": 60
        },
        "template": {
         "data": {
          "bar": [
           {
            "error_x": {
             "color": "#2a3f5f"
            },
            "error_y": {
             "color": "#2a3f5f"
            },
            "marker": {
             "line": {
              "color": "#E5ECF6",
              "width": 0.5
             },
             "pattern": {
              "fillmode": "overlay",
              "size": 10,
              "solidity": 0.2
             }
            },
            "type": "bar"
           }
          ],
          "barpolar": [
           {
            "marker": {
             "line": {
              "color": "#E5ECF6",
              "width": 0.5
             },
             "pattern": {
              "fillmode": "overlay",
              "size": 10,
              "solidity": 0.2
             }
            },
            "type": "barpolar"
           }
          ],
          "carpet": [
           {
            "aaxis": {
             "endlinecolor": "#2a3f5f",
             "gridcolor": "white",
             "linecolor": "white",
             "minorgridcolor": "white",
             "startlinecolor": "#2a3f5f"
            },
            "baxis": {
             "endlinecolor": "#2a3f5f",
             "gridcolor": "white",
             "linecolor": "white",
             "minorgridcolor": "white",
             "startlinecolor": "#2a3f5f"
            },
            "type": "carpet"
           }
          ],
          "choropleth": [
           {
            "colorbar": {
             "outlinewidth": 0,
             "ticks": ""
            },
            "type": "choropleth"
           }
          ],
          "contour": [
           {
            "colorbar": {
             "outlinewidth": 0,
             "ticks": ""
            },
            "colorscale": [
             [
              0,
              "#0d0887"
             ],
             [
              0.1111111111111111,
              "#46039f"
             ],
             [
              0.2222222222222222,
              "#7201a8"
             ],
             [
              0.3333333333333333,
              "#9c179e"
             ],
             [
              0.4444444444444444,
              "#bd3786"
             ],
             [
              0.5555555555555556,
              "#d8576b"
             ],
             [
              0.6666666666666666,
              "#ed7953"
             ],
             [
              0.7777777777777778,
              "#fb9f3a"
             ],
             [
              0.8888888888888888,
              "#fdca26"
             ],
             [
              1,
              "#f0f921"
             ]
            ],
            "type": "contour"
           }
          ],
          "contourcarpet": [
           {
            "colorbar": {
             "outlinewidth": 0,
             "ticks": ""
            },
            "type": "contourcarpet"
           }
          ],
          "heatmap": [
           {
            "colorbar": {
             "outlinewidth": 0,
             "ticks": ""
            },
            "colorscale": [
             [
              0,
              "#0d0887"
             ],
             [
              0.1111111111111111,
              "#46039f"
             ],
             [
              0.2222222222222222,
              "#7201a8"
             ],
             [
              0.3333333333333333,
              "#9c179e"
             ],
             [
              0.4444444444444444,
              "#bd3786"
             ],
             [
              0.5555555555555556,
              "#d8576b"
             ],
             [
              0.6666666666666666,
              "#ed7953"
             ],
             [
              0.7777777777777778,
              "#fb9f3a"
             ],
             [
              0.8888888888888888,
              "#fdca26"
             ],
             [
              1,
              "#f0f921"
             ]
            ],
            "type": "heatmap"
           }
          ],
          "heatmapgl": [
           {
            "colorbar": {
             "outlinewidth": 0,
             "ticks": ""
            },
            "colorscale": [
             [
              0,
              "#0d0887"
             ],
             [
              0.1111111111111111,
              "#46039f"
             ],
             [
              0.2222222222222222,
              "#7201a8"
             ],
             [
              0.3333333333333333,
              "#9c179e"
             ],
             [
              0.4444444444444444,
              "#bd3786"
             ],
             [
              0.5555555555555556,
              "#d8576b"
             ],
             [
              0.6666666666666666,
              "#ed7953"
             ],
             [
              0.7777777777777778,
              "#fb9f3a"
             ],
             [
              0.8888888888888888,
              "#fdca26"
             ],
             [
              1,
              "#f0f921"
             ]
            ],
            "type": "heatmapgl"
           }
          ],
          "histogram": [
           {
            "marker": {
             "pattern": {
              "fillmode": "overlay",
              "size": 10,
              "solidity": 0.2
             }
            },
            "type": "histogram"
           }
          ],
          "histogram2d": [
           {
            "colorbar": {
             "outlinewidth": 0,
             "ticks": ""
            },
            "colorscale": [
             [
              0,
              "#0d0887"
             ],
             [
              0.1111111111111111,
              "#46039f"
             ],
             [
              0.2222222222222222,
              "#7201a8"
             ],
             [
              0.3333333333333333,
              "#9c179e"
             ],
             [
              0.4444444444444444,
              "#bd3786"
             ],
             [
              0.5555555555555556,
              "#d8576b"
             ],
             [
              0.6666666666666666,
              "#ed7953"
             ],
             [
              0.7777777777777778,
              "#fb9f3a"
             ],
             [
              0.8888888888888888,
              "#fdca26"
             ],
             [
              1,
              "#f0f921"
             ]
            ],
            "type": "histogram2d"
           }
          ],
          "histogram2dcontour": [
           {
            "colorbar": {
             "outlinewidth": 0,
             "ticks": ""
            },
            "colorscale": [
             [
              0,
              "#0d0887"
             ],
             [
              0.1111111111111111,
              "#46039f"
             ],
             [
              0.2222222222222222,
              "#7201a8"
             ],
             [
              0.3333333333333333,
              "#9c179e"
             ],
             [
              0.4444444444444444,
              "#bd3786"
             ],
             [
              0.5555555555555556,
              "#d8576b"
             ],
             [
              0.6666666666666666,
              "#ed7953"
             ],
             [
              0.7777777777777778,
              "#fb9f3a"
             ],
             [
              0.8888888888888888,
              "#fdca26"
             ],
             [
              1,
              "#f0f921"
             ]
            ],
            "type": "histogram2dcontour"
           }
          ],
          "mesh3d": [
           {
            "colorbar": {
             "outlinewidth": 0,
             "ticks": ""
            },
            "type": "mesh3d"
           }
          ],
          "parcoords": [
           {
            "line": {
             "colorbar": {
              "outlinewidth": 0,
              "ticks": ""
             }
            },
            "type": "parcoords"
           }
          ],
          "pie": [
           {
            "automargin": true,
            "type": "pie"
           }
          ],
          "scatter": [
           {
            "fillpattern": {
             "fillmode": "overlay",
             "size": 10,
             "solidity": 0.2
            },
            "type": "scatter"
           }
          ],
          "scatter3d": [
           {
            "line": {
             "colorbar": {
              "outlinewidth": 0,
              "ticks": ""
             }
            },
            "marker": {
             "colorbar": {
              "outlinewidth": 0,
              "ticks": ""
             }
            },
            "type": "scatter3d"
           }
          ],
          "scattercarpet": [
           {
            "marker": {
             "colorbar": {
              "outlinewidth": 0,
              "ticks": ""
             }
            },
            "type": "scattercarpet"
           }
          ],
          "scattergeo": [
           {
            "marker": {
             "colorbar": {
              "outlinewidth": 0,
              "ticks": ""
             }
            },
            "type": "scattergeo"
           }
          ],
          "scattergl": [
           {
            "marker": {
             "colorbar": {
              "outlinewidth": 0,
              "ticks": ""
             }
            },
            "type": "scattergl"
           }
          ],
          "scattermapbox": [
           {
            "marker": {
             "colorbar": {
              "outlinewidth": 0,
              "ticks": ""
             }
            },
            "type": "scattermapbox"
           }
          ],
          "scatterpolar": [
           {
            "marker": {
             "colorbar": {
              "outlinewidth": 0,
              "ticks": ""
             }
            },
            "type": "scatterpolar"
           }
          ],
          "scatterpolargl": [
           {
            "marker": {
             "colorbar": {
              "outlinewidth": 0,
              "ticks": ""
             }
            },
            "type": "scatterpolargl"
           }
          ],
          "scatterternary": [
           {
            "marker": {
             "colorbar": {
              "outlinewidth": 0,
              "ticks": ""
             }
            },
            "type": "scatterternary"
           }
          ],
          "surface": [
           {
            "colorbar": {
             "outlinewidth": 0,
             "ticks": ""
            },
            "colorscale": [
             [
              0,
              "#0d0887"
             ],
             [
              0.1111111111111111,
              "#46039f"
             ],
             [
              0.2222222222222222,
              "#7201a8"
             ],
             [
              0.3333333333333333,
              "#9c179e"
             ],
             [
              0.4444444444444444,
              "#bd3786"
             ],
             [
              0.5555555555555556,
              "#d8576b"
             ],
             [
              0.6666666666666666,
              "#ed7953"
             ],
             [
              0.7777777777777778,
              "#fb9f3a"
             ],
             [
              0.8888888888888888,
              "#fdca26"
             ],
             [
              1,
              "#f0f921"
             ]
            ],
            "type": "surface"
           }
          ],
          "table": [
           {
            "cells": {
             "fill": {
              "color": "#EBF0F8"
             },
             "line": {
              "color": "white"
             }
            },
            "header": {
             "fill": {
              "color": "#C8D4E3"
             },
             "line": {
              "color": "white"
             }
            },
            "type": "table"
           }
          ]
         },
         "layout": {
          "annotationdefaults": {
           "arrowcolor": "#2a3f5f",
           "arrowhead": 0,
           "arrowwidth": 1
          },
          "autotypenumbers": "strict",
          "coloraxis": {
           "colorbar": {
            "outlinewidth": 0,
            "ticks": ""
           }
          },
          "colorscale": {
           "diverging": [
            [
             0,
             "#8e0152"
            ],
            [
             0.1,
             "#c51b7d"
            ],
            [
             0.2,
             "#de77ae"
            ],
            [
             0.3,
             "#f1b6da"
            ],
            [
             0.4,
             "#fde0ef"
            ],
            [
             0.5,
             "#f7f7f7"
            ],
            [
             0.6,
             "#e6f5d0"
            ],
            [
             0.7,
             "#b8e186"
            ],
            [
             0.8,
             "#7fbc41"
            ],
            [
             0.9,
             "#4d9221"
            ],
            [
             1,
             "#276419"
            ]
           ],
           "sequential": [
            [
             0,
             "#0d0887"
            ],
            [
             0.1111111111111111,
             "#46039f"
            ],
            [
             0.2222222222222222,
             "#7201a8"
            ],
            [
             0.3333333333333333,
             "#9c179e"
            ],
            [
             0.4444444444444444,
             "#bd3786"
            ],
            [
             0.5555555555555556,
             "#d8576b"
            ],
            [
             0.6666666666666666,
             "#ed7953"
            ],
            [
             0.7777777777777778,
             "#fb9f3a"
            ],
            [
             0.8888888888888888,
             "#fdca26"
            ],
            [
             1,
             "#f0f921"
            ]
           ],
           "sequentialminus": [
            [
             0,
             "#0d0887"
            ],
            [
             0.1111111111111111,
             "#46039f"
            ],
            [
             0.2222222222222222,
             "#7201a8"
            ],
            [
             0.3333333333333333,
             "#9c179e"
            ],
            [
             0.4444444444444444,
             "#bd3786"
            ],
            [
             0.5555555555555556,
             "#d8576b"
            ],
            [
             0.6666666666666666,
             "#ed7953"
            ],
            [
             0.7777777777777778,
             "#fb9f3a"
            ],
            [
             0.8888888888888888,
             "#fdca26"
            ],
            [
             1,
             "#f0f921"
            ]
           ]
          },
          "colorway": [
           "#636efa",
           "#EF553B",
           "#00cc96",
           "#ab63fa",
           "#FFA15A",
           "#19d3f3",
           "#FF6692",
           "#B6E880",
           "#FF97FF",
           "#FECB52"
          ],
          "font": {
           "color": "#2a3f5f"
          },
          "geo": {
           "bgcolor": "white",
           "lakecolor": "white",
           "landcolor": "#E5ECF6",
           "showlakes": true,
           "showland": true,
           "subunitcolor": "white"
          },
          "hoverlabel": {
           "align": "left"
          },
          "hovermode": "closest",
          "mapbox": {
           "style": "light"
          },
          "paper_bgcolor": "white",
          "plot_bgcolor": "#E5ECF6",
          "polar": {
           "angularaxis": {
            "gridcolor": "white",
            "linecolor": "white",
            "ticks": ""
           },
           "bgcolor": "#E5ECF6",
           "radialaxis": {
            "gridcolor": "white",
            "linecolor": "white",
            "ticks": ""
           }
          },
          "scene": {
           "xaxis": {
            "backgroundcolor": "#E5ECF6",
            "gridcolor": "white",
            "gridwidth": 2,
            "linecolor": "white",
            "showbackground": true,
            "ticks": "",
            "zerolinecolor": "white"
           },
           "yaxis": {
            "backgroundcolor": "#E5ECF6",
            "gridcolor": "white",
            "gridwidth": 2,
            "linecolor": "white",
            "showbackground": true,
            "ticks": "",
            "zerolinecolor": "white"
           },
           "zaxis": {
            "backgroundcolor": "#E5ECF6",
            "gridcolor": "white",
            "gridwidth": 2,
            "linecolor": "white",
            "showbackground": true,
            "ticks": "",
            "zerolinecolor": "white"
           }
          },
          "shapedefaults": {
           "line": {
            "color": "#2a3f5f"
           }
          },
          "ternary": {
           "aaxis": {
            "gridcolor": "white",
            "linecolor": "white",
            "ticks": ""
           },
           "baxis": {
            "gridcolor": "white",
            "linecolor": "white",
            "ticks": ""
           },
           "bgcolor": "#E5ECF6",
           "caxis": {
            "gridcolor": "white",
            "linecolor": "white",
            "ticks": ""
           }
          },
          "title": {
           "x": 0.05
          },
          "xaxis": {
           "automargin": true,
           "gridcolor": "white",
           "linecolor": "white",
           "ticks": "",
           "title": {
            "standoff": 15
           },
           "zerolinecolor": "white",
           "zerolinewidth": 2
          },
          "yaxis": {
           "automargin": true,
           "gridcolor": "white",
           "linecolor": "white",
           "ticks": "",
           "title": {
            "standoff": 15
           },
           "zerolinecolor": "white",
           "zerolinewidth": 2
          }
         }
        },
        "xaxis": {
         "anchor": "y",
         "domain": [
          0,
          1
         ],
         "title": {
          "text": "Outpatient facilities per 100 000 people"
         }
        },
        "yaxis": {
         "anchor": "x",
         "domain": [
          0,
          1
         ],
         "title": {
          "text": "Suicide rate"
         }
        }
       }
      }
     },
     "metadata": {},
     "output_type": "display_data"
    }
   ],
   "source": [
    "fig = px.scatter(df2016[df2016[\"outpatient_facilities_per_100k\"] < 5], x=\"outpatient_facilities_per_100k\", y=\"suicide_rate\", trendline=\"ols\")\n",
    "fig.update_xaxes(title_text=\"Outpatient facilities per 100 000 people\"); fig.update_yaxes(title_text=\"Suicide rate\")\n",
    "fig.show()"
   ]
  },
  {
   "attachments": {},
   "cell_type": "markdown",
   "metadata": {},
   "source": [
    "It's a good thing that 10 line is there or I wouldn't be able to tell which direction the trend line is going."
   ]
  },
  {
   "cell_type": "code",
   "execution_count": 74,
   "metadata": {},
   "outputs": [
    {
     "data": {
      "application/vnd.plotly.v1+json": {
       "config": {
        "plotlyServerURL": "https://plot.ly"
       },
       "data": [
        {
         "hovertemplate": "sex=Male<br>day_treatment_facilities_per_100k=%{x}<br>suicide_rate=%{y}<extra></extra>",
         "legendgroup": "Male",
         "marker": {
          "color": "#636efa",
          "symbol": "circle"
         },
         "mode": "markers",
         "name": "Male",
         "orientation": "v",
         "showlegend": true,
         "type": "scatter",
         "x": [
          0.034,
          0.094,
          0.285,
          0.278,
          0.718,
          0.315,
          0.022,
          0.125,
          0.445,
          0.019,
          0.011,
          0.112,
          0.101,
          0.018,
          1.319,
          0.803,
          0.02,
          0.023,
          0.085,
          0.051,
          0.134,
          0.101,
          0.004,
          0.079,
          0.021,
          0.019,
          0.885,
          0.025,
          0.016,
          0.002,
          0.716,
          0.518,
          0.015,
          0.115,
          0.277,
          0.163,
          1.067,
          0.007,
          1.576,
          0.612,
          0.052,
          0.516,
          0.006
         ],
         "xaxis": "x",
         "y": [
          10.1,
          4.3,
          39.3,
          9.9,
          6.2,
          16,
          32,
          12.8,
          16.4,
          17.9,
          7.2,
          8.8,
          12.3,
          15.8,
          6.1,
          18.8,
          22.2,
          18.5,
          17.6,
          14.8,
          29.6,
          2.5,
          10.5,
          8.2,
          14,
          11.5,
          13.6,
          7.6,
          7.6,
          5.2,
          23.9,
          14.3,
          12.3,
          7.3,
          13.9,
          11.1,
          15,
          21.4,
          34.5,
          26.8,
          10.3,
          8.7,
          29.1
         ],
         "yaxis": "y"
        },
        {
         "hovertemplate": "<b>OLS trendline</b><br>suicide_rate = 4.35008 * day_treatment_facilities_per_100k + 13.8268<br>R<sup>2</sup>=0.038214<br><br>sex=Male<br>day_treatment_facilities_per_100k=%{x}<br>suicide_rate=%{y} <b>(trend)</b><extra></extra>",
         "legendgroup": "Male",
         "marker": {
          "color": "#636efa",
          "symbol": "circle"
         },
         "mode": "lines",
         "name": "Male",
         "showlegend": false,
         "type": "scatter",
         "x": [
          0.002,
          0.004,
          0.006,
          0.007,
          0.011,
          0.015,
          0.016,
          0.018,
          0.019,
          0.019,
          0.02,
          0.021,
          0.022,
          0.023,
          0.025,
          0.034,
          0.051,
          0.052,
          0.079,
          0.085,
          0.094,
          0.101,
          0.101,
          0.112,
          0.115,
          0.125,
          0.134,
          0.163,
          0.277,
          0.278,
          0.285,
          0.315,
          0.445,
          0.516,
          0.518,
          0.612,
          0.716,
          0.718,
          0.803,
          0.885,
          1.067,
          1.319,
          1.576
         ],
         "xaxis": "x",
         "y": [
          13.835481770994598,
          13.844181938915273,
          13.852882106835947,
          13.857232190796285,
          13.874632526637633,
          13.892032862478983,
          13.89638294643932,
          13.905083114359995,
          13.909433198320333,
          13.909433198320333,
          13.913783282280669,
          13.918133366241006,
          13.922483450201344,
          13.92683353416168,
          13.935533702082356,
          13.974684457725392,
          14.048635885051125,
          14.052985969011461,
          14.170438235940567,
          14.196538739702591,
          14.235689495345627,
          14.266140083067988,
          14.266140083067988,
          14.313991006631698,
          14.32704125851271,
          14.370542098116083,
          14.409692853759118,
          14.535845288608899,
          15.031754860087348,
          15.036104944047684,
          15.066555531770046,
          15.197058050580164,
          15.762568965424009,
          16.071424926607957,
          16.08012509452863,
          16.489032986800332,
          16.94144171867541,
          16.950141886596086,
          17.319899023224753,
          17.67660590797241,
          18.46832118875379,
          19.564542346758785,
          20.682513924565463
         ],
         "yaxis": "y"
        },
        {
         "hovertemplate": "sex=Female<br>day_treatment_facilities_per_100k=%{x}<br>suicide_rate=%{y}<extra></extra>",
         "legendgroup": "Female",
         "marker": {
          "color": "#EF553B",
          "symbol": "circle"
         },
         "mode": "markers",
         "name": "Female",
         "orientation": "v",
         "showlegend": true,
         "type": "scatter",
         "x": [
          0.034,
          0.094,
          0.285,
          0.278,
          0.718,
          0.315,
          0.022,
          0.125,
          0.445,
          0.019,
          0.011,
          0.112,
          0.101,
          0.018,
          1.319,
          0.803,
          0.02,
          0.023,
          0.085,
          0.051,
          0.134,
          0.101,
          0.004,
          0.079,
          0.021,
          0.019,
          0.885,
          0.025,
          0.016,
          0.002,
          0.716,
          0.518,
          0.015,
          0.115,
          0.277,
          0.163,
          1.067,
          0.007,
          1.576,
          0.612,
          0.052,
          0.516,
          0.006
         ],
         "xaxis": "x",
         "y": [
          2,
          1,
          6.2,
          2,
          2.8,
          3.8,
          13,
          2.3,
          4.1,
          3.2,
          1.7,
          2.5,
          1.9,
          2.9,
          1.5,
          5.1,
          6.2,
          14.5,
          4.2,
          3.7,
          11.6,
          3.6,
          3.6,
          2.3,
          4.1,
          6.7,
          6.5,
          1.2,
          2.7,
          2.3,
          3.4,
          3.8,
          6.2,
          1.1,
          2.4,
          4.9,
          2.1,
          4.8,
          4.7,
          7.1,
          4.6,
          2.2,
          11.1
         ],
         "yaxis": "y"
        },
        {
         "hovertemplate": "<b>OLS trendline</b><br>suicide_rate = -0.976822 * day_treatment_facilities_per_100k + 4.63094<br>R<sup>2</sup>=0.014321<br><br>sex=Female<br>day_treatment_facilities_per_100k=%{x}<br>suicide_rate=%{y} <b>(trend)</b><extra></extra>",
         "legendgroup": "Female",
         "marker": {
          "color": "#EF553B",
          "symbol": "circle"
         },
         "mode": "lines",
         "name": "Female",
         "showlegend": false,
         "type": "scatter",
         "x": [
          0.002,
          0.004,
          0.006,
          0.007,
          0.011,
          0.015,
          0.016,
          0.018,
          0.019,
          0.019,
          0.02,
          0.021,
          0.022,
          0.023,
          0.025,
          0.034,
          0.051,
          0.052,
          0.079,
          0.085,
          0.094,
          0.101,
          0.101,
          0.112,
          0.115,
          0.125,
          0.134,
          0.163,
          0.277,
          0.278,
          0.285,
          0.315,
          0.445,
          0.516,
          0.518,
          0.612,
          0.716,
          0.718,
          0.803,
          0.885,
          1.067,
          1.319,
          1.576
         ],
         "xaxis": "x",
         "y": [
          4.628985965960447,
          4.627032322585076,
          4.625078679209705,
          4.624101857522019,
          4.620194570771277,
          4.616287284020535,
          4.615310462332849,
          4.613356818957478,
          4.612379997269793,
          4.612379997269793,
          4.611403175582107,
          4.610426353894422,
          4.609449532206736,
          4.608472710519051,
          4.6065190671436795,
          4.597727671954509,
          4.581121703263855,
          4.580144881576169,
          4.55377069600866,
          4.5479097658825465,
          4.539118370693377,
          4.532280618879577,
          4.532280618879577,
          4.521535580315036,
          4.5186051152519795,
          4.508836898375124,
          4.500045503185954,
          4.471717674243074,
          4.360360001846921,
          4.359383180159235,
          4.352545428345437,
          4.32324077771487,
          4.196253958315748,
          4.126899618490074,
          4.124945975114703,
          4.033124736472262,
          3.9315352809529642,
          3.929581637577593,
          3.8465517941243217,
          3.7664524157341064,
          3.5886708685753366,
          3.342511803278578,
          3.0914686295433915
         ],
         "yaxis": "y"
        }
       ],
       "layout": {
        "legend": {
         "title": {
          "text": "Sex"
         },
         "tracegroupgap": 0
        },
        "margin": {
         "t": 60
        },
        "template": {
         "data": {
          "bar": [
           {
            "error_x": {
             "color": "#2a3f5f"
            },
            "error_y": {
             "color": "#2a3f5f"
            },
            "marker": {
             "line": {
              "color": "#E5ECF6",
              "width": 0.5
             },
             "pattern": {
              "fillmode": "overlay",
              "size": 10,
              "solidity": 0.2
             }
            },
            "type": "bar"
           }
          ],
          "barpolar": [
           {
            "marker": {
             "line": {
              "color": "#E5ECF6",
              "width": 0.5
             },
             "pattern": {
              "fillmode": "overlay",
              "size": 10,
              "solidity": 0.2
             }
            },
            "type": "barpolar"
           }
          ],
          "carpet": [
           {
            "aaxis": {
             "endlinecolor": "#2a3f5f",
             "gridcolor": "white",
             "linecolor": "white",
             "minorgridcolor": "white",
             "startlinecolor": "#2a3f5f"
            },
            "baxis": {
             "endlinecolor": "#2a3f5f",
             "gridcolor": "white",
             "linecolor": "white",
             "minorgridcolor": "white",
             "startlinecolor": "#2a3f5f"
            },
            "type": "carpet"
           }
          ],
          "choropleth": [
           {
            "colorbar": {
             "outlinewidth": 0,
             "ticks": ""
            },
            "type": "choropleth"
           }
          ],
          "contour": [
           {
            "colorbar": {
             "outlinewidth": 0,
             "ticks": ""
            },
            "colorscale": [
             [
              0,
              "#0d0887"
             ],
             [
              0.1111111111111111,
              "#46039f"
             ],
             [
              0.2222222222222222,
              "#7201a8"
             ],
             [
              0.3333333333333333,
              "#9c179e"
             ],
             [
              0.4444444444444444,
              "#bd3786"
             ],
             [
              0.5555555555555556,
              "#d8576b"
             ],
             [
              0.6666666666666666,
              "#ed7953"
             ],
             [
              0.7777777777777778,
              "#fb9f3a"
             ],
             [
              0.8888888888888888,
              "#fdca26"
             ],
             [
              1,
              "#f0f921"
             ]
            ],
            "type": "contour"
           }
          ],
          "contourcarpet": [
           {
            "colorbar": {
             "outlinewidth": 0,
             "ticks": ""
            },
            "type": "contourcarpet"
           }
          ],
          "heatmap": [
           {
            "colorbar": {
             "outlinewidth": 0,
             "ticks": ""
            },
            "colorscale": [
             [
              0,
              "#0d0887"
             ],
             [
              0.1111111111111111,
              "#46039f"
             ],
             [
              0.2222222222222222,
              "#7201a8"
             ],
             [
              0.3333333333333333,
              "#9c179e"
             ],
             [
              0.4444444444444444,
              "#bd3786"
             ],
             [
              0.5555555555555556,
              "#d8576b"
             ],
             [
              0.6666666666666666,
              "#ed7953"
             ],
             [
              0.7777777777777778,
              "#fb9f3a"
             ],
             [
              0.8888888888888888,
              "#fdca26"
             ],
             [
              1,
              "#f0f921"
             ]
            ],
            "type": "heatmap"
           }
          ],
          "heatmapgl": [
           {
            "colorbar": {
             "outlinewidth": 0,
             "ticks": ""
            },
            "colorscale": [
             [
              0,
              "#0d0887"
             ],
             [
              0.1111111111111111,
              "#46039f"
             ],
             [
              0.2222222222222222,
              "#7201a8"
             ],
             [
              0.3333333333333333,
              "#9c179e"
             ],
             [
              0.4444444444444444,
              "#bd3786"
             ],
             [
              0.5555555555555556,
              "#d8576b"
             ],
             [
              0.6666666666666666,
              "#ed7953"
             ],
             [
              0.7777777777777778,
              "#fb9f3a"
             ],
             [
              0.8888888888888888,
              "#fdca26"
             ],
             [
              1,
              "#f0f921"
             ]
            ],
            "type": "heatmapgl"
           }
          ],
          "histogram": [
           {
            "marker": {
             "pattern": {
              "fillmode": "overlay",
              "size": 10,
              "solidity": 0.2
             }
            },
            "type": "histogram"
           }
          ],
          "histogram2d": [
           {
            "colorbar": {
             "outlinewidth": 0,
             "ticks": ""
            },
            "colorscale": [
             [
              0,
              "#0d0887"
             ],
             [
              0.1111111111111111,
              "#46039f"
             ],
             [
              0.2222222222222222,
              "#7201a8"
             ],
             [
              0.3333333333333333,
              "#9c179e"
             ],
             [
              0.4444444444444444,
              "#bd3786"
             ],
             [
              0.5555555555555556,
              "#d8576b"
             ],
             [
              0.6666666666666666,
              "#ed7953"
             ],
             [
              0.7777777777777778,
              "#fb9f3a"
             ],
             [
              0.8888888888888888,
              "#fdca26"
             ],
             [
              1,
              "#f0f921"
             ]
            ],
            "type": "histogram2d"
           }
          ],
          "histogram2dcontour": [
           {
            "colorbar": {
             "outlinewidth": 0,
             "ticks": ""
            },
            "colorscale": [
             [
              0,
              "#0d0887"
             ],
             [
              0.1111111111111111,
              "#46039f"
             ],
             [
              0.2222222222222222,
              "#7201a8"
             ],
             [
              0.3333333333333333,
              "#9c179e"
             ],
             [
              0.4444444444444444,
              "#bd3786"
             ],
             [
              0.5555555555555556,
              "#d8576b"
             ],
             [
              0.6666666666666666,
              "#ed7953"
             ],
             [
              0.7777777777777778,
              "#fb9f3a"
             ],
             [
              0.8888888888888888,
              "#fdca26"
             ],
             [
              1,
              "#f0f921"
             ]
            ],
            "type": "histogram2dcontour"
           }
          ],
          "mesh3d": [
           {
            "colorbar": {
             "outlinewidth": 0,
             "ticks": ""
            },
            "type": "mesh3d"
           }
          ],
          "parcoords": [
           {
            "line": {
             "colorbar": {
              "outlinewidth": 0,
              "ticks": ""
             }
            },
            "type": "parcoords"
           }
          ],
          "pie": [
           {
            "automargin": true,
            "type": "pie"
           }
          ],
          "scatter": [
           {
            "fillpattern": {
             "fillmode": "overlay",
             "size": 10,
             "solidity": 0.2
            },
            "type": "scatter"
           }
          ],
          "scatter3d": [
           {
            "line": {
             "colorbar": {
              "outlinewidth": 0,
              "ticks": ""
             }
            },
            "marker": {
             "colorbar": {
              "outlinewidth": 0,
              "ticks": ""
             }
            },
            "type": "scatter3d"
           }
          ],
          "scattercarpet": [
           {
            "marker": {
             "colorbar": {
              "outlinewidth": 0,
              "ticks": ""
             }
            },
            "type": "scattercarpet"
           }
          ],
          "scattergeo": [
           {
            "marker": {
             "colorbar": {
              "outlinewidth": 0,
              "ticks": ""
             }
            },
            "type": "scattergeo"
           }
          ],
          "scattergl": [
           {
            "marker": {
             "colorbar": {
              "outlinewidth": 0,
              "ticks": ""
             }
            },
            "type": "scattergl"
           }
          ],
          "scattermapbox": [
           {
            "marker": {
             "colorbar": {
              "outlinewidth": 0,
              "ticks": ""
             }
            },
            "type": "scattermapbox"
           }
          ],
          "scatterpolar": [
           {
            "marker": {
             "colorbar": {
              "outlinewidth": 0,
              "ticks": ""
             }
            },
            "type": "scatterpolar"
           }
          ],
          "scatterpolargl": [
           {
            "marker": {
             "colorbar": {
              "outlinewidth": 0,
              "ticks": ""
             }
            },
            "type": "scatterpolargl"
           }
          ],
          "scatterternary": [
           {
            "marker": {
             "colorbar": {
              "outlinewidth": 0,
              "ticks": ""
             }
            },
            "type": "scatterternary"
           }
          ],
          "surface": [
           {
            "colorbar": {
             "outlinewidth": 0,
             "ticks": ""
            },
            "colorscale": [
             [
              0,
              "#0d0887"
             ],
             [
              0.1111111111111111,
              "#46039f"
             ],
             [
              0.2222222222222222,
              "#7201a8"
             ],
             [
              0.3333333333333333,
              "#9c179e"
             ],
             [
              0.4444444444444444,
              "#bd3786"
             ],
             [
              0.5555555555555556,
              "#d8576b"
             ],
             [
              0.6666666666666666,
              "#ed7953"
             ],
             [
              0.7777777777777778,
              "#fb9f3a"
             ],
             [
              0.8888888888888888,
              "#fdca26"
             ],
             [
              1,
              "#f0f921"
             ]
            ],
            "type": "surface"
           }
          ],
          "table": [
           {
            "cells": {
             "fill": {
              "color": "#EBF0F8"
             },
             "line": {
              "color": "white"
             }
            },
            "header": {
             "fill": {
              "color": "#C8D4E3"
             },
             "line": {
              "color": "white"
             }
            },
            "type": "table"
           }
          ]
         },
         "layout": {
          "annotationdefaults": {
           "arrowcolor": "#2a3f5f",
           "arrowhead": 0,
           "arrowwidth": 1
          },
          "autotypenumbers": "strict",
          "coloraxis": {
           "colorbar": {
            "outlinewidth": 0,
            "ticks": ""
           }
          },
          "colorscale": {
           "diverging": [
            [
             0,
             "#8e0152"
            ],
            [
             0.1,
             "#c51b7d"
            ],
            [
             0.2,
             "#de77ae"
            ],
            [
             0.3,
             "#f1b6da"
            ],
            [
             0.4,
             "#fde0ef"
            ],
            [
             0.5,
             "#f7f7f7"
            ],
            [
             0.6,
             "#e6f5d0"
            ],
            [
             0.7,
             "#b8e186"
            ],
            [
             0.8,
             "#7fbc41"
            ],
            [
             0.9,
             "#4d9221"
            ],
            [
             1,
             "#276419"
            ]
           ],
           "sequential": [
            [
             0,
             "#0d0887"
            ],
            [
             0.1111111111111111,
             "#46039f"
            ],
            [
             0.2222222222222222,
             "#7201a8"
            ],
            [
             0.3333333333333333,
             "#9c179e"
            ],
            [
             0.4444444444444444,
             "#bd3786"
            ],
            [
             0.5555555555555556,
             "#d8576b"
            ],
            [
             0.6666666666666666,
             "#ed7953"
            ],
            [
             0.7777777777777778,
             "#fb9f3a"
            ],
            [
             0.8888888888888888,
             "#fdca26"
            ],
            [
             1,
             "#f0f921"
            ]
           ],
           "sequentialminus": [
            [
             0,
             "#0d0887"
            ],
            [
             0.1111111111111111,
             "#46039f"
            ],
            [
             0.2222222222222222,
             "#7201a8"
            ],
            [
             0.3333333333333333,
             "#9c179e"
            ],
            [
             0.4444444444444444,
             "#bd3786"
            ],
            [
             0.5555555555555556,
             "#d8576b"
            ],
            [
             0.6666666666666666,
             "#ed7953"
            ],
            [
             0.7777777777777778,
             "#fb9f3a"
            ],
            [
             0.8888888888888888,
             "#fdca26"
            ],
            [
             1,
             "#f0f921"
            ]
           ]
          },
          "colorway": [
           "#636efa",
           "#EF553B",
           "#00cc96",
           "#ab63fa",
           "#FFA15A",
           "#19d3f3",
           "#FF6692",
           "#B6E880",
           "#FF97FF",
           "#FECB52"
          ],
          "font": {
           "color": "#2a3f5f"
          },
          "geo": {
           "bgcolor": "white",
           "lakecolor": "white",
           "landcolor": "#E5ECF6",
           "showlakes": true,
           "showland": true,
           "subunitcolor": "white"
          },
          "hoverlabel": {
           "align": "left"
          },
          "hovermode": "closest",
          "mapbox": {
           "style": "light"
          },
          "paper_bgcolor": "white",
          "plot_bgcolor": "#E5ECF6",
          "polar": {
           "angularaxis": {
            "gridcolor": "white",
            "linecolor": "white",
            "ticks": ""
           },
           "bgcolor": "#E5ECF6",
           "radialaxis": {
            "gridcolor": "white",
            "linecolor": "white",
            "ticks": ""
           }
          },
          "scene": {
           "xaxis": {
            "backgroundcolor": "#E5ECF6",
            "gridcolor": "white",
            "gridwidth": 2,
            "linecolor": "white",
            "showbackground": true,
            "ticks": "",
            "zerolinecolor": "white"
           },
           "yaxis": {
            "backgroundcolor": "#E5ECF6",
            "gridcolor": "white",
            "gridwidth": 2,
            "linecolor": "white",
            "showbackground": true,
            "ticks": "",
            "zerolinecolor": "white"
           },
           "zaxis": {
            "backgroundcolor": "#E5ECF6",
            "gridcolor": "white",
            "gridwidth": 2,
            "linecolor": "white",
            "showbackground": true,
            "ticks": "",
            "zerolinecolor": "white"
           }
          },
          "shapedefaults": {
           "line": {
            "color": "#2a3f5f"
           }
          },
          "ternary": {
           "aaxis": {
            "gridcolor": "white",
            "linecolor": "white",
            "ticks": ""
           },
           "baxis": {
            "gridcolor": "white",
            "linecolor": "white",
            "ticks": ""
           },
           "bgcolor": "#E5ECF6",
           "caxis": {
            "gridcolor": "white",
            "linecolor": "white",
            "ticks": ""
           }
          },
          "title": {
           "x": 0.05
          },
          "xaxis": {
           "automargin": true,
           "gridcolor": "white",
           "linecolor": "white",
           "ticks": "",
           "title": {
            "standoff": 15
           },
           "zerolinecolor": "white",
           "zerolinewidth": 2
          },
          "yaxis": {
           "automargin": true,
           "gridcolor": "white",
           "linecolor": "white",
           "ticks": "",
           "title": {
            "standoff": 15
           },
           "zerolinecolor": "white",
           "zerolinewidth": 2
          }
         }
        },
        "xaxis": {
         "anchor": "y",
         "domain": [
          0,
          1
         ],
         "title": {
          "text": "Day treatment facilities per 100 000 people"
         }
        },
        "yaxis": {
         "anchor": "x",
         "domain": [
          0,
          1
         ],
         "title": {
          "text": "Suicide rate"
         }
        }
       }
      }
     },
     "metadata": {},
     "output_type": "display_data"
    }
   ],
   "source": [
    "fig = px.scatter(df2016g[df2016g[\"day_treatment_facilities_per_100k\"] < 2], x=\"day_treatment_facilities_per_100k\", y=\"suicide_rate\", trendline=\"ols\", color=\"sex\")\n",
    "fig.update_xaxes(title_text=\"Day treatment facilities per 100 000 people\"); fig.update_yaxes(title_text=\"Suicide rate\")\n",
    "fig.update_layout(legend_title_text=\"Sex\")\n",
    "fig.show()"
   ]
  },
  {
   "attachments": {},
   "cell_type": "markdown",
   "metadata": {},
   "source": [
    "Conclusion: mental hospitals and anything related to them are a waste of resources.\n",
    "\n",
    "### Scatterplots, part 2: Surely psychologists are useful?\n",
    "But first, psychiatrists."
   ]
  },
  {
   "cell_type": "code",
   "execution_count": 75,
   "metadata": {},
   "outputs": [
    {
     "data": {
      "application/vnd.plotly.v1+json": {
       "config": {
        "plotlyServerURL": "https://plot.ly"
       },
       "data": [
        {
         "hovertemplate": "sex=Male<br>psychiatrists_per_100k=%{x}<br>suicide_rate=%{y}<extra></extra>",
         "legendgroup": "Male",
         "marker": {
          "color": "#636efa",
          "symbol": "circle"
         },
         "mode": "markers",
         "name": "Male",
         "orientation": "v",
         "showlegend": true,
         "type": "scatter",
         "x": [
          0.231,
          0.057,
          1.471,
          1.649,
          1.001,
          0.039,
          0.13,
          1.392,
          1.128,
          1.197,
          0.508,
          0.13,
          0.08,
          1.835,
          0.458,
          1.6,
          0.224,
          0.259,
          0.058,
          0.025,
          0.101,
          1.872,
          0.492,
          0.911,
          0.075,
          0.31,
          0.292,
          1.125,
          0.184,
          1.688,
          0.387,
          0.044,
          0.564,
          0.839,
          0.058,
          0.207,
          0.029,
          0.384,
          0.046,
          1.048,
          0.371,
          0.014,
          0.356,
          0.518,
          0.06,
          1.321,
          0.2,
          0.887,
          0.025,
          0.511,
          1.265,
          0.368,
          0.007,
          0.054,
          0.721,
          1.392,
          0.081,
          1.637,
          0.082,
          0.378,
          1.548,
          0.201,
          1.521,
          0.056,
          0.095
         ],
         "xaxis": "x",
         "y": [
          10.6,
          14,
          7,
          3.5,
          0,
          22.4,
          5.5,
          9.9,
          16.9,
          6.2,
          13.8,
          32,
          13.9,
          11.5,
          10.7,
          7.2,
          8.8,
          15,
          15.8,
          12.7,
          12.8,
          2.1,
          4.4,
          46.6,
          18.3,
          5.2,
          18.5,
          4.7,
          9.7,
          14.8,
          9,
          13.8,
          12.7,
          2.5,
          10.5,
          8.2,
          13.5,
          6.3,
          14,
          8.7,
          19.4,
          11.5,
          11.4,
          5.2,
          16.9,
          4.6,
          20.3,
          24.8,
          8.3,
          4.2,
          36.1,
          3.8,
          17.1,
          22.7,
          21.4,
          5,
          9,
          11.3,
          21.2,
          8.1,
          8.7,
          13.4,
          21.7,
          17.5,
          29.1
         ],
         "yaxis": "y"
        },
        {
         "hovertemplate": "<b>OLS trendline</b><br>suicide_rate = -2.68185 * psychiatrists_per_100k + 14.581<br>R<sup>2</sup>=0.034501<br><br>sex=Male<br>psychiatrists_per_100k=%{x}<br>suicide_rate=%{y} <b>(trend)</b><extra></extra>",
         "legendgroup": "Male",
         "marker": {
          "color": "#636efa",
          "symbol": "circle"
         },
         "mode": "lines",
         "name": "Male",
         "showlegend": false,
         "type": "scatter",
         "x": [
          0.007,
          0.014,
          0.025,
          0.025,
          0.029,
          0.039,
          0.044,
          0.046,
          0.054,
          0.056,
          0.057,
          0.058,
          0.058,
          0.06,
          0.075,
          0.08,
          0.081,
          0.082,
          0.095,
          0.101,
          0.13,
          0.13,
          0.184,
          0.2,
          0.201,
          0.207,
          0.224,
          0.231,
          0.259,
          0.292,
          0.31,
          0.356,
          0.368,
          0.371,
          0.378,
          0.384,
          0.387,
          0.458,
          0.492,
          0.508,
          0.511,
          0.518,
          0.564,
          0.721,
          0.839,
          0.887,
          0.911,
          1.001,
          1.048,
          1.125,
          1.128,
          1.197,
          1.265,
          1.321,
          1.392,
          1.392,
          1.471,
          1.521,
          1.548,
          1.6,
          1.637,
          1.649,
          1.688,
          1.835,
          1.872
         ],
         "xaxis": "x",
         "y": [
          14.562241598366763,
          14.54346863689558,
          14.513968268869437,
          14.513968268869437,
          14.503240862314476,
          14.476422345927073,
          14.463013087733373,
          14.457649384455891,
          14.43619457134597,
          14.430830868068488,
          14.42814901642975,
          14.425467164791009,
          14.425467164791009,
          14.420103461513529,
          14.379875686932424,
          14.366466428738722,
          14.363784577099983,
          14.361102725461242,
          14.326238654157619,
          14.310147544325176,
          14.232373846801709,
          14.232373846801709,
          14.087553858309734,
          14.044644232089889,
          14.04196238045115,
          14.025871270618707,
          13.980279792760122,
          13.96150683128894,
          13.886414985404214,
          13.797913881325783,
          13.74964055182846,
          13.626275376446406,
          13.594093156781522,
          13.586047601865301,
          13.56727464039412,
          13.551183530561678,
          13.543137975645458,
          13.352726509294898,
          13.261543553577729,
          13.218633927357883,
          13.210588372441663,
          13.19181541097048,
          13.068450235588429,
          12.647399528306206,
          12.330941034934852,
          12.20221215627532,
          12.137847716945553,
          11.896481069458929,
          11.770434042438135,
          11.563931466255134,
          11.555885911338912,
          11.370838148265833,
          11.188472236831494,
          11.03828854506204,
          10.84787707871148,
          10.84787707871148,
          10.636010799250997,
          10.501918217313985,
          10.429508223067996,
          10.290051937853502,
          10.190823427220112,
          10.158641207555227,
          10.054048993644358,
          9.659816802749537,
          9.560588292116147
         ],
         "yaxis": "y"
        },
        {
         "hovertemplate": "sex=Female<br>psychiatrists_per_100k=%{x}<br>suicide_rate=%{y}<extra></extra>",
         "legendgroup": "Female",
         "marker": {
          "color": "#EF553B",
          "symbol": "circle"
         },
         "mode": "markers",
         "name": "Female",
         "orientation": "v",
         "showlegend": true,
         "type": "scatter",
         "x": [
          0.231,
          0.057,
          1.471,
          1.649,
          1.001,
          0.039,
          0.13,
          1.392,
          1.128,
          1.197,
          0.508,
          0.13,
          0.08,
          1.835,
          0.458,
          1.6,
          0.224,
          0.259,
          0.058,
          0.025,
          0.101,
          1.872,
          0.492,
          0.911,
          0.075,
          0.31,
          0.292,
          1.125,
          0.184,
          1.688,
          0.387,
          0.044,
          0.564,
          0.839,
          0.058,
          0.207,
          0.029,
          0.384,
          0.046,
          1.048,
          0.371,
          0.014,
          0.356,
          0.518,
          0.06,
          1.321,
          0.2,
          0.887,
          0.025,
          0.511,
          1.265,
          0.368,
          0.007,
          0.054,
          0.721,
          1.392,
          0.081,
          1.637,
          0.082,
          0.378,
          1.548,
          0.201,
          1.521,
          0.056,
          0.095
         ],
         "xaxis": "x",
         "y": [
          2.1,
          4.6,
          4.3,
          0.8,
          0.9,
          9.1,
          6.7,
          2,
          8.9,
          2.8,
          8.9,
          13,
          5,
          2.8,
          3.8,
          1.7,
          2.5,
          4.3,
          2.9,
          8.4,
          7.3,
          1,
          1.7,
          14.2,
          6.4,
          2.2,
          14.5,
          2.7,
          2.1,
          3.7,
          3.2,
          13,
          2.1,
          3.6,
          3.6,
          2.3,
          4.7,
          9.8,
          4.1,
          3.6,
          4.9,
          6.7,
          8,
          2.3,
          6,
          1.7,
          5.2,
          4.3,
          4.1,
          2.1,
          10.9,
          1.1,
          13.8,
          10.9,
          4.8,
          1.7,
          3.7,
          3.2,
          18.7,
          2.7,
          2.2,
          6.2,
          5.1,
          6.2,
          11.1
         ],
         "yaxis": "y"
        },
        {
         "hovertemplate": "<b>OLS trendline</b><br>suicide_rate = -2.51962 * psychiatrists_per_100k + 6.83283<br>R<sup>2</sup>=0.136864<br><br>sex=Female<br>psychiatrists_per_100k=%{x}<br>suicide_rate=%{y} <b>(trend)</b><extra></extra>",
         "legendgroup": "Female",
         "marker": {
          "color": "#EF553B",
          "symbol": "circle"
         },
         "mode": "lines",
         "name": "Female",
         "showlegend": false,
         "type": "scatter",
         "x": [
          0.007,
          0.014,
          0.025,
          0.025,
          0.029,
          0.039,
          0.044,
          0.046,
          0.054,
          0.056,
          0.057,
          0.058,
          0.058,
          0.06,
          0.075,
          0.08,
          0.081,
          0.082,
          0.095,
          0.101,
          0.13,
          0.13,
          0.184,
          0.2,
          0.201,
          0.207,
          0.224,
          0.231,
          0.259,
          0.292,
          0.31,
          0.356,
          0.368,
          0.371,
          0.378,
          0.384,
          0.387,
          0.458,
          0.492,
          0.508,
          0.511,
          0.518,
          0.564,
          0.721,
          0.839,
          0.887,
          0.911,
          1.001,
          1.048,
          1.125,
          1.128,
          1.197,
          1.265,
          1.321,
          1.392,
          1.392,
          1.471,
          1.521,
          1.548,
          1.6,
          1.637,
          1.649,
          1.688,
          1.835,
          1.872
         ],
         "xaxis": "x",
         "y": [
          6.815195608286008,
          6.797558256195329,
          6.769842417195691,
          6.769842417195691,
          6.759763930286732,
          6.734567713014333,
          6.721969604378134,
          6.716930360923654,
          6.696773387105735,
          6.691734143651256,
          6.689214521924016,
          6.686694900196776,
          6.686694900196776,
          6.681655656742296,
          6.6438613308336985,
          6.631263222197499,
          6.628743600470259,
          6.6262239787430195,
          6.593468896288901,
          6.578351165925462,
          6.505282135835507,
          6.505282135835507,
          6.3692225625645555,
          6.328908614928718,
          6.326388993201478,
          6.311271262838039,
          6.2684376934749615,
          6.2508003413842825,
          6.180250933021567,
          6.097103416022652,
          6.051750224932334,
          5.935847625479301,
          5.905612164752423,
          5.898053299570703,
          5.880415947480024,
          5.865298217116585,
          5.857739351934866,
          5.678846209300836,
          5.593179070574681,
          5.552865122938844,
          5.545306257757124,
          5.527668905666445,
          5.411766306213412,
          5.016185695036756,
          4.718870331222454,
          4.597928488314941,
          4.5374575668611845,
          4.310691611409599,
          4.192269390229326,
          3.998258517231857,
          3.9906996520501377,
          3.816845752870588,
          3.6455114754182785,
          3.504412658692847,
          3.325519516058818,
          3.325519516058818,
          3.126469399606869,
          3.000488313244877,
          2.9324585266094005,
          2.8014381967929287,
          2.708212192885054,
          2.677976732158176,
          2.579711484795822,
          2.2093270908915645,
          2.116101086983689
         ],
         "yaxis": "y"
        }
       ],
       "layout": {
        "legend": {
         "title": {
          "text": "Sex"
         },
         "tracegroupgap": 0
        },
        "margin": {
         "t": 60
        },
        "template": {
         "data": {
          "bar": [
           {
            "error_x": {
             "color": "#2a3f5f"
            },
            "error_y": {
             "color": "#2a3f5f"
            },
            "marker": {
             "line": {
              "color": "#E5ECF6",
              "width": 0.5
             },
             "pattern": {
              "fillmode": "overlay",
              "size": 10,
              "solidity": 0.2
             }
            },
            "type": "bar"
           }
          ],
          "barpolar": [
           {
            "marker": {
             "line": {
              "color": "#E5ECF6",
              "width": 0.5
             },
             "pattern": {
              "fillmode": "overlay",
              "size": 10,
              "solidity": 0.2
             }
            },
            "type": "barpolar"
           }
          ],
          "carpet": [
           {
            "aaxis": {
             "endlinecolor": "#2a3f5f",
             "gridcolor": "white",
             "linecolor": "white",
             "minorgridcolor": "white",
             "startlinecolor": "#2a3f5f"
            },
            "baxis": {
             "endlinecolor": "#2a3f5f",
             "gridcolor": "white",
             "linecolor": "white",
             "minorgridcolor": "white",
             "startlinecolor": "#2a3f5f"
            },
            "type": "carpet"
           }
          ],
          "choropleth": [
           {
            "colorbar": {
             "outlinewidth": 0,
             "ticks": ""
            },
            "type": "choropleth"
           }
          ],
          "contour": [
           {
            "colorbar": {
             "outlinewidth": 0,
             "ticks": ""
            },
            "colorscale": [
             [
              0,
              "#0d0887"
             ],
             [
              0.1111111111111111,
              "#46039f"
             ],
             [
              0.2222222222222222,
              "#7201a8"
             ],
             [
              0.3333333333333333,
              "#9c179e"
             ],
             [
              0.4444444444444444,
              "#bd3786"
             ],
             [
              0.5555555555555556,
              "#d8576b"
             ],
             [
              0.6666666666666666,
              "#ed7953"
             ],
             [
              0.7777777777777778,
              "#fb9f3a"
             ],
             [
              0.8888888888888888,
              "#fdca26"
             ],
             [
              1,
              "#f0f921"
             ]
            ],
            "type": "contour"
           }
          ],
          "contourcarpet": [
           {
            "colorbar": {
             "outlinewidth": 0,
             "ticks": ""
            },
            "type": "contourcarpet"
           }
          ],
          "heatmap": [
           {
            "colorbar": {
             "outlinewidth": 0,
             "ticks": ""
            },
            "colorscale": [
             [
              0,
              "#0d0887"
             ],
             [
              0.1111111111111111,
              "#46039f"
             ],
             [
              0.2222222222222222,
              "#7201a8"
             ],
             [
              0.3333333333333333,
              "#9c179e"
             ],
             [
              0.4444444444444444,
              "#bd3786"
             ],
             [
              0.5555555555555556,
              "#d8576b"
             ],
             [
              0.6666666666666666,
              "#ed7953"
             ],
             [
              0.7777777777777778,
              "#fb9f3a"
             ],
             [
              0.8888888888888888,
              "#fdca26"
             ],
             [
              1,
              "#f0f921"
             ]
            ],
            "type": "heatmap"
           }
          ],
          "heatmapgl": [
           {
            "colorbar": {
             "outlinewidth": 0,
             "ticks": ""
            },
            "colorscale": [
             [
              0,
              "#0d0887"
             ],
             [
              0.1111111111111111,
              "#46039f"
             ],
             [
              0.2222222222222222,
              "#7201a8"
             ],
             [
              0.3333333333333333,
              "#9c179e"
             ],
             [
              0.4444444444444444,
              "#bd3786"
             ],
             [
              0.5555555555555556,
              "#d8576b"
             ],
             [
              0.6666666666666666,
              "#ed7953"
             ],
             [
              0.7777777777777778,
              "#fb9f3a"
             ],
             [
              0.8888888888888888,
              "#fdca26"
             ],
             [
              1,
              "#f0f921"
             ]
            ],
            "type": "heatmapgl"
           }
          ],
          "histogram": [
           {
            "marker": {
             "pattern": {
              "fillmode": "overlay",
              "size": 10,
              "solidity": 0.2
             }
            },
            "type": "histogram"
           }
          ],
          "histogram2d": [
           {
            "colorbar": {
             "outlinewidth": 0,
             "ticks": ""
            },
            "colorscale": [
             [
              0,
              "#0d0887"
             ],
             [
              0.1111111111111111,
              "#46039f"
             ],
             [
              0.2222222222222222,
              "#7201a8"
             ],
             [
              0.3333333333333333,
              "#9c179e"
             ],
             [
              0.4444444444444444,
              "#bd3786"
             ],
             [
              0.5555555555555556,
              "#d8576b"
             ],
             [
              0.6666666666666666,
              "#ed7953"
             ],
             [
              0.7777777777777778,
              "#fb9f3a"
             ],
             [
              0.8888888888888888,
              "#fdca26"
             ],
             [
              1,
              "#f0f921"
             ]
            ],
            "type": "histogram2d"
           }
          ],
          "histogram2dcontour": [
           {
            "colorbar": {
             "outlinewidth": 0,
             "ticks": ""
            },
            "colorscale": [
             [
              0,
              "#0d0887"
             ],
             [
              0.1111111111111111,
              "#46039f"
             ],
             [
              0.2222222222222222,
              "#7201a8"
             ],
             [
              0.3333333333333333,
              "#9c179e"
             ],
             [
              0.4444444444444444,
              "#bd3786"
             ],
             [
              0.5555555555555556,
              "#d8576b"
             ],
             [
              0.6666666666666666,
              "#ed7953"
             ],
             [
              0.7777777777777778,
              "#fb9f3a"
             ],
             [
              0.8888888888888888,
              "#fdca26"
             ],
             [
              1,
              "#f0f921"
             ]
            ],
            "type": "histogram2dcontour"
           }
          ],
          "mesh3d": [
           {
            "colorbar": {
             "outlinewidth": 0,
             "ticks": ""
            },
            "type": "mesh3d"
           }
          ],
          "parcoords": [
           {
            "line": {
             "colorbar": {
              "outlinewidth": 0,
              "ticks": ""
             }
            },
            "type": "parcoords"
           }
          ],
          "pie": [
           {
            "automargin": true,
            "type": "pie"
           }
          ],
          "scatter": [
           {
            "fillpattern": {
             "fillmode": "overlay",
             "size": 10,
             "solidity": 0.2
            },
            "type": "scatter"
           }
          ],
          "scatter3d": [
           {
            "line": {
             "colorbar": {
              "outlinewidth": 0,
              "ticks": ""
             }
            },
            "marker": {
             "colorbar": {
              "outlinewidth": 0,
              "ticks": ""
             }
            },
            "type": "scatter3d"
           }
          ],
          "scattercarpet": [
           {
            "marker": {
             "colorbar": {
              "outlinewidth": 0,
              "ticks": ""
             }
            },
            "type": "scattercarpet"
           }
          ],
          "scattergeo": [
           {
            "marker": {
             "colorbar": {
              "outlinewidth": 0,
              "ticks": ""
             }
            },
            "type": "scattergeo"
           }
          ],
          "scattergl": [
           {
            "marker": {
             "colorbar": {
              "outlinewidth": 0,
              "ticks": ""
             }
            },
            "type": "scattergl"
           }
          ],
          "scattermapbox": [
           {
            "marker": {
             "colorbar": {
              "outlinewidth": 0,
              "ticks": ""
             }
            },
            "type": "scattermapbox"
           }
          ],
          "scatterpolar": [
           {
            "marker": {
             "colorbar": {
              "outlinewidth": 0,
              "ticks": ""
             }
            },
            "type": "scatterpolar"
           }
          ],
          "scatterpolargl": [
           {
            "marker": {
             "colorbar": {
              "outlinewidth": 0,
              "ticks": ""
             }
            },
            "type": "scatterpolargl"
           }
          ],
          "scatterternary": [
           {
            "marker": {
             "colorbar": {
              "outlinewidth": 0,
              "ticks": ""
             }
            },
            "type": "scatterternary"
           }
          ],
          "surface": [
           {
            "colorbar": {
             "outlinewidth": 0,
             "ticks": ""
            },
            "colorscale": [
             [
              0,
              "#0d0887"
             ],
             [
              0.1111111111111111,
              "#46039f"
             ],
             [
              0.2222222222222222,
              "#7201a8"
             ],
             [
              0.3333333333333333,
              "#9c179e"
             ],
             [
              0.4444444444444444,
              "#bd3786"
             ],
             [
              0.5555555555555556,
              "#d8576b"
             ],
             [
              0.6666666666666666,
              "#ed7953"
             ],
             [
              0.7777777777777778,
              "#fb9f3a"
             ],
             [
              0.8888888888888888,
              "#fdca26"
             ],
             [
              1,
              "#f0f921"
             ]
            ],
            "type": "surface"
           }
          ],
          "table": [
           {
            "cells": {
             "fill": {
              "color": "#EBF0F8"
             },
             "line": {
              "color": "white"
             }
            },
            "header": {
             "fill": {
              "color": "#C8D4E3"
             },
             "line": {
              "color": "white"
             }
            },
            "type": "table"
           }
          ]
         },
         "layout": {
          "annotationdefaults": {
           "arrowcolor": "#2a3f5f",
           "arrowhead": 0,
           "arrowwidth": 1
          },
          "autotypenumbers": "strict",
          "coloraxis": {
           "colorbar": {
            "outlinewidth": 0,
            "ticks": ""
           }
          },
          "colorscale": {
           "diverging": [
            [
             0,
             "#8e0152"
            ],
            [
             0.1,
             "#c51b7d"
            ],
            [
             0.2,
             "#de77ae"
            ],
            [
             0.3,
             "#f1b6da"
            ],
            [
             0.4,
             "#fde0ef"
            ],
            [
             0.5,
             "#f7f7f7"
            ],
            [
             0.6,
             "#e6f5d0"
            ],
            [
             0.7,
             "#b8e186"
            ],
            [
             0.8,
             "#7fbc41"
            ],
            [
             0.9,
             "#4d9221"
            ],
            [
             1,
             "#276419"
            ]
           ],
           "sequential": [
            [
             0,
             "#0d0887"
            ],
            [
             0.1111111111111111,
             "#46039f"
            ],
            [
             0.2222222222222222,
             "#7201a8"
            ],
            [
             0.3333333333333333,
             "#9c179e"
            ],
            [
             0.4444444444444444,
             "#bd3786"
            ],
            [
             0.5555555555555556,
             "#d8576b"
            ],
            [
             0.6666666666666666,
             "#ed7953"
            ],
            [
             0.7777777777777778,
             "#fb9f3a"
            ],
            [
             0.8888888888888888,
             "#fdca26"
            ],
            [
             1,
             "#f0f921"
            ]
           ],
           "sequentialminus": [
            [
             0,
             "#0d0887"
            ],
            [
             0.1111111111111111,
             "#46039f"
            ],
            [
             0.2222222222222222,
             "#7201a8"
            ],
            [
             0.3333333333333333,
             "#9c179e"
            ],
            [
             0.4444444444444444,
             "#bd3786"
            ],
            [
             0.5555555555555556,
             "#d8576b"
            ],
            [
             0.6666666666666666,
             "#ed7953"
            ],
            [
             0.7777777777777778,
             "#fb9f3a"
            ],
            [
             0.8888888888888888,
             "#fdca26"
            ],
            [
             1,
             "#f0f921"
            ]
           ]
          },
          "colorway": [
           "#636efa",
           "#EF553B",
           "#00cc96",
           "#ab63fa",
           "#FFA15A",
           "#19d3f3",
           "#FF6692",
           "#B6E880",
           "#FF97FF",
           "#FECB52"
          ],
          "font": {
           "color": "#2a3f5f"
          },
          "geo": {
           "bgcolor": "white",
           "lakecolor": "white",
           "landcolor": "#E5ECF6",
           "showlakes": true,
           "showland": true,
           "subunitcolor": "white"
          },
          "hoverlabel": {
           "align": "left"
          },
          "hovermode": "closest",
          "mapbox": {
           "style": "light"
          },
          "paper_bgcolor": "white",
          "plot_bgcolor": "#E5ECF6",
          "polar": {
           "angularaxis": {
            "gridcolor": "white",
            "linecolor": "white",
            "ticks": ""
           },
           "bgcolor": "#E5ECF6",
           "radialaxis": {
            "gridcolor": "white",
            "linecolor": "white",
            "ticks": ""
           }
          },
          "scene": {
           "xaxis": {
            "backgroundcolor": "#E5ECF6",
            "gridcolor": "white",
            "gridwidth": 2,
            "linecolor": "white",
            "showbackground": true,
            "ticks": "",
            "zerolinecolor": "white"
           },
           "yaxis": {
            "backgroundcolor": "#E5ECF6",
            "gridcolor": "white",
            "gridwidth": 2,
            "linecolor": "white",
            "showbackground": true,
            "ticks": "",
            "zerolinecolor": "white"
           },
           "zaxis": {
            "backgroundcolor": "#E5ECF6",
            "gridcolor": "white",
            "gridwidth": 2,
            "linecolor": "white",
            "showbackground": true,
            "ticks": "",
            "zerolinecolor": "white"
           }
          },
          "shapedefaults": {
           "line": {
            "color": "#2a3f5f"
           }
          },
          "ternary": {
           "aaxis": {
            "gridcolor": "white",
            "linecolor": "white",
            "ticks": ""
           },
           "baxis": {
            "gridcolor": "white",
            "linecolor": "white",
            "ticks": ""
           },
           "bgcolor": "#E5ECF6",
           "caxis": {
            "gridcolor": "white",
            "linecolor": "white",
            "ticks": ""
           }
          },
          "title": {
           "x": 0.05
          },
          "xaxis": {
           "automargin": true,
           "gridcolor": "white",
           "linecolor": "white",
           "ticks": "",
           "title": {
            "standoff": 15
           },
           "zerolinecolor": "white",
           "zerolinewidth": 2
          },
          "yaxis": {
           "automargin": true,
           "gridcolor": "white",
           "linecolor": "white",
           "ticks": "",
           "title": {
            "standoff": 15
           },
           "zerolinecolor": "white",
           "zerolinewidth": 2
          }
         }
        },
        "xaxis": {
         "anchor": "y",
         "domain": [
          0,
          1
         ],
         "title": {
          "text": "Psychiatrists per 100 000 people"
         }
        },
        "yaxis": {
         "anchor": "x",
         "domain": [
          0,
          1
         ],
         "title": {
          "text": "Suicide rate"
         }
        }
       }
      }
     },
     "metadata": {},
     "output_type": "display_data"
    }
   ],
   "source": [
    "fig = px.scatter(df2016g[df2016g[\"psychiatrists_per_100k\"] < 2], x=\"psychiatrists_per_100k\", y=\"suicide_rate\", trendline=\"ols\", color=\"sex\")\n",
    "fig.update_xaxes(title_text=\"Psychiatrists per 100 000 people\"); fig.update_yaxes(title_text=\"Suicide rate\")\n",
    "fig.update_layout(legend_title_text=\"Sex\")\n",
    "fig.show()"
   ]
  },
  {
   "attachments": {},
   "cell_type": "markdown",
   "metadata": {},
   "source": [
    "It's only for one gender, but we've found a negative trend that just might actually mean something. Although in absolute rather than percentage terms, the lines are very close, and this isn't the only chart that's true of. Is there a certain percentage of male suicides that are inevitable, or perhaps a certain type we haven't figured out how to get to? The WHO states confidently on their website that suicides are preventable, so probably the latter. Not that I'm trying to pretend the field didn't know about this gender difference already."
   ]
  },
  {
   "cell_type": "code",
   "execution_count": 76,
   "metadata": {},
   "outputs": [
    {
     "data": {
      "application/vnd.plotly.v1+json": {
       "config": {
        "plotlyServerURL": "https://plot.ly"
       },
       "data": [
        {
         "hovertemplate": "sex=Male<br>nurses_per_100k=%{x}<br>suicide_rate=%{y}<extra></extra>",
         "legendgroup": "Male",
         "marker": {
          "color": "#636efa",
          "symbol": "circle"
         },
         "mode": "markers",
         "name": "Male",
         "orientation": "v",
         "showlegend": true,
         "type": "scatter",
         "x": [
          0.098,
          0.66,
          6.876,
          4.37,
          11.245,
          7.005,
          6.717,
          0.635,
          0.873,
          17.736,
          3.34,
          15.088,
          0.127,
          1.88,
          0.381,
          0.5,
          0,
          5.699,
          8.899,
          0.056,
          4.799,
          2.166,
          1.457,
          0.518,
          5.922,
          7.733,
          0.303,
          0.791,
          12.748,
          0.936,
          1.071,
          0.233,
          2.518,
          0.796,
          3.297,
          7.365,
          0.277,
          13.662,
          6.401,
          2.451,
          0.314,
          2.239,
          0.092,
          0.321,
          18.307,
          4.199,
          6.838,
          0.907,
          0.126,
          0.558,
          3.452,
          5.995,
          9.933,
          18.71,
          1.376,
          10.66,
          0.267,
          0.017,
          4.602,
          16.63,
          8.534,
          1.068,
          0.021,
          0.27,
          7.418,
          1.497,
          1.37,
          16.923,
          2.242,
          4.283,
          9.214,
          4.535,
          1.548,
          0.323,
          1.429,
          3.486
         ],
         "xaxis": "x",
         "y": [
          10.6,
          14,
          7,
          3.5,
          10.1,
          0,
          4.3,
          22.4,
          5.5,
          13.1,
          9.9,
          6.2,
          13.8,
          16,
          32,
          13.9,
          11.5,
          12.8,
          16.4,
          10.7,
          7.2,
          22.4,
          8.8,
          15,
          12.3,
          15.8,
          12.8,
          8.9,
          6.1,
          2.1,
          4.4,
          18.3,
          5.2,
          18.5,
          4.7,
          14.8,
          9,
          29.6,
          13.8,
          2.5,
          10.5,
          8.2,
          13.5,
          6.3,
          12.6,
          23.3,
          8.7,
          19.4,
          11.5,
          11.4,
          7.6,
          7.6,
          7.3,
          13.9,
          16.9,
          4.6,
          20.3,
          8.3,
          4.2,
          36.1,
          15,
          3.8,
          17.1,
          22.7,
          21.4,
          5,
          9,
          5.2,
          21.2,
          21.1,
          10.3,
          8.1,
          8.7,
          13.4,
          17.5,
          29.1
         ],
         "yaxis": "y"
        },
        {
         "hovertemplate": "<b>OLS trendline</b><br>suicide_rate = 0.0380369 * nurses_per_100k + 12.2877<br>R<sup>2</sup>=0.000711<br><br>sex=Male<br>nurses_per_100k=%{x}<br>suicide_rate=%{y} <b>(trend)</b><extra></extra>",
         "legendgroup": "Male",
         "marker": {
          "color": "#636efa",
          "symbol": "circle"
         },
         "mode": "lines",
         "name": "Male",
         "showlegend": false,
         "type": "scatter",
         "x": [
          0,
          0.017,
          0.021,
          0.056,
          0.092,
          0.098,
          0.126,
          0.127,
          0.233,
          0.267,
          0.27,
          0.277,
          0.303,
          0.314,
          0.321,
          0.323,
          0.381,
          0.5,
          0.518,
          0.558,
          0.635,
          0.66,
          0.791,
          0.796,
          0.873,
          0.907,
          0.936,
          1.068,
          1.071,
          1.37,
          1.376,
          1.429,
          1.457,
          1.497,
          1.548,
          1.88,
          2.166,
          2.239,
          2.242,
          2.451,
          2.518,
          3.297,
          3.34,
          3.452,
          3.486,
          4.199,
          4.283,
          4.37,
          4.535,
          4.602,
          4.799,
          5.699,
          5.922,
          5.995,
          6.401,
          6.717,
          6.838,
          6.876,
          7.005,
          7.365,
          7.418,
          7.733,
          8.534,
          8.899,
          9.214,
          9.933,
          10.66,
          11.245,
          12.748,
          13.662,
          15.088,
          16.63,
          16.923,
          17.736,
          18.307,
          18.71
         ],
         "xaxis": "x",
         "y": [
          12.28774886029241,
          12.288395486837997,
          12.288547634260487,
          12.289878924207283,
          12.2912482510097,
          12.291476472143437,
          12.292541504100873,
          12.292579540956496,
          12.296611447652502,
          12.297904700743675,
          12.298018811310543,
          12.298285069299903,
          12.299274027546092,
          12.299692432957942,
          12.299958690947301,
          12.300034764658546,
          12.302240902284664,
          12.306767288103767,
          12.307451951504975,
          12.308973425729883,
          12.311902263612833,
          12.312853185003402,
          12.317836013089977,
          12.31802619736809,
          12.320955035251039,
          12.32224828834221,
          12.32335135715527,
          12.328372222097467,
          12.328486332664335,
          12.339859352495527,
          12.340087573629264,
          12.342103526977267,
          12.343168558934703,
          12.344690033159612,
          12.34662991279637,
          12.35925814886311,
          12.370136689571206,
          12.372913380031664,
          12.373027490598533,
          12.380977193423679,
          12.383525662750401,
          12.413156373280493,
          12.414791958072271,
          12.419052085902015,
          12.420345338993187,
          12.447465617052181,
          12.450660712924488,
          12.453969919363665,
          12.460246000541412,
          12.462794469868134,
          12.470287730425808,
          12.50452090048625,
          12.513003119290115,
          12.515779809750573,
          12.531222773133393,
          12.543242419510172,
          12.54784487904052,
          12.549290279554183,
          12.554197033929512,
          12.567890301953689,
          12.569906255301692,
          12.581887864822848,
          12.61235538617664,
          12.62623883847893,
          12.638220448000085,
          12.665568947192815,
          12.693221741230527,
          12.715473301769814,
          12.772642695770752,
          12.80740838180991,
          12.8616489379279,
          12.920301769298122,
          12.931446567995577,
          12.962370531616843,
          12.98408957617741,
          12.999418428993366
         ],
         "yaxis": "y"
        },
        {
         "hovertemplate": "sex=Female<br>nurses_per_100k=%{x}<br>suicide_rate=%{y}<extra></extra>",
         "legendgroup": "Female",
         "marker": {
          "color": "#EF553B",
          "symbol": "circle"
         },
         "mode": "markers",
         "name": "Female",
         "orientation": "v",
         "showlegend": true,
         "type": "scatter",
         "x": [
          0.098,
          0.66,
          6.876,
          4.37,
          11.245,
          7.005,
          6.717,
          0.635,
          0.873,
          17.736,
          3.34,
          15.088,
          0.127,
          1.88,
          0.381,
          0.5,
          0,
          5.699,
          8.899,
          0.056,
          4.799,
          2.166,
          1.457,
          0.518,
          5.922,
          7.733,
          0.303,
          0.791,
          12.748,
          0.936,
          1.071,
          0.233,
          2.518,
          0.796,
          3.297,
          7.365,
          0.277,
          13.662,
          6.401,
          2.451,
          0.314,
          2.239,
          0.092,
          0.321,
          18.307,
          4.199,
          6.838,
          0.907,
          0.126,
          0.558,
          3.452,
          5.995,
          9.933,
          18.71,
          1.376,
          10.66,
          0.267,
          0.017,
          4.602,
          16.63,
          8.534,
          1.068,
          0.021,
          0.27,
          7.418,
          1.497,
          1.37,
          16.923,
          2.242,
          4.283,
          9.214,
          4.535,
          1.548,
          0.323,
          1.429,
          3.486
         ],
         "xaxis": "x",
         "y": [
          2.1,
          4.6,
          4.3,
          0.8,
          2,
          0.9,
          1,
          9.1,
          6.7,
          3.2,
          2,
          2.8,
          8.9,
          3.8,
          13,
          5,
          2.8,
          2.3,
          4.1,
          3.8,
          1.7,
          6.1,
          2.5,
          4.3,
          1.9,
          2.9,
          7.3,
          6.1,
          1.5,
          1,
          1.7,
          6.4,
          2.2,
          14.5,
          2.7,
          3.7,
          3.2,
          11.6,
          13,
          3.6,
          3.6,
          2.3,
          4.7,
          9.8,
          3.6,
          3.8,
          3.6,
          4.9,
          6.7,
          8,
          1.2,
          2.7,
          1.1,
          2.4,
          6,
          1.7,
          5.2,
          4.1,
          2.1,
          10.9,
          2.1,
          1.1,
          13.8,
          10.9,
          4.8,
          1.7,
          3.7,
          2.9,
          18.7,
          6.4,
          4.6,
          2.7,
          2.2,
          6.2,
          6.2,
          11.1
         ],
         "yaxis": "y"
        },
        {
         "hovertemplate": "<b>OLS trendline</b><br>suicide_rate = -0.14085 * nurses_per_100k + 5.47517<br>R<sup>2</sup>=0.036952<br><br>sex=Female<br>nurses_per_100k=%{x}<br>suicide_rate=%{y} <b>(trend)</b><extra></extra>",
         "legendgroup": "Female",
         "marker": {
          "color": "#EF553B",
          "symbol": "circle"
         },
         "mode": "lines",
         "name": "Female",
         "showlegend": false,
         "type": "scatter",
         "x": [
          0,
          0.017,
          0.021,
          0.056,
          0.092,
          0.098,
          0.126,
          0.127,
          0.233,
          0.267,
          0.27,
          0.277,
          0.303,
          0.314,
          0.321,
          0.323,
          0.381,
          0.5,
          0.518,
          0.558,
          0.635,
          0.66,
          0.791,
          0.796,
          0.873,
          0.907,
          0.936,
          1.068,
          1.071,
          1.37,
          1.376,
          1.429,
          1.457,
          1.497,
          1.548,
          1.88,
          2.166,
          2.239,
          2.242,
          2.451,
          2.518,
          3.297,
          3.34,
          3.452,
          3.486,
          4.199,
          4.283,
          4.37,
          4.535,
          4.602,
          4.799,
          5.699,
          5.922,
          5.995,
          6.401,
          6.717,
          6.838,
          6.876,
          7.005,
          7.365,
          7.418,
          7.733,
          8.534,
          8.899,
          9.214,
          9.933,
          10.66,
          11.245,
          12.748,
          13.662,
          15.088,
          16.63,
          16.923,
          17.736,
          18.307,
          18.71
         ],
         "xaxis": "x",
         "y": [
          5.475174509718334,
          5.472780064269605,
          5.4722166653404924,
          5.4672869247107565,
          5.462216334348742,
          5.461371235955073,
          5.457427443451285,
          5.457286593719006,
          5.442356522097519,
          5.437567631200062,
          5.437145082003227,
          5.43615913387728,
          5.432497040838047,
          5.430947693782987,
          5.429961745657041,
          5.429680046192484,
          5.4215107617203495,
          5.404749643579247,
          5.40221434839824,
          5.396580359107113,
          5.385734929721694,
          5.382213686414739,
          5.363762371486298,
          5.363058122824907,
          5.352212693439488,
          5.34742380254203,
          5.343339160305963,
          5.324746995645244,
          5.32432444644841,
          5.282210376497235,
          5.281365278103566,
          5.2739002422928225,
          5.269956449789034,
          5.264322460497907,
          5.25713912415172,
          5.210377013035366,
          5.170093989603808,
          5.159811959147501,
          5.159389409950667,
          5.129951815904528,
          5.12051488384189,
          5.010792942397193,
          5.004736403909231,
          4.988961233894075,
          4.984172342996618,
          4.8837464838822795,
          4.8719151063709125,
          4.859661179662711,
          4.8364209738368125,
          4.826984041774175,
          4.799236644515375,
          4.672471885465018,
          4.641062395166984,
          4.630780364710677,
          4.573595373405739,
          4.529086858005836,
          4.512044040400177,
          4.506691750573606,
          4.488522135109721,
          4.437816231489578,
          4.430351195678836,
          4.38598353001121,
          4.273162894456393,
          4.221752742174859,
          4.177385076507234,
          4.076114118999227,
          3.9737163636329935,
          3.8913192702502615,
          3.6796221226361654,
          3.5508854673339134,
          3.3500337491052368,
          3.132843461932292,
          3.0915744903747866,
          2.9770636580326304,
          2.896638460901793,
          2.8398760187936882
         ],
         "yaxis": "y"
        }
       ],
       "layout": {
        "legend": {
         "title": {
          "text": "Sex"
         },
         "tracegroupgap": 0
        },
        "margin": {
         "t": 60
        },
        "template": {
         "data": {
          "bar": [
           {
            "error_x": {
             "color": "#2a3f5f"
            },
            "error_y": {
             "color": "#2a3f5f"
            },
            "marker": {
             "line": {
              "color": "#E5ECF6",
              "width": 0.5
             },
             "pattern": {
              "fillmode": "overlay",
              "size": 10,
              "solidity": 0.2
             }
            },
            "type": "bar"
           }
          ],
          "barpolar": [
           {
            "marker": {
             "line": {
              "color": "#E5ECF6",
              "width": 0.5
             },
             "pattern": {
              "fillmode": "overlay",
              "size": 10,
              "solidity": 0.2
             }
            },
            "type": "barpolar"
           }
          ],
          "carpet": [
           {
            "aaxis": {
             "endlinecolor": "#2a3f5f",
             "gridcolor": "white",
             "linecolor": "white",
             "minorgridcolor": "white",
             "startlinecolor": "#2a3f5f"
            },
            "baxis": {
             "endlinecolor": "#2a3f5f",
             "gridcolor": "white",
             "linecolor": "white",
             "minorgridcolor": "white",
             "startlinecolor": "#2a3f5f"
            },
            "type": "carpet"
           }
          ],
          "choropleth": [
           {
            "colorbar": {
             "outlinewidth": 0,
             "ticks": ""
            },
            "type": "choropleth"
           }
          ],
          "contour": [
           {
            "colorbar": {
             "outlinewidth": 0,
             "ticks": ""
            },
            "colorscale": [
             [
              0,
              "#0d0887"
             ],
             [
              0.1111111111111111,
              "#46039f"
             ],
             [
              0.2222222222222222,
              "#7201a8"
             ],
             [
              0.3333333333333333,
              "#9c179e"
             ],
             [
              0.4444444444444444,
              "#bd3786"
             ],
             [
              0.5555555555555556,
              "#d8576b"
             ],
             [
              0.6666666666666666,
              "#ed7953"
             ],
             [
              0.7777777777777778,
              "#fb9f3a"
             ],
             [
              0.8888888888888888,
              "#fdca26"
             ],
             [
              1,
              "#f0f921"
             ]
            ],
            "type": "contour"
           }
          ],
          "contourcarpet": [
           {
            "colorbar": {
             "outlinewidth": 0,
             "ticks": ""
            },
            "type": "contourcarpet"
           }
          ],
          "heatmap": [
           {
            "colorbar": {
             "outlinewidth": 0,
             "ticks": ""
            },
            "colorscale": [
             [
              0,
              "#0d0887"
             ],
             [
              0.1111111111111111,
              "#46039f"
             ],
             [
              0.2222222222222222,
              "#7201a8"
             ],
             [
              0.3333333333333333,
              "#9c179e"
             ],
             [
              0.4444444444444444,
              "#bd3786"
             ],
             [
              0.5555555555555556,
              "#d8576b"
             ],
             [
              0.6666666666666666,
              "#ed7953"
             ],
             [
              0.7777777777777778,
              "#fb9f3a"
             ],
             [
              0.8888888888888888,
              "#fdca26"
             ],
             [
              1,
              "#f0f921"
             ]
            ],
            "type": "heatmap"
           }
          ],
          "heatmapgl": [
           {
            "colorbar": {
             "outlinewidth": 0,
             "ticks": ""
            },
            "colorscale": [
             [
              0,
              "#0d0887"
             ],
             [
              0.1111111111111111,
              "#46039f"
             ],
             [
              0.2222222222222222,
              "#7201a8"
             ],
             [
              0.3333333333333333,
              "#9c179e"
             ],
             [
              0.4444444444444444,
              "#bd3786"
             ],
             [
              0.5555555555555556,
              "#d8576b"
             ],
             [
              0.6666666666666666,
              "#ed7953"
             ],
             [
              0.7777777777777778,
              "#fb9f3a"
             ],
             [
              0.8888888888888888,
              "#fdca26"
             ],
             [
              1,
              "#f0f921"
             ]
            ],
            "type": "heatmapgl"
           }
          ],
          "histogram": [
           {
            "marker": {
             "pattern": {
              "fillmode": "overlay",
              "size": 10,
              "solidity": 0.2
             }
            },
            "type": "histogram"
           }
          ],
          "histogram2d": [
           {
            "colorbar": {
             "outlinewidth": 0,
             "ticks": ""
            },
            "colorscale": [
             [
              0,
              "#0d0887"
             ],
             [
              0.1111111111111111,
              "#46039f"
             ],
             [
              0.2222222222222222,
              "#7201a8"
             ],
             [
              0.3333333333333333,
              "#9c179e"
             ],
             [
              0.4444444444444444,
              "#bd3786"
             ],
             [
              0.5555555555555556,
              "#d8576b"
             ],
             [
              0.6666666666666666,
              "#ed7953"
             ],
             [
              0.7777777777777778,
              "#fb9f3a"
             ],
             [
              0.8888888888888888,
              "#fdca26"
             ],
             [
              1,
              "#f0f921"
             ]
            ],
            "type": "histogram2d"
           }
          ],
          "histogram2dcontour": [
           {
            "colorbar": {
             "outlinewidth": 0,
             "ticks": ""
            },
            "colorscale": [
             [
              0,
              "#0d0887"
             ],
             [
              0.1111111111111111,
              "#46039f"
             ],
             [
              0.2222222222222222,
              "#7201a8"
             ],
             [
              0.3333333333333333,
              "#9c179e"
             ],
             [
              0.4444444444444444,
              "#bd3786"
             ],
             [
              0.5555555555555556,
              "#d8576b"
             ],
             [
              0.6666666666666666,
              "#ed7953"
             ],
             [
              0.7777777777777778,
              "#fb9f3a"
             ],
             [
              0.8888888888888888,
              "#fdca26"
             ],
             [
              1,
              "#f0f921"
             ]
            ],
            "type": "histogram2dcontour"
           }
          ],
          "mesh3d": [
           {
            "colorbar": {
             "outlinewidth": 0,
             "ticks": ""
            },
            "type": "mesh3d"
           }
          ],
          "parcoords": [
           {
            "line": {
             "colorbar": {
              "outlinewidth": 0,
              "ticks": ""
             }
            },
            "type": "parcoords"
           }
          ],
          "pie": [
           {
            "automargin": true,
            "type": "pie"
           }
          ],
          "scatter": [
           {
            "fillpattern": {
             "fillmode": "overlay",
             "size": 10,
             "solidity": 0.2
            },
            "type": "scatter"
           }
          ],
          "scatter3d": [
           {
            "line": {
             "colorbar": {
              "outlinewidth": 0,
              "ticks": ""
             }
            },
            "marker": {
             "colorbar": {
              "outlinewidth": 0,
              "ticks": ""
             }
            },
            "type": "scatter3d"
           }
          ],
          "scattercarpet": [
           {
            "marker": {
             "colorbar": {
              "outlinewidth": 0,
              "ticks": ""
             }
            },
            "type": "scattercarpet"
           }
          ],
          "scattergeo": [
           {
            "marker": {
             "colorbar": {
              "outlinewidth": 0,
              "ticks": ""
             }
            },
            "type": "scattergeo"
           }
          ],
          "scattergl": [
           {
            "marker": {
             "colorbar": {
              "outlinewidth": 0,
              "ticks": ""
             }
            },
            "type": "scattergl"
           }
          ],
          "scattermapbox": [
           {
            "marker": {
             "colorbar": {
              "outlinewidth": 0,
              "ticks": ""
             }
            },
            "type": "scattermapbox"
           }
          ],
          "scatterpolar": [
           {
            "marker": {
             "colorbar": {
              "outlinewidth": 0,
              "ticks": ""
             }
            },
            "type": "scatterpolar"
           }
          ],
          "scatterpolargl": [
           {
            "marker": {
             "colorbar": {
              "outlinewidth": 0,
              "ticks": ""
             }
            },
            "type": "scatterpolargl"
           }
          ],
          "scatterternary": [
           {
            "marker": {
             "colorbar": {
              "outlinewidth": 0,
              "ticks": ""
             }
            },
            "type": "scatterternary"
           }
          ],
          "surface": [
           {
            "colorbar": {
             "outlinewidth": 0,
             "ticks": ""
            },
            "colorscale": [
             [
              0,
              "#0d0887"
             ],
             [
              0.1111111111111111,
              "#46039f"
             ],
             [
              0.2222222222222222,
              "#7201a8"
             ],
             [
              0.3333333333333333,
              "#9c179e"
             ],
             [
              0.4444444444444444,
              "#bd3786"
             ],
             [
              0.5555555555555556,
              "#d8576b"
             ],
             [
              0.6666666666666666,
              "#ed7953"
             ],
             [
              0.7777777777777778,
              "#fb9f3a"
             ],
             [
              0.8888888888888888,
              "#fdca26"
             ],
             [
              1,
              "#f0f921"
             ]
            ],
            "type": "surface"
           }
          ],
          "table": [
           {
            "cells": {
             "fill": {
              "color": "#EBF0F8"
             },
             "line": {
              "color": "white"
             }
            },
            "header": {
             "fill": {
              "color": "#C8D4E3"
             },
             "line": {
              "color": "white"
             }
            },
            "type": "table"
           }
          ]
         },
         "layout": {
          "annotationdefaults": {
           "arrowcolor": "#2a3f5f",
           "arrowhead": 0,
           "arrowwidth": 1
          },
          "autotypenumbers": "strict",
          "coloraxis": {
           "colorbar": {
            "outlinewidth": 0,
            "ticks": ""
           }
          },
          "colorscale": {
           "diverging": [
            [
             0,
             "#8e0152"
            ],
            [
             0.1,
             "#c51b7d"
            ],
            [
             0.2,
             "#de77ae"
            ],
            [
             0.3,
             "#f1b6da"
            ],
            [
             0.4,
             "#fde0ef"
            ],
            [
             0.5,
             "#f7f7f7"
            ],
            [
             0.6,
             "#e6f5d0"
            ],
            [
             0.7,
             "#b8e186"
            ],
            [
             0.8,
             "#7fbc41"
            ],
            [
             0.9,
             "#4d9221"
            ],
            [
             1,
             "#276419"
            ]
           ],
           "sequential": [
            [
             0,
             "#0d0887"
            ],
            [
             0.1111111111111111,
             "#46039f"
            ],
            [
             0.2222222222222222,
             "#7201a8"
            ],
            [
             0.3333333333333333,
             "#9c179e"
            ],
            [
             0.4444444444444444,
             "#bd3786"
            ],
            [
             0.5555555555555556,
             "#d8576b"
            ],
            [
             0.6666666666666666,
             "#ed7953"
            ],
            [
             0.7777777777777778,
             "#fb9f3a"
            ],
            [
             0.8888888888888888,
             "#fdca26"
            ],
            [
             1,
             "#f0f921"
            ]
           ],
           "sequentialminus": [
            [
             0,
             "#0d0887"
            ],
            [
             0.1111111111111111,
             "#46039f"
            ],
            [
             0.2222222222222222,
             "#7201a8"
            ],
            [
             0.3333333333333333,
             "#9c179e"
            ],
            [
             0.4444444444444444,
             "#bd3786"
            ],
            [
             0.5555555555555556,
             "#d8576b"
            ],
            [
             0.6666666666666666,
             "#ed7953"
            ],
            [
             0.7777777777777778,
             "#fb9f3a"
            ],
            [
             0.8888888888888888,
             "#fdca26"
            ],
            [
             1,
             "#f0f921"
            ]
           ]
          },
          "colorway": [
           "#636efa",
           "#EF553B",
           "#00cc96",
           "#ab63fa",
           "#FFA15A",
           "#19d3f3",
           "#FF6692",
           "#B6E880",
           "#FF97FF",
           "#FECB52"
          ],
          "font": {
           "color": "#2a3f5f"
          },
          "geo": {
           "bgcolor": "white",
           "lakecolor": "white",
           "landcolor": "#E5ECF6",
           "showlakes": true,
           "showland": true,
           "subunitcolor": "white"
          },
          "hoverlabel": {
           "align": "left"
          },
          "hovermode": "closest",
          "mapbox": {
           "style": "light"
          },
          "paper_bgcolor": "white",
          "plot_bgcolor": "#E5ECF6",
          "polar": {
           "angularaxis": {
            "gridcolor": "white",
            "linecolor": "white",
            "ticks": ""
           },
           "bgcolor": "#E5ECF6",
           "radialaxis": {
            "gridcolor": "white",
            "linecolor": "white",
            "ticks": ""
           }
          },
          "scene": {
           "xaxis": {
            "backgroundcolor": "#E5ECF6",
            "gridcolor": "white",
            "gridwidth": 2,
            "linecolor": "white",
            "showbackground": true,
            "ticks": "",
            "zerolinecolor": "white"
           },
           "yaxis": {
            "backgroundcolor": "#E5ECF6",
            "gridcolor": "white",
            "gridwidth": 2,
            "linecolor": "white",
            "showbackground": true,
            "ticks": "",
            "zerolinecolor": "white"
           },
           "zaxis": {
            "backgroundcolor": "#E5ECF6",
            "gridcolor": "white",
            "gridwidth": 2,
            "linecolor": "white",
            "showbackground": true,
            "ticks": "",
            "zerolinecolor": "white"
           }
          },
          "shapedefaults": {
           "line": {
            "color": "#2a3f5f"
           }
          },
          "ternary": {
           "aaxis": {
            "gridcolor": "white",
            "linecolor": "white",
            "ticks": ""
           },
           "baxis": {
            "gridcolor": "white",
            "linecolor": "white",
            "ticks": ""
           },
           "bgcolor": "#E5ECF6",
           "caxis": {
            "gridcolor": "white",
            "linecolor": "white",
            "ticks": ""
           }
          },
          "title": {
           "x": 0.05
          },
          "xaxis": {
           "automargin": true,
           "gridcolor": "white",
           "linecolor": "white",
           "ticks": "",
           "title": {
            "standoff": 15
           },
           "zerolinecolor": "white",
           "zerolinewidth": 2
          },
          "yaxis": {
           "automargin": true,
           "gridcolor": "white",
           "linecolor": "white",
           "ticks": "",
           "title": {
            "standoff": 15
           },
           "zerolinecolor": "white",
           "zerolinewidth": 2
          }
         }
        },
        "xaxis": {
         "anchor": "y",
         "domain": [
          0,
          1
         ],
         "title": {
          "text": "Nurses per 100 000 people"
         }
        },
        "yaxis": {
         "anchor": "x",
         "domain": [
          0,
          1
         ],
         "title": {
          "text": "Suicide rate"
         }
        }
       }
      }
     },
     "metadata": {},
     "output_type": "display_data"
    }
   ],
   "source": [
    "fig = px.scatter(df2016g[df2016g[\"nurses_per_100k\"] < 20], x=\"nurses_per_100k\", y=\"suicide_rate\", trendline=\"ols\", color=\"sex\")\n",
    "fig.update_xaxes(title_text=\"Nurses per 100 000 people\"); fig.update_yaxes(title_text=\"Suicide rate\")\n",
    "fig.update_layout(legend_title_text=\"Sex\")\n",
    "fig.show()"
   ]
  },
  {
   "attachments": {},
   "cell_type": "markdown",
   "metadata": {},
   "source": [
    "I'm not seeing that much. It makes sense, nurses aren't strongly associated with suicide prevention the same way a few other occupations are."
   ]
  },
  {
   "cell_type": "code",
   "execution_count": 77,
   "metadata": {},
   "outputs": [
    {
     "data": {
      "application/vnd.plotly.v1+json": {
       "config": {
        "plotlyServerURL": "https://plot.ly"
       },
       "data": [
        {
         "hovertemplate": "sex=Male<br>social_workers_per_100k=%{x}<br>suicide_rate=%{y}<extra></extra>",
         "legendgroup": "Male",
         "marker": {
          "color": "#636efa",
          "symbol": "circle"
         },
         "mode": "markers",
         "name": "Male",
         "orientation": "v",
         "showlegend": true,
         "type": "scatter",
         "x": [
          0.022,
          0.36,
          0.274,
          0.114,
          0.011,
          0.78,
          0.239,
          0.02,
          0.294,
          0.019,
          0.448,
          0.041,
          0.532,
          0.56,
          0.104,
          0.008,
          0.101,
          0.169,
          0.006,
          0.373,
          0.065,
          0.218,
          0.564,
          0.646,
          0.05,
          0.53,
          0.013,
          0.101,
          0.018,
          0.206,
          0.028,
          0.115,
          0.503,
          0.172,
          0.067,
          0.301,
          0.511,
          0.362,
          0.801,
          0.007,
          0.054,
          0.836,
          0.037,
          0.378,
          0.056,
          0.019,
          0.634
         ],
         "xaxis": "x",
         "y": [
          14,
          3.5,
          10.1,
          4.3,
          22.4,
          13.1,
          6.2,
          13.9,
          17.9,
          10.7,
          7.2,
          22.4,
          25.6,
          8.8,
          15,
          12.7,
          12.8,
          8.9,
          4.4,
          18.3,
          18.5,
          4.7,
          12.7,
          2.5,
          10.5,
          8.2,
          6.3,
          23.3,
          14,
          19.4,
          11.5,
          7.3,
          13.9,
          16.9,
          20.3,
          24.8,
          4.2,
          36.1,
          3.8,
          17.1,
          22.7,
          21.4,
          21.2,
          8.1,
          13.4,
          17.5,
          29.1
         ],
         "yaxis": "y"
        },
        {
         "hovertemplate": "<b>OLS trendline</b><br>suicide_rate = -2.06311 * social_workers_per_100k + 14.5931<br>R<sup>2</sup>=0.004553<br><br>sex=Male<br>social_workers_per_100k=%{x}<br>suicide_rate=%{y} <b>(trend)</b><extra></extra>",
         "legendgroup": "Male",
         "marker": {
          "color": "#636efa",
          "symbol": "circle"
         },
         "mode": "lines",
         "name": "Male",
         "showlegend": false,
         "type": "scatter",
         "x": [
          0.006,
          0.007,
          0.008,
          0.011,
          0.013,
          0.018,
          0.019,
          0.019,
          0.02,
          0.022,
          0.028,
          0.037,
          0.041,
          0.05,
          0.054,
          0.056,
          0.065,
          0.067,
          0.101,
          0.101,
          0.104,
          0.114,
          0.115,
          0.169,
          0.172,
          0.206,
          0.218,
          0.239,
          0.274,
          0.294,
          0.301,
          0.36,
          0.362,
          0.373,
          0.378,
          0.448,
          0.503,
          0.511,
          0.53,
          0.532,
          0.56,
          0.564,
          0.634,
          0.646,
          0.78,
          0.801,
          0.836
         ],
         "xaxis": "x",
         "y": [
          14.580740739928494,
          14.578677630239627,
          14.57661452055076,
          14.570425191484158,
          14.566298972106424,
          14.555983423662088,
          14.55392031397322,
          14.55392031397322,
          14.551857204284353,
          14.54773098490662,
          14.535352326773417,
          14.516784339573611,
          14.508531900818143,
          14.48996391361834,
          14.48171147486287,
          14.477585255485137,
          14.459017268285331,
          14.454891048907598,
          14.384745319486115,
          14.384745319486115,
          14.378555990419512,
          14.357924893530841,
          14.355861783841974,
          14.244453860643146,
          14.238264531576545,
          14.168118802155062,
          14.143361485888656,
          14.100036182422446,
          14.027827343312095,
          13.986565149534751,
          13.972123381712683,
          13.85039991006952,
          13.846273690691785,
          13.823579484114246,
          13.81326393566991,
          13.668846257449209,
          13.555375224561516,
          13.538870347050578,
          13.499671262962103,
          13.495545043584368,
          13.437777972296088,
          13.42952553354062,
          13.285107855319918,
          13.260350539053512,
          12.983893840745312,
          12.940568537279102,
          12.868359698168751
         ],
         "yaxis": "y"
        },
        {
         "hovertemplate": "sex=Female<br>social_workers_per_100k=%{x}<br>suicide_rate=%{y}<extra></extra>",
         "legendgroup": "Female",
         "marker": {
          "color": "#EF553B",
          "symbol": "circle"
         },
         "mode": "markers",
         "name": "Female",
         "orientation": "v",
         "showlegend": true,
         "type": "scatter",
         "x": [
          0.022,
          0.36,
          0.274,
          0.114,
          0.011,
          0.78,
          0.239,
          0.02,
          0.294,
          0.019,
          0.448,
          0.041,
          0.532,
          0.56,
          0.104,
          0.008,
          0.101,
          0.169,
          0.006,
          0.373,
          0.065,
          0.218,
          0.564,
          0.646,
          0.05,
          0.53,
          0.013,
          0.101,
          0.018,
          0.206,
          0.028,
          0.115,
          0.503,
          0.172,
          0.067,
          0.301,
          0.511,
          0.362,
          0.801,
          0.007,
          0.054,
          0.836,
          0.037,
          0.378,
          0.056,
          0.019,
          0.634
         ],
         "xaxis": "x",
         "y": [
          4.6,
          0.8,
          2,
          1,
          9.1,
          3.2,
          2.8,
          5,
          3.2,
          3.8,
          1.7,
          6.1,
          4.4,
          2.5,
          4.3,
          8.4,
          7.3,
          6.1,
          1.7,
          6.4,
          14.5,
          2.7,
          2.1,
          3.6,
          3.6,
          2.3,
          9.8,
          3.8,
          4.1,
          4.9,
          6.7,
          1.1,
          2.4,
          6,
          5.2,
          4.3,
          2.1,
          10.9,
          1.1,
          13.8,
          10.9,
          4.8,
          18.7,
          2.7,
          6.2,
          6.2,
          11.1
         ],
         "yaxis": "y"
        },
        {
         "hovertemplate": "<b>OLS trendline</b><br>suicide_rate = -5.57487 * social_workers_per_100k + 6.71488<br>R<sup>2</sup>=0.127035<br><br>sex=Female<br>social_workers_per_100k=%{x}<br>suicide_rate=%{y} <b>(trend)</b><extra></extra>",
         "legendgroup": "Female",
         "marker": {
          "color": "#EF553B",
          "symbol": "circle"
         },
         "mode": "lines",
         "name": "Female",
         "showlegend": false,
         "type": "scatter",
         "x": [
          0.006,
          0.007,
          0.008,
          0.011,
          0.013,
          0.018,
          0.019,
          0.019,
          0.02,
          0.022,
          0.028,
          0.037,
          0.041,
          0.05,
          0.054,
          0.056,
          0.065,
          0.067,
          0.101,
          0.101,
          0.104,
          0.114,
          0.115,
          0.169,
          0.172,
          0.206,
          0.218,
          0.239,
          0.274,
          0.294,
          0.301,
          0.36,
          0.362,
          0.373,
          0.378,
          0.448,
          0.503,
          0.511,
          0.53,
          0.532,
          0.56,
          0.564,
          0.634,
          0.646,
          0.78,
          0.801,
          0.836
         ],
         "xaxis": "x",
         "y": [
          6.681434748072153,
          6.675859873613346,
          6.67028499915454,
          6.65356037577812,
          6.642410626860508,
          6.614536254566476,
          6.60896138010767,
          6.60896138010767,
          6.603386505648864,
          6.592236756731251,
          6.558787509978412,
          6.508613639849155,
          6.48631414201393,
          6.436140271884672,
          6.413840774049447,
          6.402691025131834,
          6.352517155002577,
          6.341367406084964,
          6.151821674485547,
          6.151821674485547,
          6.1350970511091285,
          6.079348306521064,
          6.073773432062258,
          5.772730211286714,
          5.756005587910295,
          5.566459856310878,
          5.499561362805202,
          5.382488999170269,
          5.187368393112045,
          5.075870903935918,
          5.0368467827242736,
          4.707929189654697,
          4.696779440737084,
          4.635455821690215,
          4.607581449396182,
          4.217340237279736,
          3.910722142045386,
          3.8661231463749353,
          3.760200531657614,
          3.7490507827400013,
          3.5929542978934226,
          3.5706548000581977,
          3.1804135879417514,
          3.113515094436075,
          2.3664819169560216,
          2.2494095533210876,
          2.054288947262865
         ],
         "yaxis": "y"
        }
       ],
       "layout": {
        "legend": {
         "title": {
          "text": "Sex"
         },
         "tracegroupgap": 0
        },
        "margin": {
         "t": 60
        },
        "template": {
         "data": {
          "bar": [
           {
            "error_x": {
             "color": "#2a3f5f"
            },
            "error_y": {
             "color": "#2a3f5f"
            },
            "marker": {
             "line": {
              "color": "#E5ECF6",
              "width": 0.5
             },
             "pattern": {
              "fillmode": "overlay",
              "size": 10,
              "solidity": 0.2
             }
            },
            "type": "bar"
           }
          ],
          "barpolar": [
           {
            "marker": {
             "line": {
              "color": "#E5ECF6",
              "width": 0.5
             },
             "pattern": {
              "fillmode": "overlay",
              "size": 10,
              "solidity": 0.2
             }
            },
            "type": "barpolar"
           }
          ],
          "carpet": [
           {
            "aaxis": {
             "endlinecolor": "#2a3f5f",
             "gridcolor": "white",
             "linecolor": "white",
             "minorgridcolor": "white",
             "startlinecolor": "#2a3f5f"
            },
            "baxis": {
             "endlinecolor": "#2a3f5f",
             "gridcolor": "white",
             "linecolor": "white",
             "minorgridcolor": "white",
             "startlinecolor": "#2a3f5f"
            },
            "type": "carpet"
           }
          ],
          "choropleth": [
           {
            "colorbar": {
             "outlinewidth": 0,
             "ticks": ""
            },
            "type": "choropleth"
           }
          ],
          "contour": [
           {
            "colorbar": {
             "outlinewidth": 0,
             "ticks": ""
            },
            "colorscale": [
             [
              0,
              "#0d0887"
             ],
             [
              0.1111111111111111,
              "#46039f"
             ],
             [
              0.2222222222222222,
              "#7201a8"
             ],
             [
              0.3333333333333333,
              "#9c179e"
             ],
             [
              0.4444444444444444,
              "#bd3786"
             ],
             [
              0.5555555555555556,
              "#d8576b"
             ],
             [
              0.6666666666666666,
              "#ed7953"
             ],
             [
              0.7777777777777778,
              "#fb9f3a"
             ],
             [
              0.8888888888888888,
              "#fdca26"
             ],
             [
              1,
              "#f0f921"
             ]
            ],
            "type": "contour"
           }
          ],
          "contourcarpet": [
           {
            "colorbar": {
             "outlinewidth": 0,
             "ticks": ""
            },
            "type": "contourcarpet"
           }
          ],
          "heatmap": [
           {
            "colorbar": {
             "outlinewidth": 0,
             "ticks": ""
            },
            "colorscale": [
             [
              0,
              "#0d0887"
             ],
             [
              0.1111111111111111,
              "#46039f"
             ],
             [
              0.2222222222222222,
              "#7201a8"
             ],
             [
              0.3333333333333333,
              "#9c179e"
             ],
             [
              0.4444444444444444,
              "#bd3786"
             ],
             [
              0.5555555555555556,
              "#d8576b"
             ],
             [
              0.6666666666666666,
              "#ed7953"
             ],
             [
              0.7777777777777778,
              "#fb9f3a"
             ],
             [
              0.8888888888888888,
              "#fdca26"
             ],
             [
              1,
              "#f0f921"
             ]
            ],
            "type": "heatmap"
           }
          ],
          "heatmapgl": [
           {
            "colorbar": {
             "outlinewidth": 0,
             "ticks": ""
            },
            "colorscale": [
             [
              0,
              "#0d0887"
             ],
             [
              0.1111111111111111,
              "#46039f"
             ],
             [
              0.2222222222222222,
              "#7201a8"
             ],
             [
              0.3333333333333333,
              "#9c179e"
             ],
             [
              0.4444444444444444,
              "#bd3786"
             ],
             [
              0.5555555555555556,
              "#d8576b"
             ],
             [
              0.6666666666666666,
              "#ed7953"
             ],
             [
              0.7777777777777778,
              "#fb9f3a"
             ],
             [
              0.8888888888888888,
              "#fdca26"
             ],
             [
              1,
              "#f0f921"
             ]
            ],
            "type": "heatmapgl"
           }
          ],
          "histogram": [
           {
            "marker": {
             "pattern": {
              "fillmode": "overlay",
              "size": 10,
              "solidity": 0.2
             }
            },
            "type": "histogram"
           }
          ],
          "histogram2d": [
           {
            "colorbar": {
             "outlinewidth": 0,
             "ticks": ""
            },
            "colorscale": [
             [
              0,
              "#0d0887"
             ],
             [
              0.1111111111111111,
              "#46039f"
             ],
             [
              0.2222222222222222,
              "#7201a8"
             ],
             [
              0.3333333333333333,
              "#9c179e"
             ],
             [
              0.4444444444444444,
              "#bd3786"
             ],
             [
              0.5555555555555556,
              "#d8576b"
             ],
             [
              0.6666666666666666,
              "#ed7953"
             ],
             [
              0.7777777777777778,
              "#fb9f3a"
             ],
             [
              0.8888888888888888,
              "#fdca26"
             ],
             [
              1,
              "#f0f921"
             ]
            ],
            "type": "histogram2d"
           }
          ],
          "histogram2dcontour": [
           {
            "colorbar": {
             "outlinewidth": 0,
             "ticks": ""
            },
            "colorscale": [
             [
              0,
              "#0d0887"
             ],
             [
              0.1111111111111111,
              "#46039f"
             ],
             [
              0.2222222222222222,
              "#7201a8"
             ],
             [
              0.3333333333333333,
              "#9c179e"
             ],
             [
              0.4444444444444444,
              "#bd3786"
             ],
             [
              0.5555555555555556,
              "#d8576b"
             ],
             [
              0.6666666666666666,
              "#ed7953"
             ],
             [
              0.7777777777777778,
              "#fb9f3a"
             ],
             [
              0.8888888888888888,
              "#fdca26"
             ],
             [
              1,
              "#f0f921"
             ]
            ],
            "type": "histogram2dcontour"
           }
          ],
          "mesh3d": [
           {
            "colorbar": {
             "outlinewidth": 0,
             "ticks": ""
            },
            "type": "mesh3d"
           }
          ],
          "parcoords": [
           {
            "line": {
             "colorbar": {
              "outlinewidth": 0,
              "ticks": ""
             }
            },
            "type": "parcoords"
           }
          ],
          "pie": [
           {
            "automargin": true,
            "type": "pie"
           }
          ],
          "scatter": [
           {
            "fillpattern": {
             "fillmode": "overlay",
             "size": 10,
             "solidity": 0.2
            },
            "type": "scatter"
           }
          ],
          "scatter3d": [
           {
            "line": {
             "colorbar": {
              "outlinewidth": 0,
              "ticks": ""
             }
            },
            "marker": {
             "colorbar": {
              "outlinewidth": 0,
              "ticks": ""
             }
            },
            "type": "scatter3d"
           }
          ],
          "scattercarpet": [
           {
            "marker": {
             "colorbar": {
              "outlinewidth": 0,
              "ticks": ""
             }
            },
            "type": "scattercarpet"
           }
          ],
          "scattergeo": [
           {
            "marker": {
             "colorbar": {
              "outlinewidth": 0,
              "ticks": ""
             }
            },
            "type": "scattergeo"
           }
          ],
          "scattergl": [
           {
            "marker": {
             "colorbar": {
              "outlinewidth": 0,
              "ticks": ""
             }
            },
            "type": "scattergl"
           }
          ],
          "scattermapbox": [
           {
            "marker": {
             "colorbar": {
              "outlinewidth": 0,
              "ticks": ""
             }
            },
            "type": "scattermapbox"
           }
          ],
          "scatterpolar": [
           {
            "marker": {
             "colorbar": {
              "outlinewidth": 0,
              "ticks": ""
             }
            },
            "type": "scatterpolar"
           }
          ],
          "scatterpolargl": [
           {
            "marker": {
             "colorbar": {
              "outlinewidth": 0,
              "ticks": ""
             }
            },
            "type": "scatterpolargl"
           }
          ],
          "scatterternary": [
           {
            "marker": {
             "colorbar": {
              "outlinewidth": 0,
              "ticks": ""
             }
            },
            "type": "scatterternary"
           }
          ],
          "surface": [
           {
            "colorbar": {
             "outlinewidth": 0,
             "ticks": ""
            },
            "colorscale": [
             [
              0,
              "#0d0887"
             ],
             [
              0.1111111111111111,
              "#46039f"
             ],
             [
              0.2222222222222222,
              "#7201a8"
             ],
             [
              0.3333333333333333,
              "#9c179e"
             ],
             [
              0.4444444444444444,
              "#bd3786"
             ],
             [
              0.5555555555555556,
              "#d8576b"
             ],
             [
              0.6666666666666666,
              "#ed7953"
             ],
             [
              0.7777777777777778,
              "#fb9f3a"
             ],
             [
              0.8888888888888888,
              "#fdca26"
             ],
             [
              1,
              "#f0f921"
             ]
            ],
            "type": "surface"
           }
          ],
          "table": [
           {
            "cells": {
             "fill": {
              "color": "#EBF0F8"
             },
             "line": {
              "color": "white"
             }
            },
            "header": {
             "fill": {
              "color": "#C8D4E3"
             },
             "line": {
              "color": "white"
             }
            },
            "type": "table"
           }
          ]
         },
         "layout": {
          "annotationdefaults": {
           "arrowcolor": "#2a3f5f",
           "arrowhead": 0,
           "arrowwidth": 1
          },
          "autotypenumbers": "strict",
          "coloraxis": {
           "colorbar": {
            "outlinewidth": 0,
            "ticks": ""
           }
          },
          "colorscale": {
           "diverging": [
            [
             0,
             "#8e0152"
            ],
            [
             0.1,
             "#c51b7d"
            ],
            [
             0.2,
             "#de77ae"
            ],
            [
             0.3,
             "#f1b6da"
            ],
            [
             0.4,
             "#fde0ef"
            ],
            [
             0.5,
             "#f7f7f7"
            ],
            [
             0.6,
             "#e6f5d0"
            ],
            [
             0.7,
             "#b8e186"
            ],
            [
             0.8,
             "#7fbc41"
            ],
            [
             0.9,
             "#4d9221"
            ],
            [
             1,
             "#276419"
            ]
           ],
           "sequential": [
            [
             0,
             "#0d0887"
            ],
            [
             0.1111111111111111,
             "#46039f"
            ],
            [
             0.2222222222222222,
             "#7201a8"
            ],
            [
             0.3333333333333333,
             "#9c179e"
            ],
            [
             0.4444444444444444,
             "#bd3786"
            ],
            [
             0.5555555555555556,
             "#d8576b"
            ],
            [
             0.6666666666666666,
             "#ed7953"
            ],
            [
             0.7777777777777778,
             "#fb9f3a"
            ],
            [
             0.8888888888888888,
             "#fdca26"
            ],
            [
             1,
             "#f0f921"
            ]
           ],
           "sequentialminus": [
            [
             0,
             "#0d0887"
            ],
            [
             0.1111111111111111,
             "#46039f"
            ],
            [
             0.2222222222222222,
             "#7201a8"
            ],
            [
             0.3333333333333333,
             "#9c179e"
            ],
            [
             0.4444444444444444,
             "#bd3786"
            ],
            [
             0.5555555555555556,
             "#d8576b"
            ],
            [
             0.6666666666666666,
             "#ed7953"
            ],
            [
             0.7777777777777778,
             "#fb9f3a"
            ],
            [
             0.8888888888888888,
             "#fdca26"
            ],
            [
             1,
             "#f0f921"
            ]
           ]
          },
          "colorway": [
           "#636efa",
           "#EF553B",
           "#00cc96",
           "#ab63fa",
           "#FFA15A",
           "#19d3f3",
           "#FF6692",
           "#B6E880",
           "#FF97FF",
           "#FECB52"
          ],
          "font": {
           "color": "#2a3f5f"
          },
          "geo": {
           "bgcolor": "white",
           "lakecolor": "white",
           "landcolor": "#E5ECF6",
           "showlakes": true,
           "showland": true,
           "subunitcolor": "white"
          },
          "hoverlabel": {
           "align": "left"
          },
          "hovermode": "closest",
          "mapbox": {
           "style": "light"
          },
          "paper_bgcolor": "white",
          "plot_bgcolor": "#E5ECF6",
          "polar": {
           "angularaxis": {
            "gridcolor": "white",
            "linecolor": "white",
            "ticks": ""
           },
           "bgcolor": "#E5ECF6",
           "radialaxis": {
            "gridcolor": "white",
            "linecolor": "white",
            "ticks": ""
           }
          },
          "scene": {
           "xaxis": {
            "backgroundcolor": "#E5ECF6",
            "gridcolor": "white",
            "gridwidth": 2,
            "linecolor": "white",
            "showbackground": true,
            "ticks": "",
            "zerolinecolor": "white"
           },
           "yaxis": {
            "backgroundcolor": "#E5ECF6",
            "gridcolor": "white",
            "gridwidth": 2,
            "linecolor": "white",
            "showbackground": true,
            "ticks": "",
            "zerolinecolor": "white"
           },
           "zaxis": {
            "backgroundcolor": "#E5ECF6",
            "gridcolor": "white",
            "gridwidth": 2,
            "linecolor": "white",
            "showbackground": true,
            "ticks": "",
            "zerolinecolor": "white"
           }
          },
          "shapedefaults": {
           "line": {
            "color": "#2a3f5f"
           }
          },
          "ternary": {
           "aaxis": {
            "gridcolor": "white",
            "linecolor": "white",
            "ticks": ""
           },
           "baxis": {
            "gridcolor": "white",
            "linecolor": "white",
            "ticks": ""
           },
           "bgcolor": "#E5ECF6",
           "caxis": {
            "gridcolor": "white",
            "linecolor": "white",
            "ticks": ""
           }
          },
          "title": {
           "x": 0.05
          },
          "xaxis": {
           "automargin": true,
           "gridcolor": "white",
           "linecolor": "white",
           "ticks": "",
           "title": {
            "standoff": 15
           },
           "zerolinecolor": "white",
           "zerolinewidth": 2
          },
          "yaxis": {
           "automargin": true,
           "gridcolor": "white",
           "linecolor": "white",
           "ticks": "",
           "title": {
            "standoff": 15
           },
           "zerolinecolor": "white",
           "zerolinewidth": 2
          }
         }
        },
        "xaxis": {
         "anchor": "y",
         "domain": [
          0,
          1
         ],
         "title": {
          "text": "Social workers per 100 000 people"
         }
        },
        "yaxis": {
         "anchor": "x",
         "domain": [
          0,
          1
         ],
         "title": {
          "text": "Suicide rate"
         }
        }
       }
      }
     },
     "metadata": {},
     "output_type": "display_data"
    }
   ],
   "source": [
    "fig = px.scatter(df2016g[df2016g[\"social_workers_per_100k\"] < 1], x=\"social_workers_per_100k\", y=\"suicide_rate\", trendline=\"ols\", color=\"sex\")\n",
    "fig.update_xaxes(title_text=\"Social workers per 100 000 people\"); fig.update_yaxes(title_text=\"Suicide rate\")\n",
    "fig.update_layout(legend_title_text=\"Sex\")\n",
    "fig.show()"
   ]
  },
  {
   "attachments": {},
   "cell_type": "markdown",
   "metadata": {},
   "source": [
    "Now this one has a gender difference. Almost nothing for males, but for females we've got something that could be significant. This is probably the most interesting one."
   ]
  },
  {
   "cell_type": "code",
   "execution_count": 78,
   "metadata": {},
   "outputs": [
    {
     "data": {
      "application/vnd.plotly.v1+json": {
       "config": {
        "plotlyServerURL": "https://plot.ly"
       },
       "data": [
        {
         "hovertemplate": "sex=Male<br>psychologists_per_100k=%{x}<br>suicide_rate=%{y}<extra></extra>",
         "legendgroup": "Male",
         "marker": {
          "color": "#636efa",
          "symbol": "circle"
         },
         "mode": "markers",
         "name": "Male",
         "orientation": "v",
         "showlegend": true,
         "type": "scatter",
         "x": [
          0.296,
          0.179,
          1.231,
          0.765,
          0.788,
          1.165,
          0.022,
          0.124,
          1.867,
          1.113,
          0.02,
          0.256,
          0.083,
          0.56,
          0.777,
          2.328,
          0.065,
          0.008,
          0.113,
          0,
          0.56,
          2.484,
          0.175,
          0.069,
          1.266,
          3.037,
          0.409,
          1.591,
          0.575,
          0.062,
          3.459,
          0.011,
          0.101,
          0.389,
          1.029,
          1.443,
          0.019,
          0.523,
          0.885,
          1.413,
          1.479,
          0.387,
          2.034,
          0.02,
          2.075,
          0.261,
          3.068,
          0.542,
          3.2,
          1.068,
          0.404,
          1.749,
          0.081,
          1.88,
          2.537,
          0.037,
          0.09,
          0.756,
          0.409,
          0.031,
          0.057
         ],
         "xaxis": "x",
         "y": [
          10.6,
          14,
          7,
          3.5,
          10.1,
          4.3,
          22.4,
          5.5,
          13.1,
          9.9,
          13.9,
          7.2,
          22.4,
          8.8,
          15,
          12.3,
          15.8,
          12.7,
          8.9,
          46.6,
          18.3,
          22.2,
          5.2,
          18.5,
          4.7,
          20.5,
          14.8,
          29.6,
          2.5,
          10.5,
          8.2,
          13.5,
          23.3,
          14,
          8.7,
          19.4,
          11.5,
          11.4,
          5.2,
          7.3,
          13.9,
          16.9,
          4.6,
          20.3,
          24.8,
          8.3,
          4.2,
          36.1,
          15,
          3.8,
          22.7,
          21.4,
          9,
          5.2,
          11.3,
          21.2,
          10.3,
          8.1,
          13.4,
          17.5,
          29.1
         ],
         "yaxis": "y"
        },
        {
         "hovertemplate": "<b>OLS trendline</b><br>suicide_rate = -1.22723 * psychologists_per_100k + 15.0158<br>R<sup>2</sup>=0.018832<br><br>sex=Male<br>psychologists_per_100k=%{x}<br>suicide_rate=%{y} <b>(trend)</b><extra></extra>",
         "legendgroup": "Male",
         "marker": {
          "color": "#636efa",
          "symbol": "circle"
         },
         "mode": "lines",
         "name": "Male",
         "showlegend": false,
         "type": "scatter",
         "x": [
          0,
          0.008,
          0.011,
          0.019,
          0.02,
          0.02,
          0.022,
          0.031,
          0.037,
          0.057,
          0.062,
          0.065,
          0.069,
          0.081,
          0.083,
          0.09,
          0.101,
          0.113,
          0.124,
          0.175,
          0.179,
          0.256,
          0.261,
          0.296,
          0.387,
          0.389,
          0.404,
          0.409,
          0.409,
          0.523,
          0.542,
          0.56,
          0.56,
          0.575,
          0.756,
          0.765,
          0.777,
          0.788,
          0.885,
          1.029,
          1.068,
          1.113,
          1.165,
          1.231,
          1.266,
          1.413,
          1.443,
          1.479,
          1.591,
          1.749,
          1.867,
          1.88,
          2.034,
          2.075,
          2.328,
          2.484,
          2.537,
          3.037,
          3.068,
          3.2,
          3.459
         ],
         "xaxis": "x",
         "y": [
          15.015813186344346,
          15.005995370061031,
          15.00231368895479,
          14.992495872671476,
          14.991268645636062,
          14.991268645636062,
          14.988814191565233,
          14.977769148246505,
          14.97040578603402,
          14.945861245325736,
          14.939725110148663,
          14.93604342904242,
          14.931134520900764,
          14.916407796475793,
          14.913953342404964,
          14.905362753157066,
          14.89186325576751,
          14.877136531342538,
          14.863637033952982,
          14.801048455146855,
          14.796139547005199,
          14.701643065278303,
          14.695506930101232,
          14.652553983861734,
          14.54087632363904,
          14.53842186956821,
          14.520013464036998,
          14.513877328859927,
          14.513877328859927,
          14.373973446822705,
          14.350656133149833,
          14.328566046512378,
          14.328566046512378,
          14.310157640981165,
          14.088029547571189,
          14.076984504252462,
          14.06225777982749,
          14.048758282437934,
          13.929717260002754,
          13.752996566903105,
          13.70513471252195,
          13.64990949592831,
          13.58609369008677,
          13.50509670574943,
          13.462143759509932,
          13.281741385304041,
          13.244924574241614,
          13.200744400966702,
          13.063294973000309,
          12.86939310140486,
          12.724580311225981,
          12.708626359765596,
          12.519633396311805,
          12.469317087859821,
          12.158828647900021,
          11.967381230375402,
          11.902338197498448,
          11.288724679791335,
          11.250680641693492,
          11.088686673018815,
          10.770834870846528
         ],
         "yaxis": "y"
        },
        {
         "hovertemplate": "sex=Female<br>psychologists_per_100k=%{x}<br>suicide_rate=%{y}<extra></extra>",
         "legendgroup": "Female",
         "marker": {
          "color": "#EF553B",
          "symbol": "circle"
         },
         "mode": "markers",
         "name": "Female",
         "orientation": "v",
         "showlegend": true,
         "type": "scatter",
         "x": [
          0.296,
          0.179,
          1.231,
          0.765,
          0.788,
          1.165,
          0.022,
          0.124,
          1.867,
          1.113,
          0.02,
          0.256,
          0.083,
          0.56,
          0.777,
          2.328,
          0.065,
          0.008,
          0.113,
          0,
          0.56,
          2.484,
          0.175,
          0.069,
          1.266,
          3.037,
          0.409,
          1.591,
          0.575,
          0.062,
          3.459,
          0.011,
          0.101,
          0.389,
          1.029,
          1.443,
          0.019,
          0.523,
          0.885,
          1.413,
          1.479,
          0.387,
          2.034,
          0.02,
          2.075,
          0.261,
          3.068,
          0.542,
          3.2,
          1.068,
          0.404,
          1.749,
          0.081,
          1.88,
          2.537,
          0.037,
          0.09,
          0.756,
          0.409,
          0.031,
          0.057
         ],
         "xaxis": "x",
         "y": [
          2.1,
          4.6,
          4.3,
          0.8,
          2,
          1,
          9.1,
          6.7,
          3.2,
          2,
          5,
          1.7,
          6.1,
          2.5,
          4.3,
          1.9,
          2.9,
          8.4,
          6.1,
          14.2,
          6.4,
          6.2,
          2.2,
          14.5,
          2.7,
          8.1,
          3.7,
          11.6,
          3.6,
          3.6,
          2.3,
          4.7,
          3.8,
          4.1,
          3.6,
          4.9,
          6.7,
          8,
          2.3,
          1.1,
          2.4,
          6,
          1.7,
          5.2,
          4.3,
          4.1,
          2.1,
          10.9,
          2.1,
          1.1,
          10.9,
          4.8,
          3.7,
          2.9,
          3.2,
          18.7,
          4.6,
          2.7,
          6.2,
          6.2,
          11.1
         ],
         "yaxis": "y"
        },
        {
         "hovertemplate": "<b>OLS trendline</b><br>suicide_rate = -1.26088 * psychologists_per_100k + 6.15184<br>R<sup>2</sup>=0.107042<br><br>sex=Female<br>psychologists_per_100k=%{x}<br>suicide_rate=%{y} <b>(trend)</b><extra></extra>",
         "legendgroup": "Female",
         "marker": {
          "color": "#EF553B",
          "symbol": "circle"
         },
         "mode": "lines",
         "name": "Female",
         "showlegend": false,
         "type": "scatter",
         "x": [
          0,
          0.008,
          0.011,
          0.019,
          0.02,
          0.02,
          0.022,
          0.031,
          0.037,
          0.057,
          0.062,
          0.065,
          0.069,
          0.081,
          0.083,
          0.09,
          0.101,
          0.113,
          0.124,
          0.175,
          0.179,
          0.256,
          0.261,
          0.296,
          0.387,
          0.389,
          0.404,
          0.409,
          0.409,
          0.523,
          0.542,
          0.56,
          0.56,
          0.575,
          0.756,
          0.765,
          0.777,
          0.788,
          0.885,
          1.029,
          1.068,
          1.113,
          1.165,
          1.231,
          1.266,
          1.413,
          1.443,
          1.479,
          1.591,
          1.749,
          1.867,
          1.88,
          2.034,
          2.075,
          2.328,
          2.484,
          2.537,
          3.037,
          3.068,
          3.2,
          3.459
         ],
         "xaxis": "x",
         "y": [
          6.151842375748421,
          6.141755355077102,
          6.137972722325357,
          6.127885701654038,
          6.126624824070123,
          6.126624824070123,
          6.1241030689022935,
          6.112755170647059,
          6.105189905143569,
          6.079972353465272,
          6.073667965545697,
          6.069885332793953,
          6.064841822458293,
          6.049711291451314,
          6.047189536283484,
          6.03836339319608,
          6.024493739773016,
          6.009363208766037,
          5.995493555342973,
          5.931188798563313,
          5.926145288227653,
          5.829057714266206,
          5.822753326346631,
          5.7786226109096095,
          5.663882750773353,
          5.6613609956055235,
          5.6424478318468,
          5.636143443927225,
          5.636143443927225,
          5.492403399360926,
          5.468446725266543,
          5.445750928756074,
          5.445750928756074,
          5.426837764997351,
          5.1986189223087536,
          5.187271024053519,
          5.17214049304654,
          5.158270839623476,
          5.035965713983731,
          4.854399341899985,
          4.805225116127303,
          4.748485624851132,
          4.682919990487557,
          4.599702069949173,
          4.555571354512152,
          4.370222349676661,
          4.332396022159214,
          4.287004429138277,
          4.145786139739808,
          3.946567481481253,
          3.7977839265792945,
          3.781392517988401,
          3.5872173700655057,
          3.535521389124994,
          3.216519360394524,
          3.0198224573037984,
          2.9529959453563084,
          2.3225571533988565,
          2.283469948297494,
          2.117034107220727,
          1.7904668129867662
         ],
         "yaxis": "y"
        }
       ],
       "layout": {
        "legend": {
         "title": {
          "text": "Sex"
         },
         "tracegroupgap": 0
        },
        "margin": {
         "t": 60
        },
        "template": {
         "data": {
          "bar": [
           {
            "error_x": {
             "color": "#2a3f5f"
            },
            "error_y": {
             "color": "#2a3f5f"
            },
            "marker": {
             "line": {
              "color": "#E5ECF6",
              "width": 0.5
             },
             "pattern": {
              "fillmode": "overlay",
              "size": 10,
              "solidity": 0.2
             }
            },
            "type": "bar"
           }
          ],
          "barpolar": [
           {
            "marker": {
             "line": {
              "color": "#E5ECF6",
              "width": 0.5
             },
             "pattern": {
              "fillmode": "overlay",
              "size": 10,
              "solidity": 0.2
             }
            },
            "type": "barpolar"
           }
          ],
          "carpet": [
           {
            "aaxis": {
             "endlinecolor": "#2a3f5f",
             "gridcolor": "white",
             "linecolor": "white",
             "minorgridcolor": "white",
             "startlinecolor": "#2a3f5f"
            },
            "baxis": {
             "endlinecolor": "#2a3f5f",
             "gridcolor": "white",
             "linecolor": "white",
             "minorgridcolor": "white",
             "startlinecolor": "#2a3f5f"
            },
            "type": "carpet"
           }
          ],
          "choropleth": [
           {
            "colorbar": {
             "outlinewidth": 0,
             "ticks": ""
            },
            "type": "choropleth"
           }
          ],
          "contour": [
           {
            "colorbar": {
             "outlinewidth": 0,
             "ticks": ""
            },
            "colorscale": [
             [
              0,
              "#0d0887"
             ],
             [
              0.1111111111111111,
              "#46039f"
             ],
             [
              0.2222222222222222,
              "#7201a8"
             ],
             [
              0.3333333333333333,
              "#9c179e"
             ],
             [
              0.4444444444444444,
              "#bd3786"
             ],
             [
              0.5555555555555556,
              "#d8576b"
             ],
             [
              0.6666666666666666,
              "#ed7953"
             ],
             [
              0.7777777777777778,
              "#fb9f3a"
             ],
             [
              0.8888888888888888,
              "#fdca26"
             ],
             [
              1,
              "#f0f921"
             ]
            ],
            "type": "contour"
           }
          ],
          "contourcarpet": [
           {
            "colorbar": {
             "outlinewidth": 0,
             "ticks": ""
            },
            "type": "contourcarpet"
           }
          ],
          "heatmap": [
           {
            "colorbar": {
             "outlinewidth": 0,
             "ticks": ""
            },
            "colorscale": [
             [
              0,
              "#0d0887"
             ],
             [
              0.1111111111111111,
              "#46039f"
             ],
             [
              0.2222222222222222,
              "#7201a8"
             ],
             [
              0.3333333333333333,
              "#9c179e"
             ],
             [
              0.4444444444444444,
              "#bd3786"
             ],
             [
              0.5555555555555556,
              "#d8576b"
             ],
             [
              0.6666666666666666,
              "#ed7953"
             ],
             [
              0.7777777777777778,
              "#fb9f3a"
             ],
             [
              0.8888888888888888,
              "#fdca26"
             ],
             [
              1,
              "#f0f921"
             ]
            ],
            "type": "heatmap"
           }
          ],
          "heatmapgl": [
           {
            "colorbar": {
             "outlinewidth": 0,
             "ticks": ""
            },
            "colorscale": [
             [
              0,
              "#0d0887"
             ],
             [
              0.1111111111111111,
              "#46039f"
             ],
             [
              0.2222222222222222,
              "#7201a8"
             ],
             [
              0.3333333333333333,
              "#9c179e"
             ],
             [
              0.4444444444444444,
              "#bd3786"
             ],
             [
              0.5555555555555556,
              "#d8576b"
             ],
             [
              0.6666666666666666,
              "#ed7953"
             ],
             [
              0.7777777777777778,
              "#fb9f3a"
             ],
             [
              0.8888888888888888,
              "#fdca26"
             ],
             [
              1,
              "#f0f921"
             ]
            ],
            "type": "heatmapgl"
           }
          ],
          "histogram": [
           {
            "marker": {
             "pattern": {
              "fillmode": "overlay",
              "size": 10,
              "solidity": 0.2
             }
            },
            "type": "histogram"
           }
          ],
          "histogram2d": [
           {
            "colorbar": {
             "outlinewidth": 0,
             "ticks": ""
            },
            "colorscale": [
             [
              0,
              "#0d0887"
             ],
             [
              0.1111111111111111,
              "#46039f"
             ],
             [
              0.2222222222222222,
              "#7201a8"
             ],
             [
              0.3333333333333333,
              "#9c179e"
             ],
             [
              0.4444444444444444,
              "#bd3786"
             ],
             [
              0.5555555555555556,
              "#d8576b"
             ],
             [
              0.6666666666666666,
              "#ed7953"
             ],
             [
              0.7777777777777778,
              "#fb9f3a"
             ],
             [
              0.8888888888888888,
              "#fdca26"
             ],
             [
              1,
              "#f0f921"
             ]
            ],
            "type": "histogram2d"
           }
          ],
          "histogram2dcontour": [
           {
            "colorbar": {
             "outlinewidth": 0,
             "ticks": ""
            },
            "colorscale": [
             [
              0,
              "#0d0887"
             ],
             [
              0.1111111111111111,
              "#46039f"
             ],
             [
              0.2222222222222222,
              "#7201a8"
             ],
             [
              0.3333333333333333,
              "#9c179e"
             ],
             [
              0.4444444444444444,
              "#bd3786"
             ],
             [
              0.5555555555555556,
              "#d8576b"
             ],
             [
              0.6666666666666666,
              "#ed7953"
             ],
             [
              0.7777777777777778,
              "#fb9f3a"
             ],
             [
              0.8888888888888888,
              "#fdca26"
             ],
             [
              1,
              "#f0f921"
             ]
            ],
            "type": "histogram2dcontour"
           }
          ],
          "mesh3d": [
           {
            "colorbar": {
             "outlinewidth": 0,
             "ticks": ""
            },
            "type": "mesh3d"
           }
          ],
          "parcoords": [
           {
            "line": {
             "colorbar": {
              "outlinewidth": 0,
              "ticks": ""
             }
            },
            "type": "parcoords"
           }
          ],
          "pie": [
           {
            "automargin": true,
            "type": "pie"
           }
          ],
          "scatter": [
           {
            "fillpattern": {
             "fillmode": "overlay",
             "size": 10,
             "solidity": 0.2
            },
            "type": "scatter"
           }
          ],
          "scatter3d": [
           {
            "line": {
             "colorbar": {
              "outlinewidth": 0,
              "ticks": ""
             }
            },
            "marker": {
             "colorbar": {
              "outlinewidth": 0,
              "ticks": ""
             }
            },
            "type": "scatter3d"
           }
          ],
          "scattercarpet": [
           {
            "marker": {
             "colorbar": {
              "outlinewidth": 0,
              "ticks": ""
             }
            },
            "type": "scattercarpet"
           }
          ],
          "scattergeo": [
           {
            "marker": {
             "colorbar": {
              "outlinewidth": 0,
              "ticks": ""
             }
            },
            "type": "scattergeo"
           }
          ],
          "scattergl": [
           {
            "marker": {
             "colorbar": {
              "outlinewidth": 0,
              "ticks": ""
             }
            },
            "type": "scattergl"
           }
          ],
          "scattermapbox": [
           {
            "marker": {
             "colorbar": {
              "outlinewidth": 0,
              "ticks": ""
             }
            },
            "type": "scattermapbox"
           }
          ],
          "scatterpolar": [
           {
            "marker": {
             "colorbar": {
              "outlinewidth": 0,
              "ticks": ""
             }
            },
            "type": "scatterpolar"
           }
          ],
          "scatterpolargl": [
           {
            "marker": {
             "colorbar": {
              "outlinewidth": 0,
              "ticks": ""
             }
            },
            "type": "scatterpolargl"
           }
          ],
          "scatterternary": [
           {
            "marker": {
             "colorbar": {
              "outlinewidth": 0,
              "ticks": ""
             }
            },
            "type": "scatterternary"
           }
          ],
          "surface": [
           {
            "colorbar": {
             "outlinewidth": 0,
             "ticks": ""
            },
            "colorscale": [
             [
              0,
              "#0d0887"
             ],
             [
              0.1111111111111111,
              "#46039f"
             ],
             [
              0.2222222222222222,
              "#7201a8"
             ],
             [
              0.3333333333333333,
              "#9c179e"
             ],
             [
              0.4444444444444444,
              "#bd3786"
             ],
             [
              0.5555555555555556,
              "#d8576b"
             ],
             [
              0.6666666666666666,
              "#ed7953"
             ],
             [
              0.7777777777777778,
              "#fb9f3a"
             ],
             [
              0.8888888888888888,
              "#fdca26"
             ],
             [
              1,
              "#f0f921"
             ]
            ],
            "type": "surface"
           }
          ],
          "table": [
           {
            "cells": {
             "fill": {
              "color": "#EBF0F8"
             },
             "line": {
              "color": "white"
             }
            },
            "header": {
             "fill": {
              "color": "#C8D4E3"
             },
             "line": {
              "color": "white"
             }
            },
            "type": "table"
           }
          ]
         },
         "layout": {
          "annotationdefaults": {
           "arrowcolor": "#2a3f5f",
           "arrowhead": 0,
           "arrowwidth": 1
          },
          "autotypenumbers": "strict",
          "coloraxis": {
           "colorbar": {
            "outlinewidth": 0,
            "ticks": ""
           }
          },
          "colorscale": {
           "diverging": [
            [
             0,
             "#8e0152"
            ],
            [
             0.1,
             "#c51b7d"
            ],
            [
             0.2,
             "#de77ae"
            ],
            [
             0.3,
             "#f1b6da"
            ],
            [
             0.4,
             "#fde0ef"
            ],
            [
             0.5,
             "#f7f7f7"
            ],
            [
             0.6,
             "#e6f5d0"
            ],
            [
             0.7,
             "#b8e186"
            ],
            [
             0.8,
             "#7fbc41"
            ],
            [
             0.9,
             "#4d9221"
            ],
            [
             1,
             "#276419"
            ]
           ],
           "sequential": [
            [
             0,
             "#0d0887"
            ],
            [
             0.1111111111111111,
             "#46039f"
            ],
            [
             0.2222222222222222,
             "#7201a8"
            ],
            [
             0.3333333333333333,
             "#9c179e"
            ],
            [
             0.4444444444444444,
             "#bd3786"
            ],
            [
             0.5555555555555556,
             "#d8576b"
            ],
            [
             0.6666666666666666,
             "#ed7953"
            ],
            [
             0.7777777777777778,
             "#fb9f3a"
            ],
            [
             0.8888888888888888,
             "#fdca26"
            ],
            [
             1,
             "#f0f921"
            ]
           ],
           "sequentialminus": [
            [
             0,
             "#0d0887"
            ],
            [
             0.1111111111111111,
             "#46039f"
            ],
            [
             0.2222222222222222,
             "#7201a8"
            ],
            [
             0.3333333333333333,
             "#9c179e"
            ],
            [
             0.4444444444444444,
             "#bd3786"
            ],
            [
             0.5555555555555556,
             "#d8576b"
            ],
            [
             0.6666666666666666,
             "#ed7953"
            ],
            [
             0.7777777777777778,
             "#fb9f3a"
            ],
            [
             0.8888888888888888,
             "#fdca26"
            ],
            [
             1,
             "#f0f921"
            ]
           ]
          },
          "colorway": [
           "#636efa",
           "#EF553B",
           "#00cc96",
           "#ab63fa",
           "#FFA15A",
           "#19d3f3",
           "#FF6692",
           "#B6E880",
           "#FF97FF",
           "#FECB52"
          ],
          "font": {
           "color": "#2a3f5f"
          },
          "geo": {
           "bgcolor": "white",
           "lakecolor": "white",
           "landcolor": "#E5ECF6",
           "showlakes": true,
           "showland": true,
           "subunitcolor": "white"
          },
          "hoverlabel": {
           "align": "left"
          },
          "hovermode": "closest",
          "mapbox": {
           "style": "light"
          },
          "paper_bgcolor": "white",
          "plot_bgcolor": "#E5ECF6",
          "polar": {
           "angularaxis": {
            "gridcolor": "white",
            "linecolor": "white",
            "ticks": ""
           },
           "bgcolor": "#E5ECF6",
           "radialaxis": {
            "gridcolor": "white",
            "linecolor": "white",
            "ticks": ""
           }
          },
          "scene": {
           "xaxis": {
            "backgroundcolor": "#E5ECF6",
            "gridcolor": "white",
            "gridwidth": 2,
            "linecolor": "white",
            "showbackground": true,
            "ticks": "",
            "zerolinecolor": "white"
           },
           "yaxis": {
            "backgroundcolor": "#E5ECF6",
            "gridcolor": "white",
            "gridwidth": 2,
            "linecolor": "white",
            "showbackground": true,
            "ticks": "",
            "zerolinecolor": "white"
           },
           "zaxis": {
            "backgroundcolor": "#E5ECF6",
            "gridcolor": "white",
            "gridwidth": 2,
            "linecolor": "white",
            "showbackground": true,
            "ticks": "",
            "zerolinecolor": "white"
           }
          },
          "shapedefaults": {
           "line": {
            "color": "#2a3f5f"
           }
          },
          "ternary": {
           "aaxis": {
            "gridcolor": "white",
            "linecolor": "white",
            "ticks": ""
           },
           "baxis": {
            "gridcolor": "white",
            "linecolor": "white",
            "ticks": ""
           },
           "bgcolor": "#E5ECF6",
           "caxis": {
            "gridcolor": "white",
            "linecolor": "white",
            "ticks": ""
           }
          },
          "title": {
           "x": 0.05
          },
          "xaxis": {
           "automargin": true,
           "gridcolor": "white",
           "linecolor": "white",
           "ticks": "",
           "title": {
            "standoff": 15
           },
           "zerolinecolor": "white",
           "zerolinewidth": 2
          },
          "yaxis": {
           "automargin": true,
           "gridcolor": "white",
           "linecolor": "white",
           "ticks": "",
           "title": {
            "standoff": 15
           },
           "zerolinecolor": "white",
           "zerolinewidth": 2
          }
         }
        },
        "xaxis": {
         "anchor": "y",
         "domain": [
          0,
          1
         ],
         "title": {
          "text": "Psychologists per 100 000 people"
         }
        },
        "yaxis": {
         "anchor": "x",
         "domain": [
          0,
          1
         ],
         "title": {
          "text": "Suicide rate"
         }
        }
       }
      }
     },
     "metadata": {},
     "output_type": "display_data"
    }
   ],
   "source": [
    "fig = px.scatter(df2016g[df2016g[\"psychologists_per_100k\"] < 4], x=\"psychologists_per_100k\", y=\"suicide_rate\", trendline=\"ols\", color=\"sex\")\n",
    "fig.update_xaxes(title_text=\"Psychologists per 100 000 people\"); fig.update_yaxes(title_text=\"Suicide rate\")\n",
    "fig.update_layout(legend_title_text=\"Sex\")\n",
    "fig.show()"
   ]
  },
  {
   "attachments": {},
   "cell_type": "markdown",
   "metadata": {},
   "source": [
    "Another one with a big percentage difference and much less of an absolute one. What does it mean? What are we missing?\n",
    "\n",
    "Conclusion: don't pull all psychological education funding. The therapy sector does a little bit, maybe.\n",
    "\n",
    "### Scatterplots, part 3: Government"
   ]
  },
  {
   "cell_type": "code",
   "execution_count": 79,
   "metadata": {},
   "outputs": [
    {
     "data": {
      "application/vnd.plotly.v1+json": {
       "config": {
        "plotlyServerURL": "https://plot.ly"
       },
       "data": [
        {
         "hovertemplate": "sex=Male<br>hospital_budget_pct=%{x}<br>suicide_rate=%{y}<extra></extra>",
         "legendgroup": "Male",
         "marker": {
          "color": "#636efa",
          "symbol": "circle"
         },
         "mode": "markers",
         "name": "Male",
         "orientation": "v",
         "showlegend": true,
         "type": "scatter",
         "x": [
          3.5,
          0.5,
          2.7,
          2.1,
          1,
          0.3,
          2.1,
          2,
          0.7,
          1.5,
          0.5,
          2.9,
          4,
          1.9,
          1.1,
          0.2,
          4.3,
          1.6,
          1.3,
          3.4,
          0,
          0,
          3.8,
          2.4,
          0.4,
          1.3,
          0.4,
          1.7,
          0.2,
          2.6,
          1.8,
          0.6,
          4,
          3,
          0.2,
          0.3,
          2,
          1.1,
          2.7,
          1,
          1.1,
          3,
          3.2
         ],
         "xaxis": "x",
         "y": [
          4.3,
          5.5,
          13.1,
          39.3,
          9.7,
          13.8,
          16,
          12.8,
          17.9,
          10.7,
          7.2,
          25.6,
          8.8,
          12.3,
          15.8,
          46.6,
          18.8,
          18.3,
          18.5,
          8.2,
          9.7,
          9,
          29.6,
          13.8,
          6.3,
          8.7,
          3,
          7.6,
          5.2,
          23.9,
          12.3,
          7.3,
          4.6,
          11.1,
          3.8,
          21.4,
          5,
          5.2,
          10.3,
          8.1,
          8.7,
          21.7,
          29.1
         ],
         "yaxis": "y"
        },
        {
         "hovertemplate": "<b>OLS trendline</b><br>suicide_rate = 1.29503 * hospital_budget_pct + 11.4477<br>R<sup>2</sup>=0.029467<br><br>sex=Male<br>hospital_budget_pct=%{x}<br>suicide_rate=%{y} <b>(trend)</b><extra></extra>",
         "legendgroup": "Male",
         "marker": {
          "color": "#636efa",
          "symbol": "circle"
         },
         "mode": "lines",
         "name": "Male",
         "showlegend": false,
         "type": "scatter",
         "x": [
          0,
          0,
          0.2,
          0.2,
          0.2,
          0.3,
          0.3,
          0.4,
          0.4,
          0.5,
          0.5,
          0.6,
          0.7,
          1,
          1,
          1.1,
          1.1,
          1.1,
          1.3,
          1.3,
          1.5,
          1.6,
          1.7,
          1.8,
          1.9,
          2,
          2,
          2.1,
          2.1,
          2.4,
          2.6,
          2.7,
          2.7,
          2.9,
          3,
          3,
          3.2,
          3.4,
          3.5,
          3.8,
          4,
          4,
          4.3
         ],
         "xaxis": "x",
         "y": [
          11.447674794917617,
          11.447674794917617,
          11.70668012776316,
          11.70668012776316,
          11.70668012776316,
          11.836182794185934,
          11.836182794185934,
          11.965685460608706,
          11.965685460608706,
          12.095188127031477,
          12.095188127031477,
          12.22469079345425,
          12.354193459877022,
          12.742701459145337,
          12.742701459145337,
          12.87220412556811,
          12.87220412556811,
          12.87220412556811,
          13.131209458413654,
          13.131209458413654,
          13.390214791259199,
          13.51971745768197,
          13.649220124104742,
          13.778722790527514,
          13.908225456950287,
          14.037728123373059,
          14.037728123373059,
          14.16723078979583,
          14.16723078979583,
          14.555738789064147,
          14.81474412190969,
          14.944246788332464,
          14.944246788332464,
          15.203252121178007,
          15.33275478760078,
          15.33275478760078,
          15.591760120446324,
          15.850765453291867,
          15.98026811971464,
          16.368776118982957,
          16.6277814518285,
          16.6277814518285,
          17.016289451096817
         ],
         "yaxis": "y"
        },
        {
         "hovertemplate": "sex=Female<br>hospital_budget_pct=%{x}<br>suicide_rate=%{y}<extra></extra>",
         "legendgroup": "Female",
         "marker": {
          "color": "#EF553B",
          "symbol": "circle"
         },
         "mode": "markers",
         "name": "Female",
         "orientation": "v",
         "showlegend": true,
         "type": "scatter",
         "x": [
          3.5,
          0.5,
          2.7,
          2.1,
          1,
          0.3,
          2.1,
          2,
          0.7,
          1.5,
          0.5,
          2.9,
          4,
          1.9,
          1.1,
          0.2,
          4.3,
          1.6,
          1.3,
          3.4,
          0,
          0,
          3.8,
          2.4,
          0.4,
          1.3,
          0.4,
          1.7,
          0.2,
          2.6,
          1.8,
          0.6,
          4,
          3,
          0.2,
          0.3,
          2,
          1.1,
          2.7,
          1,
          1.1,
          3,
          3.2
         ],
         "xaxis": "x",
         "y": [
          1,
          6.7,
          3.2,
          6.2,
          2.8,
          8.9,
          3.8,
          2.3,
          3.2,
          3.8,
          1.7,
          4.4,
          2.5,
          1.9,
          2.9,
          14.2,
          5.1,
          6.4,
          14.5,
          2.4,
          2.1,
          3.2,
          11.6,
          13,
          9.8,
          3.6,
          3.1,
          2.7,
          2.3,
          3.4,
          6.2,
          1.1,
          1.7,
          4.9,
          1.1,
          4.8,
          1.7,
          2.9,
          4.6,
          2.7,
          2.2,
          5.1,
          11.1
         ],
         "yaxis": "y"
        },
        {
         "hovertemplate": "<b>OLS trendline</b><br>suicide_rate = 0.0753106 * hospital_budget_pct + 4.58597<br>R<sup>2</sup>=0.000694<br><br>sex=Female<br>hospital_budget_pct=%{x}<br>suicide_rate=%{y} <b>(trend)</b><extra></extra>",
         "legendgroup": "Female",
         "marker": {
          "color": "#EF553B",
          "symbol": "circle"
         },
         "mode": "lines",
         "name": "Female",
         "showlegend": false,
         "type": "scatter",
         "x": [
          0,
          0,
          0.2,
          0.2,
          0.2,
          0.3,
          0.3,
          0.4,
          0.4,
          0.5,
          0.5,
          0.6,
          0.7,
          1,
          1,
          1.1,
          1.1,
          1.1,
          1.3,
          1.3,
          1.5,
          1.6,
          1.7,
          1.8,
          1.9,
          2,
          2,
          2.1,
          2.1,
          2.4,
          2.6,
          2.7,
          2.7,
          2.9,
          3,
          3,
          3.2,
          3.4,
          3.5,
          3.8,
          4,
          4,
          4.3
         ],
         "xaxis": "x",
         "y": [
          4.585974194093067,
          4.585974194093067,
          4.601036316818869,
          4.601036316818869,
          4.601036316818869,
          4.608567378181769,
          4.608567378181769,
          4.61609843954467,
          4.61609843954467,
          4.623629500907571,
          4.623629500907571,
          4.631160562270472,
          4.638691623633373,
          4.661284807722075,
          4.661284807722075,
          4.668815869084976,
          4.668815869084976,
          4.668815869084976,
          4.683877991810777,
          4.683877991810777,
          4.698940114536579,
          4.70647117589948,
          4.714002237262381,
          4.721533298625282,
          4.7290643599881825,
          4.736595421351083,
          4.736595421351083,
          4.744126482713984,
          4.744126482713984,
          4.766719666802686,
          4.7817817895284875,
          4.789312850891389,
          4.789312850891389,
          4.804374973617191,
          4.811906034980091,
          4.811906034980091,
          4.826968157705893,
          4.842030280431694,
          4.849561341794595,
          4.872154525883298,
          4.887216648609099,
          4.887216648609099,
          4.9098098326978015
         ],
         "yaxis": "y"
        }
       ],
       "layout": {
        "legend": {
         "title": {
          "text": "Sex"
         },
         "tracegroupgap": 0
        },
        "margin": {
         "t": 60
        },
        "template": {
         "data": {
          "bar": [
           {
            "error_x": {
             "color": "#2a3f5f"
            },
            "error_y": {
             "color": "#2a3f5f"
            },
            "marker": {
             "line": {
              "color": "#E5ECF6",
              "width": 0.5
             },
             "pattern": {
              "fillmode": "overlay",
              "size": 10,
              "solidity": 0.2
             }
            },
            "type": "bar"
           }
          ],
          "barpolar": [
           {
            "marker": {
             "line": {
              "color": "#E5ECF6",
              "width": 0.5
             },
             "pattern": {
              "fillmode": "overlay",
              "size": 10,
              "solidity": 0.2
             }
            },
            "type": "barpolar"
           }
          ],
          "carpet": [
           {
            "aaxis": {
             "endlinecolor": "#2a3f5f",
             "gridcolor": "white",
             "linecolor": "white",
             "minorgridcolor": "white",
             "startlinecolor": "#2a3f5f"
            },
            "baxis": {
             "endlinecolor": "#2a3f5f",
             "gridcolor": "white",
             "linecolor": "white",
             "minorgridcolor": "white",
             "startlinecolor": "#2a3f5f"
            },
            "type": "carpet"
           }
          ],
          "choropleth": [
           {
            "colorbar": {
             "outlinewidth": 0,
             "ticks": ""
            },
            "type": "choropleth"
           }
          ],
          "contour": [
           {
            "colorbar": {
             "outlinewidth": 0,
             "ticks": ""
            },
            "colorscale": [
             [
              0,
              "#0d0887"
             ],
             [
              0.1111111111111111,
              "#46039f"
             ],
             [
              0.2222222222222222,
              "#7201a8"
             ],
             [
              0.3333333333333333,
              "#9c179e"
             ],
             [
              0.4444444444444444,
              "#bd3786"
             ],
             [
              0.5555555555555556,
              "#d8576b"
             ],
             [
              0.6666666666666666,
              "#ed7953"
             ],
             [
              0.7777777777777778,
              "#fb9f3a"
             ],
             [
              0.8888888888888888,
              "#fdca26"
             ],
             [
              1,
              "#f0f921"
             ]
            ],
            "type": "contour"
           }
          ],
          "contourcarpet": [
           {
            "colorbar": {
             "outlinewidth": 0,
             "ticks": ""
            },
            "type": "contourcarpet"
           }
          ],
          "heatmap": [
           {
            "colorbar": {
             "outlinewidth": 0,
             "ticks": ""
            },
            "colorscale": [
             [
              0,
              "#0d0887"
             ],
             [
              0.1111111111111111,
              "#46039f"
             ],
             [
              0.2222222222222222,
              "#7201a8"
             ],
             [
              0.3333333333333333,
              "#9c179e"
             ],
             [
              0.4444444444444444,
              "#bd3786"
             ],
             [
              0.5555555555555556,
              "#d8576b"
             ],
             [
              0.6666666666666666,
              "#ed7953"
             ],
             [
              0.7777777777777778,
              "#fb9f3a"
             ],
             [
              0.8888888888888888,
              "#fdca26"
             ],
             [
              1,
              "#f0f921"
             ]
            ],
            "type": "heatmap"
           }
          ],
          "heatmapgl": [
           {
            "colorbar": {
             "outlinewidth": 0,
             "ticks": ""
            },
            "colorscale": [
             [
              0,
              "#0d0887"
             ],
             [
              0.1111111111111111,
              "#46039f"
             ],
             [
              0.2222222222222222,
              "#7201a8"
             ],
             [
              0.3333333333333333,
              "#9c179e"
             ],
             [
              0.4444444444444444,
              "#bd3786"
             ],
             [
              0.5555555555555556,
              "#d8576b"
             ],
             [
              0.6666666666666666,
              "#ed7953"
             ],
             [
              0.7777777777777778,
              "#fb9f3a"
             ],
             [
              0.8888888888888888,
              "#fdca26"
             ],
             [
              1,
              "#f0f921"
             ]
            ],
            "type": "heatmapgl"
           }
          ],
          "histogram": [
           {
            "marker": {
             "pattern": {
              "fillmode": "overlay",
              "size": 10,
              "solidity": 0.2
             }
            },
            "type": "histogram"
           }
          ],
          "histogram2d": [
           {
            "colorbar": {
             "outlinewidth": 0,
             "ticks": ""
            },
            "colorscale": [
             [
              0,
              "#0d0887"
             ],
             [
              0.1111111111111111,
              "#46039f"
             ],
             [
              0.2222222222222222,
              "#7201a8"
             ],
             [
              0.3333333333333333,
              "#9c179e"
             ],
             [
              0.4444444444444444,
              "#bd3786"
             ],
             [
              0.5555555555555556,
              "#d8576b"
             ],
             [
              0.6666666666666666,
              "#ed7953"
             ],
             [
              0.7777777777777778,
              "#fb9f3a"
             ],
             [
              0.8888888888888888,
              "#fdca26"
             ],
             [
              1,
              "#f0f921"
             ]
            ],
            "type": "histogram2d"
           }
          ],
          "histogram2dcontour": [
           {
            "colorbar": {
             "outlinewidth": 0,
             "ticks": ""
            },
            "colorscale": [
             [
              0,
              "#0d0887"
             ],
             [
              0.1111111111111111,
              "#46039f"
             ],
             [
              0.2222222222222222,
              "#7201a8"
             ],
             [
              0.3333333333333333,
              "#9c179e"
             ],
             [
              0.4444444444444444,
              "#bd3786"
             ],
             [
              0.5555555555555556,
              "#d8576b"
             ],
             [
              0.6666666666666666,
              "#ed7953"
             ],
             [
              0.7777777777777778,
              "#fb9f3a"
             ],
             [
              0.8888888888888888,
              "#fdca26"
             ],
             [
              1,
              "#f0f921"
             ]
            ],
            "type": "histogram2dcontour"
           }
          ],
          "mesh3d": [
           {
            "colorbar": {
             "outlinewidth": 0,
             "ticks": ""
            },
            "type": "mesh3d"
           }
          ],
          "parcoords": [
           {
            "line": {
             "colorbar": {
              "outlinewidth": 0,
              "ticks": ""
             }
            },
            "type": "parcoords"
           }
          ],
          "pie": [
           {
            "automargin": true,
            "type": "pie"
           }
          ],
          "scatter": [
           {
            "fillpattern": {
             "fillmode": "overlay",
             "size": 10,
             "solidity": 0.2
            },
            "type": "scatter"
           }
          ],
          "scatter3d": [
           {
            "line": {
             "colorbar": {
              "outlinewidth": 0,
              "ticks": ""
             }
            },
            "marker": {
             "colorbar": {
              "outlinewidth": 0,
              "ticks": ""
             }
            },
            "type": "scatter3d"
           }
          ],
          "scattercarpet": [
           {
            "marker": {
             "colorbar": {
              "outlinewidth": 0,
              "ticks": ""
             }
            },
            "type": "scattercarpet"
           }
          ],
          "scattergeo": [
           {
            "marker": {
             "colorbar": {
              "outlinewidth": 0,
              "ticks": ""
             }
            },
            "type": "scattergeo"
           }
          ],
          "scattergl": [
           {
            "marker": {
             "colorbar": {
              "outlinewidth": 0,
              "ticks": ""
             }
            },
            "type": "scattergl"
           }
          ],
          "scattermapbox": [
           {
            "marker": {
             "colorbar": {
              "outlinewidth": 0,
              "ticks": ""
             }
            },
            "type": "scattermapbox"
           }
          ],
          "scatterpolar": [
           {
            "marker": {
             "colorbar": {
              "outlinewidth": 0,
              "ticks": ""
             }
            },
            "type": "scatterpolar"
           }
          ],
          "scatterpolargl": [
           {
            "marker": {
             "colorbar": {
              "outlinewidth": 0,
              "ticks": ""
             }
            },
            "type": "scatterpolargl"
           }
          ],
          "scatterternary": [
           {
            "marker": {
             "colorbar": {
              "outlinewidth": 0,
              "ticks": ""
             }
            },
            "type": "scatterternary"
           }
          ],
          "surface": [
           {
            "colorbar": {
             "outlinewidth": 0,
             "ticks": ""
            },
            "colorscale": [
             [
              0,
              "#0d0887"
             ],
             [
              0.1111111111111111,
              "#46039f"
             ],
             [
              0.2222222222222222,
              "#7201a8"
             ],
             [
              0.3333333333333333,
              "#9c179e"
             ],
             [
              0.4444444444444444,
              "#bd3786"
             ],
             [
              0.5555555555555556,
              "#d8576b"
             ],
             [
              0.6666666666666666,
              "#ed7953"
             ],
             [
              0.7777777777777778,
              "#fb9f3a"
             ],
             [
              0.8888888888888888,
              "#fdca26"
             ],
             [
              1,
              "#f0f921"
             ]
            ],
            "type": "surface"
           }
          ],
          "table": [
           {
            "cells": {
             "fill": {
              "color": "#EBF0F8"
             },
             "line": {
              "color": "white"
             }
            },
            "header": {
             "fill": {
              "color": "#C8D4E3"
             },
             "line": {
              "color": "white"
             }
            },
            "type": "table"
           }
          ]
         },
         "layout": {
          "annotationdefaults": {
           "arrowcolor": "#2a3f5f",
           "arrowhead": 0,
           "arrowwidth": 1
          },
          "autotypenumbers": "strict",
          "coloraxis": {
           "colorbar": {
            "outlinewidth": 0,
            "ticks": ""
           }
          },
          "colorscale": {
           "diverging": [
            [
             0,
             "#8e0152"
            ],
            [
             0.1,
             "#c51b7d"
            ],
            [
             0.2,
             "#de77ae"
            ],
            [
             0.3,
             "#f1b6da"
            ],
            [
             0.4,
             "#fde0ef"
            ],
            [
             0.5,
             "#f7f7f7"
            ],
            [
             0.6,
             "#e6f5d0"
            ],
            [
             0.7,
             "#b8e186"
            ],
            [
             0.8,
             "#7fbc41"
            ],
            [
             0.9,
             "#4d9221"
            ],
            [
             1,
             "#276419"
            ]
           ],
           "sequential": [
            [
             0,
             "#0d0887"
            ],
            [
             0.1111111111111111,
             "#46039f"
            ],
            [
             0.2222222222222222,
             "#7201a8"
            ],
            [
             0.3333333333333333,
             "#9c179e"
            ],
            [
             0.4444444444444444,
             "#bd3786"
            ],
            [
             0.5555555555555556,
             "#d8576b"
            ],
            [
             0.6666666666666666,
             "#ed7953"
            ],
            [
             0.7777777777777778,
             "#fb9f3a"
            ],
            [
             0.8888888888888888,
             "#fdca26"
            ],
            [
             1,
             "#f0f921"
            ]
           ],
           "sequentialminus": [
            [
             0,
             "#0d0887"
            ],
            [
             0.1111111111111111,
             "#46039f"
            ],
            [
             0.2222222222222222,
             "#7201a8"
            ],
            [
             0.3333333333333333,
             "#9c179e"
            ],
            [
             0.4444444444444444,
             "#bd3786"
            ],
            [
             0.5555555555555556,
             "#d8576b"
            ],
            [
             0.6666666666666666,
             "#ed7953"
            ],
            [
             0.7777777777777778,
             "#fb9f3a"
            ],
            [
             0.8888888888888888,
             "#fdca26"
            ],
            [
             1,
             "#f0f921"
            ]
           ]
          },
          "colorway": [
           "#636efa",
           "#EF553B",
           "#00cc96",
           "#ab63fa",
           "#FFA15A",
           "#19d3f3",
           "#FF6692",
           "#B6E880",
           "#FF97FF",
           "#FECB52"
          ],
          "font": {
           "color": "#2a3f5f"
          },
          "geo": {
           "bgcolor": "white",
           "lakecolor": "white",
           "landcolor": "#E5ECF6",
           "showlakes": true,
           "showland": true,
           "subunitcolor": "white"
          },
          "hoverlabel": {
           "align": "left"
          },
          "hovermode": "closest",
          "mapbox": {
           "style": "light"
          },
          "paper_bgcolor": "white",
          "plot_bgcolor": "#E5ECF6",
          "polar": {
           "angularaxis": {
            "gridcolor": "white",
            "linecolor": "white",
            "ticks": ""
           },
           "bgcolor": "#E5ECF6",
           "radialaxis": {
            "gridcolor": "white",
            "linecolor": "white",
            "ticks": ""
           }
          },
          "scene": {
           "xaxis": {
            "backgroundcolor": "#E5ECF6",
            "gridcolor": "white",
            "gridwidth": 2,
            "linecolor": "white",
            "showbackground": true,
            "ticks": "",
            "zerolinecolor": "white"
           },
           "yaxis": {
            "backgroundcolor": "#E5ECF6",
            "gridcolor": "white",
            "gridwidth": 2,
            "linecolor": "white",
            "showbackground": true,
            "ticks": "",
            "zerolinecolor": "white"
           },
           "zaxis": {
            "backgroundcolor": "#E5ECF6",
            "gridcolor": "white",
            "gridwidth": 2,
            "linecolor": "white",
            "showbackground": true,
            "ticks": "",
            "zerolinecolor": "white"
           }
          },
          "shapedefaults": {
           "line": {
            "color": "#2a3f5f"
           }
          },
          "ternary": {
           "aaxis": {
            "gridcolor": "white",
            "linecolor": "white",
            "ticks": ""
           },
           "baxis": {
            "gridcolor": "white",
            "linecolor": "white",
            "ticks": ""
           },
           "bgcolor": "#E5ECF6",
           "caxis": {
            "gridcolor": "white",
            "linecolor": "white",
            "ticks": ""
           }
          },
          "title": {
           "x": 0.05
          },
          "xaxis": {
           "automargin": true,
           "gridcolor": "white",
           "linecolor": "white",
           "ticks": "",
           "title": {
            "standoff": 15
           },
           "zerolinecolor": "white",
           "zerolinewidth": 2
          },
          "yaxis": {
           "automargin": true,
           "gridcolor": "white",
           "linecolor": "white",
           "ticks": "",
           "title": {
            "standoff": 15
           },
           "zerolinecolor": "white",
           "zerolinewidth": 2
          }
         }
        },
        "xaxis": {
         "anchor": "y",
         "domain": [
          0,
          1
         ],
         "title": {
          "text": "Percent of government mental health budget used on mental hospitals"
         }
        },
        "yaxis": {
         "anchor": "x",
         "domain": [
          0,
          1
         ],
         "title": {
          "text": "Suicide rate"
         }
        }
       }
      }
     },
     "metadata": {},
     "output_type": "display_data"
    }
   ],
   "source": [
    "fig = px.scatter(df2016g[df2016g[\"hospital_budget_pct\"] < 5], x=\"hospital_budget_pct\", y=\"suicide_rate\", trendline=\"ols\", color=\"sex\")\n",
    "fig.update_xaxes(title_text=\"Percent of government mental health budget used on mental hospitals\"); fig.update_yaxes(title_text=\"Suicide rate\")\n",
    "fig.update_layout(legend_title_text=\"Sex\")\n",
    "fig.show()"
   ]
  },
  {
   "attachments": {},
   "cell_type": "markdown",
   "metadata": {},
   "source": [
    "Well, we already knew what good all those mental hospitals are."
   ]
  },
  {
   "cell_type": "code",
   "execution_count": 80,
   "metadata": {},
   "outputs": [
    {
     "data": {
      "application/vnd.plotly.v1+json": {
       "config": {
        "plotlyServerURL": "https://plot.ly"
       },
       "data": [
        {
         "alignmentgroup": "True",
         "bingroup": "x",
         "histfunc": "avg",
         "hovertemplate": "standalone_law=%{x}<br>avg of suicide_rate=%{y}<extra></extra>",
         "legendgroup": "",
         "marker": {
          "color": "#636efa",
          "pattern": {
           "shape": ""
          }
         },
         "name": "",
         "offsetgroup": "",
         "orientation": "v",
         "showlegend": false,
         "type": "histogram",
         "x": [
          true,
          false,
          true,
          true,
          true,
          true,
          true,
          null,
          null,
          true,
          null,
          null,
          null,
          false,
          false,
          false,
          null,
          null,
          null,
          true,
          false,
          false,
          true,
          null,
          true,
          false,
          null,
          null,
          null,
          null,
          false,
          null,
          false,
          null,
          null,
          false,
          true,
          null,
          null,
          false,
          false,
          null,
          null,
          null,
          null,
          true,
          true,
          true,
          false,
          true,
          false,
          null,
          true,
          null,
          null,
          true,
          null,
          null,
          true,
          null,
          true,
          true,
          false,
          true,
          false,
          null,
          true,
          true,
          false,
          true,
          null,
          true,
          false,
          false,
          true,
          true,
          true,
          null,
          null,
          false,
          true,
          null,
          null,
          false,
          true,
          null,
          true,
          true,
          false,
          null,
          true,
          null,
          null,
          null,
          true,
          false,
          true,
          null,
          null,
          true,
          null,
          null,
          true,
          null,
          true,
          null,
          true,
          null,
          false,
          null,
          true,
          true,
          true,
          false,
          null,
          null,
          null,
          true,
          true,
          false,
          null,
          null,
          null,
          true,
          false,
          true,
          null,
          true,
          false,
          true,
          true,
          null,
          true,
          null,
          true,
          false,
          true,
          true,
          null,
          false,
          true,
          null,
          true,
          true,
          null,
          null,
          false,
          null,
          null,
          false,
          false,
          true,
          null,
          true,
          false,
          null,
          true,
          false,
          false,
          false,
          true,
          true,
          null,
          false,
          true,
          null,
          null,
          false,
          null,
          true,
          true,
          true,
          false,
          true,
          null,
          null,
          false,
          true,
          true,
          false,
          true,
          true,
          true
         ],
         "xaxis": "x",
         "y": [
          6.4,
          8.9,
          5.6,
          2.7,
          9.1,
          5.7,
          0.5,
          11.7,
          11.4,
          2.6,
          15,
          15.7,
          15.7,
          14.8,
          6.1,
          7.9,
          5.7,
          1.6,
          6.4,
          21.4,
          5.9,
          12.9,
          6.1,
          0.4,
          4.5,
          11.6,
          11.5,
          11.6,
          10.4,
          11.3,
          9.7,
          8,
          23,
          19.5,
          9.7,
          9.3,
          7,
          11.1,
          15.1,
          7.5,
          10.1,
          4.5,
          10.5,
          9.1,
          8.5,
          9.2,
          10.5,
          3.3,
          7.2,
          4.4,
          13.8,
          6.1,
          14.4,
          11.4,
          13.8,
          5.5,
          12.1,
          11.3,
          9.6,
          7.6,
          6.7,
          8.7,
          10.5,
          10,
          7.4,
          22,
          3.8,
          1.7,
          2.9,
          30.2,
          3.4,
          11.5,
          12.2,
          13.6,
          3.7,
          16.5,
          10.9,
          4,
          4.1,
          13.3,
          5.2,
          5.5,
          2,
          3.7,
          14.3,
          22.8,
          5.6,
          9.1,
          5.9,
          15.2,
          20.2,
          2.2,
          9.3,
          3.2,
          13.4,
          5.5,
          7.3,
          14.2,
          28.9,
          25.7,
          10.4,
          17.2,
          3.1,
          13.4,
          6.9,
          2.7,
          5.2,
          6.2,
          8.9,
          6.5,
          8.1,
          7.9,
          13.3,
          8.4,
          7.5,
          7.3,
          7.8,
          6.2,
          11.5,
          9,
          17.3,
          11.9,
          9.6,
          10.1,
          9.6,
          11.6,
          3.5,
          3.1,
          4.4,
          5.1,
          3.7,
          7,
          13.4,
          10.6,
          8.6,
          9.3,
          5.8,
          8,
          26.5,
          11,
          3.4,
          9.5,
          11.8,
          7.9,
          5.9,
          16.1,
          13.5,
          8.3,
          10.9,
          6.1,
          3.1,
          23.2,
          10.1,
          13.3,
          11.7,
          16.7,
          8.3,
          2.4,
          15.5,
          16.6,
          12.9,
          3.3,
          7.2,
          6.4,
          4,
          12.9,
          3.2,
          7.2,
          9.6,
          20,
          18.5,
          16.5,
          13.7,
          7.4,
          2.4,
          3.8,
          7,
          5.4,
          5.4,
          9.8,
          12.8,
          11.3,
          19.1
         ],
         "yaxis": "y"
        }
       ],
       "layout": {
        "barmode": "group",
        "legend": {
         "tracegroupgap": 0
        },
        "margin": {
         "t": 60
        },
        "template": {
         "data": {
          "bar": [
           {
            "error_x": {
             "color": "#2a3f5f"
            },
            "error_y": {
             "color": "#2a3f5f"
            },
            "marker": {
             "line": {
              "color": "#E5ECF6",
              "width": 0.5
             },
             "pattern": {
              "fillmode": "overlay",
              "size": 10,
              "solidity": 0.2
             }
            },
            "type": "bar"
           }
          ],
          "barpolar": [
           {
            "marker": {
             "line": {
              "color": "#E5ECF6",
              "width": 0.5
             },
             "pattern": {
              "fillmode": "overlay",
              "size": 10,
              "solidity": 0.2
             }
            },
            "type": "barpolar"
           }
          ],
          "carpet": [
           {
            "aaxis": {
             "endlinecolor": "#2a3f5f",
             "gridcolor": "white",
             "linecolor": "white",
             "minorgridcolor": "white",
             "startlinecolor": "#2a3f5f"
            },
            "baxis": {
             "endlinecolor": "#2a3f5f",
             "gridcolor": "white",
             "linecolor": "white",
             "minorgridcolor": "white",
             "startlinecolor": "#2a3f5f"
            },
            "type": "carpet"
           }
          ],
          "choropleth": [
           {
            "colorbar": {
             "outlinewidth": 0,
             "ticks": ""
            },
            "type": "choropleth"
           }
          ],
          "contour": [
           {
            "colorbar": {
             "outlinewidth": 0,
             "ticks": ""
            },
            "colorscale": [
             [
              0,
              "#0d0887"
             ],
             [
              0.1111111111111111,
              "#46039f"
             ],
             [
              0.2222222222222222,
              "#7201a8"
             ],
             [
              0.3333333333333333,
              "#9c179e"
             ],
             [
              0.4444444444444444,
              "#bd3786"
             ],
             [
              0.5555555555555556,
              "#d8576b"
             ],
             [
              0.6666666666666666,
              "#ed7953"
             ],
             [
              0.7777777777777778,
              "#fb9f3a"
             ],
             [
              0.8888888888888888,
              "#fdca26"
             ],
             [
              1,
              "#f0f921"
             ]
            ],
            "type": "contour"
           }
          ],
          "contourcarpet": [
           {
            "colorbar": {
             "outlinewidth": 0,
             "ticks": ""
            },
            "type": "contourcarpet"
           }
          ],
          "heatmap": [
           {
            "colorbar": {
             "outlinewidth": 0,
             "ticks": ""
            },
            "colorscale": [
             [
              0,
              "#0d0887"
             ],
             [
              0.1111111111111111,
              "#46039f"
             ],
             [
              0.2222222222222222,
              "#7201a8"
             ],
             [
              0.3333333333333333,
              "#9c179e"
             ],
             [
              0.4444444444444444,
              "#bd3786"
             ],
             [
              0.5555555555555556,
              "#d8576b"
             ],
             [
              0.6666666666666666,
              "#ed7953"
             ],
             [
              0.7777777777777778,
              "#fb9f3a"
             ],
             [
              0.8888888888888888,
              "#fdca26"
             ],
             [
              1,
              "#f0f921"
             ]
            ],
            "type": "heatmap"
           }
          ],
          "heatmapgl": [
           {
            "colorbar": {
             "outlinewidth": 0,
             "ticks": ""
            },
            "colorscale": [
             [
              0,
              "#0d0887"
             ],
             [
              0.1111111111111111,
              "#46039f"
             ],
             [
              0.2222222222222222,
              "#7201a8"
             ],
             [
              0.3333333333333333,
              "#9c179e"
             ],
             [
              0.4444444444444444,
              "#bd3786"
             ],
             [
              0.5555555555555556,
              "#d8576b"
             ],
             [
              0.6666666666666666,
              "#ed7953"
             ],
             [
              0.7777777777777778,
              "#fb9f3a"
             ],
             [
              0.8888888888888888,
              "#fdca26"
             ],
             [
              1,
              "#f0f921"
             ]
            ],
            "type": "heatmapgl"
           }
          ],
          "histogram": [
           {
            "marker": {
             "pattern": {
              "fillmode": "overlay",
              "size": 10,
              "solidity": 0.2
             }
            },
            "type": "histogram"
           }
          ],
          "histogram2d": [
           {
            "colorbar": {
             "outlinewidth": 0,
             "ticks": ""
            },
            "colorscale": [
             [
              0,
              "#0d0887"
             ],
             [
              0.1111111111111111,
              "#46039f"
             ],
             [
              0.2222222222222222,
              "#7201a8"
             ],
             [
              0.3333333333333333,
              "#9c179e"
             ],
             [
              0.4444444444444444,
              "#bd3786"
             ],
             [
              0.5555555555555556,
              "#d8576b"
             ],
             [
              0.6666666666666666,
              "#ed7953"
             ],
             [
              0.7777777777777778,
              "#fb9f3a"
             ],
             [
              0.8888888888888888,
              "#fdca26"
             ],
             [
              1,
              "#f0f921"
             ]
            ],
            "type": "histogram2d"
           }
          ],
          "histogram2dcontour": [
           {
            "colorbar": {
             "outlinewidth": 0,
             "ticks": ""
            },
            "colorscale": [
             [
              0,
              "#0d0887"
             ],
             [
              0.1111111111111111,
              "#46039f"
             ],
             [
              0.2222222222222222,
              "#7201a8"
             ],
             [
              0.3333333333333333,
              "#9c179e"
             ],
             [
              0.4444444444444444,
              "#bd3786"
             ],
             [
              0.5555555555555556,
              "#d8576b"
             ],
             [
              0.6666666666666666,
              "#ed7953"
             ],
             [
              0.7777777777777778,
              "#fb9f3a"
             ],
             [
              0.8888888888888888,
              "#fdca26"
             ],
             [
              1,
              "#f0f921"
             ]
            ],
            "type": "histogram2dcontour"
           }
          ],
          "mesh3d": [
           {
            "colorbar": {
             "outlinewidth": 0,
             "ticks": ""
            },
            "type": "mesh3d"
           }
          ],
          "parcoords": [
           {
            "line": {
             "colorbar": {
              "outlinewidth": 0,
              "ticks": ""
             }
            },
            "type": "parcoords"
           }
          ],
          "pie": [
           {
            "automargin": true,
            "type": "pie"
           }
          ],
          "scatter": [
           {
            "fillpattern": {
             "fillmode": "overlay",
             "size": 10,
             "solidity": 0.2
            },
            "type": "scatter"
           }
          ],
          "scatter3d": [
           {
            "line": {
             "colorbar": {
              "outlinewidth": 0,
              "ticks": ""
             }
            },
            "marker": {
             "colorbar": {
              "outlinewidth": 0,
              "ticks": ""
             }
            },
            "type": "scatter3d"
           }
          ],
          "scattercarpet": [
           {
            "marker": {
             "colorbar": {
              "outlinewidth": 0,
              "ticks": ""
             }
            },
            "type": "scattercarpet"
           }
          ],
          "scattergeo": [
           {
            "marker": {
             "colorbar": {
              "outlinewidth": 0,
              "ticks": ""
             }
            },
            "type": "scattergeo"
           }
          ],
          "scattergl": [
           {
            "marker": {
             "colorbar": {
              "outlinewidth": 0,
              "ticks": ""
             }
            },
            "type": "scattergl"
           }
          ],
          "scattermapbox": [
           {
            "marker": {
             "colorbar": {
              "outlinewidth": 0,
              "ticks": ""
             }
            },
            "type": "scattermapbox"
           }
          ],
          "scatterpolar": [
           {
            "marker": {
             "colorbar": {
              "outlinewidth": 0,
              "ticks": ""
             }
            },
            "type": "scatterpolar"
           }
          ],
          "scatterpolargl": [
           {
            "marker": {
             "colorbar": {
              "outlinewidth": 0,
              "ticks": ""
             }
            },
            "type": "scatterpolargl"
           }
          ],
          "scatterternary": [
           {
            "marker": {
             "colorbar": {
              "outlinewidth": 0,
              "ticks": ""
             }
            },
            "type": "scatterternary"
           }
          ],
          "surface": [
           {
            "colorbar": {
             "outlinewidth": 0,
             "ticks": ""
            },
            "colorscale": [
             [
              0,
              "#0d0887"
             ],
             [
              0.1111111111111111,
              "#46039f"
             ],
             [
              0.2222222222222222,
              "#7201a8"
             ],
             [
              0.3333333333333333,
              "#9c179e"
             ],
             [
              0.4444444444444444,
              "#bd3786"
             ],
             [
              0.5555555555555556,
              "#d8576b"
             ],
             [
              0.6666666666666666,
              "#ed7953"
             ],
             [
              0.7777777777777778,
              "#fb9f3a"
             ],
             [
              0.8888888888888888,
              "#fdca26"
             ],
             [
              1,
              "#f0f921"
             ]
            ],
            "type": "surface"
           }
          ],
          "table": [
           {
            "cells": {
             "fill": {
              "color": "#EBF0F8"
             },
             "line": {
              "color": "white"
             }
            },
            "header": {
             "fill": {
              "color": "#C8D4E3"
             },
             "line": {
              "color": "white"
             }
            },
            "type": "table"
           }
          ]
         },
         "layout": {
          "annotationdefaults": {
           "arrowcolor": "#2a3f5f",
           "arrowhead": 0,
           "arrowwidth": 1
          },
          "autotypenumbers": "strict",
          "coloraxis": {
           "colorbar": {
            "outlinewidth": 0,
            "ticks": ""
           }
          },
          "colorscale": {
           "diverging": [
            [
             0,
             "#8e0152"
            ],
            [
             0.1,
             "#c51b7d"
            ],
            [
             0.2,
             "#de77ae"
            ],
            [
             0.3,
             "#f1b6da"
            ],
            [
             0.4,
             "#fde0ef"
            ],
            [
             0.5,
             "#f7f7f7"
            ],
            [
             0.6,
             "#e6f5d0"
            ],
            [
             0.7,
             "#b8e186"
            ],
            [
             0.8,
             "#7fbc41"
            ],
            [
             0.9,
             "#4d9221"
            ],
            [
             1,
             "#276419"
            ]
           ],
           "sequential": [
            [
             0,
             "#0d0887"
            ],
            [
             0.1111111111111111,
             "#46039f"
            ],
            [
             0.2222222222222222,
             "#7201a8"
            ],
            [
             0.3333333333333333,
             "#9c179e"
            ],
            [
             0.4444444444444444,
             "#bd3786"
            ],
            [
             0.5555555555555556,
             "#d8576b"
            ],
            [
             0.6666666666666666,
             "#ed7953"
            ],
            [
             0.7777777777777778,
             "#fb9f3a"
            ],
            [
             0.8888888888888888,
             "#fdca26"
            ],
            [
             1,
             "#f0f921"
            ]
           ],
           "sequentialminus": [
            [
             0,
             "#0d0887"
            ],
            [
             0.1111111111111111,
             "#46039f"
            ],
            [
             0.2222222222222222,
             "#7201a8"
            ],
            [
             0.3333333333333333,
             "#9c179e"
            ],
            [
             0.4444444444444444,
             "#bd3786"
            ],
            [
             0.5555555555555556,
             "#d8576b"
            ],
            [
             0.6666666666666666,
             "#ed7953"
            ],
            [
             0.7777777777777778,
             "#fb9f3a"
            ],
            [
             0.8888888888888888,
             "#fdca26"
            ],
            [
             1,
             "#f0f921"
            ]
           ]
          },
          "colorway": [
           "#636efa",
           "#EF553B",
           "#00cc96",
           "#ab63fa",
           "#FFA15A",
           "#19d3f3",
           "#FF6692",
           "#B6E880",
           "#FF97FF",
           "#FECB52"
          ],
          "font": {
           "color": "#2a3f5f"
          },
          "geo": {
           "bgcolor": "white",
           "lakecolor": "white",
           "landcolor": "#E5ECF6",
           "showlakes": true,
           "showland": true,
           "subunitcolor": "white"
          },
          "hoverlabel": {
           "align": "left"
          },
          "hovermode": "closest",
          "mapbox": {
           "style": "light"
          },
          "paper_bgcolor": "white",
          "plot_bgcolor": "#E5ECF6",
          "polar": {
           "angularaxis": {
            "gridcolor": "white",
            "linecolor": "white",
            "ticks": ""
           },
           "bgcolor": "#E5ECF6",
           "radialaxis": {
            "gridcolor": "white",
            "linecolor": "white",
            "ticks": ""
           }
          },
          "scene": {
           "xaxis": {
            "backgroundcolor": "#E5ECF6",
            "gridcolor": "white",
            "gridwidth": 2,
            "linecolor": "white",
            "showbackground": true,
            "ticks": "",
            "zerolinecolor": "white"
           },
           "yaxis": {
            "backgroundcolor": "#E5ECF6",
            "gridcolor": "white",
            "gridwidth": 2,
            "linecolor": "white",
            "showbackground": true,
            "ticks": "",
            "zerolinecolor": "white"
           },
           "zaxis": {
            "backgroundcolor": "#E5ECF6",
            "gridcolor": "white",
            "gridwidth": 2,
            "linecolor": "white",
            "showbackground": true,
            "ticks": "",
            "zerolinecolor": "white"
           }
          },
          "shapedefaults": {
           "line": {
            "color": "#2a3f5f"
           }
          },
          "ternary": {
           "aaxis": {
            "gridcolor": "white",
            "linecolor": "white",
            "ticks": ""
           },
           "baxis": {
            "gridcolor": "white",
            "linecolor": "white",
            "ticks": ""
           },
           "bgcolor": "#E5ECF6",
           "caxis": {
            "gridcolor": "white",
            "linecolor": "white",
            "ticks": ""
           }
          },
          "title": {
           "x": 0.05
          },
          "xaxis": {
           "automargin": true,
           "gridcolor": "white",
           "linecolor": "white",
           "ticks": "",
           "title": {
            "standoff": 15
           },
           "zerolinecolor": "white",
           "zerolinewidth": 2
          },
          "yaxis": {
           "automargin": true,
           "gridcolor": "white",
           "linecolor": "white",
           "ticks": "",
           "title": {
            "standoff": 15
           },
           "zerolinecolor": "white",
           "zerolinewidth": 2
          }
         }
        },
        "xaxis": {
         "anchor": "y",
         "domain": [
          0,
          1
         ],
         "title": {
          "text": "Goverment has standalone law regarding mental health"
         }
        },
        "yaxis": {
         "anchor": "x",
         "domain": [
          0,
          1
         ],
         "title": {
          "text": "Suicide rate (averaged by country)"
         }
        }
       }
      }
     },
     "metadata": {},
     "output_type": "display_data"
    }
   ],
   "source": [
    "fig = px.histogram(df2016, x=\"standalone_law\", y=\"suicide_rate\", barmode=\"group\", histfunc=\"avg\")\n",
    "fig.update_xaxes(title_text=\"Goverment has standalone law regarding mental health\"); fig.update_yaxes(title_text=\"Suicide rate (averaged by country)\")\n",
    "fig.show()"
   ]
  },
  {
   "attachments": {},
   "cell_type": "markdown",
   "metadata": {},
   "source": [
    "Uhhhh."
   ]
  },
  {
   "cell_type": "code",
   "execution_count": 81,
   "metadata": {},
   "outputs": [
    {
     "data": {
      "application/vnd.plotly.v1+json": {
       "config": {
        "plotlyServerURL": "https://plot.ly"
       },
       "data": [
        {
         "alignmentgroup": "True",
         "bingroup": "x",
         "histfunc": "avg",
         "hovertemplate": "standalone_policy=%{x}<br>avg of suicide_rate=%{y}<extra></extra>",
         "legendgroup": "",
         "marker": {
          "color": "#636efa",
          "pattern": {
           "shape": ""
          }
         },
         "name": "",
         "offsetgroup": "",
         "orientation": "v",
         "showlegend": false,
         "type": "histogram",
         "x": [
          true,
          false,
          true,
          true,
          true,
          true,
          true,
          null,
          null,
          true,
          null,
          null,
          null,
          true,
          false,
          false,
          null,
          null,
          null,
          true,
          true,
          true,
          true,
          null,
          false,
          true,
          null,
          null,
          null,
          null,
          true,
          null,
          true,
          null,
          null,
          true,
          true,
          null,
          null,
          true,
          false,
          null,
          null,
          null,
          null,
          true,
          true,
          false,
          true,
          true,
          true,
          null,
          true,
          null,
          null,
          true,
          null,
          null,
          true,
          null,
          true,
          true,
          true,
          true,
          false,
          null,
          true,
          false,
          null,
          true,
          null,
          true,
          true,
          false,
          true,
          true,
          true,
          null,
          null,
          true,
          true,
          null,
          null,
          true,
          true,
          null,
          true,
          true,
          true,
          null,
          true,
          null,
          null,
          null,
          true,
          false,
          false,
          null,
          null,
          true,
          null,
          null,
          true,
          null,
          true,
          null,
          true,
          null,
          false,
          null,
          true,
          true,
          false,
          true,
          null,
          null,
          null,
          true,
          false,
          true,
          null,
          null,
          null,
          true,
          true,
          true,
          null,
          false,
          true,
          true,
          true,
          null,
          true,
          null,
          true,
          true,
          true,
          true,
          null,
          true,
          true,
          null,
          true,
          true,
          null,
          null,
          true,
          null,
          null,
          false,
          true,
          true,
          null,
          false,
          true,
          null,
          false,
          true,
          true,
          true,
          true,
          false,
          null,
          true,
          true,
          null,
          null,
          true,
          null,
          true,
          false,
          true,
          true,
          true,
          null,
          null,
          false,
          true,
          true,
          false,
          true,
          true,
          true
         ],
         "xaxis": "x",
         "y": [
          6.4,
          8.9,
          5.6,
          2.7,
          9.1,
          5.7,
          0.5,
          11.7,
          11.4,
          2.6,
          15,
          15.7,
          15.7,
          14.8,
          6.1,
          7.9,
          5.7,
          1.6,
          6.4,
          21.4,
          5.9,
          12.9,
          6.1,
          0.4,
          4.5,
          11.6,
          11.5,
          11.6,
          10.4,
          11.3,
          9.7,
          8,
          23,
          19.5,
          9.7,
          9.3,
          7,
          11.1,
          15.1,
          7.5,
          10.1,
          4.5,
          10.5,
          9.1,
          8.5,
          9.2,
          10.5,
          3.3,
          7.2,
          4.4,
          13.8,
          6.1,
          14.4,
          11.4,
          13.8,
          5.5,
          12.1,
          11.3,
          9.6,
          7.6,
          6.7,
          8.7,
          10.5,
          10,
          7.4,
          22,
          3.8,
          1.7,
          2.9,
          30.2,
          3.4,
          11.5,
          12.2,
          13.6,
          3.7,
          16.5,
          10.9,
          4,
          4.1,
          13.3,
          5.2,
          5.5,
          2,
          3.7,
          14.3,
          22.8,
          5.6,
          9.1,
          5.9,
          15.2,
          20.2,
          2.2,
          9.3,
          3.2,
          13.4,
          5.5,
          7.3,
          14.2,
          28.9,
          25.7,
          10.4,
          17.2,
          3.1,
          13.4,
          6.9,
          2.7,
          5.2,
          6.2,
          8.9,
          6.5,
          8.1,
          7.9,
          13.3,
          8.4,
          7.5,
          7.3,
          7.8,
          6.2,
          11.5,
          9,
          17.3,
          11.9,
          9.6,
          10.1,
          9.6,
          11.6,
          3.5,
          3.1,
          4.4,
          5.1,
          3.7,
          7,
          13.4,
          10.6,
          8.6,
          9.3,
          5.8,
          8,
          26.5,
          11,
          3.4,
          9.5,
          11.8,
          7.9,
          5.9,
          16.1,
          13.5,
          8.3,
          10.9,
          6.1,
          3.1,
          23.2,
          10.1,
          13.3,
          11.7,
          16.7,
          8.3,
          2.4,
          15.5,
          16.6,
          12.9,
          3.3,
          7.2,
          6.4,
          4,
          12.9,
          3.2,
          7.2,
          9.6,
          20,
          18.5,
          16.5,
          13.7,
          7.4,
          2.4,
          3.8,
          7,
          5.4,
          5.4,
          9.8,
          12.8,
          11.3,
          19.1
         ],
         "yaxis": "y"
        }
       ],
       "layout": {
        "barmode": "group",
        "legend": {
         "tracegroupgap": 0
        },
        "margin": {
         "t": 60
        },
        "template": {
         "data": {
          "bar": [
           {
            "error_x": {
             "color": "#2a3f5f"
            },
            "error_y": {
             "color": "#2a3f5f"
            },
            "marker": {
             "line": {
              "color": "#E5ECF6",
              "width": 0.5
             },
             "pattern": {
              "fillmode": "overlay",
              "size": 10,
              "solidity": 0.2
             }
            },
            "type": "bar"
           }
          ],
          "barpolar": [
           {
            "marker": {
             "line": {
              "color": "#E5ECF6",
              "width": 0.5
             },
             "pattern": {
              "fillmode": "overlay",
              "size": 10,
              "solidity": 0.2
             }
            },
            "type": "barpolar"
           }
          ],
          "carpet": [
           {
            "aaxis": {
             "endlinecolor": "#2a3f5f",
             "gridcolor": "white",
             "linecolor": "white",
             "minorgridcolor": "white",
             "startlinecolor": "#2a3f5f"
            },
            "baxis": {
             "endlinecolor": "#2a3f5f",
             "gridcolor": "white",
             "linecolor": "white",
             "minorgridcolor": "white",
             "startlinecolor": "#2a3f5f"
            },
            "type": "carpet"
           }
          ],
          "choropleth": [
           {
            "colorbar": {
             "outlinewidth": 0,
             "ticks": ""
            },
            "type": "choropleth"
           }
          ],
          "contour": [
           {
            "colorbar": {
             "outlinewidth": 0,
             "ticks": ""
            },
            "colorscale": [
             [
              0,
              "#0d0887"
             ],
             [
              0.1111111111111111,
              "#46039f"
             ],
             [
              0.2222222222222222,
              "#7201a8"
             ],
             [
              0.3333333333333333,
              "#9c179e"
             ],
             [
              0.4444444444444444,
              "#bd3786"
             ],
             [
              0.5555555555555556,
              "#d8576b"
             ],
             [
              0.6666666666666666,
              "#ed7953"
             ],
             [
              0.7777777777777778,
              "#fb9f3a"
             ],
             [
              0.8888888888888888,
              "#fdca26"
             ],
             [
              1,
              "#f0f921"
             ]
            ],
            "type": "contour"
           }
          ],
          "contourcarpet": [
           {
            "colorbar": {
             "outlinewidth": 0,
             "ticks": ""
            },
            "type": "contourcarpet"
           }
          ],
          "heatmap": [
           {
            "colorbar": {
             "outlinewidth": 0,
             "ticks": ""
            },
            "colorscale": [
             [
              0,
              "#0d0887"
             ],
             [
              0.1111111111111111,
              "#46039f"
             ],
             [
              0.2222222222222222,
              "#7201a8"
             ],
             [
              0.3333333333333333,
              "#9c179e"
             ],
             [
              0.4444444444444444,
              "#bd3786"
             ],
             [
              0.5555555555555556,
              "#d8576b"
             ],
             [
              0.6666666666666666,
              "#ed7953"
             ],
             [
              0.7777777777777778,
              "#fb9f3a"
             ],
             [
              0.8888888888888888,
              "#fdca26"
             ],
             [
              1,
              "#f0f921"
             ]
            ],
            "type": "heatmap"
           }
          ],
          "heatmapgl": [
           {
            "colorbar": {
             "outlinewidth": 0,
             "ticks": ""
            },
            "colorscale": [
             [
              0,
              "#0d0887"
             ],
             [
              0.1111111111111111,
              "#46039f"
             ],
             [
              0.2222222222222222,
              "#7201a8"
             ],
             [
              0.3333333333333333,
              "#9c179e"
             ],
             [
              0.4444444444444444,
              "#bd3786"
             ],
             [
              0.5555555555555556,
              "#d8576b"
             ],
             [
              0.6666666666666666,
              "#ed7953"
             ],
             [
              0.7777777777777778,
              "#fb9f3a"
             ],
             [
              0.8888888888888888,
              "#fdca26"
             ],
             [
              1,
              "#f0f921"
             ]
            ],
            "type": "heatmapgl"
           }
          ],
          "histogram": [
           {
            "marker": {
             "pattern": {
              "fillmode": "overlay",
              "size": 10,
              "solidity": 0.2
             }
            },
            "type": "histogram"
           }
          ],
          "histogram2d": [
           {
            "colorbar": {
             "outlinewidth": 0,
             "ticks": ""
            },
            "colorscale": [
             [
              0,
              "#0d0887"
             ],
             [
              0.1111111111111111,
              "#46039f"
             ],
             [
              0.2222222222222222,
              "#7201a8"
             ],
             [
              0.3333333333333333,
              "#9c179e"
             ],
             [
              0.4444444444444444,
              "#bd3786"
             ],
             [
              0.5555555555555556,
              "#d8576b"
             ],
             [
              0.6666666666666666,
              "#ed7953"
             ],
             [
              0.7777777777777778,
              "#fb9f3a"
             ],
             [
              0.8888888888888888,
              "#fdca26"
             ],
             [
              1,
              "#f0f921"
             ]
            ],
            "type": "histogram2d"
           }
          ],
          "histogram2dcontour": [
           {
            "colorbar": {
             "outlinewidth": 0,
             "ticks": ""
            },
            "colorscale": [
             [
              0,
              "#0d0887"
             ],
             [
              0.1111111111111111,
              "#46039f"
             ],
             [
              0.2222222222222222,
              "#7201a8"
             ],
             [
              0.3333333333333333,
              "#9c179e"
             ],
             [
              0.4444444444444444,
              "#bd3786"
             ],
             [
              0.5555555555555556,
              "#d8576b"
             ],
             [
              0.6666666666666666,
              "#ed7953"
             ],
             [
              0.7777777777777778,
              "#fb9f3a"
             ],
             [
              0.8888888888888888,
              "#fdca26"
             ],
             [
              1,
              "#f0f921"
             ]
            ],
            "type": "histogram2dcontour"
           }
          ],
          "mesh3d": [
           {
            "colorbar": {
             "outlinewidth": 0,
             "ticks": ""
            },
            "type": "mesh3d"
           }
          ],
          "parcoords": [
           {
            "line": {
             "colorbar": {
              "outlinewidth": 0,
              "ticks": ""
             }
            },
            "type": "parcoords"
           }
          ],
          "pie": [
           {
            "automargin": true,
            "type": "pie"
           }
          ],
          "scatter": [
           {
            "fillpattern": {
             "fillmode": "overlay",
             "size": 10,
             "solidity": 0.2
            },
            "type": "scatter"
           }
          ],
          "scatter3d": [
           {
            "line": {
             "colorbar": {
              "outlinewidth": 0,
              "ticks": ""
             }
            },
            "marker": {
             "colorbar": {
              "outlinewidth": 0,
              "ticks": ""
             }
            },
            "type": "scatter3d"
           }
          ],
          "scattercarpet": [
           {
            "marker": {
             "colorbar": {
              "outlinewidth": 0,
              "ticks": ""
             }
            },
            "type": "scattercarpet"
           }
          ],
          "scattergeo": [
           {
            "marker": {
             "colorbar": {
              "outlinewidth": 0,
              "ticks": ""
             }
            },
            "type": "scattergeo"
           }
          ],
          "scattergl": [
           {
            "marker": {
             "colorbar": {
              "outlinewidth": 0,
              "ticks": ""
             }
            },
            "type": "scattergl"
           }
          ],
          "scattermapbox": [
           {
            "marker": {
             "colorbar": {
              "outlinewidth": 0,
              "ticks": ""
             }
            },
            "type": "scattermapbox"
           }
          ],
          "scatterpolar": [
           {
            "marker": {
             "colorbar": {
              "outlinewidth": 0,
              "ticks": ""
             }
            },
            "type": "scatterpolar"
           }
          ],
          "scatterpolargl": [
           {
            "marker": {
             "colorbar": {
              "outlinewidth": 0,
              "ticks": ""
             }
            },
            "type": "scatterpolargl"
           }
          ],
          "scatterternary": [
           {
            "marker": {
             "colorbar": {
              "outlinewidth": 0,
              "ticks": ""
             }
            },
            "type": "scatterternary"
           }
          ],
          "surface": [
           {
            "colorbar": {
             "outlinewidth": 0,
             "ticks": ""
            },
            "colorscale": [
             [
              0,
              "#0d0887"
             ],
             [
              0.1111111111111111,
              "#46039f"
             ],
             [
              0.2222222222222222,
              "#7201a8"
             ],
             [
              0.3333333333333333,
              "#9c179e"
             ],
             [
              0.4444444444444444,
              "#bd3786"
             ],
             [
              0.5555555555555556,
              "#d8576b"
             ],
             [
              0.6666666666666666,
              "#ed7953"
             ],
             [
              0.7777777777777778,
              "#fb9f3a"
             ],
             [
              0.8888888888888888,
              "#fdca26"
             ],
             [
              1,
              "#f0f921"
             ]
            ],
            "type": "surface"
           }
          ],
          "table": [
           {
            "cells": {
             "fill": {
              "color": "#EBF0F8"
             },
             "line": {
              "color": "white"
             }
            },
            "header": {
             "fill": {
              "color": "#C8D4E3"
             },
             "line": {
              "color": "white"
             }
            },
            "type": "table"
           }
          ]
         },
         "layout": {
          "annotationdefaults": {
           "arrowcolor": "#2a3f5f",
           "arrowhead": 0,
           "arrowwidth": 1
          },
          "autotypenumbers": "strict",
          "coloraxis": {
           "colorbar": {
            "outlinewidth": 0,
            "ticks": ""
           }
          },
          "colorscale": {
           "diverging": [
            [
             0,
             "#8e0152"
            ],
            [
             0.1,
             "#c51b7d"
            ],
            [
             0.2,
             "#de77ae"
            ],
            [
             0.3,
             "#f1b6da"
            ],
            [
             0.4,
             "#fde0ef"
            ],
            [
             0.5,
             "#f7f7f7"
            ],
            [
             0.6,
             "#e6f5d0"
            ],
            [
             0.7,
             "#b8e186"
            ],
            [
             0.8,
             "#7fbc41"
            ],
            [
             0.9,
             "#4d9221"
            ],
            [
             1,
             "#276419"
            ]
           ],
           "sequential": [
            [
             0,
             "#0d0887"
            ],
            [
             0.1111111111111111,
             "#46039f"
            ],
            [
             0.2222222222222222,
             "#7201a8"
            ],
            [
             0.3333333333333333,
             "#9c179e"
            ],
            [
             0.4444444444444444,
             "#bd3786"
            ],
            [
             0.5555555555555556,
             "#d8576b"
            ],
            [
             0.6666666666666666,
             "#ed7953"
            ],
            [
             0.7777777777777778,
             "#fb9f3a"
            ],
            [
             0.8888888888888888,
             "#fdca26"
            ],
            [
             1,
             "#f0f921"
            ]
           ],
           "sequentialminus": [
            [
             0,
             "#0d0887"
            ],
            [
             0.1111111111111111,
             "#46039f"
            ],
            [
             0.2222222222222222,
             "#7201a8"
            ],
            [
             0.3333333333333333,
             "#9c179e"
            ],
            [
             0.4444444444444444,
             "#bd3786"
            ],
            [
             0.5555555555555556,
             "#d8576b"
            ],
            [
             0.6666666666666666,
             "#ed7953"
            ],
            [
             0.7777777777777778,
             "#fb9f3a"
            ],
            [
             0.8888888888888888,
             "#fdca26"
            ],
            [
             1,
             "#f0f921"
            ]
           ]
          },
          "colorway": [
           "#636efa",
           "#EF553B",
           "#00cc96",
           "#ab63fa",
           "#FFA15A",
           "#19d3f3",
           "#FF6692",
           "#B6E880",
           "#FF97FF",
           "#FECB52"
          ],
          "font": {
           "color": "#2a3f5f"
          },
          "geo": {
           "bgcolor": "white",
           "lakecolor": "white",
           "landcolor": "#E5ECF6",
           "showlakes": true,
           "showland": true,
           "subunitcolor": "white"
          },
          "hoverlabel": {
           "align": "left"
          },
          "hovermode": "closest",
          "mapbox": {
           "style": "light"
          },
          "paper_bgcolor": "white",
          "plot_bgcolor": "#E5ECF6",
          "polar": {
           "angularaxis": {
            "gridcolor": "white",
            "linecolor": "white",
            "ticks": ""
           },
           "bgcolor": "#E5ECF6",
           "radialaxis": {
            "gridcolor": "white",
            "linecolor": "white",
            "ticks": ""
           }
          },
          "scene": {
           "xaxis": {
            "backgroundcolor": "#E5ECF6",
            "gridcolor": "white",
            "gridwidth": 2,
            "linecolor": "white",
            "showbackground": true,
            "ticks": "",
            "zerolinecolor": "white"
           },
           "yaxis": {
            "backgroundcolor": "#E5ECF6",
            "gridcolor": "white",
            "gridwidth": 2,
            "linecolor": "white",
            "showbackground": true,
            "ticks": "",
            "zerolinecolor": "white"
           },
           "zaxis": {
            "backgroundcolor": "#E5ECF6",
            "gridcolor": "white",
            "gridwidth": 2,
            "linecolor": "white",
            "showbackground": true,
            "ticks": "",
            "zerolinecolor": "white"
           }
          },
          "shapedefaults": {
           "line": {
            "color": "#2a3f5f"
           }
          },
          "ternary": {
           "aaxis": {
            "gridcolor": "white",
            "linecolor": "white",
            "ticks": ""
           },
           "baxis": {
            "gridcolor": "white",
            "linecolor": "white",
            "ticks": ""
           },
           "bgcolor": "#E5ECF6",
           "caxis": {
            "gridcolor": "white",
            "linecolor": "white",
            "ticks": ""
           }
          },
          "title": {
           "x": 0.05
          },
          "xaxis": {
           "automargin": true,
           "gridcolor": "white",
           "linecolor": "white",
           "ticks": "",
           "title": {
            "standoff": 15
           },
           "zerolinecolor": "white",
           "zerolinewidth": 2
          },
          "yaxis": {
           "automargin": true,
           "gridcolor": "white",
           "linecolor": "white",
           "ticks": "",
           "title": {
            "standoff": 15
           },
           "zerolinecolor": "white",
           "zerolinewidth": 2
          }
         }
        },
        "xaxis": {
         "anchor": "y",
         "domain": [
          0,
          1
         ],
         "title": {
          "text": "Goverment has standalone policy or plan for mental health"
         }
        },
        "yaxis": {
         "anchor": "x",
         "domain": [
          0,
          1
         ],
         "title": {
          "text": "Suicide rate (averaged by country)"
         }
        }
       }
      }
     },
     "metadata": {},
     "output_type": "display_data"
    }
   ],
   "source": [
    "fig = px.histogram(df2016, x=\"standalone_policy\", y=\"suicide_rate\", barmode=\"group\", histfunc=\"avg\")\n",
    "fig.update_xaxes(title_text=\"Goverment has standalone policy or plan for mental health\"); fig.update_yaxes(title_text=\"Suicide rate (averaged by country)\")\n",
    "fig.show()"
   ]
  },
  {
   "attachments": {},
   "cell_type": "markdown",
   "metadata": {},
   "source": [
    "Oh, look, having a plan makes it worse. Again, or those are the countries that need it. Remember that this whole document could have the wrong idea.\n",
    "\n",
    "## Conclusion\n",
    "If you're considering suicide, talk to a professional. It's the only thing that does anything."
   ]
  }
 ],
 "metadata": {
  "kernelspec": {
   "display_name": "Python 3",
   "language": "python",
   "name": "python3"
  },
  "language_info": {
   "codemirror_mode": {
    "name": "ipython",
    "version": 3
   },
   "file_extension": ".py",
   "mimetype": "text/x-python",
   "name": "python",
   "nbconvert_exporter": "python",
   "pygments_lexer": "ipython3",
   "version": "3.9.13"
  },
  "orig_nbformat": 4,
  "vscode": {
   "interpreter": {
    "hash": "8764a732b9e5a873f12ddbae88d673f01c4c506b1c07ff20557a0bb93d8dd48f"
   }
  }
 },
 "nbformat": 4,
 "nbformat_minor": 2
}
