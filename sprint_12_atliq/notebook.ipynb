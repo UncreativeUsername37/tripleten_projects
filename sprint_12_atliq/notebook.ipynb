{
 "cells": [
  {
   "cell_type": "markdown",
   "id": "a5f64803",
   "metadata": {},
   "source": [
    "# AtliQ Hardware product analysis\n",
    "The company would like to know how its popularity has changed over time and how it differs by region, which of its items have sold the most, and hopefully as a result how it can increase sales. The relevant tables are these:\n",
    "\n",
    "* dim_product: It has product names and codes along with categorisations of the product, like \"keyboard\" or \"storage\", on three levels. Or four, if you count the fact that variants of the same named product (e.g., premium vs. plus, blue vs. red) have different codes.\n",
    "* fact_manufacturing_cost: Manufacturing cost by product code by year.\n",
    "* fact_gross_price: Price by product code by year.\n",
    "* fact_sales_monthly: Number of each product code bought by customer and month.\n",
    "\n",
    "There's a dashboard [available here](https://public.tableau.com/app/profile/hollis.krause/viz/s12_dash_a2/Salesquantities) where you can look at some of the charts in this notebook in a more interactive way."
   ]
  },
  {
   "cell_type": "markdown",
   "id": "12f0a89d",
   "metadata": {},
   "source": [
    "## Testing the connection"
   ]
  },
  {
   "cell_type": "code",
   "execution_count": null,
   "id": "2542798f",
   "metadata": {},
   "outputs": [],
   "source": [
    "import pandas as pd\n",
    "import sqlite3\n",
    "import plotly.express as px\n",
    "import plotly.graph_objects as go\n",
    "\n",
    "con = sqlite3.connect('atliq_db.sqlite3')\n",
    "\n",
    "cursor = con.cursor()\n",
    "cursor.execute(\"SELECT name FROM sqlite_master WHERE type='table';\")\n",
    "print(cursor.fetchall())\n",
    "\n",
    "query=\"\"\"Select * from \n",
    "dim_customer\n",
    "LIMIT 10\n",
    "\"\"\"\n",
    "dim_customer=pd.read_sql_query(query, con)\n",
    "dim_customer.head()"
   ]
  },
  {
   "cell_type": "markdown",
   "id": "8b9a487a",
   "metadata": {},
   "source": [
    "I know it was for testing, but that table is so boring I'm doing another query."
   ]
  },
  {
   "cell_type": "code",
   "execution_count": null,
   "id": "831605d0",
   "metadata": {},
   "outputs": [],
   "source": [
    "query=\"\"\"\n",
    "SELECT DISTINCT customer\n",
    "FROM dim_customer\n",
    "LIMIT 10\n",
    "\"\"\"\n",
    "read = pd.read_sql_query(query, con)\n",
    "read"
   ]
  },
  {
   "cell_type": "markdown",
   "id": "590742c9",
   "metadata": {},
   "source": [
    "Note from this that the table of customers has different rows for the same entity operating in different countries. Which is good for regional comparisons, you just have to remember to combine them when necessary."
   ]
  },
  {
   "cell_type": "markdown",
   "id": "0dc04f13",
   "metadata": {},
   "source": [
    "## Basic checks and initial looks\n",
    "### What do some of these things look like?\n",
    "dim_product is hard to visualise from the schema, let's look at it."
   ]
  },
  {
   "cell_type": "code",
   "execution_count": null,
   "id": "185537db",
   "metadata": {},
   "outputs": [],
   "source": [
    "query=\"\"\"\n",
    "SELECT *\n",
    "FROM dim_product\n",
    "LIMIT 5\n",
    "\"\"\"\n",
    "read = pd.read_sql_query(query, con)\n",
    "read"
   ]
  },
  {
   "cell_type": "markdown",
   "id": "7e808541",
   "metadata": {},
   "source": [
    "How many of these products are there?"
   ]
  },
  {
   "cell_type": "code",
   "execution_count": null,
   "id": "15499027",
   "metadata": {},
   "outputs": [],
   "source": [
    "query=\"\"\"\n",
    "SELECT COUNT(DISTINCT product_code) as product_codes, COUNT(DISTINCT product) as product_names\n",
    "FROM dim_product\n",
    "\"\"\"\n",
    "read = pd.read_sql_query(query, con)\n",
    "read"
   ]
  },
  {
   "cell_type": "markdown",
   "id": "4c170945",
   "metadata": {},
   "source": [
    "73, with an average of about 5.4 variations each. This makes me wonder if there are even enough products in each category to do any category-based analysis confidently."
   ]
  },
  {
   "cell_type": "code",
   "execution_count": null,
   "id": "ac5181ad",
   "metadata": {},
   "outputs": [],
   "source": [
    "query=\"\"\"\n",
    "SELECT COUNT(DISTINCT category)\n",
    "FROM dim_product\n",
    "\"\"\"\n",
    "read = pd.read_sql_query(query, con)\n",
    "read"
   ]
  },
  {
   "cell_type": "markdown",
   "id": "5b8165b9",
   "metadata": {},
   "source": [
    "So about five products per category. Not much, but not useless. But all this doesn't matter; the sales data only has four products in a total of fourteen variations. Here's every code:"
   ]
  },
  {
   "cell_type": "code",
   "execution_count": null,
   "id": "99c9c9da",
   "metadata": {},
   "outputs": [],
   "source": [
    "query=\"\"\"\n",
    "SELECT DISTINCT product_code\n",
    "FROM fact_sales_monthly\n",
    "\"\"\"\n",
    "read = pd.read_sql_query(query, con)\n",
    "read"
   ]
  },
  {
   "cell_type": "markdown",
   "id": "baa54547",
   "metadata": {},
   "source": [
    "The weird A0 row is mostly null and doesn't represent anything real. Here are the products:"
   ]
  },
  {
   "cell_type": "code",
   "execution_count": null,
   "id": "19a2764b",
   "metadata": {},
   "outputs": [],
   "source": [
    "query=\"\"\"\n",
    "SELECT dim_product.product AS product, SUM(sold_quantity) as total_quan\n",
    "FROM fact_sales_monthly LEFT JOIN dim_product ON fact_sales_monthly.product_code = dim_product.product_code\n",
    "WHERE product IS NOT NULL\n",
    "GROUP BY dim_product.product\n",
    "ORDER BY total_quan DESC\n",
    "\"\"\"\n",
    "read = pd.read_sql_query(query, con)\n",
    "read"
   ]
  },
  {
   "cell_type": "markdown",
   "id": "9efb6c05",
   "metadata": {},
   "source": [
    "Obviously it isn't a lot, but it's what we've got, so they're getting compared. Such as by total sales there.\n",
    "\n",
    "Moving on, what dates are we covering?"
   ]
  },
  {
   "cell_type": "code",
   "execution_count": null,
   "id": "d00a0218",
   "metadata": {},
   "outputs": [],
   "source": [
    "query=\"\"\"\n",
    "SELECT DISTINCT date\n",
    "FROM fact_sales_monthly\n",
    "ORDER BY date ASC\n",
    "LIMIT 10\n",
    "\"\"\"\n",
    "read = pd.read_sql_query(query, con)\n",
    "read"
   ]
  },
  {
   "cell_type": "code",
   "execution_count": null,
   "id": "b2218cf9",
   "metadata": {},
   "outputs": [],
   "source": [
    "query=\"\"\"\n",
    "SELECT MIN(date),MAX(date)\n",
    "FROM fact_sales_monthly\n",
    "\"\"\"\n",
    "read = pd.read_sql_query(query, con)\n",
    "read"
   ]
  },
  {
   "cell_type": "markdown",
   "id": "026bb7b2",
   "metadata": {},
   "source": [
    "September 2017 to December 2021. Also, \"date\" is really month, as the table's name suggests. And do we have every month?"
   ]
  },
  {
   "cell_type": "code",
   "execution_count": null,
   "id": "1e5d4650",
   "metadata": {},
   "outputs": [],
   "source": [
    "query=\"\"\"\n",
    "SELECT COUNT(DISTINCT date)\n",
    "FROM fact_sales_monthly\n",
    "\"\"\"\n",
    "read = pd.read_sql_query(query, con)\n",
    "read"
   ]
  },
  {
   "cell_type": "markdown",
   "id": "b207f4c9",
   "metadata": {},
   "source": [
    "Yep, 4*12+4=52.\n",
    "\n",
    "### Checking for duplicates and missing values"
   ]
  },
  {
   "cell_type": "code",
   "execution_count": null,
   "id": "08773ee2",
   "metadata": {},
   "outputs": [],
   "source": [
    "query=\"\"\"\n",
    "SELECT COUNT(DISTINCT product_code) as distinct_codes, COUNT(*) as rows\n",
    "FROM dim_product\n",
    "\"\"\"\n",
    "read = pd.read_sql_query(query, con)\n",
    "read"
   ]
  },
  {
   "cell_type": "code",
   "execution_count": null,
   "id": "fc05e635",
   "metadata": {},
   "outputs": [],
   "source": [
    "query=\"\"\"\n",
    "SELECT *\n",
    "FROM fact_manufacturing_cost\n",
    "GROUP BY product_code, cost_year\n",
    "HAVING COUNT(*) > 1\n",
    "\"\"\"\n",
    "read = pd.read_sql_query(query, con)\n",
    "read"
   ]
  },
  {
   "cell_type": "code",
   "execution_count": null,
   "id": "35ea1e92",
   "metadata": {},
   "outputs": [],
   "source": [
    "query=\"\"\"\n",
    "SELECT *\n",
    "FROM fact_gross_price\n",
    "GROUP BY product_code, fiscal_year\n",
    "HAVING COUNT(*) > 1\n",
    "\"\"\"\n",
    "read = pd.read_sql_query(query, con)\n",
    "read"
   ]
  },
  {
   "cell_type": "code",
   "execution_count": null,
   "id": "5e92db3c",
   "metadata": {},
   "outputs": [],
   "source": [
    "query=\"\"\"\n",
    "SELECT *\n",
    "FROM fact_sales_monthly\n",
    "GROUP BY date, product_code, customer_code\n",
    "HAVING COUNT(*) > 1\n",
    "\"\"\"\n",
    "read = pd.read_sql_query(query, con)\n",
    "read"
   ]
  },
  {
   "cell_type": "code",
   "execution_count": null,
   "id": "b5175f08",
   "metadata": {},
   "outputs": [],
   "source": [
    "query=\"\"\"\n",
    "SELECT *\n",
    "FROM dim_product\n",
    "WHERE product_code IS NULL OR division IS NULL OR segment IS NULL OR category IS NULL OR product IS NULL OR variant IS NULL\n",
    "\"\"\"\n",
    "read = pd.read_sql_query(query, con)\n",
    "read"
   ]
  },
  {
   "cell_type": "code",
   "execution_count": null,
   "id": "3aa7dbcf",
   "metadata": {},
   "outputs": [],
   "source": [
    "query=\"\"\"\n",
    "SELECT *\n",
    "FROM fact_manufacturing_cost\n",
    "WHERE product_code IS NULL OR cost_year IS NULL OR manufacturing_cost IS NULL\n",
    "\"\"\"\n",
    "read = pd.read_sql_query(query, con)\n",
    "read"
   ]
  },
  {
   "cell_type": "code",
   "execution_count": null,
   "id": "5348fa89",
   "metadata": {},
   "outputs": [],
   "source": [
    "query=\"\"\"\n",
    "SELECT *\n",
    "FROM fact_gross_price\n",
    "WHERE product_code IS NULL OR fiscal_year IS NULL OR gross_price IS NULL\n",
    "\"\"\"\n",
    "read = pd.read_sql_query(query, con)\n",
    "read"
   ]
  },
  {
   "cell_type": "code",
   "execution_count": null,
   "id": "0dbe2c3f",
   "metadata": {},
   "outputs": [],
   "source": [
    "query=\"\"\"\n",
    "SELECT *\n",
    "FROM fact_sales_monthly\n",
    "WHERE date IS NULL OR product_code IS NULL OR customer_code IS NULL OR sold_quantity IS NULL OR fiscal_year IS NULL\n",
    "\"\"\"\n",
    "read = pd.read_sql_query(query, con)\n",
    "read"
   ]
  },
  {
   "cell_type": "markdown",
   "id": "c8c16be0",
   "metadata": {},
   "source": [
    "There's the A0 row I mentioned."
   ]
  },
  {
   "cell_type": "code",
   "execution_count": null,
   "id": "b4ccfd8e",
   "metadata": {},
   "outputs": [],
   "source": [
    "query=\"\"\"\n",
    "SELECT *\n",
    "FROM dim_product\n",
    "WHERE product_code = 'A0'\n",
    "\"\"\"\n",
    "read = pd.read_sql_query(query, con)\n",
    "read"
   ]
  },
  {
   "cell_type": "markdown",
   "id": "5d000ab6",
   "metadata": {},
   "source": [
    "It doesn't even have a corresponding row in dim_product. Again, one row is not a real thing. But it is just a single row, at least."
   ]
  },
  {
   "cell_type": "markdown",
   "id": "0bd2d642",
   "metadata": {},
   "source": [
    "## Main analysis\n",
    "Perhaps the most obvious thing of all is comparing gross price to manufacturing cost, a quick check to make sure every individual sale is actually profit."
   ]
  },
  {
   "cell_type": "code",
   "execution_count": null,
   "id": "7ed1c75b",
   "metadata": {},
   "outputs": [],
   "source": [
    "query=\"\"\"\n",
    "SELECT fact_manufacturing_cost.product_code, fact_manufacturing_cost.cost_year, fact_manufacturing_cost.manufacturing_cost, fact_gross_price.gross_price, fact_gross_price.gross_price - fact_manufacturing_cost.manufacturing_cost AS difference\n",
    "FROM fact_manufacturing_cost LEFT JOIN fact_gross_price ON fact_manufacturing_cost.product_code=fact_gross_price.product_code AND fact_manufacturing_cost.cost_year=fact_gross_price.fiscal_year\n",
    "LIMIT 10\n",
    "\"\"\"\n",
    "read = pd.read_sql_query(query, con)\n",
    "read"
   ]
  },
  {
   "cell_type": "markdown",
   "id": "a0fa1f33",
   "metadata": {},
   "source": [
    "Everything has four pairs of figures, one for each year, which makes things tricky. We could just use the latest year, that'd probably be best for suggesting changes anyway."
   ]
  },
  {
   "cell_type": "code",
   "execution_count": null,
   "id": "0ae409b0",
   "metadata": {},
   "outputs": [],
   "source": [
    "query=\"\"\"\n",
    "SELECT fact_manufacturing_cost.product_code, fact_manufacturing_cost.cost_year AS year, fact_manufacturing_cost.manufacturing_cost, fact_gross_price.gross_price, fact_gross_price.gross_price - fact_manufacturing_cost.manufacturing_cost AS difference\n",
    "FROM fact_manufacturing_cost LEFT JOIN fact_gross_price ON fact_manufacturing_cost.product_code=fact_gross_price.product_code AND year=fact_gross_price.fiscal_year\n",
    "WHERE year = 2021\n",
    "ORDER BY difference ASC\n",
    "\"\"\"\n",
    "diffs = pd.read_sql_query(query, con)\n",
    "diffs"
   ]
  },
  {
   "cell_type": "markdown",
   "id": "bf0bad57",
   "metadata": {},
   "source": [
    "Even the narrowest of margins is over 2 per unit, which is nice to see. The wide range of those margins here also makes me want to know what counts as an ordinary one."
   ]
  },
  {
   "cell_type": "code",
   "execution_count": null,
   "id": "2dbf94f0",
   "metadata": {},
   "outputs": [],
   "source": [
    "fig = px.histogram(diffs, x=\"difference\")\n",
    "fig.show()"
   ]
  },
  {
   "cell_type": "markdown",
   "id": "354ce483",
   "metadata": {},
   "source": [
    "A little over half of them fall into that <50 bracket, but it doesn't tail off in a way you might expect. No number is really \"weird\". We could also look at it in terms of the ratio."
   ]
  },
  {
   "cell_type": "code",
   "execution_count": null,
   "id": "4cb5a107",
   "metadata": {},
   "outputs": [],
   "source": [
    "query=\"\"\"\n",
    "SELECT fact_manufacturing_cost.product_code, fact_manufacturing_cost.cost_year AS year, fact_manufacturing_cost.manufacturing_cost, fact_gross_price.gross_price, (fact_gross_price.gross_price / fact_manufacturing_cost.manufacturing_cost) - 1 AS rev_pc\n",
    "FROM fact_manufacturing_cost LEFT JOIN fact_gross_price ON fact_manufacturing_cost.product_code=fact_gross_price.product_code AND year=fact_gross_price.fiscal_year\n",
    "WHERE year = 2021\n",
    "ORDER BY rev_pc ASC\n",
    "\"\"\"\n",
    "read = pd.read_sql_query(query, con)\n",
    "read"
   ]
  },
  {
   "cell_type": "markdown",
   "id": "c1cef2cf",
   "metadata": {},
   "source": [
    "And now things become rather even. Makes more sense that the ratio is what things would be based on anyway.\n",
    "\n",
    "But are there any trends to worry about?"
   ]
  },
  {
   "cell_type": "code",
   "execution_count": null,
   "id": "4433d1f3",
   "metadata": {},
   "outputs": [],
   "source": [
    "query=\"\"\"\n",
    "SELECT fact_manufacturing_cost.product_code, fact_manufacturing_cost.cost_year AS year, fact_manufacturing_cost.manufacturing_cost, fact_gross_price.gross_price, (fact_gross_price.gross_price / fact_manufacturing_cost.manufacturing_cost) - 1 AS rev_pc\n",
    "FROM fact_manufacturing_cost LEFT JOIN fact_gross_price ON fact_manufacturing_cost.product_code=fact_gross_price.product_code AND year=fact_gross_price.fiscal_year\n",
    "WHERE fact_manufacturing_cost.product_code IN ('A0118150101', 'A0118150102', 'A0118150103', 'A0118150104', 'A0219150201', 'A0219150202', 'A0219150203', 'A0320150301', 'A0320150302', 'A0320150303', 'A0418150101', 'A0418150102', 'A0418150103', 'A0418150104') AND year >= 2018 AND year <= 2021\n",
    "ORDER BY year, fact_manufacturing_cost.product_code ASC\n",
    "\"\"\"\n",
    "ppu_table = pd.read_sql_query(query, con)\n",
    "\n",
    "fig = px.line(ppu_table, x=\"year\", y=\"rev_pc\", color=\"product_code\")\n",
    "names = {\"A0118150101\": \"Dracula Standard\", \"A0118150102\": \"Dracula Plus\", \"A0118150103\": \"Dracula Premium\", \"A0118150104\": \"Dracula Premium Plus\", \"A0219150201\": \"WereWolf Standard\", \"A0219150202\": \"WereWolf Plus\", \"A0219150203\": \"WereWolf Premium\", \"A0320150301\": \"Zion Saga Standard\", \"A0320150302\": \"Zion Saga Plus\", \"A0320150303\": \"Zion Saga Premium\", \"A0418150101\": \"Mforce Gen X Std. 1\", \"A0418150102\": \"Mforce Gen X Std. 2\", \"A0418150103\": \"Mforce Gen X Std. 3\", \"A0418150104\": \"Mforce Gen X Plus 1\"}\n",
    "\n",
    "fig.update_layout(title=\"No variant's profitability per unit is falling dramatically\", xaxis_title=\"Year\", yaxis_title=\"Price/cost ratio minus 1\", legend_title_text=\"Variant\")\n",
    "fig.update_yaxes(range=[0, 2.5])\n",
    "fig.update_xaxes(nticks=4)\n",
    "fig.for_each_trace(lambda t: t.update(name = names[t.name]))\n",
    "fig.show()"
   ]
  },
  {
   "cell_type": "markdown",
   "id": "569b4141",
   "metadata": {},
   "source": [
    "Nope. Good to see.\n",
    "\n",
    "Now let's finally answer something that was directly asked: which items have the most sales."
   ]
  },
  {
   "cell_type": "code",
   "execution_count": null,
   "id": "db4f470b",
   "metadata": {},
   "outputs": [],
   "source": [
    "query=\"\"\"\n",
    "SELECT dim_product.product AS product, dim_product.variant AS variant, SUM(sold_quantity) as total_quan\n",
    "FROM fact_sales_monthly LEFT JOIN dim_product ON fact_sales_monthly.product_code = dim_product.product_code\n",
    "WHERE product IS NOT NULL\n",
    "GROUP BY fact_sales_monthly.product_code\n",
    "ORDER BY total_quan DESC\n",
    "\"\"\"\n",
    "read = pd.read_sql_query(query, con)\n",
    "read"
   ]
  },
  {
   "cell_type": "markdown",
   "id": "307db02b",
   "metadata": {},
   "source": [
    "The Mforce Gen X has the single highest variation, but is that really what we're looking for? Maybe grouping by the name would be better."
   ]
  },
  {
   "cell_type": "code",
   "execution_count": null,
   "id": "c8cd8678",
   "metadata": {},
   "outputs": [],
   "source": [
    "query=\"\"\"\n",
    "SELECT dim_product.product AS product, SUM(sold_quantity) as total_quan\n",
    "FROM fact_sales_monthly LEFT JOIN dim_product ON fact_sales_monthly.product_code = dim_product.product_code\n",
    "WHERE product IS NOT NULL\n",
    "GROUP BY dim_product.product\n",
    "ORDER BY total_quan DESC\n",
    "\"\"\"\n",
    "read = pd.read_sql_query(query, con)\n",
    "read"
   ]
  },
  {
   "cell_type": "markdown",
   "id": "143b0832",
   "metadata": {},
   "source": [
    "It has the best single variant, but the worst total sales. This is at least partly because it only had one variant being sold from September 2020 onward. The Dracula is on top, and by a good margin, but there are only four things, after all.\n",
    "\n",
    "Another thing to look at is which items are most popular in the sense of having been bought by the most customers."
   ]
  },
  {
   "cell_type": "code",
   "execution_count": null,
   "id": "df2950b1",
   "metadata": {},
   "outputs": [],
   "source": [
    "query=\"\"\"\n",
    "SELECT product, COUNT(DISTINCT customer_code) as customers\n",
    "FROM fact_sales_monthly LEFT JOIN dim_product ON fact_sales_monthly.product_code=dim_product.product_code\n",
    "WHERE product IS NOT NULL\n",
    "GROUP BY product\n",
    "ORDER BY customers DESC\n",
    "\"\"\"\n",
    "read = pd.read_sql_query(query, con)\n",
    "read"
   ]
  },
  {
   "cell_type": "markdown",
   "id": "8708d5ca",
   "metadata": {},
   "source": [
    "All the same. Also, if you do it with just 2021, you get the same numbers."
   ]
  },
  {
   "cell_type": "code",
   "execution_count": null,
   "id": "e1b6da85",
   "metadata": {},
   "outputs": [],
   "source": [
    "query=\"\"\"\n",
    "SELECT product, COUNT(DISTINCT customer_code) as customers\n",
    "FROM fact_sales_monthly LEFT JOIN dim_product ON fact_sales_monthly.product_code=dim_product.product_code\n",
    "WHERE SUBSTRING(date, 1, 4) = '2021'\n",
    "GROUP BY product\n",
    "ORDER BY customers DESC\n",
    "\"\"\"\n",
    "read = pd.read_sql_query(query, con)\n",
    "read"
   ]
  },
  {
   "cell_type": "markdown",
   "id": "8d18e5b7",
   "metadata": {},
   "source": [
    "### Differences over time and comparing products"
   ]
  },
  {
   "cell_type": "markdown",
   "id": "1adabdbd",
   "metadata": {},
   "source": [
    "The products over time:"
   ]
  },
  {
   "cell_type": "code",
   "execution_count": null,
   "id": "7e7d908f",
   "metadata": {},
   "outputs": [],
   "source": [
    "query=\"\"\"\n",
    "SELECT date, product, SUM(sold_quantity) as quantity\n",
    "FROM fact_sales_monthly LEFT JOIN dim_product ON fact_sales_monthly.product_code=dim_product.product_code\n",
    "GROUP BY product, date\n",
    "\"\"\"\n",
    "sales_mp = pd.read_sql_query(query, con)\n",
    "sales_mp = sales_mp.dropna()\n",
    "\n",
    "fig = px.line(sales_mp, x=\"date\", y=\"quantity\", color=\"product\")\n",
    "names = {\"AQ Dracula HDD – 3.5 Inch SATA 6 Gb/s 5400 RPM 256 MB Cache\": \"AQ Dracula HDD\", \"AQ Mforce Gen X\": \"AQ Mforce Gen X\", \"AQ WereWolf NAS Internal Hard Drive HDD – 8.89 cm\": \"AQ WereWolf HDD\", \"AQ Zion Saga\": \"AQ Zion Saga\"}\n",
    "fig.for_each_trace(lambda t: t.update(name = names[t.name]))\n",
    "fig.update_layout(title=\"Mforce Gen X has been behind since late 2020\", xaxis_title=\"Month\", yaxis_title=\"Quantity sold\", legend_title_text=\"Product\")\n",
    "fig.show()"
   ]
  },
  {
   "cell_type": "markdown",
   "id": "072c4b2f",
   "metadata": {},
   "source": [
    "They all have a similar shape. We see a seasonal trend from this, with an increase over the last third of the year before a drop and things being very level again. And look at how big 2021 was, especially if you aren't the Mforce Gen X. But going back to a point stated a few tables earlier, if you look into the individual variants, you find that only one got to experience the rise of 2021:"
   ]
  },
  {
   "cell_type": "code",
   "execution_count": null,
   "id": "9a857c3b",
   "metadata": {},
   "outputs": [],
   "source": [
    "query=\"\"\"\n",
    "SELECT date, fact_sales_monthly.product_code, product, variant, SUM(sold_quantity) as quantity\n",
    "FROM fact_sales_monthly LEFT JOIN dim_product ON fact_sales_monthly.product_code=dim_product.product_code\n",
    "WHERE product='AQ Mforce Gen X'\n",
    "GROUP BY date, product, variant\n",
    "\"\"\"\n",
    "sales_mv = pd.read_sql_query(query, con)\n",
    "sales_mv = sales_mv.dropna()\n",
    "\n",
    "fig = px.line(sales_mv, x=\"date\", y=\"quantity\", color=\"product_code\")\n",
    "names = {\"A0118150101\": \"Dracula Standard\", \"A0118150102\": \"Dracula Plus\", \"A0118150103\": \"Dracula Premium\", \"A0118150104\": \"Dracula Premium Plus\", \"A0219150201\": \"WereWolf Standard\", \"A0219150202\": \"WereWolf Plus\", \"A0219150203\": \"WereWolf Premium\", \"A0320150301\": \"Zion Saga Standard\", \"A0320150302\": \"Zion Saga Plus\", \"A0320150303\": \"Zion Saga Premium\", \"A0418150101\": \"Mforce Gen X Std. 1\", \"A0418150102\": \"Mforce Gen X Std. 2\", \"A0418150103\": \"Mforce Gen X Std. 3\", \"A0418150104\": \"Mforce Gen X Plus 1\"}\n",
    "fig.for_each_trace(lambda t: t.update(name = names[t.name]))\n",
    "fig.update_layout(title=\"The abandonment of Mforce Gen X variants\", xaxis_title=\"Month\", yaxis_title=\"Quantity sold\", legend_title_text=\"Variant\")\n",
    "fig.show()"
   ]
  },
  {
   "cell_type": "markdown",
   "id": "84ef6f44",
   "metadata": {},
   "source": [
    "Everything was selling very close to equally well, but the Plus 1's last month is June 2019 and the last month for two of the Standard variants is August 2020. So should this product actually be the most popular? Perhaps not, because the other variants wouldn't have been stopped for no reason, and the fact that seemingly none of their sales redirected to the Standard 3 is curious. This kind of makes it feel like even within products the data is incomplete, but if that's true, this whole analysis becomes pointless.\n",
    "\n",
    "The Dracula had a couple variants dropped too, and right before this rise:"
   ]
  },
  {
   "cell_type": "code",
   "execution_count": null,
   "id": "aded1680",
   "metadata": {},
   "outputs": [],
   "source": [
    "query=\"\"\"\n",
    "SELECT date, fact_sales_monthly.product_code, product, variant, SUM(sold_quantity) as quantity\n",
    "FROM fact_sales_monthly LEFT JOIN dim_product ON fact_sales_monthly.product_code=dim_product.product_code\n",
    "WHERE product='AQ Dracula HDD – 3.5 Inch SATA 6 Gb/s 5400 RPM 256 MB Cache'\n",
    "GROUP BY date, product, variant\n",
    "\"\"\"\n",
    "sales_mv = pd.read_sql_query(query, con)\n",
    "sales_mv = sales_mv.dropna()\n",
    "\n",
    "fig = px.line(sales_mv, x=\"date\", y=\"quantity\", color=\"product_code\")\n",
    "names = {\"A0118150101\": \"Dracula Standard\", \"A0118150102\": \"Dracula Plus\", \"A0118150103\": \"Dracula Premium\", \"A0118150104\": \"Dracula Premium Plus\", \"A0219150201\": \"WereWolf Standard\", \"A0219150202\": \"WereWolf Plus\", \"A0219150203\": \"WereWolf Premium\", \"A0320150301\": \"Zion Saga Standard\", \"A0320150302\": \"Zion Saga Plus\", \"A0320150303\": \"Zion Saga Premium\", \"A0418150101\": \"Mforce Gen X Std. 1\", \"A0418150102\": \"Mforce Gen X Std. 2\", \"A0418150103\": \"Mforce Gen X Std. 3\", \"A0418150104\": \"Mforce Gen X Plus 1\"}\n",
    "fig.for_each_trace(lambda t: t.update(name = names[t.name]))\n",
    "fig.update_layout(title=\"The abandonment of Dracula variants\", xaxis_title=\"Month\", yaxis_title=\"Quantity sold\", legend_title_text=\"Variant\")\n",
    "fig.show()"
   ]
  },
  {
   "cell_type": "markdown",
   "id": "c6bed8b5",
   "metadata": {},
   "source": [
    "But if we do say the loss of these variants had a good cause and we trust the totals throughout as meaningful, let's see if the differences in sales numbers are significant, in the statistical sense. We'll compare each product's monthly quantities sold, yielding a table like this:\n",
    "<table>\n",
    "<tr>\n",
    " <td>Product</td>\n",
    " <td>Dracula HDD</td>\n",
    " <td>Mforce Gen X</td>\n",
    " <td>WereWolf HDD</td>\n",
    " <td>Zion Saga</td>\n",
    "</tr>\n",
    "<tr>\n",
    " <td>Dracula HDD</td>\n",
    " <td>—</td>\n",
    " <td>TBD</td>\n",
    " <td>TBD</td>\n",
    " <td>TBD</td>\n",
    "</tr>\n",
    "<tr>\n",
    " <td>Mforce Gen X</td>\n",
    " <td>TBD</td>\n",
    " <td>—</td>\n",
    " <td>TBD</td>\n",
    " <td>TBD</td>\n",
    "</tr>\n",
    "<tr>\n",
    " <td>WereWolf HDD</td>\n",
    " <td>TBD</td>\n",
    " <td>TBD</td>\n",
    " <td>—</td>\n",
    " <td>TBD</td>\n",
    "</tr>\n",
    "<tr>\n",
    " <td>Zion Saga</td>\n",
    " <td>TBD</td>\n",
    " <td>TBD</td>\n",
    " <td>TBD</td>\n",
    " <td>—</td>\n",
    "</tr>\n",
    "</table>"
   ]
  },
  {
   "cell_type": "code",
   "execution_count": null,
   "id": "9d94a223",
   "metadata": {},
   "outputs": [],
   "source": [
    "import scipy.stats as st\n",
    "dracula = sales_mp[sales_mp[\"product\"] == \"AQ Dracula HDD – 3.5 Inch SATA 6 Gb/s 5400 RPM 256 MB Cache\"][\"quantity\"]\n",
    "gen_x = sales_mp[sales_mp[\"product\"] == \"AQ Mforce Gen X\"][\"quantity\"]\n",
    "\n",
    "results = st.mannwhitneyu(dracula, gen_x, use_continuity=True, alternative=\"greater\")\n",
    "print(\"p-value:\", results.pvalue)"
   ]
  },
  {
   "cell_type": "code",
   "execution_count": null,
   "id": "3c2a364f",
   "metadata": {},
   "outputs": [],
   "source": [
    "dracula = sales_mp[sales_mp[\"product\"] == \"AQ Dracula HDD – 3.5 Inch SATA 6 Gb/s 5400 RPM 256 MB Cache\"]\n",
    "dracula = dracula[dracula[\"date\"] >= \"2018-09-01\"][\"quantity\"]\n",
    "werewolf = sales_mp[sales_mp[\"product\"] == \"AQ WereWolf NAS Internal Hard Drive HDD – 8.89 cm\"][\"quantity\"]\n",
    "\n",
    "results = st.mannwhitneyu(dracula, werewolf, use_continuity=True, alternative=\"greater\")\n",
    "print(\"p-value:\", results.pvalue)"
   ]
  },
  {
   "cell_type": "code",
   "execution_count": null,
   "id": "cd99b114",
   "metadata": {},
   "outputs": [],
   "source": [
    "dracula = sales_mp[sales_mp[\"product\"] == \"AQ Dracula HDD – 3.5 Inch SATA 6 Gb/s 5400 RPM 256 MB Cache\"]\n",
    "dracula = dracula[dracula[\"date\"] >= \"2019-09-01\"][\"quantity\"]\n",
    "zion = sales_mp[sales_mp[\"product\"] == \"AQ Zion Saga\"][\"quantity\"]\n",
    "\n",
    "results = st.mannwhitneyu(dracula, zion, use_continuity=True, alternative=\"greater\")\n",
    "print(\"p-value:\", results.pvalue)"
   ]
  },
  {
   "cell_type": "code",
   "execution_count": null,
   "id": "53751a1a",
   "metadata": {},
   "outputs": [],
   "source": [
    "gen_x = sales_mp[sales_mp[\"product\"] == \"AQ Mforce Gen X\"]\n",
    "gen_x = gen_x[gen_x[\"date\"] >= \"2018-09-01\"][\"quantity\"]\n",
    "werewolf = sales_mp[sales_mp[\"product\"] == \"AQ WereWolf NAS Internal Hard Drive HDD – 8.89 cm\"][\"quantity\"]\n",
    "\n",
    "results = st.mannwhitneyu(gen_x, werewolf, use_continuity=True, alternative=\"less\")\n",
    "print(\"p-value:\", results.pvalue)"
   ]
  },
  {
   "cell_type": "code",
   "execution_count": null,
   "id": "c4df424e",
   "metadata": {},
   "outputs": [],
   "source": [
    "gen_x = sales_mp[sales_mp[\"product\"] == \"AQ Mforce Gen X\"]\n",
    "gen_x = gen_x[gen_x[\"date\"] >= \"2019-09-01\"][\"quantity\"]\n",
    "zion = sales_mp[sales_mp[\"product\"] == \"AQ Zion Saga\"][\"quantity\"]\n",
    "\n",
    "results = st.mannwhitneyu(gen_x, zion, use_continuity=True, alternative=\"less\")\n",
    "print(\"p-value:\", results.pvalue)"
   ]
  },
  {
   "cell_type": "code",
   "execution_count": null,
   "id": "c32fe3c6",
   "metadata": {},
   "outputs": [],
   "source": [
    "werewolf = sales_mp[sales_mp[\"product\"] == \"AQ WereWolf NAS Internal Hard Drive HDD – 8.89 cm\"]\n",
    "werewolf = werewolf[werewolf[\"date\"] >= \"2019-09-01\"][\"quantity\"]\n",
    "zion = sales_mp[sales_mp[\"product\"] == \"AQ Zion Saga\"][\"quantity\"]\n",
    "\n",
    "results = st.mannwhitneyu(werewolf, zion, use_continuity=True, alternative=\"greater\")\n",
    "print(\"p-value:\", results.pvalue)"
   ]
  },
  {
   "cell_type": "markdown",
   "id": "622f5801",
   "metadata": {},
   "source": [
    "Because we're doing multiple tests, in addition to an alpha of 1/20, the Benjamini-Hochberg method will be used:"
   ]
  },
  {
   "cell_type": "code",
   "execution_count": null,
   "id": "84b49a8b",
   "metadata": {},
   "outputs": [],
   "source": [
    "print(0.0002 < (1/6)*0.05, 0.005 < (2/6)*0.05, 0.009 < (3/6)*0.05, 0.020 < (4/6)*0.05, 0.096 < (5/6)*0.05, 0.165 < (6/6)*0.05)"
   ]
  },
  {
   "cell_type": "markdown",
   "id": "d4d7245c",
   "metadata": {},
   "source": [
    "Here's the table. A product's row shows its p-value of more sales by month, column shows fewer, and bold means significance.\n",
    "<table>\n",
    "<tr>\n",
    " <td>Product</td>\n",
    " <td>Dracula HDD</td>\n",
    " <td>Mforce Gen X</td>\n",
    " <td>WereWolf HDD</td>\n",
    " <td>Zion Saga</td>\n",
    "</tr>\n",
    "<tr>\n",
    " <td>Dracula HDD</td>\n",
    " <td>—</td>\n",
    " <td><b>.000</b></td>\n",
    " <td><b>.020</b></td>\n",
    " <td><b>.009</b></td>\n",
    "</tr>\n",
    "<tr>\n",
    " <td>Mforce Gen X</td>\n",
    " <td>1</td>\n",
    " <td>—</td>\n",
    " <td>.995</td>\n",
    " <td>.835</td>\n",
    "</tr>\n",
    "<tr>\n",
    " <td>WereWolf HDD</td>\n",
    " <td>.980</td>\n",
    " <td><b>.005</b></td>\n",
    " <td>—</td>\n",
    " <td>.096</td>\n",
    "</tr>\n",
    "<tr>\n",
    " <td>Zion Saga</td>\n",
    " <td>.991</td>\n",
    " <td>.165</td>\n",
    " <td>.904</td>\n",
    " <td>—</td>\n",
    "</tr>\n",
    "</table>"
   ]
  },
  {
   "cell_type": "markdown",
   "id": "123e5f0e",
   "metadata": {},
   "source": [
    "It doesn't rise as much in the big rise, but thanks to it consistently beating everything in every other time period, the Dracula is found to be the best. The WereWolf also comfortably performs better than the Mforce Gen X."
   ]
  },
  {
   "cell_type": "markdown",
   "id": "e40d552f",
   "metadata": {},
   "source": [
    "*Profit* by year, as opposed to quantity (or revenue):"
   ]
  },
  {
   "cell_type": "code",
   "execution_count": null,
   "id": "e9243501",
   "metadata": {
    "scrolled": true
   },
   "outputs": [],
   "source": [
    "query=\"\"\"\n",
    "SELECT date, product_code, SUM(sold_quantity) as quantity\n",
    "FROM fact_sales_monthly\n",
    "GROUP BY product_code, date\n",
    "\"\"\"\n",
    "revenues = pd.read_sql_query(query, con)\n",
    "revenues = revenues.dropna()\n",
    "\n",
    "query=\"\"\"\n",
    "SELECT * FROM fact_gross_price\n",
    "WHERE product_code IN (SELECT product_code FROM fact_sales_monthly)\n",
    "\"\"\"\n",
    "read = pd.read_sql_query(query, con)"
   ]
  },
  {
   "cell_type": "code",
   "execution_count": null,
   "id": "05ff85b1",
   "metadata": {},
   "outputs": [],
   "source": [
    "for i in range(len(revenues[\"date\"])):\n",
    "    revenues[\"date\"].iloc[i] = revenues[\"date\"].iloc[i][0:4]\n",
    "revenues_grouped = revenues.groupby([\"date\", \"product_code\"], as_index=False).agg({\"quantity\": \"sum\"})\n",
    "revenues_grouped = revenues_grouped.rename(columns={\"date\": \"year\"})\n",
    "revenues_grouped[\"year\"] = revenues_grouped[\"year\"].astype(\"int64\")\n",
    "query=\"\"\"\n",
    "SELECT fact_manufacturing_cost.product_code, fact_manufacturing_cost.cost_year AS year, fact_manufacturing_cost.manufacturing_cost, fact_gross_price.gross_price, fact_gross_price.gross_price - fact_manufacturing_cost.manufacturing_cost AS difference\n",
    "FROM fact_manufacturing_cost LEFT JOIN fact_gross_price ON fact_manufacturing_cost.product_code=fact_gross_price.product_code AND year=fact_gross_price.fiscal_year\n",
    "ORDER BY difference ASC\n",
    "\"\"\"\n",
    "diffs = pd.read_sql_query(query, con)\n",
    "merged = diffs.merge(revenues_grouped, how=\"inner\", on=[\"product_code\", \"year\"])\n",
    "\n",
    "query=\"\"\"\n",
    "SELECT product_code, product FROM dim_product\n",
    "\"\"\"\n",
    "codes = pd.read_sql_query(query, con)\n",
    "merged = merged.merge(codes, how=\"left\", on=\"product_code\")\n",
    "merged[\"year\"].value_counts()\n",
    "\n",
    "merged[\"profit\"] = merged[\"difference\"] * merged[\"quantity\"]\n",
    "merged_grouped = merged.groupby([\"year\", \"product\"], as_index=False).agg({\"profit\": \"sum\"})\n",
    "\n",
    "fig = px.line(merged_grouped, x=\"year\", y=\"profit\", color=\"product\")\n",
    "names = {\"AQ Dracula HDD – 3.5 Inch SATA 6 Gb/s 5400 RPM 256 MB Cache\": \"AQ Dracula HDD\", \"AQ Mforce Gen X\": \"AQ Mforce Gen X\", \"AQ WereWolf NAS Internal Hard Drive HDD – 8.89 cm\": \"AQ WereWolf HDD\", \"AQ Zion Saga\": \"AQ Zion Saga\"}\n",
    "fig.for_each_trace(lambda t: t.update(name = names[t.name]))\n",
    "fig.update_layout(title=\"The rise of everything, but especially the Zion Saga and WereWolf\", xaxis_title=\"Year\", yaxis_title=\"Total profit\", legend_title_text=\"Product\")\n",
    "fig.update_xaxes(nticks=4)\n",
    "fig.show()"
   ]
  },
  {
   "cell_type": "markdown",
   "id": "72273197",
   "metadata": {},
   "source": [
    "As you could guess from the sales chart, we again see everything rise from 2020 to 2021, with the WereWolf and Zion Saga seeing awfully dramatic ones. It's worth noting that the Mforce Gen X is the only non-HDD:"
   ]
  },
  {
   "cell_type": "code",
   "execution_count": null,
   "id": "a9559542",
   "metadata": {
    "scrolled": true
   },
   "outputs": [],
   "source": [
    "query=\"\"\"\n",
    "SELECT DISTINCT product, category FROM dim_product\n",
    "WHERE product IN ('AQ Dracula HDD – 3.5 Inch SATA 6 Gb/s 5400 RPM 256 MB Cache', 'AQ Mforce Gen X', 'AQ WereWolf NAS Internal Hard Drive HDD – 8.89 cm', 'AQ Zion Saga')\n",
    "\"\"\"\n",
    "read = pd.read_sql_query(query, con)\n",
    "read"
   ]
  },
  {
   "cell_type": "markdown",
   "id": "83a0a26b",
   "metadata": {},
   "source": [
    "So maybe beating up on it isn't fair."
   ]
  },
  {
   "cell_type": "markdown",
   "id": "75276853",
   "metadata": {},
   "source": [
    "### Regional differences"
   ]
  },
  {
   "cell_type": "markdown",
   "id": "7153cd7a",
   "metadata": {},
   "source": [
    "If you look at the groupings, \"market\" is the country, and there are so many little ones they're begging to be merged, \"region\" is larger than continental and the groups are too broad to feel like they'll have much to say, and \"sub_zone\" is nicely in the middle. Specifically, the subzones are:\n",
    "* ANZ: Australia and New Zealand\n",
    "* India: India\n",
    "* LATAM: South America and Mexico (includes Brazil, despite the name)\n",
    "* NA: US and Canada (excludes Mexico, despite the name)\n",
    "* NE: Northern Europe, Central Europe, UK, and Benelux\n",
    "* ROA: Asia sans India\n",
    "* SE: Southern Europe and France\n",
    "\n",
    "However, this doesn't mean they're of roughly equal size saleswise. Here are the sales numbers by region and product across the whole period measured:"
   ]
  },
  {
   "cell_type": "code",
   "execution_count": null,
   "id": "e01a2fb6",
   "metadata": {
    "scrolled": true
   },
   "outputs": [],
   "source": [
    "query=\"\"\"\n",
    "SELECT date, product, customer_code, SUM(sold_quantity) as quantity\n",
    "FROM fact_sales_monthly LEFT JOIN dim_product ON fact_sales_monthly.product_code=dim_product.product_code\n",
    "GROUP BY product, date, customer_code\n",
    "\"\"\"\n",
    "sales_mpc = pd.read_sql_query(query, con)\n",
    "sales_mpc = sales_mpc.dropna()\n",
    "sales_mpc[\"customer_code\"] = sales_mpc[\"customer_code\"].astype(\"int64\")\n",
    "sales_mpc[\"quantity\"] = sales_mpc[\"quantity\"].astype(\"int64\")\n",
    "sales_mpc.head(10)\n",
    "\n",
    "query=\"SELECT customer_code, market, sub_zone, region FROM dim_customer\"\n",
    "customer_areas = pd.read_sql_query(query, con) # There are a few misspelled countries, but that's okay\n",
    "\n",
    "sales_mpcm = sales_mpc.merge(customer_areas, how=\"left\", on=\"customer_code\")\n",
    "# sales_mpcm.head(10)"
   ]
  },
  {
   "cell_type": "code",
   "execution_count": null,
   "id": "f06af421",
   "metadata": {},
   "outputs": [],
   "source": [
    "sales_mpcm.pivot_table(index=\"product\", columns=\"sub_zone\", values=\"quantity\", aggfunc=\"sum\", margins=True, margins_name=\"Total\")"
   ]
  },
  {
   "cell_type": "code",
   "execution_count": null,
   "id": "a4a173b8",
   "metadata": {},
   "outputs": [],
   "source": [
    "sales_mpcm_sums = sales_mpcm.groupby([\"date\", \"product\", \"sub_zone\"], as_index=False).agg({\"quantity\": \"sum\"})\n",
    "sales_mpcm_oce = sales_mpcm_sums[sales_mpcm_sums[\"sub_zone\"] == \"ANZ\"]\n",
    "sales_mpcm_ind = sales_mpcm_sums[sales_mpcm_sums[\"sub_zone\"] == \"India\"]\n",
    "sales_mpcm_lat = sales_mpcm_sums[sales_mpcm_sums[\"sub_zone\"] == \"LATAM\"]\n",
    "sales_mpcm_aam = sales_mpcm_sums[sales_mpcm_sums[\"sub_zone\"] == \"NA\"]\n",
    "sales_mpcm_eun = sales_mpcm_sums[sales_mpcm_sums[\"sub_zone\"] == \"NE\"]\n",
    "sales_mpcm_roa = sales_mpcm_sums[sales_mpcm_sums[\"sub_zone\"] == \"ROA\"]\n",
    "sales_mpcm_eus = sales_mpcm_sums[sales_mpcm_sums[\"sub_zone\"] == \"SE\"]"
   ]
  },
  {
   "cell_type": "code",
   "execution_count": null,
   "id": "6a85e675",
   "metadata": {},
   "outputs": [],
   "source": [
    "fig = px.line(sales_mpcm_oce, x=\"date\", y=\"quantity\", color=\"product\")\n",
    "names = {\"AQ Dracula HDD – 3.5 Inch SATA 6 Gb/s 5400 RPM 256 MB Cache\": \"AQ Dracula HDD\", \"AQ Mforce Gen X\": \"AQ Mforce Gen X\", \"AQ WereWolf NAS Internal Hard Drive HDD – 8.89 cm\": \"AQ WereWolf HDD\", \"AQ Zion Saga\": \"AQ Zion Saga\"}\n",
    "fig.for_each_trace(lambda t: t.update(name = names[t.name]))\n",
    "fig.update_layout(title=\"Tasman countries sales chart\", xaxis_title=\"Month\", yaxis_title=\"Quantity sold\", legend_title_text=\"Product\")\n",
    "fig.show()"
   ]
  },
  {
   "cell_type": "markdown",
   "id": "e7dce5e6",
   "metadata": {},
   "source": [
    "Late 2019 and late 2020 are more similar in volume, but other than that there isn't much difference from the world overall chart."
   ]
  },
  {
   "cell_type": "code",
   "execution_count": null,
   "id": "ac5706fe",
   "metadata": {},
   "outputs": [],
   "source": [
    "fig = px.line(sales_mpcm_ind, x=\"date\", y=\"quantity\", color=\"product\")\n",
    "names = {\"AQ Dracula HDD – 3.5 Inch SATA 6 Gb/s 5400 RPM 256 MB Cache\": \"AQ Dracula HDD\", \"AQ Mforce Gen X\": \"AQ Mforce Gen X\", \"AQ WereWolf NAS Internal Hard Drive HDD – 8.89 cm\": \"AQ WereWolf HDD\", \"AQ Zion Saga\": \"AQ Zion Saga\"}\n",
    "fig.for_each_trace(lambda t: t.update(name = names[t.name]))\n",
    "fig.update_layout(title=\"Indian sales chart\", xaxis_title=\"Month\", yaxis_title=\"Quantity sold\", legend_title_text=\"Product\")\n",
    "fig.show()"
   ]
  },
  {
   "cell_type": "markdown",
   "id": "64f5622e",
   "metadata": {},
   "source": [
    "Not much is very different here at all. The WereWolf continues to rise dramatically in December 2021 rather than being reasonably flat, which makes the chart look a bit different, but there really isn't much special to say."
   ]
  },
  {
   "cell_type": "code",
   "execution_count": null,
   "id": "dbd973b0",
   "metadata": {},
   "outputs": [],
   "source": [
    "fig = px.line(sales_mpcm_roa, x=\"date\", y=\"quantity\", color=\"product\")\n",
    "names = {\"AQ Dracula HDD – 3.5 Inch SATA 6 Gb/s 5400 RPM 256 MB Cache\": \"AQ Dracula HDD\", \"AQ Mforce Gen X\": \"AQ Mforce Gen X\", \"AQ WereWolf NAS Internal Hard Drive HDD – 8.89 cm\": \"AQ WereWolf HDD\", \"AQ Zion Saga\": \"AQ Zion Saga\"}\n",
    "fig.for_each_trace(lambda t: t.update(name = names[t.name]))\n",
    "fig.update_layout(title=\"Rest of Asia sales chart\", xaxis_title=\"Month\", yaxis_title=\"Quantity sold\", legend_title_text=\"Product\")\n",
    "fig.show()"
   ]
  },
  {
   "cell_type": "markdown",
   "id": "55eb2613",
   "metadata": {},
   "source": [
    "Late 2019 looks better for this sub-zone than it does in the world total. Also, the Zion Saga and Mforce Gen X oddly don't rise in October 2021. There's nothing too dramatic, though."
   ]
  },
  {
   "cell_type": "code",
   "execution_count": null,
   "id": "08d0e710",
   "metadata": {},
   "outputs": [],
   "source": [
    "fig = px.line(sales_mpcm_lat, x=\"date\", y=\"quantity\", color=\"product\")\n",
    "names = {\"AQ Dracula HDD – 3.5 Inch SATA 6 Gb/s 5400 RPM 256 MB Cache\": \"AQ Dracula HDD\", \"AQ Mforce Gen X\": \"AQ Mforce Gen X\", \"AQ WereWolf NAS Internal Hard Drive HDD – 8.89 cm\": \"AQ WereWolf HDD\", \"AQ Zion Saga\": \"AQ Zion Saga\"}\n",
    "fig.for_each_trace(lambda t: t.update(name = names[t.name]))\n",
    "fig.update_layout(title=\"South American-Mexican sales chart\", xaxis_title=\"Month\", yaxis_title=\"Quantity sold\", legend_title_text=\"Product\")\n",
    "fig.show()"
   ]
  },
  {
   "cell_type": "markdown",
   "id": "0570339e",
   "metadata": {},
   "source": [
    "With 7 customer codes and, as shown above, so few units sold compared to the other areas, this is easily the smallest region, so it makes sense that it would be a bit weird. With an extra bump in mid-2020, the shape there is different, and the late 2019 bump goes higher than the late 2020 one. Also, the WereWolf is awfully volatile throughout those periods, but again, that could just be small numbers. The fact that the first half of 2020 isn't a valley is worth thinking about, though."
   ]
  },
  {
   "cell_type": "code",
   "execution_count": null,
   "id": "38129ebe",
   "metadata": {},
   "outputs": [],
   "source": [
    "fig = px.line(sales_mpcm_aam, x=\"date\", y=\"quantity\", color=\"product\")\n",
    "names = {\"AQ Dracula HDD – 3.5 Inch SATA 6 Gb/s 5400 RPM 256 MB Cache\": \"AQ Dracula HDD\", \"AQ Mforce Gen X\": \"AQ Mforce Gen X\", \"AQ WereWolf NAS Internal Hard Drive HDD – 8.89 cm\": \"AQ WereWolf HDD\", \"AQ Zion Saga\": \"AQ Zion Saga\"}\n",
    "fig.for_each_trace(lambda t: t.update(name = names[t.name]))\n",
    "fig.update_layout(title=\"Anglo-American sales chart\", xaxis_title=\"Month\", yaxis_title=\"Quantity sold\", legend_title_text=\"Product\")\n",
    "fig.show()"
   ]
  },
  {
   "cell_type": "markdown",
   "id": "bdb95d58",
   "metadata": {},
   "source": [
    "Believe it or not, this is a different chart from the world overall."
   ]
  },
  {
   "cell_type": "code",
   "execution_count": null,
   "id": "60cca0e4",
   "metadata": {},
   "outputs": [],
   "source": [
    "fig = px.line(sales_mpcm_eun, x=\"date\", y=\"quantity\", color=\"product\")\n",
    "names = {\"AQ Dracula HDD – 3.5 Inch SATA 6 Gb/s 5400 RPM 256 MB Cache\": \"AQ Dracula HDD\", \"AQ Mforce Gen X\": \"AQ Mforce Gen X\", \"AQ WereWolf NAS Internal Hard Drive HDD – 8.89 cm\": \"AQ WereWolf HDD\", \"AQ Zion Saga\": \"AQ Zion Saga\"}\n",
    "fig.for_each_trace(lambda t: t.update(name = names[t.name]))\n",
    "fig.update_layout(title=\"Europe North sales chart\", xaxis_title=\"Month\", yaxis_title=\"Quantity sold\", legend_title_text=\"Product\")\n",
    "fig.show()"
   ]
  },
  {
   "cell_type": "markdown",
   "id": "7de1d541",
   "metadata": {},
   "source": [
    "The rises to December 2019 are a bit straighter. That's about it."
   ]
  },
  {
   "cell_type": "code",
   "execution_count": null,
   "id": "ce2a27e0",
   "metadata": {},
   "outputs": [],
   "source": [
    "fig = px.line(sales_mpcm_eus, x=\"date\", y=\"quantity\", color=\"product\")\n",
    "names = {\"AQ Dracula HDD – 3.5 Inch SATA 6 Gb/s 5400 RPM 256 MB Cache\": \"AQ Dracula HDD\", \"AQ Mforce Gen X\": \"AQ Mforce Gen X\", \"AQ WereWolf NAS Internal Hard Drive HDD – 8.89 cm\": \"AQ WereWolf HDD\", \"AQ Zion Saga\": \"AQ Zion Saga\"}\n",
    "fig.for_each_trace(lambda t: t.update(name = names[t.name]))\n",
    "fig.update_layout(title=\"Europe South sales chart\", xaxis_title=\"Month\", yaxis_title=\"Quantity sold\", legend_title_text=\"Product\")\n",
    "fig.show()"
   ]
  },
  {
   "cell_type": "markdown",
   "id": "2fc1f8ff",
   "metadata": {},
   "source": [
    "As if to be a counterpart to Europe North's sharp triangles, here we have smooth humps. But it's honestly minor differences."
   ]
  },
  {
   "cell_type": "markdown",
   "id": "5d5061d0",
   "metadata": {},
   "source": [
    "## Conclusions\n",
    "First off, all of these products are good. There's no reason to get rid of or lift off the throttle on any of them. Even though the Mforce Gen X does amusingly bad in the comparisons, it still makes plenty of money. As for which is the best or what should be promoted particularly hard, perhaps the Dracula. It didn't have the same rise as the other HDDs, but surely you can put that down to some of the versions disappearing. If those hypothetical sales didn't go to other Dracula variants, the product feels like it should be higher because the absent ones had been selling just fine, and if some sales did, that makes it feel like it was underpromoted or otherwise underrecommended and again \"should have\" been the most popular in late 2021. Or maybe the build quality or reputation took a hit. With the way it happened right before that huge rise got started, plus without any kind of advertising data, it isn't possible to know, but these numbers are big enough that there's got to be some reason behind it all. Again, assuming there isn't a big chunk of missing data.\n",
    "\n",
    "There aren't any notable regional differences except for the LATAM bump. To be honest, it probably is just how small it is in terms of customers and income making for funny numbers, or it could just be early days of COVID-19 affecting different areas differently – we do have to remember that with this timespan, pretty much every conclusion has a COVID-19 asterisk on it – but it is a deviation from what every other year in every other area has, so it is worth looking into what was going on there at that time or if there was something different being done. As for categories, the hard drives did better than the graphics card, but it's hard to say it means anything with a total of four products compared, even before the matter of the disappearing variants.\n",
    "\n",
    "And that is a matter to look into. The Standard 3 variant of the Mforce Gen X has a much higher sales total than the others seemingly because it was the only one not discontinued mid-2020, but why? The others were selling just as well. Same deal for the Dracula."
   ]
  }
 ],
 "metadata": {
  "kernelspec": {
   "display_name": "Python 3 (ipykernel)",
   "language": "python",
   "name": "python3"
  },
  "language_info": {
   "codemirror_mode": {
    "name": "ipython",
    "version": 3
   },
   "file_extension": ".py",
   "mimetype": "text/x-python",
   "name": "python",
   "nbconvert_exporter": "python",
   "pygments_lexer": "ipython3",
   "version": "3.9.13"
  },
  "toc": {
   "base_numbering": 1,
   "nav_menu": {},
   "number_sections": true,
   "sideBar": true,
   "skip_h1_title": true,
   "title_cell": "Table of Contents",
   "title_sidebar": "Contents",
   "toc_cell": false,
   "toc_position": {},
   "toc_section_display": true,
   "toc_window_display": false
  }
 },
 "nbformat": 4,
 "nbformat_minor": 5
}
